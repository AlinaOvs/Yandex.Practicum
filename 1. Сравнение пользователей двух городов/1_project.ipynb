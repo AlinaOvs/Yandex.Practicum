{
 "cells": [
  {
   "cell_type": "markdown",
   "metadata": {
    "deletable": false,
    "editable": false,
    "id": "E0vqbgi9ay0H"
   },
   "source": [
    "# Яндекс Музыка"
   ]
  },
  {
   "cell_type": "markdown",
   "metadata": {
    "deletable": false,
    "editable": false,
    "id": "VUC88oWjTJw2"
   },
   "source": [
    "Сравнение Москвы и Петербурга окружено мифами. Например:\n",
    " * Москва — мегаполис, подчинённый жёсткому ритму рабочей недели;\n",
    " * Петербург — культурная столица, со своими вкусами.\n",
    "\n",
    "На данных Яндекс Музыки вы сравните поведение пользователей двух столиц.\n",
    "\n",
    "**Цель исследования** — проверьте три гипотезы:\n",
    "1. Активность пользователей зависит от дня недели. Причём в Москве и Петербурге это проявляется по-разному.\n",
    "2. В понедельник утром в Москве преобладают одни жанры, а в Петербурге — другие. Так же и вечером пятницы преобладают разные жанры — в зависимости от города. \n",
    "3. Москва и Петербург предпочитают разные жанры музыки. В Москве чаще слушают поп-музыку, в Петербурге — русский рэп.\n",
    "\n",
    "**Ход исследования**\n",
    "\n",
    "Данные о поведении пользователей вы получите из файла `yandex_music_project.csv`. О качестве данных ничего не известно. Поэтому перед проверкой гипотез понадобится обзор данных. \n",
    "\n",
    "Вы проверите данные на ошибки и оцените их влияние на исследование. Затем, на этапе предобработки вы поищете возможность исправить самые критичные ошибки данных.\n",
    " \n",
    "Таким образом, исследование пройдёт в три этапа:\n",
    " 1. Обзор данных.\n",
    " 2. Предобработка данных.\n",
    " 3. Проверка гипотез.\n",
    "\n"
   ]
  },
  {
   "cell_type": "markdown",
   "metadata": {
    "deletable": false,
    "editable": false,
    "id": "Ml1hmfXC_Zcs"
   },
   "source": [
    "## Обзор данных\n",
    "\n",
    "Составьте первое представление о данных Яндекс Музыки.\n",
    "\n",
    "\n"
   ]
  },
  {
   "cell_type": "markdown",
   "metadata": {
    "deletable": false,
    "editable": false,
    "id": "57eAOGIz_Zcs",
    "tags": [
     "start_task"
    ]
   },
   "source": [
    "**Задание 1**\n",
    "\n",
    "Основной инструмент аналитика — `pandas`. Импортируйте эту библиотеку."
   ]
  },
  {
   "cell_type": "code",
   "execution_count": 1,
   "metadata": {
    "deletable": false,
    "id": "AXN7PHPN_Zcs"
   },
   "outputs": [],
   "source": [
    "import pandas as pd # импорт библиотеки pandas"
   ]
  },
  {
   "cell_type": "markdown",
   "metadata": {
    "deletable": false,
    "editable": false,
    "id": "SG23P8tt_Zcs",
    "tags": [
     "start_task"
    ]
   },
   "source": [
    "**Задание 2**\n",
    "\n",
    "Прочитайте файл `yandex_music_project.csv` из папки `/datasets` и сохраните его в переменной `df`:"
   ]
  },
  {
   "cell_type": "code",
   "execution_count": 2,
   "metadata": {
    "deletable": false,
    "id": "fFVu7vqh_Zct"
   },
   "outputs": [],
   "source": [
    "df = pd.read_csv('/datasets/yandex_music_project.csv')# чтение файла с данными и сохранение в df"
   ]
  },
  {
   "cell_type": "markdown",
   "metadata": {
    "deletable": false,
    "editable": false,
    "id": "rDoOMd3uTqnZ",
    "tags": [
     "start_task"
    ]
   },
   "source": [
    "**Задание 3**\n",
    "\n",
    "\n",
    "Выведите на экран первые десять строк таблицы:"
   ]
  },
  {
   "cell_type": "code",
   "execution_count": 3,
   "metadata": {
    "deletable": false,
    "id": "oWTVX3gW_Zct"
   },
   "outputs": [
    {
     "name": "stdout",
     "output_type": "stream",
     "text": [
      "     userID                        Track            artist   genre  \\\n",
      "0  FFB692EC            Kamigata To Boots  The Mass Missile    rock   \n",
      "1  55204538  Delayed Because of Accident  Andreas Rönnberg    rock   \n",
      "2    20EC38            Funiculì funiculà       Mario Lanza     pop   \n",
      "3  A3DD03C9        Dragons in the Sunset        Fire + Ice    folk   \n",
      "4  E2DC1FAE                  Soul People        Space Echo   dance   \n",
      "5  842029A1                    Преданная         IMPERVTOR  rusrap   \n",
      "6  4CB90AA5                         True      Roman Messer   dance   \n",
      "7  F03E1C1F             Feeling This Way   Polina Griffith   dance   \n",
      "8  8FA1D3BE     И вновь продолжается бой               NaN  ruspop   \n",
      "9  E772D5C0                    Pessimist               NaN   dance   \n",
      "\n",
      "             City        time        Day  \n",
      "0  Saint-Petersburg  20:28:33  Wednesday  \n",
      "1            Moscow  14:07:09     Friday  \n",
      "2  Saint-Petersburg  20:58:07  Wednesday  \n",
      "3  Saint-Petersburg  08:37:09     Monday  \n",
      "4            Moscow  08:34:34     Monday  \n",
      "5  Saint-Petersburg  13:09:41     Friday  \n",
      "6            Moscow  13:00:07  Wednesday  \n",
      "7            Moscow  20:47:49  Wednesday  \n",
      "8            Moscow  09:17:40     Friday  \n",
      "9  Saint-Petersburg  21:20:49  Wednesday  \n"
     ]
    }
   ],
   "source": [
    "print(df.head(10))# получение первых 10 строк таблицы df"
   ]
  },
  {
   "cell_type": "markdown",
   "metadata": {
    "deletable": false,
    "editable": false,
    "id": "EO73Kwic_Zct",
    "tags": [
     "start_task"
    ]
   },
   "source": [
    "**Задание 4**\n",
    "\n",
    "\n",
    "Одной командой получить общую информацию о таблице c помощью метода `info()`:"
   ]
  },
  {
   "cell_type": "code",
   "execution_count": 4,
   "metadata": {
    "deletable": false,
    "id": "DSf2kIb-_Zct"
   },
   "outputs": [
    {
     "name": "stdout",
     "output_type": "stream",
     "text": [
      "<class 'pandas.core.frame.DataFrame'>\n",
      "RangeIndex: 65079 entries, 0 to 65078\n",
      "Data columns (total 7 columns):\n",
      " #   Column    Non-Null Count  Dtype \n",
      "---  ------    --------------  ----- \n",
      " 0     userID  65079 non-null  object\n",
      " 1   Track     63848 non-null  object\n",
      " 2   artist    57876 non-null  object\n",
      " 3   genre     63881 non-null  object\n",
      " 4     City    65079 non-null  object\n",
      " 5   time      65079 non-null  object\n",
      " 6   Day       65079 non-null  object\n",
      "dtypes: object(7)\n",
      "memory usage: 3.5+ MB\n"
     ]
    }
   ],
   "source": [
    "df.info()# получение общей информации о данных в таблице df"
   ]
  },
  {
   "cell_type": "markdown",
   "metadata": {
    "deletable": false,
    "editable": false,
    "id": "TaQ2Iwbr_Zct"
   },
   "source": [
    "Итак, в таблице семь столбцов. Тип данных во всех столбцах — `object`.\n",
    "\n",
    "Согласно документации к данным:\n",
    "* `userID` — идентификатор пользователя;\n",
    "* `Track` — название трека;  \n",
    "* `artist` — имя исполнителя;\n",
    "* `genre` — название жанра;\n",
    "* `City` — город пользователя;\n",
    "* `time` — время начала прослушивания;\n",
    "* `Day` — день недели.\n",
    "\n",
    "Количество значений в столбцах различается. Значит, в данных есть пропущенные значения."
   ]
  },
  {
   "cell_type": "markdown",
   "metadata": {
    "deletable": false,
    "editable": false,
    "id": "rAfziTBDmf2h",
    "tags": [
     "start_task"
    ]
   },
   "source": [
    "**Задание 5**\n",
    "\n",
    "**Вопрос со свободной формой ответа**\n",
    "\n",
    "В названиях колонок видны нарушения стиля:\n",
    "* Строчные буквы сочетаются с прописными.\n",
    "* Встречаются пробелы.\n",
    "\n",
    "Какое третье нарушение?"
   ]
  },
  {
   "cell_type": "code",
   "execution_count": 5,
   "metadata": {
    "id": "jD8EXEIvmf2h"
   },
   "outputs": [],
   "source": [
    "# userID стоит написать так: user_id. Напишите ваш ответ здесь комментарием. Не удаляйте символ #. Не меняйте тип этой ячейки на Markdown."
   ]
  },
  {
   "cell_type": "markdown",
   "metadata": {
    "deletable": false,
    "editable": false,
    "id": "MCB6-dXG_Zct"
   },
   "source": [
    "**Выводы**\n",
    "\n",
    "В каждой строке таблицы — данные о прослушанном треке. Часть колонок описывает саму композицию: название, исполнителя и жанр. Остальные данные рассказывают о пользователе: из какого он города, когда он слушал музыку. \n",
    "\n",
    "Предварительно можно утверждать, что данных достаточно для проверки гипотез. Но встречаются пропуски в данных, а в названиях колонок — расхождения с хорошим стилем.\n",
    "\n",
    "Чтобы двигаться дальше, нужно устранить проблемы в данных."
   ]
  },
  {
   "cell_type": "markdown",
   "metadata": {
    "deletable": false,
    "editable": false,
    "id": "SjYF6Ub9_Zct"
   },
   "source": [
    "## Предобработка данных\n",
    "Исправьте стиль в заголовках столбцов, исключите пропуски. Затем проверьте данные на дубликаты."
   ]
  },
  {
   "cell_type": "markdown",
   "metadata": {
    "deletable": false,
    "editable": false,
    "id": "dIaKXr29_Zct",
    "tags": [
     "start_task"
    ]
   },
   "source": [
    "### Стиль заголовков\n",
    "\n",
    "**Задание 6**\n",
    "\n",
    "Выведите на экран названия столбцов:"
   ]
  },
  {
   "cell_type": "code",
   "execution_count": 6,
   "metadata": {
    "deletable": false,
    "id": "oKOTdF_Q_Zct"
   },
   "outputs": [
    {
     "name": "stdout",
     "output_type": "stream",
     "text": [
      "Index(['  userID', 'Track', 'artist', 'genre', '  City  ', 'time', 'Day'], dtype='object')\n"
     ]
    }
   ],
   "source": [
    "print(df.columns)# перечень названий столбцов таблицы df"
   ]
  },
  {
   "cell_type": "markdown",
   "metadata": {
    "deletable": false,
    "editable": false,
    "id": "zj5534cv_Zct",
    "tags": [
     "start_task"
    ]
   },
   "source": [
    "**Задание 7**\n",
    "\n",
    "\n",
    "Приведите названия в соответствие с хорошим стилем:\n",
    "* несколько слов в названии запишите в «змеином_регистре»,\n",
    "* все символы сделайте строчными,\n",
    "* устраните пробелы.\n",
    "\n",
    "Для этого переименуйте колонки так:\n",
    "* `'  userID'` → `'user_id'`;\n",
    "* `'Track'` → `'track'`;\n",
    "* `'  City  '` → `'city'`;\n",
    "* `'Day'` → `'day'`."
   ]
  },
  {
   "cell_type": "code",
   "execution_count": 7,
   "metadata": {
    "deletable": false,
    "id": "ISlFqs5y_Zct"
   },
   "outputs": [],
   "source": [
    "df=df.rename(columns={'  userID':'user_id','Track':'track','  City  ':'city', 'Day':'day'})# переименование столбцов"
   ]
  },
  {
   "cell_type": "markdown",
   "metadata": {
    "deletable": false,
    "editable": false,
    "id": "1dqbh00J_Zct",
    "tags": [
     "start_task"
    ]
   },
   "source": [
    "**Задание 8**\n",
    "\n",
    "\n",
    "Проверьте результат. Для этого ещё раз выведите на экран названия столбцов:"
   ]
  },
  {
   "cell_type": "code",
   "execution_count": 8,
   "metadata": {
    "deletable": false,
    "id": "d4NOAmTW_Zct"
   },
   "outputs": [
    {
     "data": {
      "text/plain": [
       "Index(['user_id', 'track', 'artist', 'genre', 'city', 'time', 'day'], dtype='object')"
      ]
     },
     "execution_count": 8,
     "metadata": {},
     "output_type": "execute_result"
    }
   ],
   "source": [
    "df.columns# проверка результатов - перечень названий столбцов"
   ]
  },
  {
   "cell_type": "markdown",
   "metadata": {
    "deletable": false,
    "editable": false,
    "id": "5ISfbcfY_Zct",
    "tags": [
     "start_task"
    ]
   },
   "source": [
    "### Пропуски значений\n",
    "\n",
    "**Задание 9**\n",
    "\n",
    "Сначала посчитайте, сколько в таблице пропущенных значений. Для этого достаточно двух методов `pandas`:"
   ]
  },
  {
   "cell_type": "code",
   "execution_count": 9,
   "metadata": {
    "deletable": false,
    "id": "RskX29qr_Zct"
   },
   "outputs": [
    {
     "data": {
      "text/plain": [
       "user_id       0\n",
       "track      1231\n",
       "artist     7203\n",
       "genre      1198\n",
       "city          0\n",
       "time          0\n",
       "day           0\n",
       "dtype: int64"
      ]
     },
     "execution_count": 9,
     "metadata": {},
     "output_type": "execute_result"
    }
   ],
   "source": [
    "df.isna().sum()# подсчёт пропусков"
   ]
  },
  {
   "cell_type": "markdown",
   "metadata": {
    "deletable": false,
    "editable": false,
    "id": "qubhgnlO_Zct"
   },
   "source": [
    "Не все пропущенные значения влияют на исследование. Так в `track` и `artist` пропуски не важны для вашей работы. Достаточно заменить их явными обозначениями.\n",
    "\n",
    "Но пропуски в `genre` могут помешать сравнению музыкальных вкусов в Москве и Санкт-Петербурге. На практике было бы правильно установить причину пропусков и восстановить данные. Такой возможности нет в учебном проекте. Придётся:\n",
    "* заполнить и эти пропуски явными обозначениями;\n",
    "* оценить, насколько они повредят расчётам. "
   ]
  },
  {
   "cell_type": "markdown",
   "metadata": {
    "deletable": false,
    "editable": false,
    "id": "fSv2laPA_Zct",
    "tags": [
     "start_task"
    ]
   },
   "source": [
    "**Задание 10**\n",
    "\n",
    "Замените пропущенные значения в столбцах `track`, `artist` и `genre` на строку `'unknown'`. Для этого создайте список `columns_to_replace`, переберите его элементы циклом `for` и для каждого столбца выполните замену пропущенных значений:"
   ]
  },
  {
   "cell_type": "code",
   "execution_count": 10,
   "metadata": {
    "deletable": false,
    "id": "KplB5qWs_Zct"
   },
   "outputs": [],
   "source": [
    "columns_to_replace = ['track','artist','genre']# перебор названий столбцов в цикле и замена пропущенных значений на 'unknown'\n",
    "for names in columns_to_replace:\n",
    "    df[names]=df[names].fillna('unknown')"
   ]
  },
  {
   "cell_type": "markdown",
   "metadata": {
    "deletable": false,
    "editable": false,
    "id": "Ilsm-MZo_Zct",
    "tags": [
     "start_task"
    ]
   },
   "source": [
    "**Задание 11**\n",
    "\n",
    "Убедитесь, что в таблице не осталось пропусков. Для этого ещё раз посчитайте пропущенные значения."
   ]
  },
  {
   "cell_type": "code",
   "execution_count": 11,
   "metadata": {
    "deletable": false,
    "id": "Tq4nYRX4_Zct"
   },
   "outputs": [
    {
     "data": {
      "text/plain": [
       "user_id    0\n",
       "track      0\n",
       "artist     0\n",
       "genre      0\n",
       "city       0\n",
       "time       0\n",
       "day        0\n",
       "dtype: int64"
      ]
     },
     "execution_count": 11,
     "metadata": {},
     "output_type": "execute_result"
    }
   ],
   "source": [
    "df.isna().sum()# подсчёт пропусков"
   ]
  },
  {
   "cell_type": "markdown",
   "metadata": {
    "deletable": false,
    "editable": false,
    "id": "BWKRtBJ3_Zct",
    "tags": [
     "start_task"
    ]
   },
   "source": [
    "### Дубликаты\n",
    "\n",
    "**Задание 12**\n",
    "\n",
    "Посчитайте явные дубликаты в таблице одной командой:"
   ]
  },
  {
   "cell_type": "code",
   "execution_count": 12,
   "metadata": {
    "deletable": false,
    "id": "36eES_S0_Zct"
   },
   "outputs": [
    {
     "data": {
      "text/plain": [
       "3826"
      ]
     },
     "execution_count": 12,
     "metadata": {},
     "output_type": "execute_result"
    }
   ],
   "source": [
    "df.duplicated().sum()# подсчёт явных дубликатов"
   ]
  },
  {
   "cell_type": "markdown",
   "metadata": {
    "deletable": false,
    "editable": false,
    "id": "Ot25h6XR_Zct",
    "tags": [
     "start_task"
    ]
   },
   "source": [
    "**Задание 13**\n",
    "\n",
    "Вызовите специальный метод `pandas`, чтобы удалить явные дубликаты:"
   ]
  },
  {
   "cell_type": "code",
   "execution_count": 13,
   "metadata": {
    "deletable": false,
    "id": "exFHq6tt_Zct"
   },
   "outputs": [],
   "source": [
    "df = df.drop_duplicates()# удаление явных дубликатов"
   ]
  },
  {
   "cell_type": "markdown",
   "metadata": {
    "deletable": false,
    "editable": false,
    "id": "Im2YwBEG_Zct",
    "tags": [
     "start_task"
    ]
   },
   "source": [
    "**Задание 14**\n",
    "\n",
    "Ещё раз посчитайте явные дубликаты в таблице — убедитесь, что полностью от них избавились:"
   ]
  },
  {
   "cell_type": "code",
   "execution_count": 14,
   "metadata": {
    "deletable": false,
    "id": "-8PuNWQ0_Zct"
   },
   "outputs": [
    {
     "data": {
      "text/plain": [
       "0"
      ]
     },
     "execution_count": 14,
     "metadata": {},
     "output_type": "execute_result"
    }
   ],
   "source": [
    "df.duplicated().sum()# проверка на отсутствие дубликатов"
   ]
  },
  {
   "cell_type": "markdown",
   "metadata": {
    "deletable": false,
    "editable": false,
    "id": "QlFBsxAr_Zct"
   },
   "source": [
    "Теперь избавьтесь от неявных дубликатов в колонке `genre`. Например, название одного и того же жанра может быть записано немного по-разному. Такие ошибки тоже повлияют на результат исследования."
   ]
  },
  {
   "cell_type": "markdown",
   "metadata": {
    "deletable": false,
    "editable": false,
    "id": "eSjWwsOh_Zct",
    "tags": [
     "start_task"
    ]
   },
   "source": [
    "**Задание 15**\n",
    "\n",
    "Выведите на экран список уникальных названий жанров, отсортированный в алфавитном порядке. Для этого:\n",
    "1. извлеките нужный столбец датафрейма; \n",
    "2. примените к нему метод сортировки;\n",
    "3. для отсортированного столбца вызовите метод, который вернёт уникальные значения из столбца."
   ]
  },
  {
   "cell_type": "code",
   "execution_count": 15,
   "metadata": {
    "deletable": false,
    "id": "JIUcqzZN_Zct"
   },
   "outputs": [
    {
     "data": {
      "text/plain": [
       "array(['acid', 'acoustic', 'action', 'adult', 'africa', 'afrikaans',\n",
       "       'alternative', 'alternativepunk', 'ambient', 'americana',\n",
       "       'animated', 'anime', 'arabesk', 'arabic', 'arena',\n",
       "       'argentinetango', 'art', 'audiobook', 'author', 'avantgarde',\n",
       "       'axé', 'baile', 'balkan', 'beats', 'bigroom', 'black', 'bluegrass',\n",
       "       'blues', 'bollywood', 'bossa', 'brazilian', 'breakbeat', 'breaks',\n",
       "       'broadway', 'cantautori', 'cantopop', 'canzone', 'caribbean',\n",
       "       'caucasian', 'celtic', 'chamber', 'chanson', 'children', 'chill',\n",
       "       'chinese', 'choral', 'christian', 'christmas', 'classical',\n",
       "       'classicmetal', 'club', 'colombian', 'comedy', 'conjazz',\n",
       "       'contemporary', 'country', 'cuban', 'dance', 'dancehall',\n",
       "       'dancepop', 'dark', 'death', 'deep', 'deutschrock', 'deutschspr',\n",
       "       'dirty', 'disco', 'dnb', 'documentary', 'downbeat', 'downtempo',\n",
       "       'drum', 'dub', 'dubstep', 'eastern', 'easy', 'electronic',\n",
       "       'electropop', 'emo', 'entehno', 'epicmetal', 'estrada', 'ethnic',\n",
       "       'eurofolk', 'european', 'experimental', 'extrememetal', 'fado',\n",
       "       'fairytail', 'film', 'fitness', 'flamenco', 'folk', 'folklore',\n",
       "       'folkmetal', 'folkrock', 'folktronica', 'forró', 'frankreich',\n",
       "       'französisch', 'french', 'funk', 'future', 'gangsta', 'garage',\n",
       "       'german', 'ghazal', 'gitarre', 'glitch', 'gospel', 'gothic',\n",
       "       'grime', 'grunge', 'gypsy', 'handsup', \"hard'n'heavy\", 'hardcore',\n",
       "       'hardstyle', 'hardtechno', 'hip', 'hip-hop', 'hiphop',\n",
       "       'historisch', 'holiday', 'hop', 'horror', 'house', 'hymn', 'idm',\n",
       "       'independent', 'indian', 'indie', 'indipop', 'industrial',\n",
       "       'inspirational', 'instrumental', 'international', 'irish', 'jam',\n",
       "       'japanese', 'jazz', 'jewish', 'jpop', 'jungle', 'k-pop',\n",
       "       'karadeniz', 'karaoke', 'kayokyoku', 'korean', 'laiko', 'latin',\n",
       "       'latino', 'leftfield', 'local', 'lounge', 'loungeelectronic',\n",
       "       'lovers', 'malaysian', 'mandopop', 'marschmusik', 'meditative',\n",
       "       'mediterranean', 'melodic', 'metal', 'metalcore', 'mexican',\n",
       "       'middle', 'minimal', 'miscellaneous', 'modern', 'mood', 'mpb',\n",
       "       'muslim', 'native', 'neoklassik', 'neue', 'new', 'newage',\n",
       "       'newwave', 'nu', 'nujazz', 'numetal', 'oceania', 'old', 'opera',\n",
       "       'orchestral', 'other', 'piano', 'podcasts', 'pop', 'popdance',\n",
       "       'popelectronic', 'popeurodance', 'poprussian', 'post',\n",
       "       'posthardcore', 'postrock', 'power', 'progmetal', 'progressive',\n",
       "       'psychedelic', 'punjabi', 'punk', 'quebecois', 'ragga', 'ram',\n",
       "       'rancheras', 'rap', 'rave', 'reggae', 'reggaeton', 'regional',\n",
       "       'relax', 'religious', 'retro', 'rhythm', 'rnb', 'rnr', 'rock',\n",
       "       'rockabilly', 'rockalternative', 'rockindie', 'rockother',\n",
       "       'romance', 'roots', 'ruspop', 'rusrap', 'rusrock', 'russian',\n",
       "       'salsa', 'samba', 'scenic', 'schlager', 'self', 'sertanejo',\n",
       "       'shanson', 'shoegazing', 'showtunes', 'singer', 'ska', 'skarock',\n",
       "       'slow', 'smooth', 'soft', 'soul', 'soulful', 'sound', 'soundtrack',\n",
       "       'southern', 'specialty', 'speech', 'spiritual', 'sport',\n",
       "       'stonerrock', 'surf', 'swing', 'synthpop', 'synthrock',\n",
       "       'sängerportrait', 'tango', 'tanzorchester', 'taraftar', 'tatar',\n",
       "       'tech', 'techno', 'teen', 'thrash', 'top', 'traditional',\n",
       "       'tradjazz', 'trance', 'tribal', 'trip', 'triphop', 'tropical',\n",
       "       'türk', 'türkçe', 'ukrrock', 'unknown', 'urban', 'uzbek',\n",
       "       'variété', 'vi', 'videogame', 'vocal', 'western', 'world',\n",
       "       'worldbeat', 'ïîï', 'электроника'], dtype=object)"
      ]
     },
     "execution_count": 15,
     "metadata": {},
     "output_type": "execute_result"
    }
   ],
   "source": [
    "df['genre'].sort_values().unique()# Просмотр уникальных названий жанров\n"
   ]
  },
  {
   "cell_type": "markdown",
   "metadata": {
    "deletable": false,
    "editable": false,
    "id": "qej-Qmuo_Zct",
    "tags": [
     "start_task"
    ]
   },
   "source": [
    "**Задание 16**\n",
    "\n",
    "Просмотрите список и найдите неявные дубликаты названия `hiphop`. Это могут быть названия с ошибками или альтернативные названия того же жанра.\n",
    "\n",
    "Вы увидите следующие неявные дубликаты:\n",
    "* *hip*,\n",
    "* *hop*,\n",
    "* *hip-hop*.\n",
    "\n",
    "Чтобы очистить от них таблицу используйте метод `replace()` с двумя аргументами: списком строк-дубликатов (включащий *hip*, *hop* и *hip-hop*) и строкой с правильным значением. Вам нужно исправить колонку `genre` в таблице `df`: заменить каждое значение из списка дубликатов на верное. Вместо `hip`, `hop` и `hip-hop` в таблице должно быть значение `hiphop`:"
   ]
  },
  {
   "cell_type": "code",
   "execution_count": 16,
   "metadata": {
    "deletable": false,
    "id": "ErNDkmns_Zct"
   },
   "outputs": [],
   "source": [
    "duplicates = ['hip', 'hop', 'hip-hop']\n",
    "name = 'hiphop'\n",
    "df['genre'] = df['genre'].replace(duplicates,name)# Устранение неявных дубликатов"
   ]
  },
  {
   "cell_type": "markdown",
   "metadata": {
    "deletable": false,
    "editable": false,
    "id": "zQKF16_RG15m",
    "tags": [
     "start_task"
    ]
   },
   "source": [
    "**Задание 17**\n",
    "\n",
    "Проверьте, что заменили неправильные названия:\n",
    "\n",
    "*   hip,\n",
    "*   hop,\n",
    "*   hip-hop.\n",
    "\n",
    "Выведите отсортированный список уникальных значений столбца `genre`:"
   ]
  },
  {
   "cell_type": "code",
   "execution_count": 17,
   "metadata": {
    "deletable": false,
    "id": "wvixALnFG15m"
   },
   "outputs": [
    {
     "data": {
      "text/plain": [
       "array(['acid', 'acoustic', 'action', 'adult', 'africa', 'afrikaans',\n",
       "       'alternative', 'alternativepunk', 'ambient', 'americana',\n",
       "       'animated', 'anime', 'arabesk', 'arabic', 'arena',\n",
       "       'argentinetango', 'art', 'audiobook', 'author', 'avantgarde',\n",
       "       'axé', 'baile', 'balkan', 'beats', 'bigroom', 'black', 'bluegrass',\n",
       "       'blues', 'bollywood', 'bossa', 'brazilian', 'breakbeat', 'breaks',\n",
       "       'broadway', 'cantautori', 'cantopop', 'canzone', 'caribbean',\n",
       "       'caucasian', 'celtic', 'chamber', 'chanson', 'children', 'chill',\n",
       "       'chinese', 'choral', 'christian', 'christmas', 'classical',\n",
       "       'classicmetal', 'club', 'colombian', 'comedy', 'conjazz',\n",
       "       'contemporary', 'country', 'cuban', 'dance', 'dancehall',\n",
       "       'dancepop', 'dark', 'death', 'deep', 'deutschrock', 'deutschspr',\n",
       "       'dirty', 'disco', 'dnb', 'documentary', 'downbeat', 'downtempo',\n",
       "       'drum', 'dub', 'dubstep', 'eastern', 'easy', 'electronic',\n",
       "       'electropop', 'emo', 'entehno', 'epicmetal', 'estrada', 'ethnic',\n",
       "       'eurofolk', 'european', 'experimental', 'extrememetal', 'fado',\n",
       "       'fairytail', 'film', 'fitness', 'flamenco', 'folk', 'folklore',\n",
       "       'folkmetal', 'folkrock', 'folktronica', 'forró', 'frankreich',\n",
       "       'französisch', 'french', 'funk', 'future', 'gangsta', 'garage',\n",
       "       'german', 'ghazal', 'gitarre', 'glitch', 'gospel', 'gothic',\n",
       "       'grime', 'grunge', 'gypsy', 'handsup', \"hard'n'heavy\", 'hardcore',\n",
       "       'hardstyle', 'hardtechno', 'hiphop', 'historisch', 'holiday',\n",
       "       'horror', 'house', 'hymn', 'idm', 'independent', 'indian', 'indie',\n",
       "       'indipop', 'industrial', 'inspirational', 'instrumental',\n",
       "       'international', 'irish', 'jam', 'japanese', 'jazz', 'jewish',\n",
       "       'jpop', 'jungle', 'k-pop', 'karadeniz', 'karaoke', 'kayokyoku',\n",
       "       'korean', 'laiko', 'latin', 'latino', 'leftfield', 'local',\n",
       "       'lounge', 'loungeelectronic', 'lovers', 'malaysian', 'mandopop',\n",
       "       'marschmusik', 'meditative', 'mediterranean', 'melodic', 'metal',\n",
       "       'metalcore', 'mexican', 'middle', 'minimal', 'miscellaneous',\n",
       "       'modern', 'mood', 'mpb', 'muslim', 'native', 'neoklassik', 'neue',\n",
       "       'new', 'newage', 'newwave', 'nu', 'nujazz', 'numetal', 'oceania',\n",
       "       'old', 'opera', 'orchestral', 'other', 'piano', 'podcasts', 'pop',\n",
       "       'popdance', 'popelectronic', 'popeurodance', 'poprussian', 'post',\n",
       "       'posthardcore', 'postrock', 'power', 'progmetal', 'progressive',\n",
       "       'psychedelic', 'punjabi', 'punk', 'quebecois', 'ragga', 'ram',\n",
       "       'rancheras', 'rap', 'rave', 'reggae', 'reggaeton', 'regional',\n",
       "       'relax', 'religious', 'retro', 'rhythm', 'rnb', 'rnr', 'rock',\n",
       "       'rockabilly', 'rockalternative', 'rockindie', 'rockother',\n",
       "       'romance', 'roots', 'ruspop', 'rusrap', 'rusrock', 'russian',\n",
       "       'salsa', 'samba', 'scenic', 'schlager', 'self', 'sertanejo',\n",
       "       'shanson', 'shoegazing', 'showtunes', 'singer', 'ska', 'skarock',\n",
       "       'slow', 'smooth', 'soft', 'soul', 'soulful', 'sound', 'soundtrack',\n",
       "       'southern', 'specialty', 'speech', 'spiritual', 'sport',\n",
       "       'stonerrock', 'surf', 'swing', 'synthpop', 'synthrock',\n",
       "       'sängerportrait', 'tango', 'tanzorchester', 'taraftar', 'tatar',\n",
       "       'tech', 'techno', 'teen', 'thrash', 'top', 'traditional',\n",
       "       'tradjazz', 'trance', 'tribal', 'trip', 'triphop', 'tropical',\n",
       "       'türk', 'türkçe', 'ukrrock', 'unknown', 'urban', 'uzbek',\n",
       "       'variété', 'vi', 'videogame', 'vocal', 'western', 'world',\n",
       "       'worldbeat', 'ïîï', 'электроника'], dtype=object)"
      ]
     },
     "execution_count": 17,
     "metadata": {},
     "output_type": "execute_result"
    }
   ],
   "source": [
    "df['genre'].sort_values().unique()# Проверка на неявные дубликаты"
   ]
  },
  {
   "cell_type": "markdown",
   "metadata": {
    "deletable": false,
    "editable": false,
    "id": "jz6a9-7HQUDd"
   },
   "source": [
    "**Выводы**\n",
    "\n",
    "Предобработка обнаружила три проблемы в данных:\n",
    "\n",
    "- нарушения в стиле заголовков,\n",
    "- пропущенные значения,\n",
    "- дубликаты — явные и неявные.\n",
    "\n",
    "Вы исправили заголовки, чтобы упростить работу с таблицей. Без дубликатов исследование станет более точным.\n",
    "\n",
    "Пропущенные значения вы заменили на `'unknown'`. Ещё предстоит увидеть, не повредят ли исследованию пропуски в колонке `genre`.\n",
    "\n",
    "Теперь можно перейти к проверке гипотез. "
   ]
  },
  {
   "cell_type": "markdown",
   "metadata": {
    "deletable": false,
    "editable": false,
    "id": "WttZHXH0SqKk"
   },
   "source": [
    "## Проверка гипотез"
   ]
  },
  {
   "cell_type": "markdown",
   "metadata": {
    "deletable": false,
    "editable": false,
    "id": "Im936VVi_Zcu"
   },
   "source": [
    "### Сравнение поведения пользователей двух столиц"
   ]
  },
  {
   "cell_type": "markdown",
   "metadata": {
    "deletable": false,
    "editable": false,
    "id": "nwt_MuaL_Zcu"
   },
   "source": [
    "Первая гипотеза утверждает, что пользователи по-разному слушают музыку в Москве и Санкт-Петербурге. Проверьте это предположение по данным о трёх днях недели — понедельнике, среде и пятнице. Для этого:\n",
    "\n",
    "* Разделите пользователей Москвы и Санкт-Петербурга.\n",
    "* Сравните, сколько треков послушала каждая группа пользователей в понедельник, среду и пятницу.\n"
   ]
  },
  {
   "cell_type": "markdown",
   "metadata": {
    "deletable": false,
    "editable": false,
    "id": "8Dw_YMmT_Zcu",
    "tags": [
     "start_task"
    ]
   },
   "source": [
    "**Задание 18**\n",
    "\n",
    "Для тренировки сначала выполните каждый из расчётов по отдельности. \n",
    "\n",
    "Оцените активность пользователей в каждом городе. Сгруппируйте данные по городу и посчитайте прослушивания в каждой группе.\n",
    "\n"
   ]
  },
  {
   "cell_type": "code",
   "execution_count": 18,
   "metadata": {
    "deletable": false,
    "id": "0_Qs96oh_Zcu"
   },
   "outputs": [
    {
     "data": {
      "text/plain": [
       "city\n",
       "Moscow              42741\n",
       "Saint-Petersburg    18512\n",
       "Name: user_id, dtype: int64"
      ]
     },
     "execution_count": 18,
     "metadata": {},
     "output_type": "execute_result"
    }
   ],
   "source": [
    "df.groupby('city')['user_id'].count()"
   ]
  },
  {
   "cell_type": "markdown",
   "metadata": {
    "deletable": false,
    "editable": false,
    "id": "dzli3w8o_Zcu",
    "tags": [
     "start_task"
    ]
   },
   "source": [
    "В Москве прослушиваний больше, чем в Петербурге. Из этого не следует, что московские пользователи чаще слушают музыку. Просто самих пользователей в Москве больше.\n",
    "\n",
    "**Задание 19**\n",
    "\n",
    "Теперь сгруппируйте данные по дню недели и посчитайте прослушивания в понедельник, среду и пятницу. Учтите, что в данных есть информация о прослушиваниях только за эти дни.\n"
   ]
  },
  {
   "cell_type": "code",
   "execution_count": 19,
   "metadata": {
    "deletable": false,
    "id": "uZMKjiJz_Zcu"
   },
   "outputs": [
    {
     "data": {
      "text/plain": [
       "day\n",
       "Friday       21840\n",
       "Monday       21354\n",
       "Wednesday    18059\n",
       "Name: user_id, dtype: int64"
      ]
     },
     "execution_count": 19,
     "metadata": {},
     "output_type": "execute_result"
    }
   ],
   "source": [
    "df.groupby('day')['user_id'].count()# Подсчёт прослушиваний в каждый из трёх дней"
   ]
  },
  {
   "cell_type": "markdown",
   "metadata": {
    "deletable": false,
    "editable": false,
    "id": "cC2tNrlL_Zcu"
   },
   "source": [
    "В среднем пользователи из двух городов менее активны по средам. Но картина может измениться, если рассмотреть каждый город в отдельности."
   ]
  },
  {
   "cell_type": "markdown",
   "metadata": {
    "deletable": false,
    "editable": false,
    "id": "POzs8bGa_Zcu",
    "tags": [
     "start_task"
    ]
   },
   "source": [
    "**Задание 20**\n",
    "\n",
    "\n",
    "Вы видели, как работает группировка по городу и по дням недели. Теперь напишите функцию, которая объединит два эти расчёта.\n",
    "\n",
    "Создайте функцию `number_tracks()`, которая посчитает прослушивания для заданного дня и города. Ей понадобятся два параметра:\n",
    "* день недели,\n",
    "* название города.\n",
    "\n",
    "В функции сохраните в переменную строки исходной таблицы, у которых значение:\n",
    "  * в колонке `day` равно параметру `day`,\n",
    "  * в колонке `city` равно параметру `city`.\n",
    "\n",
    "Для этого примените последовательную фильтрацию с логической индексацией (или сложные логические выражения в одну строку, если вы уже знакомы с ними).\n",
    "\n",
    "Затем посчитайте значения в столбце `user_id` получившейся таблицы. Результат сохраните в новую переменную. Верните эту переменную из функции."
   ]
  },
  {
   "cell_type": "code",
   "execution_count": 20,
   "metadata": {
    "deletable": false,
    "id": "Nz3GdQB1_Zcu"
   },
   "outputs": [],
   "source": [
    "# <создание функции number_tracks()>\n",
    "def number_tracks (day,city):# Объявляется функция с двумя параметрами: day, city.\n",
    "    track_list = df[df['day']==day]\n",
    "    track_list = track_list[track_list['city']==city]\n",
    "    track_list_count = track_list.count()['user_id']\n",
    "    return track_list_count# В переменной track_list сохраняются те строки таблицы df, для которых \n",
    "# значение в столбце 'day' равно параметру day и одновременно значение\n",
    "# в столбце 'city' равно параметру city (используйте последовательную фильтрацию\n",
    "# с помощью логической индексации или сложные логические выражения в одну строку, если вы уже знакомы с ними).\n",
    "# В переменной track_list_count сохраняется число значений столбца 'user_id',\n",
    "# рассчитанное методом count() для таблицы track_list.\n",
    "# Функция возвращает число - значение track_list_count.\n",
    "\n",
    "# Функция для подсчёта прослушиваний для конкретного города и дня.\n",
    "# С помощью последовательной фильтрации с логической индексацией она \n",
    "# сначала получит из исходной таблицы строки с нужным днём,\n",
    "# затем из результата отфильтрует строки с нужным городом,\n",
    "# методом count() посчитает количество значений в колонке user_id. \n",
    "# Это количество функция вернёт в качестве результата"
   ]
  },
  {
   "cell_type": "markdown",
   "metadata": {
    "deletable": false,
    "editable": false,
    "id": "ytf7xFrFJQ2r",
    "tags": [
     "start_task"
    ]
   },
   "source": [
    "**Задание 21**\n",
    "\n",
    "Вызовите `number_tracks()` шесть раз, меняя значение параметров — так, чтобы получить данные для каждого города в каждый из трёх дней."
   ]
  },
  {
   "cell_type": "code",
   "execution_count": 21,
   "metadata": {
    "deletable": false,
    "id": "rJcRATNQ_Zcu"
   },
   "outputs": [
    {
     "data": {
      "text/plain": [
       "15740"
      ]
     },
     "execution_count": 21,
     "metadata": {},
     "output_type": "execute_result"
    }
   ],
   "source": [
    "number_tracks('Monday', 'Moscow') # количество прослушиваний в Москве по понедельникам"
   ]
  },
  {
   "cell_type": "code",
   "execution_count": 22,
   "metadata": {
    "deletable": false,
    "id": "hq_ncZ5T_Zcu"
   },
   "outputs": [
    {
     "data": {
      "text/plain": [
       "5614"
      ]
     },
     "execution_count": 22,
     "metadata": {},
     "output_type": "execute_result"
    }
   ],
   "source": [
    "number_tracks('Monday', 'Saint-Petersburg')# количество прослушиваний в Санкт-Петербурге по понедельникам"
   ]
  },
  {
   "cell_type": "code",
   "execution_count": 23,
   "metadata": {
    "deletable": false,
    "id": "_NTy2VPU_Zcu"
   },
   "outputs": [
    {
     "data": {
      "text/plain": [
       "11056"
      ]
     },
     "execution_count": 23,
     "metadata": {},
     "output_type": "execute_result"
    }
   ],
   "source": [
    "number_tracks('Wednesday', 'Moscow')# количество прослушиваний в Москве по средам"
   ]
  },
  {
   "cell_type": "code",
   "execution_count": 24,
   "metadata": {
    "deletable": false,
    "id": "j2y3TAwo_Zcu"
   },
   "outputs": [
    {
     "data": {
      "text/plain": [
       "7003"
      ]
     },
     "execution_count": 24,
     "metadata": {},
     "output_type": "execute_result"
    }
   ],
   "source": [
    "number_tracks('Wednesday', 'Saint-Petersburg')# количество прослушиваний в Санкт-Петербурге по средам"
   ]
  },
  {
   "cell_type": "code",
   "execution_count": 25,
   "metadata": {
    "deletable": false,
    "id": "vYDw5u_K_Zcu"
   },
   "outputs": [
    {
     "data": {
      "text/plain": [
       "15945"
      ]
     },
     "execution_count": 25,
     "metadata": {},
     "output_type": "execute_result"
    }
   ],
   "source": [
    "number_tracks('Friday', 'Moscow')# количество прослушиваний в Москве по пятницам"
   ]
  },
  {
   "cell_type": "code",
   "execution_count": 26,
   "metadata": {
    "deletable": false,
    "id": "8_yzFtW3_Zcu"
   },
   "outputs": [
    {
     "data": {
      "text/plain": [
       "5895"
      ]
     },
     "execution_count": 26,
     "metadata": {},
     "output_type": "execute_result"
    }
   ],
   "source": [
    "number_tracks('Friday', 'Saint-Petersburg')# количество прослушиваний в Санкт-Петербурге по пятницам"
   ]
  },
  {
   "cell_type": "markdown",
   "metadata": {
    "deletable": false,
    "editable": false,
    "id": "7QXffbO-_Zcu",
    "tags": [
     "start_task"
    ]
   },
   "source": [
    "**Задание 22**\n",
    "\n",
    "Создайте c помощью конструктора `pd.DataFrame` таблицу, где\n",
    "* названия колонок — `['city', 'monday', 'wednesday', 'friday']`;\n",
    "* данные — результаты, которые вы получили с помощью `number_tracks`."
   ]
  },
  {
   "cell_type": "code",
   "execution_count": 27,
   "metadata": {
    "deletable": false,
    "id": "APAcLpOr_Zcu"
   },
   "outputs": [],
   "source": [
    "info = pd.DataFrame(data = [['Moscow','15740','11056','15945'],['Saint-Petersburg','5614','7003','5895']], columns =['city', 'monday', 'wednesday', 'friday'])# Таблица с результатами"
   ]
  },
  {
   "cell_type": "markdown",
   "metadata": {
    "deletable": false,
    "editable": false,
    "id": "-EgPIHYu_Zcu"
   },
   "source": [
    "**Выводы**\n",
    "\n",
    "Данные показывают разницу поведения пользователей:\n",
    "\n",
    "- В Москве пик прослушиваний приходится на понедельник и пятницу, а в среду заметен спад.\n",
    "- В Петербурге, наоборот, больше слушают музыку по средам. Активность в понедельник и пятницу здесь почти в равной мере уступает среде.\n",
    "\n",
    "Значит, данные говорят в пользу первой гипотезы."
   ]
  },
  {
   "cell_type": "markdown",
   "metadata": {
    "deletable": false,
    "editable": false,
    "id": "atZAxtq4_Zcu"
   },
   "source": [
    "### Музыка в начале и в конце недели"
   ]
  },
  {
   "cell_type": "markdown",
   "metadata": {
    "deletable": false,
    "editable": false,
    "id": "eXrQqXFH_Zcu"
   },
   "source": [
    "Согласно второй гипотезе, утром в понедельник в Москве преобладают одни жанры, а в Петербурге — другие. Так же и вечером пятницы преобладают разные жанры — в зависимости от города."
   ]
  },
  {
   "cell_type": "markdown",
   "metadata": {
    "deletable": false,
    "editable": false,
    "id": "S8UcW6Hw_Zcu",
    "tags": [
     "start_task"
    ]
   },
   "source": [
    "**Задание 23**\n",
    "\n",
    "Сохраните таблицы с данными в две переменные:\n",
    "* по Москве — в `moscow_general`;\n",
    "* по Санкт-Петербургу — в `spb_general`."
   ]
  },
  {
   "cell_type": "code",
   "execution_count": 28,
   "metadata": {
    "deletable": false,
    "id": "qeaFfM_P_Zcu"
   },
   "outputs": [],
   "source": [
    "moscow_general = df[df['city'] == 'Moscow']# получение таблицы moscow_general из тех строк таблицы df, \n",
    "# для которых значение в столбце 'city' равно 'Moscow'\n"
   ]
  },
  {
   "cell_type": "code",
   "execution_count": 29,
   "metadata": {
    "deletable": false,
    "id": "ORaVRKto_Zcu"
   },
   "outputs": [],
   "source": [
    "spb_general = df[df['city'] == 'Saint-Petersburg']# получение таблицы spb_general из тех строк таблицы df,\n",
    "# для которых значение в столбце 'city' равно 'Saint-Petersburg'\n"
   ]
  },
  {
   "cell_type": "markdown",
   "metadata": {
    "deletable": false,
    "id": "MEJV-CX2_Zcu",
    "tags": [
     "start_task"
    ]
   },
   "source": [
    "**Задание 24**\n",
    "\n",
    "Создайте функцию `genre_weekday()` с четырьмя параметрами:\n",
    "* таблица (датафрейм) с данными,\n",
    "* день недели,\n",
    "* начальная временная метка в формате 'hh:mm', \n",
    "* последняя временная метка в формате 'hh:mm'.\n",
    "\n",
    "Функция должна вернуть информацию о топ-10 жанров тех треков, которые прослушивали в указанный день, в промежутке между двумя отметками времени."
   ]
  },
  {
   "cell_type": "code",
   "execution_count": 30,
   "metadata": {
    "deletable": false,
    "id": "laJT9BYl_Zcu"
   },
   "outputs": [],
   "source": [
    "# Объявление функции genre_weekday() с параметрами table, day, time1, time2,\n",
    "# которая возвращает информацию о самых популярных жанрах в указанный день в\n",
    "# заданное время:\n",
    "def genre_weekday(table, day, time1, time2):\n",
    "# 1) в переменную genre_df сохраняются те строки переданного датафрейма table, для\n",
    "#    которых одновременно:\n",
    "#    - значение в столбце day равно значению аргумента day\n",
    "#    - значение в столбце time больше значения аргумента time1\n",
    "#    - значение в столбце time меньше значения аргумента time2\n",
    "#    Используйте последовательную фильтрацию с помощью логической индексации.\n",
    "    genre_df = df(df['day'] == day)&(df['time']> time1)&(df['time']<time2)\n",
    "# 2) сгруппировать датафрейм genre_df по столбцу genre, взять один из его\n",
    "#    столбцов и посчитать методом count() количество записей для каждого из\n",
    "#    присутствующих жанров, получившийся Series записать в переменную\n",
    "#    genre_df_count\n",
    "    genre_df_count = genre_df.count()['genre']\n",
    "# 3) отсортировать genre_df_count по убыванию встречаемости и сохранить\n",
    "#    в переменную genre_df_sorted\n",
    "    genre_df_sorted = genre_df_count.sort_values(ascending = False)\n",
    "# 4) вернуть Series из 10 первых значений genre_df_sorted, это будут топ-10\n",
    "#    популярных жанров (в указанный день, в заданное время)\n",
    "    return genre_df_sorted.head(10)\n",
    "\n",
    "def genre_weekday(df, day, time1, time2):\n",
    "    # последовательная фильтрация\n",
    "    # оставляем в genre_df только те строки df, у которых день равен day\n",
    "    genre_df = df[df['day'] == day]# ваш код здесь\n",
    "    # оставляем в genre_df только те строки genre_df, у которых время меньше time2\n",
    "    genre_df = genre_df[genre_df['time']<time2]# ваш код здесь\n",
    "    # оставляем в genre_df только те строки genre_df, у которых время больше time1\n",
    "    genre_df = genre_df = genre_df[genre_df['time']>time1]# ваш код здесь\n",
    "    # сгруппируем отфильтрованный датафрейм по столбцу с названиями жанров, возьмём столбец genre и посчитаем кол-во строк для каждого жанра методом count()\n",
    "    genre_df_grouped = genre_df.groupby('genre')['genre'].count()# ваш код здесь\n",
    "    # отсортируем результат по убыванию (чтобы в начале Series оказались самые популярные жанры)\n",
    "    genre_df_sorted = genre_df_grouped.sort_values(ascending = False)# ваш код здесь\n",
    "    # вернём Series с 10 самыми популярными жанрами в указанный отрезок времени заданного дня\n",
    "    return genre_df_sorted[:10]"
   ]
  },
  {
   "cell_type": "markdown",
   "metadata": {
    "deletable": false,
    "editable": false,
    "id": "la2s2_PF_Zcu",
    "tags": [
     "start_task"
    ]
   },
   "source": [
    "**Задание 25**\n",
    "\n",
    "\n",
    "Cравните результаты функции `genre_weekday()` для Москвы и Санкт-Петербурга в понедельник утром (с 7:00 до 11:00) и в пятницу вечером (с 17:00 до 23:00):"
   ]
  },
  {
   "cell_type": "code",
   "execution_count": 31,
   "metadata": {
    "deletable": false,
    "id": "yz7itPUQ_Zcu"
   },
   "outputs": [
    {
     "data": {
      "text/plain": [
       "genre\n",
       "pop            781\n",
       "dance          549\n",
       "electronic     480\n",
       "rock           474\n",
       "hiphop         286\n",
       "ruspop         186\n",
       "world          181\n",
       "rusrap         175\n",
       "alternative    164\n",
       "unknown        161\n",
       "Name: genre, dtype: int64"
      ]
     },
     "execution_count": 31,
     "metadata": {},
     "output_type": "execute_result"
    }
   ],
   "source": [
    "genre_weekday(moscow_general, 'Monday', '07:00', '11:00')# вызов функции для утра понедельника в Москве (вместо df — таблица moscow_general)\n",
    "# объекты, хранящие время, являются строками и сравниваются как строки\n",
    "# пример вызова: genre_weekday(moscow_general, 'Monday', '07:00', '11:00')"
   ]
  },
  {
   "cell_type": "code",
   "execution_count": 32,
   "metadata": {
    "deletable": false,
    "id": "kwUcHPdy_Zcu"
   },
   "outputs": [
    {
     "data": {
      "text/plain": [
       "genre\n",
       "pop            218\n",
       "dance          182\n",
       "rock           162\n",
       "electronic     147\n",
       "hiphop          80\n",
       "ruspop          64\n",
       "alternative     58\n",
       "rusrap          55\n",
       "jazz            44\n",
       "classical       40\n",
       "Name: genre, dtype: int64"
      ]
     },
     "execution_count": 32,
     "metadata": {},
     "output_type": "execute_result"
    }
   ],
   "source": [
    "genre_weekday(spb_general, 'Monday', '07:00', '11:00')# вызов функции для утра понедельника в Петербурге (вместо df — таблица spb_general)"
   ]
  },
  {
   "cell_type": "code",
   "execution_count": 33,
   "metadata": {
    "deletable": false,
    "id": "EzXVRE1o_Zcu"
   },
   "outputs": [
    {
     "data": {
      "text/plain": [
       "genre\n",
       "pop            713\n",
       "rock           517\n",
       "dance          495\n",
       "electronic     482\n",
       "hiphop         273\n",
       "world          208\n",
       "ruspop         170\n",
       "alternative    163\n",
       "classical      163\n",
       "rusrap         142\n",
       "Name: genre, dtype: int64"
      ]
     },
     "execution_count": 33,
     "metadata": {},
     "output_type": "execute_result"
    }
   ],
   "source": [
    "genre_weekday(moscow_general, 'Friday', '17:00','23:00')# вызов функции для вечера пятницы в Москве"
   ]
  },
  {
   "cell_type": "code",
   "execution_count": 34,
   "metadata": {
    "deletable": false,
    "id": "JZaEKu5v_Zcu"
   },
   "outputs": [
    {
     "data": {
      "text/plain": [
       "genre\n",
       "pop            256\n",
       "electronic     216\n",
       "rock           216\n",
       "dance          210\n",
       "hiphop          97\n",
       "alternative     63\n",
       "jazz            61\n",
       "classical       60\n",
       "rusrap          59\n",
       "world           54\n",
       "Name: genre, dtype: int64"
      ]
     },
     "execution_count": 34,
     "metadata": {},
     "output_type": "execute_result"
    }
   ],
   "source": [
    "genre_weekday(spb_general, 'Friday', '17:00','23:00')# вызов функции для вечера пятницы в Петербурге"
   ]
  },
  {
   "cell_type": "markdown",
   "metadata": {
    "deletable": false,
    "editable": false,
    "id": "wrCe4MNX_Zcu"
   },
   "source": [
    "**Выводы**\n",
    "\n",
    "Если сравнить топ-10 жанров в понедельник утром, можно сделать такие выводы:\n",
    "\n",
    "1. В Москве и Петербурге слушают похожую музыку. Единственное отличие — в московский рейтинг вошёл жанр “world”, а в петербургский — джаз и классика.\n",
    "\n",
    "2. В Москве пропущенных значений оказалось так много, что значение `'unknown'` заняло десятое место среди самых популярных жанров. Значит, пропущенные значения занимают существенную долю в данных и угрожают достоверности исследования.\n",
    "\n",
    "Вечер пятницы не меняет эту картину. Некоторые жанры поднимаются немного выше, другие спускаются, но в целом топ-10 остаётся тем же самым.\n",
    "\n",
    "Таким образом, вторая гипотеза подтвердилась лишь частично:\n",
    "* Пользователи слушают похожую музыку в начале недели и в конце.\n",
    "* Разница между Москвой и Петербургом не слишком выражена. В Москве чаще слушают русскую популярную музыку, в Петербурге — джаз.\n",
    "\n",
    "Однако пропуски в данных ставят под сомнение этот результат. В Москве их так много, что рейтинг топ-10 мог бы выглядеть иначе, если бы не утерянные  данные о жанрах."
   ]
  },
  {
   "cell_type": "markdown",
   "metadata": {
    "deletable": false,
    "editable": false,
    "id": "JolODAqr_Zcu"
   },
   "source": [
    "### Жанровые предпочтения в Москве и Петербурге\n",
    "\n",
    "Гипотеза: Петербург — столица рэпа, музыку этого жанра там слушают чаще, чем в Москве.  А Москва — город контрастов, в котором, тем не менее, преобладает поп-музыка."
   ]
  },
  {
   "cell_type": "markdown",
   "metadata": {
    "deletable": false,
    "editable": false,
    "id": "DlegSvaT_Zcu",
    "tags": [
     "start_task"
    ]
   },
   "source": [
    "**Задание 26**\n",
    "\n",
    "Сгруппируйте таблицу `moscow_general` по жанру и посчитайте прослушивания треков каждого жанра методом `count()`. Затем отсортируйте результат в порядке убывания и сохраните его в таблице `moscow_genres`."
   ]
  },
  {
   "cell_type": "code",
   "execution_count": 35,
   "metadata": {
    "deletable": false,
    "id": "r19lIPke_Zcu"
   },
   "outputs": [],
   "source": [
    "moscow = moscow_general.groupby('genre')['genre'].count()# одной строкой: группировка таблицы moscow_general по столбцу 'genre', \n",
    "# подсчёт числа значений 'genre' в этой группировке методом count(), \n",
    "moscow_genres = moscow.sort_values(ascending = False)# сортировка получившегося Series в порядке убывания и сохранение в moscow_genres"
   ]
  },
  {
   "cell_type": "markdown",
   "metadata": {
    "deletable": false,
    "editable": false,
    "id": "6kMuomxTiIr8",
    "tags": [
     "start_task"
    ]
   },
   "source": [
    "**Задание 27**\n",
    "\n",
    "Выведите на экран первые десять строк `moscow_genres`:"
   ]
  },
  {
   "cell_type": "code",
   "execution_count": 36,
   "metadata": {
    "deletable": false,
    "id": "WhCSooF8_Zcv"
   },
   "outputs": [
    {
     "name": "stdout",
     "output_type": "stream",
     "text": [
      "genre\n",
      "pop            5892\n",
      "dance          4435\n",
      "rock           3965\n",
      "electronic     3786\n",
      "hiphop         2096\n",
      "classical      1616\n",
      "world          1432\n",
      "alternative    1379\n",
      "ruspop         1372\n",
      "rusrap         1161\n",
      "Name: genre, dtype: int64\n"
     ]
    }
   ],
   "source": [
    "print(moscow_genres.head(10))# просмотр первых 10 строк moscow_genres"
   ]
  },
  {
   "cell_type": "markdown",
   "metadata": {
    "deletable": false,
    "editable": false,
    "id": "cnPG2vnN_Zcv",
    "tags": [
     "start_task"
    ]
   },
   "source": [
    "**Задание 28**\n",
    "\n",
    "\n",
    "Теперь повторите то же и для Петербурга.\n",
    "\n",
    "Сгруппируйте таблицу `spb_general` по жанру. Посчитайте прослушивания треков каждого жанра. Результат отсортируйте в порядке убывания и сохраните в таблице `spb_genres`:\n"
   ]
  },
  {
   "cell_type": "code",
   "execution_count": 37,
   "metadata": {
    "deletable": false,
    "id": "gluLIpE7_Zcv"
   },
   "outputs": [],
   "source": [
    "spb = spb_general.groupby('genre')['genre'].count()# одной строкой: группировка таблицы spb_general по столбцу 'genre', \n",
    "# подсчёт числа значений 'genre' в этой группировке методом count(), \n",
    "spb_genres = spb.sort_values(ascending = False)# сортировка получившегося Series в порядке убывания и сохранение в spb_genres"
   ]
  },
  {
   "cell_type": "markdown",
   "metadata": {
    "deletable": false,
    "editable": false,
    "id": "5Doha_ODgyQ8",
    "tags": [
     "start_task"
    ]
   },
   "source": [
    "**Задание 29**\n",
    "\n",
    "Выведите на экран первые десять строк `spb_genres`:"
   ]
  },
  {
   "cell_type": "code",
   "execution_count": 38,
   "metadata": {
    "deletable": false,
    "id": "uaGJHjVU_Zcv"
   },
   "outputs": [
    {
     "name": "stdout",
     "output_type": "stream",
     "text": [
      "genre\n",
      "pop            2431\n",
      "dance          1932\n",
      "rock           1879\n",
      "electronic     1736\n",
      "hiphop          960\n",
      "alternative     649\n",
      "classical       646\n",
      "rusrap          564\n",
      "ruspop          538\n",
      "world           515\n",
      "Name: genre, dtype: int64\n"
     ]
    }
   ],
   "source": [
    "print(spb_genres.head(10))# просмотр первых 10 строк spb_genres"
   ]
  },
  {
   "cell_type": "markdown",
   "metadata": {
    "deletable": false,
    "editable": false,
    "id": "RY51YJYu_Zcv"
   },
   "source": [
    "**Выводы**"
   ]
  },
  {
   "cell_type": "markdown",
   "metadata": {
    "deletable": false,
    "editable": false,
    "id": "nVhnJEm__Zcv"
   },
   "source": [
    "Гипотеза частично подтвердилась:\n",
    "* Поп-музыка — самый популярный жанр в Москве, как и предполагала гипотеза. Более того, в топ-10 жанров встречается близкий жанр — русская популярная музыка.\n",
    "* Вопреки ожиданиям, рэп одинаково популярен в Москве и Петербурге. \n"
   ]
  },
  {
   "cell_type": "markdown",
   "metadata": {
    "deletable": false,
    "editable": false,
    "id": "ykKQ0N65_Zcv"
   },
   "source": [
    "## Итоги исследования"
   ]
  },
  {
   "cell_type": "markdown",
   "metadata": {
    "deletable": false,
    "editable": false,
    "id": "tjUwbHb3_Zcv"
   },
   "source": [
    "Вы проверили три гипотезы и установили:\n",
    "\n",
    "1. День недели по-разному влияет на активность пользователей в Москве и Петербурге. \n",
    "\n",
    "Первая гипотеза полностью подтвердилась.\n",
    "\n",
    "2. Музыкальные предпочтения не сильно меняются в течение недели — будь то Москва или Петербург. Небольшие различия заметны в начале недели, по понедельникам:\n",
    "* в Москве слушают музыку жанра “world”,\n",
    "* в Петербурге — джаз и классику.\n",
    "\n",
    "Таким образом, вторая гипотеза подтвердилась лишь отчасти. Этот результат мог оказаться иным, если бы не пропуски в данных.\n",
    "\n",
    "3. Во вкусах пользователей Москвы и Петербурга больше общего чем различий. Вопреки ожиданиям, предпочтения жанров в Петербурге напоминают московские.\n",
    "\n",
    "Третья гипотеза не подтвердилась. Если различия в предпочтениях и существуют, на основной массе пользователей они незаметны.\n",
    "\n",
    "**На практике исследования содержат проверки статистических гипотез.**\n",
    "Из данных одного сервиса не всегда можно сделать вывод о всех жителях города.\n",
    "Проверки статистических гипотез покажут, насколько они достоверны, исходя из имеющихся данных. \n",
    "С методами проверок гипотез вы ещё познакомитесь в следующих темах."
   ]
  },
  {
   "cell_type": "code",
   "execution_count": null,
   "metadata": {},
   "outputs": [],
   "source": []
  }
 ],
 "metadata": {
  "ExecuteTimeLog": [
   {
    "duration": 45,
    "start_time": "2022-07-05T07:52:31.773Z"
   },
   {
    "duration": 6,
    "start_time": "2022-07-05T07:53:07.552Z"
   },
   {
    "duration": 6,
    "start_time": "2022-07-05T07:53:17.524Z"
   },
   {
    "duration": 335,
    "start_time": "2022-07-05T07:53:26.179Z"
   },
   {
    "duration": 199,
    "start_time": "2022-07-05T07:53:30.075Z"
   },
   {
    "duration": 8,
    "start_time": "2022-07-05T07:53:33.825Z"
   },
   {
    "duration": 27,
    "start_time": "2022-07-05T07:53:43.221Z"
   },
   {
    "duration": 2,
    "start_time": "2022-07-05T07:56:57.935Z"
   },
   {
    "duration": 31,
    "start_time": "2022-07-05T07:58:17.573Z"
   },
   {
    "duration": 9,
    "start_time": "2022-07-05T07:58:23.613Z"
   },
   {
    "duration": 8,
    "start_time": "2022-07-05T07:58:32.442Z"
   },
   {
    "duration": 10,
    "start_time": "2022-07-05T07:58:56.558Z"
   },
   {
    "duration": 11,
    "start_time": "2022-07-05T07:59:13.387Z"
   },
   {
    "duration": 9,
    "start_time": "2022-07-05T08:04:04.739Z"
   },
   {
    "duration": 57,
    "start_time": "2022-07-05T08:23:56.973Z"
   },
   {
    "duration": 9,
    "start_time": "2022-07-05T08:24:14.968Z"
   },
   {
    "duration": 3,
    "start_time": "2022-07-05T08:24:16.973Z"
   },
   {
    "duration": 8,
    "start_time": "2022-07-05T08:24:22.524Z"
   },
   {
    "duration": 48,
    "start_time": "2022-07-05T08:28:20.847Z"
   },
   {
    "duration": 11,
    "start_time": "2022-07-05T08:29:39.404Z"
   },
   {
    "duration": 14,
    "start_time": "2022-07-05T08:32:49.173Z"
   },
   {
    "duration": 12,
    "start_time": "2022-07-05T08:33:59.070Z"
   },
   {
    "duration": 4,
    "start_time": "2022-07-05T08:34:07.653Z"
   },
   {
    "duration": 13,
    "start_time": "2022-07-05T08:34:11.901Z"
   },
   {
    "duration": 10,
    "start_time": "2022-07-05T08:34:15.420Z"
   },
   {
    "duration": 3,
    "start_time": "2022-07-05T08:34:20.087Z"
   },
   {
    "duration": 181,
    "start_time": "2022-07-05T08:34:20.092Z"
   },
   {
    "duration": 9,
    "start_time": "2022-07-05T08:34:20.275Z"
   },
   {
    "duration": 41,
    "start_time": "2022-07-05T08:34:20.286Z"
   },
   {
    "duration": 9,
    "start_time": "2022-07-05T08:34:20.329Z"
   },
   {
    "duration": 23,
    "start_time": "2022-07-05T08:34:20.340Z"
   },
   {
    "duration": 24,
    "start_time": "2022-07-05T08:34:20.364Z"
   },
   {
    "duration": 25,
    "start_time": "2022-07-05T08:34:20.390Z"
   },
   {
    "duration": 25,
    "start_time": "2022-07-05T08:34:20.417Z"
   },
   {
    "duration": 23,
    "start_time": "2022-07-05T08:34:20.443Z"
   },
   {
    "duration": 32,
    "start_time": "2022-07-05T08:34:20.468Z"
   },
   {
    "duration": 26,
    "start_time": "2022-07-05T08:34:20.502Z"
   },
   {
    "duration": 21,
    "start_time": "2022-07-05T08:34:20.530Z"
   },
   {
    "duration": 29,
    "start_time": "2022-07-05T08:34:20.554Z"
   },
   {
    "duration": 27,
    "start_time": "2022-07-05T08:34:20.585Z"
   },
   {
    "duration": 10,
    "start_time": "2022-07-05T08:34:20.614Z"
   },
   {
    "duration": 22,
    "start_time": "2022-07-05T08:34:20.625Z"
   },
   {
    "duration": 10,
    "start_time": "2022-07-05T08:34:20.649Z"
   },
   {
    "duration": 20,
    "start_time": "2022-07-05T08:34:20.661Z"
   },
   {
    "duration": 29,
    "start_time": "2022-07-05T08:34:20.683Z"
   },
   {
    "duration": 19,
    "start_time": "2022-07-05T08:34:20.714Z"
   },
   {
    "duration": 16,
    "start_time": "2022-07-05T08:34:20.734Z"
   },
   {
    "duration": 12,
    "start_time": "2022-07-05T08:34:20.752Z"
   },
   {
    "duration": 20,
    "start_time": "2022-07-05T08:34:20.766Z"
   },
   {
    "duration": 34,
    "start_time": "2022-07-05T08:34:20.788Z"
   },
   {
    "duration": 21,
    "start_time": "2022-07-05T08:34:20.824Z"
   },
   {
    "duration": 20,
    "start_time": "2022-07-05T08:34:20.847Z"
   },
   {
    "duration": 12,
    "start_time": "2022-07-05T08:34:20.868Z"
   },
   {
    "duration": 20,
    "start_time": "2022-07-05T08:34:20.882Z"
   },
   {
    "duration": 54,
    "start_time": "2022-07-05T08:34:20.904Z"
   },
   {
    "duration": 0,
    "start_time": "2022-07-05T08:34:20.960Z"
   },
   {
    "duration": 0,
    "start_time": "2022-07-05T08:34:20.961Z"
   },
   {
    "duration": 0,
    "start_time": "2022-07-05T08:34:20.962Z"
   },
   {
    "duration": 0,
    "start_time": "2022-07-05T08:34:20.963Z"
   },
   {
    "duration": 0,
    "start_time": "2022-07-05T08:34:20.964Z"
   },
   {
    "duration": 0,
    "start_time": "2022-07-05T08:34:20.966Z"
   },
   {
    "duration": 0,
    "start_time": "2022-07-05T08:34:20.967Z"
   },
   {
    "duration": 0,
    "start_time": "2022-07-05T08:34:20.968Z"
   },
   {
    "duration": 8,
    "start_time": "2022-07-05T08:34:29.854Z"
   },
   {
    "duration": 8,
    "start_time": "2022-07-05T08:35:36.837Z"
   },
   {
    "duration": 9,
    "start_time": "2022-07-05T08:35:46.423Z"
   },
   {
    "duration": 3,
    "start_time": "2022-07-05T08:35:54.640Z"
   },
   {
    "duration": 143,
    "start_time": "2022-07-05T08:35:57.038Z"
   },
   {
    "duration": 6,
    "start_time": "2022-07-05T08:35:58.352Z"
   },
   {
    "duration": 28,
    "start_time": "2022-07-05T08:35:59.819Z"
   },
   {
    "duration": 3,
    "start_time": "2022-07-05T08:36:05.722Z"
   },
   {
    "duration": 3,
    "start_time": "2022-07-05T08:36:16.457Z"
   },
   {
    "duration": 8,
    "start_time": "2022-07-05T08:36:21.524Z"
   },
   {
    "duration": 4,
    "start_time": "2022-07-05T08:36:27.905Z"
   },
   {
    "duration": 2,
    "start_time": "2022-07-05T08:38:42.976Z"
   },
   {
    "duration": 156,
    "start_time": "2022-07-05T08:38:43.836Z"
   },
   {
    "duration": 6,
    "start_time": "2022-07-05T08:38:44.673Z"
   },
   {
    "duration": 26,
    "start_time": "2022-07-05T08:38:48.002Z"
   },
   {
    "duration": 2,
    "start_time": "2022-07-05T08:38:52.955Z"
   },
   {
    "duration": 4,
    "start_time": "2022-07-05T08:38:58.051Z"
   },
   {
    "duration": 9,
    "start_time": "2022-07-05T08:39:01.870Z"
   },
   {
    "duration": 4,
    "start_time": "2022-07-05T08:39:03.771Z"
   },
   {
    "duration": 3,
    "start_time": "2022-07-05T08:40:05.926Z"
   },
   {
    "duration": 176,
    "start_time": "2022-07-05T08:40:05.931Z"
   },
   {
    "duration": 8,
    "start_time": "2022-07-05T08:40:06.108Z"
   },
   {
    "duration": 31,
    "start_time": "2022-07-05T08:40:06.123Z"
   },
   {
    "duration": 3,
    "start_time": "2022-07-05T08:40:06.157Z"
   },
   {
    "duration": 12,
    "start_time": "2022-07-05T08:40:06.161Z"
   },
   {
    "duration": 8,
    "start_time": "2022-07-05T08:40:06.176Z"
   },
   {
    "duration": 5,
    "start_time": "2022-07-05T08:40:06.186Z"
   },
   {
    "duration": 5,
    "start_time": "2022-07-05T08:40:06.192Z"
   },
   {
    "duration": 5,
    "start_time": "2022-07-05T08:40:06.198Z"
   },
   {
    "duration": 5,
    "start_time": "2022-07-05T08:40:06.225Z"
   },
   {
    "duration": 5,
    "start_time": "2022-07-05T08:40:06.232Z"
   },
   {
    "duration": 5,
    "start_time": "2022-07-05T08:40:06.239Z"
   },
   {
    "duration": 7,
    "start_time": "2022-07-05T08:40:06.248Z"
   },
   {
    "duration": 8,
    "start_time": "2022-07-05T08:40:06.257Z"
   },
   {
    "duration": 5,
    "start_time": "2022-07-05T08:40:06.267Z"
   },
   {
    "duration": 7,
    "start_time": "2022-07-05T08:40:06.274Z"
   },
   {
    "duration": 7,
    "start_time": "2022-07-05T08:40:06.283Z"
   },
   {
    "duration": 5,
    "start_time": "2022-07-05T08:40:06.292Z"
   },
   {
    "duration": 5,
    "start_time": "2022-07-05T08:40:06.299Z"
   },
   {
    "duration": 24,
    "start_time": "2022-07-05T08:40:06.306Z"
   },
   {
    "duration": 7,
    "start_time": "2022-07-05T08:40:06.332Z"
   },
   {
    "duration": 5,
    "start_time": "2022-07-05T08:40:06.341Z"
   },
   {
    "duration": 5,
    "start_time": "2022-07-05T08:40:06.348Z"
   },
   {
    "duration": 7,
    "start_time": "2022-07-05T08:40:06.355Z"
   },
   {
    "duration": 5,
    "start_time": "2022-07-05T08:40:06.364Z"
   },
   {
    "duration": 8,
    "start_time": "2022-07-05T08:40:06.370Z"
   },
   {
    "duration": 6,
    "start_time": "2022-07-05T08:40:06.379Z"
   },
   {
    "duration": 9,
    "start_time": "2022-07-05T08:40:06.387Z"
   },
   {
    "duration": 45,
    "start_time": "2022-07-05T08:40:06.398Z"
   },
   {
    "duration": 0,
    "start_time": "2022-07-05T08:40:06.445Z"
   },
   {
    "duration": 0,
    "start_time": "2022-07-05T08:40:06.446Z"
   },
   {
    "duration": 0,
    "start_time": "2022-07-05T08:40:06.447Z"
   },
   {
    "duration": 0,
    "start_time": "2022-07-05T08:40:06.448Z"
   },
   {
    "duration": 0,
    "start_time": "2022-07-05T08:40:06.450Z"
   },
   {
    "duration": 0,
    "start_time": "2022-07-05T08:40:06.451Z"
   },
   {
    "duration": 0,
    "start_time": "2022-07-05T08:40:06.453Z"
   },
   {
    "duration": 0,
    "start_time": "2022-07-05T08:40:06.455Z"
   },
   {
    "duration": 8,
    "start_time": "2022-07-05T08:47:31.442Z"
   },
   {
    "duration": 4,
    "start_time": "2022-07-05T08:48:11.005Z"
   },
   {
    "duration": 46,
    "start_time": "2022-07-05T08:49:06.439Z"
   },
   {
    "duration": 24,
    "start_time": "2022-07-05T08:49:40.718Z"
   },
   {
    "duration": 8,
    "start_time": "2022-07-05T17:51:07.557Z"
   },
   {
    "duration": 4,
    "start_time": "2022-07-05T17:51:36.453Z"
   },
   {
    "duration": 41,
    "start_time": "2022-07-05T17:55:04.246Z"
   },
   {
    "duration": 359,
    "start_time": "2022-07-05T17:55:26.156Z"
   },
   {
    "duration": 230,
    "start_time": "2022-07-05T17:55:26.517Z"
   },
   {
    "duration": 8,
    "start_time": "2022-07-05T17:55:26.749Z"
   },
   {
    "duration": 42,
    "start_time": "2022-07-05T17:55:26.759Z"
   },
   {
    "duration": 4,
    "start_time": "2022-07-05T17:55:26.803Z"
   },
   {
    "duration": 9,
    "start_time": "2022-07-05T17:55:26.808Z"
   },
   {
    "duration": 18,
    "start_time": "2022-07-05T17:55:26.818Z"
   },
   {
    "duration": 18,
    "start_time": "2022-07-05T17:55:26.838Z"
   },
   {
    "duration": 36,
    "start_time": "2022-07-05T17:55:26.858Z"
   },
   {
    "duration": 27,
    "start_time": "2022-07-05T17:55:26.896Z"
   },
   {
    "duration": 0,
    "start_time": "2022-07-05T17:55:26.926Z"
   },
   {
    "duration": 0,
    "start_time": "2022-07-05T17:55:26.927Z"
   },
   {
    "duration": 0,
    "start_time": "2022-07-05T17:55:26.928Z"
   },
   {
    "duration": 0,
    "start_time": "2022-07-05T17:55:26.930Z"
   },
   {
    "duration": 0,
    "start_time": "2022-07-05T17:55:26.931Z"
   },
   {
    "duration": 0,
    "start_time": "2022-07-05T17:55:26.932Z"
   },
   {
    "duration": 0,
    "start_time": "2022-07-05T17:55:26.933Z"
   },
   {
    "duration": 0,
    "start_time": "2022-07-05T17:55:26.935Z"
   },
   {
    "duration": 0,
    "start_time": "2022-07-05T17:55:26.936Z"
   },
   {
    "duration": 0,
    "start_time": "2022-07-05T17:55:26.937Z"
   },
   {
    "duration": 0,
    "start_time": "2022-07-05T17:55:26.939Z"
   },
   {
    "duration": 0,
    "start_time": "2022-07-05T17:55:26.940Z"
   },
   {
    "duration": 0,
    "start_time": "2022-07-05T17:55:26.941Z"
   },
   {
    "duration": 0,
    "start_time": "2022-07-05T17:55:26.942Z"
   },
   {
    "duration": 0,
    "start_time": "2022-07-05T17:55:26.943Z"
   },
   {
    "duration": 0,
    "start_time": "2022-07-05T17:55:26.944Z"
   },
   {
    "duration": 0,
    "start_time": "2022-07-05T17:55:26.945Z"
   },
   {
    "duration": 0,
    "start_time": "2022-07-05T17:55:26.946Z"
   },
   {
    "duration": 0,
    "start_time": "2022-07-05T17:55:26.947Z"
   },
   {
    "duration": 0,
    "start_time": "2022-07-05T17:55:26.948Z"
   },
   {
    "duration": 0,
    "start_time": "2022-07-05T17:55:26.949Z"
   },
   {
    "duration": 0,
    "start_time": "2022-07-05T17:55:26.950Z"
   },
   {
    "duration": 0,
    "start_time": "2022-07-05T17:55:26.951Z"
   },
   {
    "duration": 0,
    "start_time": "2022-07-05T17:55:26.952Z"
   },
   {
    "duration": 0,
    "start_time": "2022-07-05T17:55:26.953Z"
   },
   {
    "duration": 0,
    "start_time": "2022-07-05T17:55:26.954Z"
   },
   {
    "duration": 0,
    "start_time": "2022-07-05T17:55:27.001Z"
   },
   {
    "duration": 0,
    "start_time": "2022-07-05T17:55:27.002Z"
   },
   {
    "duration": 7,
    "start_time": "2022-07-05T17:55:33.300Z"
   },
   {
    "duration": 18,
    "start_time": "2022-07-05T17:56:47.185Z"
   },
   {
    "duration": 9,
    "start_time": "2022-07-05T17:57:15.293Z"
   },
   {
    "duration": 7,
    "start_time": "2022-07-05T17:57:26.732Z"
   },
   {
    "duration": 23,
    "start_time": "2022-07-05T17:57:36.699Z"
   },
   {
    "duration": 65,
    "start_time": "2022-07-05T17:58:05.985Z"
   },
   {
    "duration": 8,
    "start_time": "2022-07-05T17:58:31.134Z"
   },
   {
    "duration": 10,
    "start_time": "2022-07-05T17:59:03.084Z"
   },
   {
    "duration": 58,
    "start_time": "2022-07-05T17:59:23.211Z"
   },
   {
    "duration": 58,
    "start_time": "2022-07-05T18:02:37.435Z"
   },
   {
    "duration": 48,
    "start_time": "2022-07-05T18:03:38.330Z"
   },
   {
    "duration": 79,
    "start_time": "2022-07-05T18:09:47.249Z"
   },
   {
    "duration": 65,
    "start_time": "2022-07-05T18:10:00.809Z"
   },
   {
    "duration": 61,
    "start_time": "2022-07-05T18:11:55.351Z"
   },
   {
    "duration": 73,
    "start_time": "2022-07-05T18:17:57.781Z"
   },
   {
    "duration": 62,
    "start_time": "2022-07-05T18:18:02.209Z"
   },
   {
    "duration": 70,
    "start_time": "2022-07-05T18:21:33.617Z"
   },
   {
    "duration": 46,
    "start_time": "2022-07-05T18:23:46.677Z"
   },
   {
    "duration": 35,
    "start_time": "2022-07-05T18:24:59.333Z"
   },
   {
    "duration": 7,
    "start_time": "2022-07-05T18:32:17.349Z"
   },
   {
    "duration": 12,
    "start_time": "2022-07-05T18:32:47.582Z"
   },
   {
    "duration": 7,
    "start_time": "2022-07-05T18:33:28.801Z"
   },
   {
    "duration": 46,
    "start_time": "2022-07-05T18:34:20.316Z"
   },
   {
    "duration": 43,
    "start_time": "2022-07-05T18:35:01.662Z"
   },
   {
    "duration": 34,
    "start_time": "2022-07-05T18:35:59.731Z"
   },
   {
    "duration": 34,
    "start_time": "2022-07-05T18:36:03.330Z"
   },
   {
    "duration": 33,
    "start_time": "2022-07-05T18:36:17.782Z"
   },
   {
    "duration": 4,
    "start_time": "2022-07-05T18:39:02.889Z"
   },
   {
    "duration": 3,
    "start_time": "2022-07-05T18:39:22.540Z"
   },
   {
    "duration": 7,
    "start_time": "2022-07-05T18:40:02.207Z"
   },
   {
    "duration": 7,
    "start_time": "2022-07-05T18:50:50.349Z"
   },
   {
    "duration": 7,
    "start_time": "2022-07-05T18:53:21.175Z"
   },
   {
    "duration": 6,
    "start_time": "2022-07-05T18:54:12.416Z"
   },
   {
    "duration": 7,
    "start_time": "2022-07-05T18:57:03.533Z"
   },
   {
    "duration": 7,
    "start_time": "2022-07-05T18:57:14.046Z"
   },
   {
    "duration": 7,
    "start_time": "2022-07-05T18:57:21.231Z"
   },
   {
    "duration": 7,
    "start_time": "2022-07-05T18:59:27.032Z"
   },
   {
    "duration": 6,
    "start_time": "2022-07-05T18:59:32.431Z"
   },
   {
    "duration": 9,
    "start_time": "2022-07-05T18:59:52.307Z"
   },
   {
    "duration": 8,
    "start_time": "2022-07-05T19:06:23.236Z"
   },
   {
    "duration": 7,
    "start_time": "2022-07-05T19:07:16.965Z"
   },
   {
    "duration": 7,
    "start_time": "2022-07-05T19:07:20.817Z"
   },
   {
    "duration": 7,
    "start_time": "2022-07-05T19:07:34.336Z"
   },
   {
    "duration": 7,
    "start_time": "2022-07-05T19:08:19.245Z"
   },
   {
    "duration": 8,
    "start_time": "2022-07-05T19:08:49.760Z"
   },
   {
    "duration": 9,
    "start_time": "2022-07-07T08:42:44.951Z"
   },
   {
    "duration": 4,
    "start_time": "2022-07-07T08:43:58.413Z"
   },
   {
    "duration": 4,
    "start_time": "2022-07-07T08:44:58.394Z"
   },
   {
    "duration": 62,
    "start_time": "2022-07-07T08:47:57.653Z"
   },
   {
    "duration": 46,
    "start_time": "2022-07-07T08:51:42.861Z"
   },
   {
    "duration": 2,
    "start_time": "2022-07-07T08:51:43.757Z"
   },
   {
    "duration": 51,
    "start_time": "2022-07-07T08:52:38.380Z"
   },
   {
    "duration": 407,
    "start_time": "2022-07-07T08:52:45.666Z"
   },
   {
    "duration": 213,
    "start_time": "2022-07-07T08:52:46.075Z"
   },
   {
    "duration": 9,
    "start_time": "2022-07-07T08:52:46.289Z"
   },
   {
    "duration": 50,
    "start_time": "2022-07-07T08:52:46.300Z"
   },
   {
    "duration": 20,
    "start_time": "2022-07-07T08:52:46.352Z"
   },
   {
    "duration": 12,
    "start_time": "2022-07-07T08:52:46.374Z"
   },
   {
    "duration": 27,
    "start_time": "2022-07-07T08:52:46.388Z"
   },
   {
    "duration": 17,
    "start_time": "2022-07-07T08:52:46.417Z"
   },
   {
    "duration": 26,
    "start_time": "2022-07-07T08:52:46.436Z"
   },
   {
    "duration": 19,
    "start_time": "2022-07-07T08:52:46.464Z"
   },
   {
    "duration": 32,
    "start_time": "2022-07-07T08:52:46.485Z"
   },
   {
    "duration": 82,
    "start_time": "2022-07-07T08:52:46.519Z"
   },
   {
    "duration": 72,
    "start_time": "2022-07-07T08:52:46.603Z"
   },
   {
    "duration": 79,
    "start_time": "2022-07-07T08:52:46.679Z"
   },
   {
    "duration": 45,
    "start_time": "2022-07-07T08:52:46.760Z"
   },
   {
    "duration": 12,
    "start_time": "2022-07-07T08:52:46.807Z"
   },
   {
    "duration": 38,
    "start_time": "2022-07-07T08:52:46.821Z"
   },
   {
    "duration": 12,
    "start_time": "2022-07-07T08:52:46.861Z"
   },
   {
    "duration": 40,
    "start_time": "2022-07-07T08:52:46.875Z"
   },
   {
    "duration": 4,
    "start_time": "2022-07-07T08:52:46.917Z"
   },
   {
    "duration": 50,
    "start_time": "2022-07-07T08:52:46.922Z"
   },
   {
    "duration": 0,
    "start_time": "2022-07-07T08:52:46.974Z"
   },
   {
    "duration": 0,
    "start_time": "2022-07-07T08:52:46.975Z"
   },
   {
    "duration": 0,
    "start_time": "2022-07-07T08:52:46.976Z"
   },
   {
    "duration": 0,
    "start_time": "2022-07-07T08:52:46.977Z"
   },
   {
    "duration": 0,
    "start_time": "2022-07-07T08:52:46.978Z"
   },
   {
    "duration": 0,
    "start_time": "2022-07-07T08:52:46.979Z"
   },
   {
    "duration": 0,
    "start_time": "2022-07-07T08:52:46.980Z"
   },
   {
    "duration": 0,
    "start_time": "2022-07-07T08:52:46.981Z"
   },
   {
    "duration": 0,
    "start_time": "2022-07-07T08:52:46.982Z"
   },
   {
    "duration": 0,
    "start_time": "2022-07-07T08:52:46.983Z"
   },
   {
    "duration": 0,
    "start_time": "2022-07-07T08:52:46.984Z"
   },
   {
    "duration": 0,
    "start_time": "2022-07-07T08:52:46.985Z"
   },
   {
    "duration": 0,
    "start_time": "2022-07-07T08:52:46.986Z"
   },
   {
    "duration": 0,
    "start_time": "2022-07-07T08:52:46.987Z"
   },
   {
    "duration": 0,
    "start_time": "2022-07-07T08:52:46.988Z"
   },
   {
    "duration": 0,
    "start_time": "2022-07-07T08:52:46.989Z"
   },
   {
    "duration": 0,
    "start_time": "2022-07-07T08:52:46.990Z"
   },
   {
    "duration": 53,
    "start_time": "2022-07-07T08:52:56.009Z"
   },
   {
    "duration": 51,
    "start_time": "2022-07-07T08:52:58.657Z"
   },
   {
    "duration": 46,
    "start_time": "2022-07-07T08:52:59.559Z"
   },
   {
    "duration": 55,
    "start_time": "2022-07-07T08:53:00.278Z"
   },
   {
    "duration": 50,
    "start_time": "2022-07-07T08:53:01.212Z"
   },
   {
    "duration": 95,
    "start_time": "2022-07-07T08:53:01.974Z"
   },
   {
    "duration": 20,
    "start_time": "2022-07-07T08:55:54.259Z"
   },
   {
    "duration": 25,
    "start_time": "2022-07-07T08:56:27.996Z"
   },
   {
    "duration": 19,
    "start_time": "2022-07-07T08:56:28.778Z"
   },
   {
    "duration": 18,
    "start_time": "2022-07-07T08:56:29.627Z"
   },
   {
    "duration": 16,
    "start_time": "2022-07-07T08:56:30.358Z"
   },
   {
    "duration": 22,
    "start_time": "2022-07-07T08:56:31.193Z"
   },
   {
    "duration": 18,
    "start_time": "2022-07-07T08:56:31.910Z"
   },
   {
    "duration": 61,
    "start_time": "2022-07-07T08:58:14.161Z"
   },
   {
    "duration": 4,
    "start_time": "2022-07-07T09:02:25.524Z"
   },
   {
    "duration": 10,
    "start_time": "2022-07-07T09:08:54.956Z"
   },
   {
    "duration": 68,
    "start_time": "2022-07-07T09:30:02.862Z"
   },
   {
    "duration": 51,
    "start_time": "2022-07-07T09:30:10.654Z"
   },
   {
    "duration": 123,
    "start_time": "2022-07-07T09:35:00.183Z"
   },
   {
    "duration": 6,
    "start_time": "2022-07-07T09:35:18.352Z"
   },
   {
    "duration": 5,
    "start_time": "2022-07-07T09:38:22.866Z"
   },
   {
    "duration": 8,
    "start_time": "2022-07-07T09:38:59.888Z"
   },
   {
    "duration": 17,
    "start_time": "2022-07-07T09:40:14.238Z"
   },
   {
    "duration": 7,
    "start_time": "2022-07-07T09:41:50.825Z"
   },
   {
    "duration": 8,
    "start_time": "2022-07-07T09:42:58.351Z"
   },
   {
    "duration": 7,
    "start_time": "2022-07-07T09:47:26.871Z"
   },
   {
    "duration": 16,
    "start_time": "2022-07-07T09:47:27.656Z"
   },
   {
    "duration": 7,
    "start_time": "2022-07-07T09:47:28.854Z"
   },
   {
    "duration": 3,
    "start_time": "2022-07-07T09:48:04.259Z"
   },
   {
    "duration": 189,
    "start_time": "2022-07-07T09:48:04.263Z"
   },
   {
    "duration": 7,
    "start_time": "2022-07-07T09:48:04.453Z"
   },
   {
    "duration": 35,
    "start_time": "2022-07-07T09:48:04.462Z"
   },
   {
    "duration": 33,
    "start_time": "2022-07-07T09:48:04.498Z"
   },
   {
    "duration": 11,
    "start_time": "2022-07-07T09:48:04.533Z"
   },
   {
    "duration": 18,
    "start_time": "2022-07-07T09:48:04.545Z"
   },
   {
    "duration": 6,
    "start_time": "2022-07-07T09:48:04.564Z"
   },
   {
    "duration": 27,
    "start_time": "2022-07-07T09:48:04.572Z"
   },
   {
    "duration": 37,
    "start_time": "2022-07-07T09:48:04.608Z"
   },
   {
    "duration": 23,
    "start_time": "2022-07-07T09:48:04.647Z"
   },
   {
    "duration": 73,
    "start_time": "2022-07-07T09:48:04.672Z"
   },
   {
    "duration": 74,
    "start_time": "2022-07-07T09:48:04.747Z"
   },
   {
    "duration": 55,
    "start_time": "2022-07-07T09:48:04.830Z"
   },
   {
    "duration": 50,
    "start_time": "2022-07-07T09:48:04.886Z"
   },
   {
    "duration": 10,
    "start_time": "2022-07-07T09:48:04.938Z"
   },
   {
    "duration": 88,
    "start_time": "2022-07-07T09:48:04.949Z"
   },
   {
    "duration": 26,
    "start_time": "2022-07-07T09:48:05.038Z"
   },
   {
    "duration": 32,
    "start_time": "2022-07-07T09:48:05.065Z"
   },
   {
    "duration": 42,
    "start_time": "2022-07-07T09:48:05.099Z"
   },
   {
    "duration": 58,
    "start_time": "2022-07-07T09:48:05.142Z"
   },
   {
    "duration": 36,
    "start_time": "2022-07-07T09:48:05.212Z"
   },
   {
    "duration": 56,
    "start_time": "2022-07-07T09:48:05.251Z"
   },
   {
    "duration": 28,
    "start_time": "2022-07-07T09:48:05.312Z"
   },
   {
    "duration": 43,
    "start_time": "2022-07-07T09:48:05.342Z"
   },
   {
    "duration": 34,
    "start_time": "2022-07-07T09:48:05.387Z"
   },
   {
    "duration": 28,
    "start_time": "2022-07-07T09:48:05.429Z"
   },
   {
    "duration": 22,
    "start_time": "2022-07-07T09:48:05.458Z"
   },
   {
    "duration": 34,
    "start_time": "2022-07-07T09:48:05.484Z"
   },
   {
    "duration": 24,
    "start_time": "2022-07-07T09:48:05.522Z"
   },
   {
    "duration": 44,
    "start_time": "2022-07-07T09:48:05.548Z"
   },
   {
    "duration": 48,
    "start_time": "2022-07-07T09:48:05.594Z"
   },
   {
    "duration": 14,
    "start_time": "2022-07-07T09:48:05.643Z"
   },
   {
    "duration": 28,
    "start_time": "2022-07-07T09:48:05.658Z"
   },
   {
    "duration": 55,
    "start_time": "2022-07-07T09:48:05.688Z"
   },
   {
    "duration": 30,
    "start_time": "2022-07-07T09:48:05.745Z"
   },
   {
    "duration": 61,
    "start_time": "2022-07-07T09:48:05.776Z"
   },
   {
    "duration": 30,
    "start_time": "2022-07-07T09:48:05.838Z"
   },
   {
    "duration": 17,
    "start_time": "2022-07-07T09:48:21.892Z"
   },
   {
    "duration": 11,
    "start_time": "2022-07-07T09:48:22.945Z"
   },
   {
    "duration": 14,
    "start_time": "2022-07-07T09:48:26.125Z"
   },
   {
    "duration": 11,
    "start_time": "2022-07-07T09:48:27.156Z"
   },
   {
    "duration": 23,
    "start_time": "2022-07-07T09:49:52.840Z"
   },
   {
    "duration": 13,
    "start_time": "2022-07-07T09:49:53.623Z"
   },
   {
    "duration": 34,
    "start_time": "2022-07-07T09:54:00.673Z"
   },
   {
    "duration": 6,
    "start_time": "2022-07-07T09:54:32.409Z"
   },
   {
    "duration": 10,
    "start_time": "2022-07-07T09:55:27.453Z"
   },
   {
    "duration": 5,
    "start_time": "2022-07-07T09:55:48.816Z"
   },
   {
    "duration": 7,
    "start_time": "2022-07-07T09:57:36.488Z"
   },
   {
    "duration": 9,
    "start_time": "2022-07-07T09:57:56.077Z"
   },
   {
    "duration": 18,
    "start_time": "2022-07-07T09:58:22.593Z"
   },
   {
    "duration": 9,
    "start_time": "2022-07-07T09:58:24.468Z"
   },
   {
    "duration": 6,
    "start_time": "2022-07-07T09:58:59.276Z"
   },
   {
    "duration": 6,
    "start_time": "2022-07-07T10:00:39.776Z"
   },
   {
    "duration": 56,
    "start_time": "2023-03-19T19:49:16.936Z"
   },
   {
    "duration": 402,
    "start_time": "2023-03-19T19:49:23.501Z"
   },
   {
    "duration": 485,
    "start_time": "2023-03-19T19:49:23.905Z"
   },
   {
    "duration": 12,
    "start_time": "2023-03-19T19:49:24.392Z"
   },
   {
    "duration": 94,
    "start_time": "2023-03-19T19:49:24.408Z"
   },
   {
    "duration": 34,
    "start_time": "2023-03-19T19:49:24.505Z"
   },
   {
    "duration": 38,
    "start_time": "2023-03-19T19:49:24.542Z"
   },
   {
    "duration": 29,
    "start_time": "2023-03-19T19:49:24.582Z"
   },
   {
    "duration": 18,
    "start_time": "2023-03-19T19:49:24.614Z"
   },
   {
    "duration": 46,
    "start_time": "2023-03-19T19:49:24.634Z"
   },
   {
    "duration": 46,
    "start_time": "2023-03-19T19:49:24.684Z"
   },
   {
    "duration": 29,
    "start_time": "2023-03-19T19:49:24.732Z"
   },
   {
    "duration": 106,
    "start_time": "2023-03-19T19:49:24.764Z"
   },
   {
    "duration": 123,
    "start_time": "2023-03-19T19:49:24.872Z"
   },
   {
    "duration": 67,
    "start_time": "2023-03-19T19:49:24.997Z"
   },
   {
    "duration": 52,
    "start_time": "2023-03-19T19:49:25.066Z"
   },
   {
    "duration": 11,
    "start_time": "2023-03-19T19:49:25.120Z"
   },
   {
    "duration": 60,
    "start_time": "2023-03-19T19:49:25.133Z"
   },
   {
    "duration": 13,
    "start_time": "2023-03-19T19:49:25.196Z"
   },
   {
    "duration": 14,
    "start_time": "2023-03-19T19:49:25.211Z"
   },
   {
    "duration": 18,
    "start_time": "2023-03-19T19:49:25.227Z"
   },
   {
    "duration": 48,
    "start_time": "2023-03-19T19:49:25.247Z"
   },
   {
    "duration": 34,
    "start_time": "2023-03-19T19:49:25.296Z"
   },
   {
    "duration": 21,
    "start_time": "2023-03-19T19:49:25.332Z"
   },
   {
    "duration": 19,
    "start_time": "2023-03-19T19:49:25.355Z"
   },
   {
    "duration": 38,
    "start_time": "2023-03-19T19:49:25.376Z"
   },
   {
    "duration": 20,
    "start_time": "2023-03-19T19:49:25.416Z"
   },
   {
    "duration": 4,
    "start_time": "2023-03-19T19:49:25.438Z"
   },
   {
    "duration": 29,
    "start_time": "2023-03-19T19:49:25.445Z"
   },
   {
    "duration": 21,
    "start_time": "2023-03-19T19:49:25.476Z"
   },
   {
    "duration": 17,
    "start_time": "2023-03-19T19:49:25.499Z"
   },
   {
    "duration": 40,
    "start_time": "2023-03-19T19:49:25.518Z"
   },
   {
    "duration": 11,
    "start_time": "2023-03-19T19:49:25.560Z"
   },
   {
    "duration": 32,
    "start_time": "2023-03-19T19:49:25.573Z"
   },
   {
    "duration": 28,
    "start_time": "2023-03-19T19:49:25.606Z"
   },
   {
    "duration": 20,
    "start_time": "2023-03-19T19:49:25.635Z"
   },
   {
    "duration": 15,
    "start_time": "2023-03-19T19:49:25.657Z"
   },
   {
    "duration": 19,
    "start_time": "2023-03-19T19:49:25.674Z"
   },
   {
    "duration": 22,
    "start_time": "2023-03-19T19:49:25.695Z"
   },
   {
    "duration": 405,
    "start_time": "2023-03-19T19:49:55.823Z"
   },
   {
    "duration": 181,
    "start_time": "2023-03-19T19:49:56.230Z"
   },
   {
    "duration": 7,
    "start_time": "2023-03-19T19:49:56.413Z"
   },
   {
    "duration": 40,
    "start_time": "2023-03-19T19:49:56.422Z"
   },
   {
    "duration": 2,
    "start_time": "2023-03-19T19:49:56.464Z"
   },
   {
    "duration": 9,
    "start_time": "2023-03-19T19:49:56.467Z"
   },
   {
    "duration": 32,
    "start_time": "2023-03-19T19:49:56.477Z"
   },
   {
    "duration": 11,
    "start_time": "2023-03-19T19:49:56.511Z"
   },
   {
    "duration": 30,
    "start_time": "2023-03-19T19:49:56.524Z"
   },
   {
    "duration": 22,
    "start_time": "2023-03-19T19:49:56.558Z"
   },
   {
    "duration": 46,
    "start_time": "2023-03-19T19:49:56.582Z"
   },
   {
    "duration": 92,
    "start_time": "2023-03-19T19:49:56.634Z"
   },
   {
    "duration": 95,
    "start_time": "2023-03-19T19:49:56.728Z"
   },
   {
    "duration": 80,
    "start_time": "2023-03-19T19:49:56.825Z"
   },
   {
    "duration": 46,
    "start_time": "2023-03-19T19:49:56.907Z"
   },
   {
    "duration": 45,
    "start_time": "2023-03-19T19:49:56.954Z"
   },
   {
    "duration": 67,
    "start_time": "2023-03-19T19:49:57.003Z"
   },
   {
    "duration": 41,
    "start_time": "2023-03-19T19:49:57.072Z"
   },
   {
    "duration": 30,
    "start_time": "2023-03-19T19:49:57.115Z"
   },
   {
    "duration": 45,
    "start_time": "2023-03-19T19:49:57.147Z"
   },
   {
    "duration": 57,
    "start_time": "2023-03-19T19:49:57.200Z"
   },
   {
    "duration": 59,
    "start_time": "2023-03-19T19:49:57.259Z"
   },
   {
    "duration": 54,
    "start_time": "2023-03-19T19:49:57.319Z"
   },
   {
    "duration": 25,
    "start_time": "2023-03-19T19:49:57.375Z"
   },
   {
    "duration": 41,
    "start_time": "2023-03-19T19:49:57.402Z"
   },
   {
    "duration": 27,
    "start_time": "2023-03-19T19:49:57.445Z"
   },
   {
    "duration": 17,
    "start_time": "2023-03-19T19:49:57.474Z"
   },
   {
    "duration": 47,
    "start_time": "2023-03-19T19:49:57.497Z"
   },
   {
    "duration": 25,
    "start_time": "2023-03-19T19:49:57.546Z"
   },
   {
    "duration": 37,
    "start_time": "2023-03-19T19:49:57.573Z"
   },
   {
    "duration": 71,
    "start_time": "2023-03-19T19:49:57.612Z"
   },
   {
    "duration": 23,
    "start_time": "2023-03-19T19:49:57.685Z"
   },
   {
    "duration": 44,
    "start_time": "2023-03-19T19:49:57.711Z"
   },
   {
    "duration": 38,
    "start_time": "2023-03-19T19:49:57.757Z"
   },
   {
    "duration": 22,
    "start_time": "2023-03-19T19:49:57.797Z"
   },
   {
    "duration": 20,
    "start_time": "2023-03-19T19:49:57.821Z"
   },
   {
    "duration": 42,
    "start_time": "2023-03-19T19:49:57.843Z"
   },
   {
    "duration": 28,
    "start_time": "2023-03-19T19:49:57.886Z"
   }
  ],
  "colab": {
   "collapsed_sections": [
    "E0vqbgi9ay0H",
    "VUC88oWjTJw2"
   ],
   "name": "automatization_template_upd4.ipynb",
   "provenance": []
  },
  "kernelspec": {
   "display_name": "Python 3 (ipykernel)",
   "language": "python",
   "name": "python3"
  },
  "language_info": {
   "codemirror_mode": {
    "name": "ipython",
    "version": 3
   },
   "file_extension": ".py",
   "mimetype": "text/x-python",
   "name": "python",
   "nbconvert_exporter": "python",
   "pygments_lexer": "ipython3",
   "version": "3.9.5"
  },
  "toc": {
   "base_numbering": 1,
   "nav_menu": {
    "height": "215px",
    "width": "403px"
   },
   "number_sections": true,
   "sideBar": true,
   "skip_h1_title": true,
   "title_cell": "Table of Contents",
   "title_sidebar": "Contents",
   "toc_cell": false,
   "toc_position": {
    "height": "calc(100% - 180px)",
    "left": "10px",
    "top": "150px",
    "width": "285.825px"
   },
   "toc_section_display": true,
   "toc_window_display": false
  }
 },
 "nbformat": 4,
 "nbformat_minor": 1
}
