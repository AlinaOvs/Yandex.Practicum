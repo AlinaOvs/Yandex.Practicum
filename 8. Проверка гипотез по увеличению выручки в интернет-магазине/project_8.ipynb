{
 "cells": [
  {
   "cell_type": "markdown",
   "metadata": {},
   "source": [
    "## Описание проекта"
   ]
  },
  {
   "cell_type": "markdown",
   "metadata": {},
   "source": [
    "Вы — аналитик крупного интернет-магазина. Вместе с отделом маркетинга вы подготовили список гипотез для увеличения выручки."
   ]
  },
  {
   "cell_type": "markdown",
   "metadata": {},
   "source": [
    "## Цель проекта"
   ]
  },
  {
   "cell_type": "markdown",
   "metadata": {},
   "source": [
    "Приоритизируйте гипотезы, запустите A/B-тест и проанализируйте результаты."
   ]
  },
  {
   "cell_type": "markdown",
   "metadata": {},
   "source": [
    "## Описание данных"
   ]
  },
  {
   "cell_type": "markdown",
   "metadata": {},
   "source": [
    "**Данные для первой части:**  \n",
    "\n",
    "Файл /datasets/hypothesis.csv\n",
    "- Hypothesis — краткое описание гипотезы;\n",
    "- Reach — охват пользователей по 10-балльной шкале;\n",
    "- Impact — влияние на пользователей по 10-балльной шкале;\n",
    "- Confidence — уверенность в гипотезе по 10-балльной шкале;\n",
    "- Efforts — затраты ресурсов на проверку гипотезы по 10-балльной шкале. Чем больше значение Efforts, тем дороже проверка гипотезы.  \n",
    "\n",
    "**Данные для второй части:**  \n",
    "\n",
    "Файл /datasets/orders.csv  \n",
    "- transactionId — идентификатор заказа;\n",
    "- visitorId — идентификатор пользователя, совершившего заказ;\n",
    "- date — дата, когда был совершён заказ;\n",
    "- revenue — выручка заказа;\n",
    "- group — группа A/B-теста, в которую попал заказ.\n",
    "\n",
    "Файл /datasets/visitors.csv  \n",
    "- date — дата;\n",
    "- group — группа A/B-теста;\n",
    "- visitors — количество пользователей в указанную дату в указанной группе A/B-теста"
   ]
  },
  {
   "cell_type": "markdown",
   "metadata": {},
   "source": [
    "## Часть 1. Приоритизация гипотез"
   ]
  },
  {
   "cell_type": "markdown",
   "metadata": {},
   "source": [
    "В файле /datasets/hypothesis.csv 9 гипотез по увеличению выручки интернет-магазина с указанными параметрами Reach, Impact, Confidence, Effort.  \n",
    "\n",
    "**Задача**  \n",
    "- Примените фреймворк ICE для приоритизации гипотез. Отсортируйте их по убыванию приоритета.\n",
    "- Примените фреймворк RICE для приоритизации гипотез. Отсортируйте их по убыванию приоритета.\n",
    "- Укажите, как изменилась приоритизация гипотез при применении RICE вместо ICE. Объясните, почему так произошло."
   ]
  },
  {
   "cell_type": "code",
   "execution_count": 1,
   "metadata": {},
   "outputs": [],
   "source": [
    "import pandas as pd\n",
    "import scipy.stats as stats\n",
    "import datetime as dt\n",
    "import numpy as np\n",
    "import matplotlib.pyplot as plt"
   ]
  },
  {
   "cell_type": "markdown",
   "metadata": {},
   "source": [
    "Импортируем необходимые библиотеки."
   ]
  },
  {
   "cell_type": "code",
   "execution_count": 2,
   "metadata": {},
   "outputs": [],
   "source": [
    "pd.set_option('max_colwidth', 120)\n",
    "pd.set_option('display.width', 500)"
   ]
  },
  {
   "cell_type": "code",
   "execution_count": 3,
   "metadata": {},
   "outputs": [
    {
     "data": {
      "text/html": [
       "<div>\n",
       "<style scoped>\n",
       "    .dataframe tbody tr th:only-of-type {\n",
       "        vertical-align: middle;\n",
       "    }\n",
       "\n",
       "    .dataframe tbody tr th {\n",
       "        vertical-align: top;\n",
       "    }\n",
       "\n",
       "    .dataframe thead th {\n",
       "        text-align: right;\n",
       "    }\n",
       "</style>\n",
       "<table border=\"1\" class=\"dataframe\">\n",
       "  <thead>\n",
       "    <tr style=\"text-align: right;\">\n",
       "      <th></th>\n",
       "      <th>Hypothesis</th>\n",
       "      <th>Reach</th>\n",
       "      <th>Impact</th>\n",
       "      <th>Confidence</th>\n",
       "      <th>Efforts</th>\n",
       "    </tr>\n",
       "  </thead>\n",
       "  <tbody>\n",
       "    <tr>\n",
       "      <th>0</th>\n",
       "      <td>Добавить два новых канала привлечения трафика, что позволит привлекать на 30% больше пользователей</td>\n",
       "      <td>3</td>\n",
       "      <td>10</td>\n",
       "      <td>8</td>\n",
       "      <td>6</td>\n",
       "    </tr>\n",
       "    <tr>\n",
       "      <th>1</th>\n",
       "      <td>Запустить собственную службу доставки, что сократит срок доставки заказов</td>\n",
       "      <td>2</td>\n",
       "      <td>5</td>\n",
       "      <td>4</td>\n",
       "      <td>10</td>\n",
       "    </tr>\n",
       "    <tr>\n",
       "      <th>2</th>\n",
       "      <td>Добавить блоки рекомендаций товаров на сайт интернет магазина, чтобы повысить конверсию и средний чек заказа</td>\n",
       "      <td>8</td>\n",
       "      <td>3</td>\n",
       "      <td>7</td>\n",
       "      <td>3</td>\n",
       "    </tr>\n",
       "    <tr>\n",
       "      <th>3</th>\n",
       "      <td>Изменить структура категорий, что увеличит конверсию, т.к. пользователи быстрее найдут нужный товар</td>\n",
       "      <td>8</td>\n",
       "      <td>3</td>\n",
       "      <td>3</td>\n",
       "      <td>8</td>\n",
       "    </tr>\n",
       "    <tr>\n",
       "      <th>4</th>\n",
       "      <td>Изменить цвет фона главной страницы, чтобы увеличить вовлеченность пользователей</td>\n",
       "      <td>3</td>\n",
       "      <td>1</td>\n",
       "      <td>1</td>\n",
       "      <td>1</td>\n",
       "    </tr>\n",
       "    <tr>\n",
       "      <th>5</th>\n",
       "      <td>Добавить страницу отзывов клиентов о магазине, что позволит увеличить количество заказов</td>\n",
       "      <td>3</td>\n",
       "      <td>2</td>\n",
       "      <td>2</td>\n",
       "      <td>3</td>\n",
       "    </tr>\n",
       "    <tr>\n",
       "      <th>6</th>\n",
       "      <td>Показать на главной странице баннеры с актуальными акциями и распродажами, чтобы увеличить конверсию</td>\n",
       "      <td>5</td>\n",
       "      <td>3</td>\n",
       "      <td>8</td>\n",
       "      <td>3</td>\n",
       "    </tr>\n",
       "    <tr>\n",
       "      <th>7</th>\n",
       "      <td>Добавить форму подписки на все основные страницы, чтобы собрать базу клиентов для email-рассылок</td>\n",
       "      <td>10</td>\n",
       "      <td>7</td>\n",
       "      <td>8</td>\n",
       "      <td>5</td>\n",
       "    </tr>\n",
       "    <tr>\n",
       "      <th>8</th>\n",
       "      <td>Запустить акцию, дающую скидку на товар в день рождения</td>\n",
       "      <td>1</td>\n",
       "      <td>9</td>\n",
       "      <td>9</td>\n",
       "      <td>5</td>\n",
       "    </tr>\n",
       "  </tbody>\n",
       "</table>\n",
       "</div>"
      ],
      "text/plain": [
       "                                                                                                     Hypothesis  Reach  Impact  Confidence  Efforts\n",
       "0            Добавить два новых канала привлечения трафика, что позволит привлекать на 30% больше пользователей      3      10           8        6\n",
       "1                                     Запустить собственную службу доставки, что сократит срок доставки заказов      2       5           4       10\n",
       "2  Добавить блоки рекомендаций товаров на сайт интернет магазина, чтобы повысить конверсию и средний чек заказа      8       3           7        3\n",
       "3           Изменить структура категорий, что увеличит конверсию, т.к. пользователи быстрее найдут нужный товар      8       3           3        8\n",
       "4                              Изменить цвет фона главной страницы, чтобы увеличить вовлеченность пользователей      3       1           1        1\n",
       "5                      Добавить страницу отзывов клиентов о магазине, что позволит увеличить количество заказов      3       2           2        3\n",
       "6          Показать на главной странице баннеры с актуальными акциями и распродажами, чтобы увеличить конверсию      5       3           8        3\n",
       "7              Добавить форму подписки на все основные страницы, чтобы собрать базу клиентов для email-рассылок     10       7           8        5\n",
       "8                                                       Запустить акцию, дающую скидку на товар в день рождения      1       9           9        5"
      ]
     },
     "execution_count": 3,
     "metadata": {},
     "output_type": "execute_result"
    }
   ],
   "source": [
    "data = pd.read_csv('/datasets/hypothesis.csv', sep=',')\n",
    "data"
   ]
  },
  {
   "cell_type": "code",
   "execution_count": 4,
   "metadata": {},
   "outputs": [
    {
     "data": {
      "text/html": [
       "<div>\n",
       "<style scoped>\n",
       "    .dataframe tbody tr th:only-of-type {\n",
       "        vertical-align: middle;\n",
       "    }\n",
       "\n",
       "    .dataframe tbody tr th {\n",
       "        vertical-align: top;\n",
       "    }\n",
       "\n",
       "    .dataframe thead th {\n",
       "        text-align: right;\n",
       "    }\n",
       "</style>\n",
       "<table border=\"1\" class=\"dataframe\">\n",
       "  <thead>\n",
       "    <tr style=\"text-align: right;\">\n",
       "      <th></th>\n",
       "      <th>Hypothesis</th>\n",
       "      <th>ICE</th>\n",
       "    </tr>\n",
       "  </thead>\n",
       "  <tbody>\n",
       "    <tr>\n",
       "      <th>8</th>\n",
       "      <td>Запустить акцию, дающую скидку на товар в день рождения</td>\n",
       "      <td>16.2</td>\n",
       "    </tr>\n",
       "    <tr>\n",
       "      <th>0</th>\n",
       "      <td>Добавить два новых канала привлечения трафика, что позволит привлекать на 30% больше пользователей</td>\n",
       "      <td>13.3</td>\n",
       "    </tr>\n",
       "    <tr>\n",
       "      <th>7</th>\n",
       "      <td>Добавить форму подписки на все основные страницы, чтобы собрать базу клиентов для email-рассылок</td>\n",
       "      <td>11.2</td>\n",
       "    </tr>\n",
       "    <tr>\n",
       "      <th>6</th>\n",
       "      <td>Показать на главной странице баннеры с актуальными акциями и распродажами, чтобы увеличить конверсию</td>\n",
       "      <td>8.0</td>\n",
       "    </tr>\n",
       "    <tr>\n",
       "      <th>2</th>\n",
       "      <td>Добавить блоки рекомендаций товаров на сайт интернет магазина, чтобы повысить конверсию и средний чек заказа</td>\n",
       "      <td>7.0</td>\n",
       "    </tr>\n",
       "    <tr>\n",
       "      <th>1</th>\n",
       "      <td>Запустить собственную службу доставки, что сократит срок доставки заказов</td>\n",
       "      <td>2.0</td>\n",
       "    </tr>\n",
       "    <tr>\n",
       "      <th>5</th>\n",
       "      <td>Добавить страницу отзывов клиентов о магазине, что позволит увеличить количество заказов</td>\n",
       "      <td>1.3</td>\n",
       "    </tr>\n",
       "    <tr>\n",
       "      <th>3</th>\n",
       "      <td>Изменить структура категорий, что увеличит конверсию, т.к. пользователи быстрее найдут нужный товар</td>\n",
       "      <td>1.1</td>\n",
       "    </tr>\n",
       "    <tr>\n",
       "      <th>4</th>\n",
       "      <td>Изменить цвет фона главной страницы, чтобы увеличить вовлеченность пользователей</td>\n",
       "      <td>1.0</td>\n",
       "    </tr>\n",
       "  </tbody>\n",
       "</table>\n",
       "</div>"
      ],
      "text/plain": [
       "                                                                                                     Hypothesis   ICE\n",
       "8                                                       Запустить акцию, дающую скидку на товар в день рождения  16.2\n",
       "0            Добавить два новых канала привлечения трафика, что позволит привлекать на 30% больше пользователей  13.3\n",
       "7              Добавить форму подписки на все основные страницы, чтобы собрать базу клиентов для email-рассылок  11.2\n",
       "6          Показать на главной странице баннеры с актуальными акциями и распродажами, чтобы увеличить конверсию   8.0\n",
       "2  Добавить блоки рекомендаций товаров на сайт интернет магазина, чтобы повысить конверсию и средний чек заказа   7.0\n",
       "1                                     Запустить собственную службу доставки, что сократит срок доставки заказов   2.0\n",
       "5                      Добавить страницу отзывов клиентов о магазине, что позволит увеличить количество заказов   1.3\n",
       "3           Изменить структура категорий, что увеличит конверсию, т.к. пользователи быстрее найдут нужный товар   1.1\n",
       "4                              Изменить цвет фона главной страницы, чтобы увеличить вовлеченность пользователей   1.0"
      ]
     },
     "execution_count": 4,
     "metadata": {},
     "output_type": "execute_result"
    }
   ],
   "source": [
    "data['ICE'] = (data['Impact']*data['Confidence'])/data['Efforts']\n",
    "\n",
    "round((data[['Hypothesis', 'ICE']].sort_values(by='ICE', ascending=False)), 1)"
   ]
  },
  {
   "cell_type": "markdown",
   "metadata": {},
   "source": [
    "Топ-3 гипотез по ICE:\n",
    "- Запустить акцию, дающую скидку на товар в день рождения  \n",
    "- Добавить два новых канала привлечения трафика, что позволит привлекать на 30% больше пользователей\n",
    "- Добавить форму подписки на все основные страницы, чтобы собрать базу клиентов для email-рассылок"
   ]
  },
  {
   "cell_type": "code",
   "execution_count": 5,
   "metadata": {},
   "outputs": [
    {
     "data": {
      "text/html": [
       "<div>\n",
       "<style scoped>\n",
       "    .dataframe tbody tr th:only-of-type {\n",
       "        vertical-align: middle;\n",
       "    }\n",
       "\n",
       "    .dataframe tbody tr th {\n",
       "        vertical-align: top;\n",
       "    }\n",
       "\n",
       "    .dataframe thead th {\n",
       "        text-align: right;\n",
       "    }\n",
       "</style>\n",
       "<table border=\"1\" class=\"dataframe\">\n",
       "  <thead>\n",
       "    <tr style=\"text-align: right;\">\n",
       "      <th></th>\n",
       "      <th>Hypothesis</th>\n",
       "      <th>RICE</th>\n",
       "    </tr>\n",
       "  </thead>\n",
       "  <tbody>\n",
       "    <tr>\n",
       "      <th>7</th>\n",
       "      <td>Добавить форму подписки на все основные страницы, чтобы собрать базу клиентов для email-рассылок</td>\n",
       "      <td>112.0</td>\n",
       "    </tr>\n",
       "    <tr>\n",
       "      <th>2</th>\n",
       "      <td>Добавить блоки рекомендаций товаров на сайт интернет магазина, чтобы повысить конверсию и средний чек заказа</td>\n",
       "      <td>56.0</td>\n",
       "    </tr>\n",
       "    <tr>\n",
       "      <th>0</th>\n",
       "      <td>Добавить два новых канала привлечения трафика, что позволит привлекать на 30% больше пользователей</td>\n",
       "      <td>40.0</td>\n",
       "    </tr>\n",
       "    <tr>\n",
       "      <th>6</th>\n",
       "      <td>Показать на главной странице баннеры с актуальными акциями и распродажами, чтобы увеличить конверсию</td>\n",
       "      <td>40.0</td>\n",
       "    </tr>\n",
       "    <tr>\n",
       "      <th>8</th>\n",
       "      <td>Запустить акцию, дающую скидку на товар в день рождения</td>\n",
       "      <td>16.2</td>\n",
       "    </tr>\n",
       "    <tr>\n",
       "      <th>3</th>\n",
       "      <td>Изменить структура категорий, что увеличит конверсию, т.к. пользователи быстрее найдут нужный товар</td>\n",
       "      <td>9.0</td>\n",
       "    </tr>\n",
       "    <tr>\n",
       "      <th>1</th>\n",
       "      <td>Запустить собственную службу доставки, что сократит срок доставки заказов</td>\n",
       "      <td>4.0</td>\n",
       "    </tr>\n",
       "    <tr>\n",
       "      <th>5</th>\n",
       "      <td>Добавить страницу отзывов клиентов о магазине, что позволит увеличить количество заказов</td>\n",
       "      <td>4.0</td>\n",
       "    </tr>\n",
       "    <tr>\n",
       "      <th>4</th>\n",
       "      <td>Изменить цвет фона главной страницы, чтобы увеличить вовлеченность пользователей</td>\n",
       "      <td>3.0</td>\n",
       "    </tr>\n",
       "  </tbody>\n",
       "</table>\n",
       "</div>"
      ],
      "text/plain": [
       "                                                                                                     Hypothesis   RICE\n",
       "7              Добавить форму подписки на все основные страницы, чтобы собрать базу клиентов для email-рассылок  112.0\n",
       "2  Добавить блоки рекомендаций товаров на сайт интернет магазина, чтобы повысить конверсию и средний чек заказа   56.0\n",
       "0            Добавить два новых канала привлечения трафика, что позволит привлекать на 30% больше пользователей   40.0\n",
       "6          Показать на главной странице баннеры с актуальными акциями и распродажами, чтобы увеличить конверсию   40.0\n",
       "8                                                       Запустить акцию, дающую скидку на товар в день рождения   16.2\n",
       "3           Изменить структура категорий, что увеличит конверсию, т.к. пользователи быстрее найдут нужный товар    9.0\n",
       "1                                     Запустить собственную службу доставки, что сократит срок доставки заказов    4.0\n",
       "5                      Добавить страницу отзывов клиентов о магазине, что позволит увеличить количество заказов    4.0\n",
       "4                              Изменить цвет фона главной страницы, чтобы увеличить вовлеченность пользователей    3.0"
      ]
     },
     "execution_count": 5,
     "metadata": {},
     "output_type": "execute_result"
    }
   ],
   "source": [
    "data['RICE'] = (data['Reach']*data['Impact']*data['Confidence'])/data['Efforts']\n",
    "\n",
    "round((data[['Hypothesis', 'RICE']].sort_values(by='RICE', ascending=False)), 2)"
   ]
  },
  {
   "cell_type": "markdown",
   "metadata": {},
   "source": [
    "Топ-3 гипотез по RICE:\n",
    "- Добавить форму подписки на все основные страницы, чтобы собрать базу клиентов для email-рассылок \n",
    "- Добавить блоки рекомендаций товаров на сайт интернет магазина, чтобы повысить конверсию и средний чек заказа\n",
    "- Добавить два новых канала привлечения трафика, что позволит привлекать на 30% больше пользователей"
   ]
  },
  {
   "cell_type": "markdown",
   "metadata": {},
   "source": [
    "**ВЫВОД:**  \n",
    "\n",
    "В ICE и RICE по 2 гипотезы из каждого топ-3 совпадают, но есть различия. Произошло это потому, что расчеты параметров производятся по разным формулам. На RICE, в отличие от ICE влияет параметр \"охват пользователей\" (Reach), расположенный в числителе. Поэтому в RICE вырвалась вперед гипотеза \"Добавить форму подписки на все основные страницы, чтобы собрать базу клиентов для email-рассылок\", ее Reach=10, что является максимальным среди всех гипотез."
   ]
  },
  {
   "cell_type": "markdown",
   "metadata": {},
   "source": [
    "## Часть 2. Анализ A/B-теста"
   ]
  },
  {
   "cell_type": "markdown",
   "metadata": {},
   "source": [
    "Вы провели A/B-тест и получили результаты, которые описаны в файлах /datasets/orders.csv и /datasets/visitors.csv.  \n",
    "\n",
    "**Задача** \n",
    "\n",
    "Проанализируйте A/B-тест:\n",
    "- Постройте график кумулятивной выручки по группам. Сделайте выводы и предположения.\n",
    "- Постройте график кумулятивного среднего чека по группам. Сделайте выводы и предположения.\n",
    "- Постройте график относительного изменения кумулятивного среднего чека группы B к группе A. Сделайте выводы и предположения.\n",
    "- Постройте график кумулятивного среднего количества заказов по группам. Сделайте выводы и предположения.\n",
    "- Постройте график относительного изменения кумулятивного среднего количества заказов группы B к группе A. Сделайте выводы и предположения.\n",
    "- Постройте точечный график количества заказов по пользователям. Сделайте выводы и предположения.\n",
    "- Посчитайте 95-й и 99-й перцентили количества заказов на пользователя. Выберите границу для определения аномальных пользователей.\n",
    "- Постройте точечный график стоимостей заказов. Сделайте выводы и предположения.\n",
    "- Посчитайте 95-й и 99-й перцентили стоимости заказов. Выберите границу для определения аномальных заказов.\n",
    "- Посчитайте статистическую значимость различий в среднем количестве заказов между группами по «сырым» данным. Сделайте выводы и предположения.\n",
    "- Посчитайте статистическую значимость различий в среднем чеке заказа между группами по «сырым» данным. Сделайте выводы и предположения.\n",
    "- Посчитайте статистическую значимость различий в среднем количестве заказов между группами по «очищенным» данным. Сделайте выводы и предположения.\n",
    "- Посчитайте статистическую значимость различий в среднем чеке заказа между группами по «очищенным» данным. Сделайте выводы и предположения.\n",
    "- Примите решение по результатам теста и объясните его.   \n",
    "\n",
    "Варианты решений: \n",
    "1. Остановить тест, зафиксировать победу одной из групп. \n",
    "2. Остановить тест, зафиксировать отсутствие различий между группами. \n",
    "3. Продолжить тест."
   ]
  },
  {
   "cell_type": "markdown",
   "metadata": {},
   "source": [
    "### Предобработка данных"
   ]
  },
  {
   "cell_type": "code",
   "execution_count": 6,
   "metadata": {},
   "outputs": [
    {
     "data": {
      "text/html": [
       "<div>\n",
       "<style scoped>\n",
       "    .dataframe tbody tr th:only-of-type {\n",
       "        vertical-align: middle;\n",
       "    }\n",
       "\n",
       "    .dataframe tbody tr th {\n",
       "        vertical-align: top;\n",
       "    }\n",
       "\n",
       "    .dataframe thead th {\n",
       "        text-align: right;\n",
       "    }\n",
       "</style>\n",
       "<table border=\"1\" class=\"dataframe\">\n",
       "  <thead>\n",
       "    <tr style=\"text-align: right;\">\n",
       "      <th></th>\n",
       "      <th>transactionId</th>\n",
       "      <th>visitorId</th>\n",
       "      <th>date</th>\n",
       "      <th>revenue</th>\n",
       "      <th>group</th>\n",
       "    </tr>\n",
       "  </thead>\n",
       "  <tbody>\n",
       "    <tr>\n",
       "      <th>0</th>\n",
       "      <td>3667963787</td>\n",
       "      <td>3312258926</td>\n",
       "      <td>2019-08-15</td>\n",
       "      <td>1650</td>\n",
       "      <td>B</td>\n",
       "    </tr>\n",
       "    <tr>\n",
       "      <th>1</th>\n",
       "      <td>2804400009</td>\n",
       "      <td>3642806036</td>\n",
       "      <td>2019-08-15</td>\n",
       "      <td>730</td>\n",
       "      <td>B</td>\n",
       "    </tr>\n",
       "    <tr>\n",
       "      <th>2</th>\n",
       "      <td>2961555356</td>\n",
       "      <td>4069496402</td>\n",
       "      <td>2019-08-15</td>\n",
       "      <td>400</td>\n",
       "      <td>A</td>\n",
       "    </tr>\n",
       "    <tr>\n",
       "      <th>3</th>\n",
       "      <td>3797467345</td>\n",
       "      <td>1196621759</td>\n",
       "      <td>2019-08-15</td>\n",
       "      <td>9759</td>\n",
       "      <td>B</td>\n",
       "    </tr>\n",
       "    <tr>\n",
       "      <th>4</th>\n",
       "      <td>2282983706</td>\n",
       "      <td>2322279887</td>\n",
       "      <td>2019-08-15</td>\n",
       "      <td>2308</td>\n",
       "      <td>B</td>\n",
       "    </tr>\n",
       "  </tbody>\n",
       "</table>\n",
       "</div>"
      ],
      "text/plain": [
       "   transactionId   visitorId        date  revenue group\n",
       "0     3667963787  3312258926  2019-08-15     1650     B\n",
       "1     2804400009  3642806036  2019-08-15      730     B\n",
       "2     2961555356  4069496402  2019-08-15      400     A\n",
       "3     3797467345  1196621759  2019-08-15     9759     B\n",
       "4     2282983706  2322279887  2019-08-15     2308     B"
      ]
     },
     "execution_count": 6,
     "metadata": {},
     "output_type": "execute_result"
    }
   ],
   "source": [
    "orders = pd.read_csv('/datasets/orders.csv', sep=',')\n",
    "orders.head()"
   ]
  },
  {
   "cell_type": "code",
   "execution_count": 7,
   "metadata": {},
   "outputs": [
    {
     "name": "stdout",
     "output_type": "stream",
     "text": [
      "<class 'pandas.core.frame.DataFrame'>\n",
      "RangeIndex: 1197 entries, 0 to 1196\n",
      "Data columns (total 5 columns):\n",
      " #   Column         Non-Null Count  Dtype \n",
      "---  ------         --------------  ----- \n",
      " 0   transactionId  1197 non-null   int64 \n",
      " 1   visitorId      1197 non-null   int64 \n",
      " 2   date           1197 non-null   object\n",
      " 3   revenue        1197 non-null   int64 \n",
      " 4   group          1197 non-null   object\n",
      "dtypes: int64(3), object(2)\n",
      "memory usage: 46.9+ KB\n"
     ]
    }
   ],
   "source": [
    "orders.info()"
   ]
  },
  {
   "cell_type": "code",
   "execution_count": 8,
   "metadata": {},
   "outputs": [
    {
     "data": {
      "text/plain": [
       "transactionId    0\n",
       "visitorId        0\n",
       "date             0\n",
       "revenue          0\n",
       "group            0\n",
       "dtype: int64"
      ]
     },
     "execution_count": 8,
     "metadata": {},
     "output_type": "execute_result"
    }
   ],
   "source": [
    "orders.isna().sum()"
   ]
  },
  {
   "cell_type": "code",
   "execution_count": 9,
   "metadata": {},
   "outputs": [
    {
     "data": {
      "text/plain": [
       "0"
      ]
     },
     "execution_count": 9,
     "metadata": {},
     "output_type": "execute_result"
    }
   ],
   "source": [
    "orders.duplicated().sum()"
   ]
  },
  {
   "cell_type": "code",
   "execution_count": 10,
   "metadata": {},
   "outputs": [],
   "source": [
    "orders['date'] = pd.to_datetime(orders['date'])"
   ]
  },
  {
   "cell_type": "markdown",
   "metadata": {},
   "source": [
    "Пропусков и дубликатов в данных нет, изменили тип данных в дате."
   ]
  },
  {
   "cell_type": "code",
   "execution_count": 11,
   "metadata": {},
   "outputs": [
    {
     "data": {
      "text/html": [
       "<div>\n",
       "<style scoped>\n",
       "    .dataframe tbody tr th:only-of-type {\n",
       "        vertical-align: middle;\n",
       "    }\n",
       "\n",
       "    .dataframe tbody tr th {\n",
       "        vertical-align: top;\n",
       "    }\n",
       "\n",
       "    .dataframe thead th {\n",
       "        text-align: right;\n",
       "    }\n",
       "</style>\n",
       "<table border=\"1\" class=\"dataframe\">\n",
       "  <thead>\n",
       "    <tr style=\"text-align: right;\">\n",
       "      <th></th>\n",
       "      <th>date</th>\n",
       "      <th>group</th>\n",
       "      <th>visitors</th>\n",
       "    </tr>\n",
       "  </thead>\n",
       "  <tbody>\n",
       "    <tr>\n",
       "      <th>0</th>\n",
       "      <td>2019-08-01</td>\n",
       "      <td>A</td>\n",
       "      <td>719</td>\n",
       "    </tr>\n",
       "    <tr>\n",
       "      <th>1</th>\n",
       "      <td>2019-08-02</td>\n",
       "      <td>A</td>\n",
       "      <td>619</td>\n",
       "    </tr>\n",
       "    <tr>\n",
       "      <th>2</th>\n",
       "      <td>2019-08-03</td>\n",
       "      <td>A</td>\n",
       "      <td>507</td>\n",
       "    </tr>\n",
       "    <tr>\n",
       "      <th>3</th>\n",
       "      <td>2019-08-04</td>\n",
       "      <td>A</td>\n",
       "      <td>717</td>\n",
       "    </tr>\n",
       "    <tr>\n",
       "      <th>4</th>\n",
       "      <td>2019-08-05</td>\n",
       "      <td>A</td>\n",
       "      <td>756</td>\n",
       "    </tr>\n",
       "  </tbody>\n",
       "</table>\n",
       "</div>"
      ],
      "text/plain": [
       "         date group  visitors\n",
       "0  2019-08-01     A       719\n",
       "1  2019-08-02     A       619\n",
       "2  2019-08-03     A       507\n",
       "3  2019-08-04     A       717\n",
       "4  2019-08-05     A       756"
      ]
     },
     "execution_count": 11,
     "metadata": {},
     "output_type": "execute_result"
    }
   ],
   "source": [
    "visitors = pd.read_csv('/datasets/visitors.csv', sep=',')\n",
    "visitors.head()"
   ]
  },
  {
   "cell_type": "code",
   "execution_count": 12,
   "metadata": {},
   "outputs": [
    {
     "name": "stdout",
     "output_type": "stream",
     "text": [
      "<class 'pandas.core.frame.DataFrame'>\n",
      "RangeIndex: 1197 entries, 0 to 1196\n",
      "Data columns (total 5 columns):\n",
      " #   Column         Non-Null Count  Dtype         \n",
      "---  ------         --------------  -----         \n",
      " 0   transactionId  1197 non-null   int64         \n",
      " 1   visitorId      1197 non-null   int64         \n",
      " 2   date           1197 non-null   datetime64[ns]\n",
      " 3   revenue        1197 non-null   int64         \n",
      " 4   group          1197 non-null   object        \n",
      "dtypes: datetime64[ns](1), int64(3), object(1)\n",
      "memory usage: 46.9+ KB\n"
     ]
    }
   ],
   "source": [
    "orders.info()"
   ]
  },
  {
   "cell_type": "code",
   "execution_count": 13,
   "metadata": {},
   "outputs": [
    {
     "data": {
      "text/plain": [
       "transactionId    0\n",
       "visitorId        0\n",
       "date             0\n",
       "revenue          0\n",
       "group            0\n",
       "dtype: int64"
      ]
     },
     "execution_count": 13,
     "metadata": {},
     "output_type": "execute_result"
    }
   ],
   "source": [
    "orders.isna().sum()"
   ]
  },
  {
   "cell_type": "code",
   "execution_count": 14,
   "metadata": {},
   "outputs": [
    {
     "data": {
      "text/plain": [
       "0"
      ]
     },
     "execution_count": 14,
     "metadata": {},
     "output_type": "execute_result"
    }
   ],
   "source": [
    "orders.duplicated().sum()"
   ]
  },
  {
   "cell_type": "code",
   "execution_count": 15,
   "metadata": {},
   "outputs": [],
   "source": [
    "visitors['date'] = pd.to_datetime(visitors['date'])"
   ]
  },
  {
   "cell_type": "markdown",
   "metadata": {},
   "source": [
    "Пропусков и дубликатов в данных нет."
   ]
  },
  {
   "cell_type": "markdown",
   "metadata": {},
   "source": [
    "**ВЫВОД:**  \n",
    "\n",
    "В ходе предобработки были проверены пропуски и дубликаты в данных, изменены их типы та м, где это необходимо."
   ]
  },
  {
   "cell_type": "code",
   "execution_count": 16,
   "metadata": {
    "scrolled": true
   },
   "outputs": [
    {
     "name": "stdout",
     "output_type": "stream",
     "text": [
      "           groups group_names\n",
      "visitorId                    \n",
      "8300375         2      [B, A]\n",
      "199603092       2      [A, B]\n",
      "232979603       2      [B, A]\n",
      "237748145       2      [B, A]\n",
      "276558944       2      [B, A]\n",
      "351125977       2      [B, A]\n",
      "393266494       2      [A, B]\n",
      "457167155       2      [B, A]\n",
      "471551937       2      [A, B]\n",
      "477780734       2      [A, B]\n"
     ]
    }
   ],
   "source": [
    "duplicated_users = orders.groupby('visitorId').agg({'group': ['nunique', 'unique']})\n",
    "duplicated_users.columns = ['groups', 'group_names']\n",
    "duplicated_users = duplicated_users.query('groups > 1')\n",
    "print(duplicated_users.head(10))"
   ]
  },
  {
   "cell_type": "markdown",
   "metadata": {},
   "source": [
    "Действительно, есть пользователи, которые попали в обе группы. Посчитаем их количество."
   ]
  },
  {
   "cell_type": "code",
   "execution_count": 17,
   "metadata": {},
   "outputs": [],
   "source": [
    "a_and_b = duplicated_users['groups'].count()"
   ]
  },
  {
   "cell_type": "code",
   "execution_count": 18,
   "metadata": {},
   "outputs": [
    {
     "name": "stdout",
     "output_type": "stream",
     "text": [
      "58 пользователей попали в обе группы\n"
     ]
    }
   ],
   "source": [
    "print(a_and_b, 'пользователей попали в обе группы')"
   ]
  },
  {
   "cell_type": "code",
   "execution_count": 19,
   "metadata": {},
   "outputs": [
    {
     "name": "stdout",
     "output_type": "stream",
     "text": [
      "Всего пользователей 1197\n"
     ]
    }
   ],
   "source": [
    "total_users = orders['visitorId'].count()\n",
    "print('Всего пользователей', total_users)"
   ]
  },
  {
   "cell_type": "code",
   "execution_count": 20,
   "metadata": {},
   "outputs": [
    {
     "name": "stdout",
     "output_type": "stream",
     "text": [
      "4.85 % пользователей попали в обе группы\n"
     ]
    }
   ],
   "source": [
    "ratio = a_and_b/total_users * 100\n",
    "print(round(ratio, 2), '% пользователей попали в обе группы')"
   ]
  },
  {
   "cell_type": "markdown",
   "metadata": {},
   "source": [
    "Количество пользователей попавший в обе группы < 5%. Удалять этих пользователей не будем, их не так много, тем более убрать их мы сможем только из таблицы с заказами. В итоговом выводе стоит написать, что такие пользователи существуют."
   ]
  },
  {
   "cell_type": "markdown",
   "metadata": {},
   "source": [
    "### Проанализируйте A/B-тест"
   ]
  },
  {
   "cell_type": "code",
   "execution_count": 21,
   "metadata": {},
   "outputs": [
    {
     "data": {
      "text/html": [
       "<div>\n",
       "<style scoped>\n",
       "    .dataframe tbody tr th:only-of-type {\n",
       "        vertical-align: middle;\n",
       "    }\n",
       "\n",
       "    .dataframe tbody tr th {\n",
       "        vertical-align: top;\n",
       "    }\n",
       "\n",
       "    .dataframe thead th {\n",
       "        text-align: right;\n",
       "    }\n",
       "</style>\n",
       "<table border=\"1\" class=\"dataframe\">\n",
       "  <thead>\n",
       "    <tr style=\"text-align: right;\">\n",
       "      <th></th>\n",
       "      <th>date</th>\n",
       "      <th>group</th>\n",
       "      <th>orders</th>\n",
       "      <th>buyers</th>\n",
       "      <th>revenue</th>\n",
       "      <th>visitors</th>\n",
       "    </tr>\n",
       "  </thead>\n",
       "  <tbody>\n",
       "    <tr>\n",
       "      <th>0</th>\n",
       "      <td>2019-08-01</td>\n",
       "      <td>A</td>\n",
       "      <td>24</td>\n",
       "      <td>20</td>\n",
       "      <td>148579</td>\n",
       "      <td>719</td>\n",
       "    </tr>\n",
       "    <tr>\n",
       "      <th>1</th>\n",
       "      <td>2019-08-01</td>\n",
       "      <td>B</td>\n",
       "      <td>21</td>\n",
       "      <td>20</td>\n",
       "      <td>101217</td>\n",
       "      <td>713</td>\n",
       "    </tr>\n",
       "    <tr>\n",
       "      <th>2</th>\n",
       "      <td>2019-08-02</td>\n",
       "      <td>A</td>\n",
       "      <td>44</td>\n",
       "      <td>38</td>\n",
       "      <td>242401</td>\n",
       "      <td>1338</td>\n",
       "    </tr>\n",
       "    <tr>\n",
       "      <th>3</th>\n",
       "      <td>2019-08-02</td>\n",
       "      <td>B</td>\n",
       "      <td>45</td>\n",
       "      <td>43</td>\n",
       "      <td>266748</td>\n",
       "      <td>1294</td>\n",
       "    </tr>\n",
       "    <tr>\n",
       "      <th>4</th>\n",
       "      <td>2019-08-03</td>\n",
       "      <td>A</td>\n",
       "      <td>68</td>\n",
       "      <td>62</td>\n",
       "      <td>354874</td>\n",
       "      <td>1845</td>\n",
       "    </tr>\n",
       "  </tbody>\n",
       "</table>\n",
       "</div>"
      ],
      "text/plain": [
       "        date group  orders  buyers  revenue  visitors\n",
       "0 2019-08-01     A      24      20   148579       719\n",
       "1 2019-08-01     B      21      20   101217       713\n",
       "2 2019-08-02     A      44      38   242401      1338\n",
       "3 2019-08-02     B      45      43   266748      1294\n",
       "4 2019-08-03     A      68      62   354874      1845"
      ]
     },
     "execution_count": 21,
     "metadata": {},
     "output_type": "execute_result"
    }
   ],
   "source": [
    "# создаем массив уникальных пар значений дат и групп теста\n",
    "datesGroups = orders[['date','group']].drop_duplicates()\n",
    "\n",
    "# получаем агрегированные кумулятивные по дням данные о заказах \n",
    "ordersAggregated = datesGroups.apply(lambda x: orders[np.logical_and(orders['date'] <= x['date'], orders['group'] == x['group'])].agg({'date' : 'max', 'group' : 'max', 'transactionId' : 'nunique', 'visitorId' : 'nunique', 'revenue' : 'sum'}), axis=1).sort_values(by=['date','group'])\n",
    "\n",
    "# получаем агрегированные кумулятивные по дням данные о посетителях интернет-магазина \n",
    "visitorsAggregated = datesGroups.apply(lambda x: visitors[np.logical_and(visitors['date'] <= x['date'], visitors['group'] == x['group'])].agg({'date' : 'max', 'group' : 'max', 'visitors' : 'sum'}), axis=1).sort_values(by=['date','group'])\n",
    "\n",
    "# объединяем кумулятивные данные в одной таблице и даем столбцам названия\n",
    "cumulativeData = ordersAggregated.merge(visitorsAggregated, left_on=['date', 'group'], right_on=['date', 'group'])\n",
    "cumulativeData.columns = ['date', 'group', 'orders', 'buyers', 'revenue', 'visitors']\n",
    "\n",
    "cumulativeData.head()"
   ]
  },
  {
   "cell_type": "code",
   "execution_count": 22,
   "metadata": {},
   "outputs": [
    {
     "data": {
      "image/png": "[encoded data removed]",
      "text/plain": [
       "<Figure size 720x360 with 1 Axes>"
      ]
     },
     "metadata": {
      "needs_background": "light"
     },
     "output_type": "display_data"
    }
   ],
   "source": [
    "# датафрейм с кумулятивным количеством заказов и кумулятивной выручкой по дням в группе А\n",
    "cumulativeRevenueA = cumulativeData[cumulativeData['group']=='A'][['date','revenue', 'orders']]\n",
    "\n",
    "# датафрейм с кумулятивным количеством заказов и кумулятивной выручкой по дням в группе B\n",
    "cumulativeRevenueB = cumulativeData[cumulativeData['group']=='B'][['date','revenue', 'orders']]\n",
    "\n",
    "plt.figure(figsize=(10, 5))\n",
    "\n",
    "# Строим график выручки группы А\n",
    "plt.plot(cumulativeRevenueA['date'], cumulativeRevenueA['revenue'], label='A')\n",
    "\n",
    "# Строим график выручки группы B\n",
    "plt.plot(cumulativeRevenueB['date'], cumulativeRevenueB['revenue'], label='B')\n",
    "\n",
    "plt.title('График кумулятивной выручки по группам');\n",
    "plt.xlabel('Дата');\n",
    "plt.ylabel('Выручка');\n",
    "plt.legend();"
   ]
  },
  {
   "cell_type": "markdown",
   "metadata": {},
   "source": [
    "Выручка почти равномерно увеличивается в течение всего теста. Однако график выручки группы В имеет резкий скачок. Это может сигнализировать о всплесках числа заказов, либо о появлении очень дорогих заказов в выборке. "
   ]
  },
  {
   "cell_type": "code",
   "execution_count": 23,
   "metadata": {},
   "outputs": [
    {
     "data": {
      "image/png": "[encoded data removed]",
      "text/plain": [
       "<Figure size 720x360 with 1 Axes>"
      ]
     },
     "metadata": {
      "needs_background": "light"
     },
     "output_type": "display_data"
    }
   ],
   "source": [
    "plt.figure(figsize=(10, 5))\n",
    "plt.plot(cumulativeRevenueA['date'], cumulativeRevenueA['revenue']/cumulativeRevenueA['orders'], label='A')\n",
    "plt.plot(cumulativeRevenueB['date'], cumulativeRevenueB['revenue']/cumulativeRevenueB['orders'], label='B')\n",
    "plt.title('График кумулятивного среднего чека по группам');\n",
    "plt.xlabel('Дата');\n",
    "plt.ylabel('Средний чек');\n",
    "plt.legend();"
   ]
  },
  {
   "cell_type": "markdown",
   "metadata": {},
   "source": [
    "Средний чек становится равномерным ближе к концу теста для группы A, а для группы В наблюдается резкий скачок и равномерное падение после. Причины, скорее всего, те же, что описаны выше."
   ]
  },
  {
   "cell_type": "code",
   "execution_count": 24,
   "metadata": {},
   "outputs": [
    {
     "data": {
      "image/png": "[encoded data removed]",
      "text/plain": [
       "<Figure size 720x360 with 1 Axes>"
      ]
     },
     "metadata": {
      "needs_background": "light"
     },
     "output_type": "display_data"
    }
   ],
   "source": [
    "plt.figure(figsize=(10, 5))\n",
    "# собираем данные в одном датафрейме\n",
    "mergedCumulativeRevenue = cumulativeRevenueA.merge(cumulativeRevenueB, left_on='date', right_on='date', how='left', suffixes=['A', 'B'])\n",
    "\n",
    "# cтроим отношение средних чеков\n",
    "plt.plot(mergedCumulativeRevenue['date'], (mergedCumulativeRevenue['revenueB']/mergedCumulativeRevenue['ordersB'])/(mergedCumulativeRevenue['revenueA']/mergedCumulativeRevenue['ordersA'])-1)\n",
    "\n",
    "# добавляем ось X\n",
    "plt.axhline(y=0, color='black', linestyle='--');\n",
    "plt.title('График относительного изменения кумулятивного среднего чека группы B к группе A');\n",
    "plt.xlabel('Дата');\n",
    "plt.ylabel('Изменение');"
   ]
  },
  {
   "cell_type": "markdown",
   "metadata": {},
   "source": [
    "В нескольких точках график различия между сегментами резко «скачет». Необходимо проверить данные на аномалии и выбросы."
   ]
  },
  {
   "cell_type": "code",
   "execution_count": 25,
   "metadata": {},
   "outputs": [
    {
     "data": {
      "image/png": "[encoded data removed]",
      "text/plain": [
       "<Figure size 720x360 with 1 Axes>"
      ]
     },
     "metadata": {
      "needs_background": "light"
     },
     "output_type": "display_data"
    }
   ],
   "source": [
    "plt.figure(figsize=(10, 5))\n",
    "# считаем кумулятивную конверсию\n",
    "cumulativeData['conversion'] = cumulativeData['orders']/cumulativeData['visitors']\n",
    "\n",
    "# отделяем данные по группе A\n",
    "cumulativeDataA = cumulativeData[cumulativeData['group']=='A']\n",
    "\n",
    "# отделяем данные по группе B\n",
    "cumulativeDataB = cumulativeData[cumulativeData['group']=='B']\n",
    "\n",
    "# строим графики\n",
    "plt.plot(cumulativeDataA['date'], cumulativeDataA['conversion'], label='A')\n",
    "plt.plot(cumulativeDataB['date'], cumulativeDataB['conversion'], label='B')\n",
    "plt.title('График кумулятивного среднего количества заказов по группам');\n",
    "plt.xlabel('Дата');\n",
    "plt.ylabel('Изменение');\n",
    "plt.legend();\n"
   ]
  },
  {
   "cell_type": "markdown",
   "metadata": {},
   "source": [
    "На графике видны пики, после которых происходят колебания, они не зафиксировались. У группы В, на мой взгляд, ситуация чуть лучше."
   ]
  },
  {
   "cell_type": "code",
   "execution_count": 26,
   "metadata": {},
   "outputs": [
    {
     "data": {
      "image/png": "[encoded data removed]",
      "text/plain": [
       "<Figure size 720x360 with 1 Axes>"
      ]
     },
     "metadata": {
      "needs_background": "light"
     },
     "output_type": "display_data"
    }
   ],
   "source": [
    "plt.figure(figsize=(10, 5))\n",
    "mergedCumulativeConversions = cumulativeDataA[['date','conversion']].merge(cumulativeDataB[['date','conversion']], left_on='date', right_on='date', how='left', suffixes=['A', 'B'])\n",
    "\n",
    "plt.plot(mergedCumulativeConversions['date'], mergedCumulativeConversions['conversionB']/mergedCumulativeConversions['conversionA']-1, label=\"Относительное изменение кумулятивного среднего количества заказов группы B к группе A\")\n",
    "plt.legend()\n",
    "\n",
    "plt.axhline(y=0, color='black', linestyle='--');\n",
    "plt.axhline(y=-0.1, color='grey', linestyle='--');"
   ]
  },
  {
   "cell_type": "markdown",
   "metadata": {},
   "source": [
    "В группе B ситуация значительно лучше, чем в группе А. Но сейчас делать какие-либо выводы по тесту нельзя, сперва стоит проанализировать аномалии."
   ]
  },
  {
   "cell_type": "code",
   "execution_count": 27,
   "metadata": {},
   "outputs": [
    {
     "data": {
      "image/png": "[encoded data removed]",
      "text/plain": [
       "<Figure size 720x360 with 1 Axes>"
      ]
     },
     "metadata": {
      "needs_background": "light"
     },
     "output_type": "display_data"
    }
   ],
   "source": [
    "plt.figure(figsize=(10, 5))\n",
    "\n",
    "ordersByUsers = (orders.groupby('visitorId', as_index=False).agg({'transactionId': 'nunique'}))\n",
    "\n",
    "ordersByUsers.columns = ['userId', 'orders']\n",
    "\n",
    "x_values = pd.Series(range(0, len(ordersByUsers)))\n",
    "\n",
    "plt.scatter(x_values, ordersByUsers['orders']);\n",
    "plt.title('Точечный график количества заказов по пользователям');\n",
    "plt.xlabel('Количество пользователей');\n",
    "plt.ylabel('Число заказов');"
   ]
  },
  {
   "cell_type": "markdown",
   "metadata": {},
   "source": [
    "Чаще всего пользователи делают 1-2 заказа, так же на графике видны выбросы."
   ]
  },
  {
   "cell_type": "code",
   "execution_count": 28,
   "metadata": {},
   "outputs": [
    {
     "data": {
      "text/plain": [
       "array([2., 4.])"
      ]
     },
     "execution_count": 28,
     "metadata": {},
     "output_type": "execute_result"
    }
   ],
   "source": [
    "np.percentile(ordersByUsers['orders'], [95, 99])"
   ]
  },
  {
   "cell_type": "markdown",
   "metadata": {},
   "source": [
    "Всего 5% пользователей делают больше 2 заказов и 1% больше 4."
   ]
  },
  {
   "cell_type": "code",
   "execution_count": 29,
   "metadata": {},
   "outputs": [
    {
     "data": {
      "image/png": "[encoded data removed]",
      "text/plain": [
       "<Figure size 720x360 with 1 Axes>"
      ]
     },
     "metadata": {
      "needs_background": "light"
     },
     "output_type": "display_data"
    }
   ],
   "source": [
    "plt.figure(figsize=(10, 5))\n",
    "\n",
    "x_values = pd.Series(range(0,len(orders['revenue'])))\n",
    "\n",
    "plt.scatter(x_values, orders['revenue']);\n",
    "plt.ylim([50, 100000]);\n",
    "plt.title('Точечный график стоимостей заказов');\n",
    "plt.xlabel('Количество пользователей');\n",
    "plt.ylabel('Стоимость заказов');"
   ]
  },
  {
   "cell_type": "code",
   "execution_count": 30,
   "metadata": {},
   "outputs": [
    {
     "data": {
      "text/plain": [
       "array([28000. , 58233.2])"
      ]
     },
     "execution_count": 30,
     "metadata": {},
     "output_type": "execute_result"
    }
   ],
   "source": [
    "np.percentile(orders['revenue'], [95, 99])"
   ]
  },
  {
   "cell_type": "markdown",
   "metadata": {},
   "source": [
    "Всего 5% заказов стоимостью больше 28000 и 1% больше 58233."
   ]
  },
  {
   "cell_type": "markdown",
   "metadata": {},
   "source": [
    "**ВЫВОД:**\n",
    "\n",
    "Мы оценили результаты A/B-теста визуально и выяснили, что в данных, скорее всего, есть выбросы. А так же увидели выбросы и нашли границу для их определения. Разумно выбрать 2 заказа на одного пользователя за верхнюю границу числа заказов, и сумму заказов равную 28000."
   ]
  },
  {
   "cell_type": "markdown",
   "metadata": {},
   "source": [
    "Посчитаем статистическую значимость различий в среднем числе заказов на пользователя и среднем чеке между группами по «сырым» данным — без удаления аномальных пользователей."
   ]
  },
  {
   "cell_type": "code",
   "execution_count": 31,
   "metadata": {},
   "outputs": [
    {
     "data": {
      "text/html": [
       "<div>\n",
       "<style scoped>\n",
       "    .dataframe tbody tr th:only-of-type {\n",
       "        vertical-align: middle;\n",
       "    }\n",
       "\n",
       "    .dataframe tbody tr th {\n",
       "        vertical-align: top;\n",
       "    }\n",
       "\n",
       "    .dataframe thead th {\n",
       "        text-align: right;\n",
       "    }\n",
       "</style>\n",
       "<table border=\"1\" class=\"dataframe\">\n",
       "  <thead>\n",
       "    <tr style=\"text-align: right;\">\n",
       "      <th></th>\n",
       "      <th>date</th>\n",
       "      <th>ordersPerDateA</th>\n",
       "      <th>revenuePerDateA</th>\n",
       "      <th>ordersPerDateB</th>\n",
       "      <th>revenuePerDateB</th>\n",
       "      <th>ordersCummulativeA</th>\n",
       "      <th>revenueCummulativeA</th>\n",
       "      <th>ordersCummulativeB</th>\n",
       "      <th>revenueCummulativeB</th>\n",
       "      <th>visitorsPerDateA</th>\n",
       "      <th>visitorsPerDateB</th>\n",
       "      <th>visitorsCummulativeA</th>\n",
       "      <th>visitorsCummulativeB</th>\n",
       "    </tr>\n",
       "  </thead>\n",
       "  <tbody>\n",
       "    <tr>\n",
       "      <th>0</th>\n",
       "      <td>2019-08-01</td>\n",
       "      <td>24</td>\n",
       "      <td>148579</td>\n",
       "      <td>21</td>\n",
       "      <td>101217</td>\n",
       "      <td>24</td>\n",
       "      <td>148579</td>\n",
       "      <td>21</td>\n",
       "      <td>101217</td>\n",
       "      <td>719</td>\n",
       "      <td>713</td>\n",
       "      <td>719</td>\n",
       "      <td>713</td>\n",
       "    </tr>\n",
       "    <tr>\n",
       "      <th>1</th>\n",
       "      <td>2019-08-02</td>\n",
       "      <td>20</td>\n",
       "      <td>93822</td>\n",
       "      <td>24</td>\n",
       "      <td>165531</td>\n",
       "      <td>44</td>\n",
       "      <td>242401</td>\n",
       "      <td>45</td>\n",
       "      <td>266748</td>\n",
       "      <td>619</td>\n",
       "      <td>581</td>\n",
       "      <td>1338</td>\n",
       "      <td>1294</td>\n",
       "    </tr>\n",
       "    <tr>\n",
       "      <th>2</th>\n",
       "      <td>2019-08-03</td>\n",
       "      <td>24</td>\n",
       "      <td>112473</td>\n",
       "      <td>16</td>\n",
       "      <td>114248</td>\n",
       "      <td>68</td>\n",
       "      <td>354874</td>\n",
       "      <td>61</td>\n",
       "      <td>380996</td>\n",
       "      <td>507</td>\n",
       "      <td>509</td>\n",
       "      <td>1845</td>\n",
       "      <td>1803</td>\n",
       "    </tr>\n",
       "    <tr>\n",
       "      <th>3</th>\n",
       "      <td>2019-08-04</td>\n",
       "      <td>16</td>\n",
       "      <td>70825</td>\n",
       "      <td>17</td>\n",
       "      <td>108571</td>\n",
       "      <td>84</td>\n",
       "      <td>425699</td>\n",
       "      <td>78</td>\n",
       "      <td>489567</td>\n",
       "      <td>717</td>\n",
       "      <td>770</td>\n",
       "      <td>2562</td>\n",
       "      <td>2573</td>\n",
       "    </tr>\n",
       "    <tr>\n",
       "      <th>4</th>\n",
       "      <td>2019-08-05</td>\n",
       "      <td>25</td>\n",
       "      <td>124218</td>\n",
       "      <td>23</td>\n",
       "      <td>92428</td>\n",
       "      <td>109</td>\n",
       "      <td>549917</td>\n",
       "      <td>101</td>\n",
       "      <td>581995</td>\n",
       "      <td>756</td>\n",
       "      <td>707</td>\n",
       "      <td>3318</td>\n",
       "      <td>3280</td>\n",
       "    </tr>\n",
       "  </tbody>\n",
       "</table>\n",
       "</div>"
      ],
      "text/plain": [
       "        date  ordersPerDateA  revenuePerDateA  ordersPerDateB  revenuePerDateB  ordersCummulativeA  revenueCummulativeA  ordersCummulativeB  revenueCummulativeB  visitorsPerDateA  visitorsPerDateB  visitorsCummulativeA  visitorsCummulativeB\n",
       "0 2019-08-01              24           148579              21           101217                  24               148579                  21               101217               719               713                   719                   713\n",
       "1 2019-08-02              20            93822              24           165531                  44               242401                  45               266748               619               581                  1338                  1294\n",
       "2 2019-08-03              24           112473              16           114248                  68               354874                  61               380996               507               509                  1845                  1803\n",
       "3 2019-08-04              16            70825              17           108571                  84               425699                  78               489567               717               770                  2562                  2573\n",
       "4 2019-08-05              25           124218              23            92428                 109               549917                 101               581995               756               707                  3318                  3280"
      ]
     },
     "execution_count": 31,
     "metadata": {},
     "output_type": "execute_result"
    }
   ],
   "source": [
    "visitorsADaily = visitors[visitors['group'] == 'A'][['date', 'visitors']]\n",
    "visitorsADaily.columns = ['date', 'visitorsPerDateA']\n",
    "\n",
    "visitorsACummulative = visitorsADaily.apply(\n",
    "    lambda x: visitorsADaily[visitorsADaily['date'] <= x['date']].agg(\n",
    "        {'date': 'max', 'visitorsPerDateA': 'sum'}\n",
    "    ),\n",
    "    axis=1,\n",
    ")\n",
    "visitorsACummulative.columns = ['date', 'visitorsCummulativeA']\n",
    "\n",
    "visitorsBDaily = visitors[visitors['group'] == 'B'][['date', 'visitors']]\n",
    "visitorsBDaily.columns = ['date', 'visitorsPerDateB']\n",
    "\n",
    "visitorsBCummulative = visitorsBDaily.apply(\n",
    "    lambda x: visitorsBDaily[visitorsBDaily['date'] <= x['date']].agg(\n",
    "        {'date': 'max', 'visitorsPerDateB': 'sum'}\n",
    "    ),\n",
    "    axis=1,\n",
    ")\n",
    "visitorsBCummulative.columns = ['date', 'visitorsCummulativeB']\n",
    "\n",
    "ordersADaily = (\n",
    "    orders[orders['group'] == 'A'][['date', 'transactionId', 'visitorId', 'revenue']]\n",
    "    .groupby('date', as_index=False)\n",
    "    .agg({'transactionId': pd.Series.nunique, 'revenue': 'sum'})\n",
    ")\n",
    "ordersADaily.columns = ['date', 'ordersPerDateA', 'revenuePerDateA']\n",
    "\n",
    "ordersACummulative = ordersADaily.apply(\n",
    "    lambda x: ordersADaily[ordersADaily['date'] <= x['date']].agg(\n",
    "        {'date': 'max', 'ordersPerDateA': 'sum', 'revenuePerDateA': 'sum'}\n",
    "    ),\n",
    "    axis=1,\n",
    ").sort_values(by=['date'])\n",
    "ordersACummulative.columns = [\n",
    "    'date',\n",
    "    'ordersCummulativeA',\n",
    "    'revenueCummulativeA',\n",
    "]\n",
    "\n",
    "ordersBDaily = (\n",
    "    orders[orders['group'] == 'B'][['date', 'transactionId', 'visitorId', 'revenue']]\n",
    "    .groupby('date', as_index=False)\n",
    "    .agg({'transactionId': pd.Series.nunique, 'revenue': 'sum'})\n",
    ")\n",
    "ordersBDaily.columns = ['date', 'ordersPerDateB', 'revenuePerDateB']\n",
    "\n",
    "ordersBCummulative = ordersBDaily.apply(\n",
    "    lambda x: ordersBDaily[ordersBDaily['date'] <= x['date']].agg(\n",
    "        {'date': 'max', 'ordersPerDateB': 'sum', 'revenuePerDateB': 'sum'}\n",
    "    ),\n",
    "    axis=1,\n",
    ").sort_values(by=['date'])\n",
    "ordersBCummulative.columns = [\n",
    "    'date',\n",
    "    'ordersCummulativeB',\n",
    "    'revenueCummulativeB',\n",
    "]\n",
    "\n",
    "data = (\n",
    "    ordersADaily.merge(\n",
    "        ordersBDaily, left_on='date', right_on='date', how='left'\n",
    "    )\n",
    "    .merge(ordersACummulative, left_on='date', right_on='date', how='left')\n",
    "    .merge(ordersBCummulative, left_on='date', right_on='date', how='left')\n",
    "    .merge(visitorsADaily, left_on='date', right_on='date', how='left')\n",
    "    .merge(visitorsBDaily, left_on='date', right_on='date', how='left')\n",
    "    .merge(visitorsACummulative, left_on='date', right_on='date', how='left')\n",
    "    .merge(visitorsBCummulative, left_on='date', right_on='date', how='left')\n",
    ")\n",
    "\n",
    "data.head()"
   ]
  },
  {
   "cell_type": "markdown",
   "metadata": {},
   "source": [
    "Проверим статистическую значимость различий в среднем количестве заказов между группами по «сырым» данным. Сформулируем гипотезы. Нулевая гипотеза: различий в среднем количестве заказов между группами нет. Альтернативная гипотеза: различия в среднем количестве заказов между группами есть."
   ]
  },
  {
   "cell_type": "code",
   "execution_count": 32,
   "metadata": {},
   "outputs": [
    {
     "name": "stdout",
     "output_type": "stream",
     "text": [
      "p-value: 0.017\n",
      "Относительный выигрыш группы В: 0.138\n"
     ]
    }
   ],
   "source": [
    "ordersByUsersA = (\n",
    "    orders[orders['group'] == 'A']\n",
    "    .groupby('visitorId', as_index=False)\n",
    "    .agg({'transactionId': pd.Series.nunique})\n",
    ")\n",
    "ordersByUsersA.columns = ['userId', 'orders']\n",
    "\n",
    "ordersByUsersB = (\n",
    "    orders[orders['group'] == 'B']\n",
    "    .groupby('visitorId', as_index=False)\n",
    "    .agg({'transactionId': pd.Series.nunique})\n",
    ")\n",
    "ordersByUsersB.columns = ['userId', 'orders']\n",
    "\n",
    "sampleA = pd.concat([ordersByUsersA['orders'],pd.Series(0, index=np.arange(data['visitorsPerDateA'].sum() - len(ordersByUsersA['orders'])), name='orders')],axis=0)\n",
    "\n",
    "sampleB = pd.concat([ordersByUsersB['orders'],pd.Series(0, index=np.arange(data['visitorsPerDateB'].sum() - len(ordersByUsersB['orders'])), name='orders')],axis=0)\n",
    "\n",
    "ordersByUsersA = (\n",
    "    orders[orders['group'] == 'A']\n",
    "    .groupby('visitorId', as_index=False)\n",
    "    .agg({'transactionId': pd.Series.nunique})\n",
    ")\n",
    "ordersByUsersA.columns = ['userId', 'orders']\n",
    "\n",
    "ordersByUsersB = (\n",
    "    orders[orders['group'] == 'B']\n",
    "    .groupby('visitorId', as_index=False)\n",
    "    .agg({'transactionId': pd.Series.nunique})\n",
    ")\n",
    "ordersByUsersB.columns = ['userId', 'orders']\n",
    "\n",
    "sampleA = pd.concat(\n",
    "    [\n",
    "        ordersByUsersA['orders'],\n",
    "        pd.Series(\n",
    "            0,\n",
    "            index=np.arange(\n",
    "                data['visitorsPerDateA'].sum() - len(ordersByUsersA['orders'])\n",
    "            ),\n",
    "            name='orders',\n",
    "        ),\n",
    "    ],\n",
    "    axis=0,\n",
    ")\n",
    "\n",
    "sampleB = pd.concat(\n",
    "    [\n",
    "        ordersByUsersB['orders'],\n",
    "        pd.Series(\n",
    "            0,\n",
    "            index=np.arange(\n",
    "                data['visitorsPerDateB'].sum() - len(ordersByUsersB['orders'])\n",
    "            ),\n",
    "            name='orders',\n",
    "        ),\n",
    "    ],\n",
    "    axis=0,\n",
    ")\n",
    "\n",
    "print('p-value:', \"{0:.3f}\".format(stats.mannwhitneyu(sampleA, sampleB)[1]))\n",
    "\n",
    "print('Относительный выигрыш группы В:', \"{0:.3f}\".format(sampleB.mean() / sampleA.mean() - 1))"
   ]
  },
  {
   "cell_type": "markdown",
   "metadata": {},
   "source": [
    "P-value меньше 0.05. Значит, нулевая гипотеза о том, что различий в среднем количестве заказов между группами нет, отвергается. При этом относительный выигрыш группы B равен 13.8%."
   ]
  },
  {
   "cell_type": "markdown",
   "metadata": {},
   "source": [
    "Теперь проверим статистическую значимость различий в среднем чеке заказов между группами по «сырым» данным. Нулевая гипотеза: различий в среднем чеке между группами нет. Альтернативная гипотеза: различия в среднем чеке между группами есть."
   ]
  },
  {
   "cell_type": "code",
   "execution_count": 33,
   "metadata": {},
   "outputs": [
    {
     "name": "stdout",
     "output_type": "stream",
     "text": [
      "p-value: 0.729\n"
     ]
    }
   ],
   "source": [
    "print('p-value:','{0:.3f}'.format(stats.mannwhitneyu(orders[orders['group']=='A']['revenue'], orders[orders['group']=='B']['revenue'])[1]))"
   ]
  },
  {
   "cell_type": "code",
   "execution_count": 34,
   "metadata": {},
   "outputs": [
    {
     "name": "stdout",
     "output_type": "stream",
     "text": [
      "Отношение средний чек группы B / средний чек группы A: 0.259\n"
     ]
    }
   ],
   "source": [
    "print('Отношение средний чек группы B / средний чек группы A:','{0:.3f}'.format(orders[orders['group']=='B']['revenue'].mean()/orders[orders['group']=='A']['revenue'].mean()-1))"
   ]
  },
  {
   "cell_type": "markdown",
   "metadata": {},
   "source": [
    "P-value = 0.729, больше 0.05. Значит, причин отвергать нулевую гипотезу и считать, что в среднем чеке между группами есть различия, нет. "
   ]
  },
  {
   "cell_type": "code",
   "execution_count": 35,
   "metadata": {},
   "outputs": [
    {
     "data": {
      "text/html": [
       "<div>\n",
       "<style scoped>\n",
       "    .dataframe tbody tr th:only-of-type {\n",
       "        vertical-align: middle;\n",
       "    }\n",
       "\n",
       "    .dataframe tbody tr th {\n",
       "        vertical-align: top;\n",
       "    }\n",
       "\n",
       "    .dataframe thead th {\n",
       "        text-align: right;\n",
       "    }\n",
       "</style>\n",
       "<table border=\"1\" class=\"dataframe\">\n",
       "  <thead>\n",
       "    <tr style=\"text-align: right;\">\n",
       "      <th></th>\n",
       "      <th>userId</th>\n",
       "      <th>orders</th>\n",
       "    </tr>\n",
       "  </thead>\n",
       "  <tbody>\n",
       "    <tr>\n",
       "      <th>0</th>\n",
       "      <td>8300375</td>\n",
       "      <td>1</td>\n",
       "    </tr>\n",
       "    <tr>\n",
       "      <th>1</th>\n",
       "      <td>11685486</td>\n",
       "      <td>1</td>\n",
       "    </tr>\n",
       "    <tr>\n",
       "      <th>2</th>\n",
       "      <td>54447517</td>\n",
       "      <td>1</td>\n",
       "    </tr>\n",
       "    <tr>\n",
       "      <th>3</th>\n",
       "      <td>66685450</td>\n",
       "      <td>1</td>\n",
       "    </tr>\n",
       "    <tr>\n",
       "      <th>4</th>\n",
       "      <td>78758296</td>\n",
       "      <td>1</td>\n",
       "    </tr>\n",
       "    <tr>\n",
       "      <th>...</th>\n",
       "      <td>...</td>\n",
       "      <td>...</td>\n",
       "    </tr>\n",
       "    <tr>\n",
       "      <th>498</th>\n",
       "      <td>4243832526</td>\n",
       "      <td>1</td>\n",
       "    </tr>\n",
       "    <tr>\n",
       "      <th>499</th>\n",
       "      <td>4256040402</td>\n",
       "      <td>7</td>\n",
       "    </tr>\n",
       "    <tr>\n",
       "      <th>500</th>\n",
       "      <td>4259830713</td>\n",
       "      <td>1</td>\n",
       "    </tr>\n",
       "    <tr>\n",
       "      <th>501</th>\n",
       "      <td>4266935830</td>\n",
       "      <td>1</td>\n",
       "    </tr>\n",
       "    <tr>\n",
       "      <th>502</th>\n",
       "      <td>4278982564</td>\n",
       "      <td>1</td>\n",
       "    </tr>\n",
       "  </tbody>\n",
       "</table>\n",
       "<p>503 rows × 2 columns</p>\n",
       "</div>"
      ],
      "text/plain": [
       "         userId  orders\n",
       "0       8300375       1\n",
       "1      11685486       1\n",
       "2      54447517       1\n",
       "3      66685450       1\n",
       "4      78758296       1\n",
       "..          ...     ...\n",
       "498  4243832526       1\n",
       "499  4256040402       7\n",
       "500  4259830713       1\n",
       "501  4266935830       1\n",
       "502  4278982564       1\n",
       "\n",
       "[503 rows x 2 columns]"
      ]
     },
     "execution_count": 35,
     "metadata": {},
     "output_type": "execute_result"
    }
   ],
   "source": [
    "ordersByUsersA"
   ]
  },
  {
   "cell_type": "code",
   "execution_count": 36,
   "metadata": {},
   "outputs": [
    {
     "data": {
      "text/html": [
       "<div>\n",
       "<style scoped>\n",
       "    .dataframe tbody tr th:only-of-type {\n",
       "        vertical-align: middle;\n",
       "    }\n",
       "\n",
       "    .dataframe tbody tr th {\n",
       "        vertical-align: top;\n",
       "    }\n",
       "\n",
       "    .dataframe thead th {\n",
       "        text-align: right;\n",
       "    }\n",
       "</style>\n",
       "<table border=\"1\" class=\"dataframe\">\n",
       "  <thead>\n",
       "    <tr style=\"text-align: right;\">\n",
       "      <th></th>\n",
       "      <th>userId</th>\n",
       "      <th>orders</th>\n",
       "    </tr>\n",
       "  </thead>\n",
       "  <tbody>\n",
       "    <tr>\n",
       "      <th>0</th>\n",
       "      <td>5114589</td>\n",
       "      <td>1</td>\n",
       "    </tr>\n",
       "    <tr>\n",
       "      <th>1</th>\n",
       "      <td>6958315</td>\n",
       "      <td>1</td>\n",
       "    </tr>\n",
       "    <tr>\n",
       "      <th>2</th>\n",
       "      <td>8300375</td>\n",
       "      <td>1</td>\n",
       "    </tr>\n",
       "    <tr>\n",
       "      <th>3</th>\n",
       "      <td>39475350</td>\n",
       "      <td>1</td>\n",
       "    </tr>\n",
       "    <tr>\n",
       "      <th>4</th>\n",
       "      <td>47206413</td>\n",
       "      <td>1</td>\n",
       "    </tr>\n",
       "    <tr>\n",
       "      <th>...</th>\n",
       "      <td>...</td>\n",
       "      <td>...</td>\n",
       "    </tr>\n",
       "    <tr>\n",
       "      <th>581</th>\n",
       "      <td>4258103007</td>\n",
       "      <td>1</td>\n",
       "    </tr>\n",
       "    <tr>\n",
       "      <th>582</th>\n",
       "      <td>4266935830</td>\n",
       "      <td>1</td>\n",
       "    </tr>\n",
       "    <tr>\n",
       "      <th>583</th>\n",
       "      <td>4279090005</td>\n",
       "      <td>1</td>\n",
       "    </tr>\n",
       "    <tr>\n",
       "      <th>584</th>\n",
       "      <td>4281247801</td>\n",
       "      <td>1</td>\n",
       "    </tr>\n",
       "    <tr>\n",
       "      <th>585</th>\n",
       "      <td>4283872382</td>\n",
       "      <td>1</td>\n",
       "    </tr>\n",
       "  </tbody>\n",
       "</table>\n",
       "<p>586 rows × 2 columns</p>\n",
       "</div>"
      ],
      "text/plain": [
       "         userId  orders\n",
       "0       5114589       1\n",
       "1       6958315       1\n",
       "2       8300375       1\n",
       "3      39475350       1\n",
       "4      47206413       1\n",
       "..          ...     ...\n",
       "581  4258103007       1\n",
       "582  4266935830       1\n",
       "583  4279090005       1\n",
       "584  4281247801       1\n",
       "585  4283872382       1\n",
       "\n",
       "[586 rows x 2 columns]"
      ]
     },
     "execution_count": 36,
     "metadata": {},
     "output_type": "execute_result"
    }
   ],
   "source": [
    "ordersByUsersB"
   ]
  },
  {
   "cell_type": "markdown",
   "metadata": {},
   "source": [
    "Посмотрим, сколько всего аномальных пользователей. Узнаем, как их действия повлияли на результаты теста. Посчитаем статистическую значимость различий в среднем количестве заказов между группами теста по «очищенным» данным."
   ]
  },
  {
   "cell_type": "code",
   "execution_count": 37,
   "metadata": {},
   "outputs": [
    {
     "name": "stdout",
     "output_type": "stream",
     "text": [
      "74\n"
     ]
    }
   ],
   "source": [
    "usersWithManyOrders = pd.concat(\n",
    "    [\n",
    "        ordersByUsersA[ordersByUsersA['orders'] > np.percentile(ordersByUsers['orders'], 95)]['userId'],\n",
    "        ordersByUsersB[ordersByUsersB['orders'] > np.percentile(ordersByUsers['orders'], 95)]['userId'],\n",
    "    ],\n",
    "    axis=0,\n",
    ")\n",
    "usersWithExpensiveOrders = orders[orders['revenue'] > np.percentile(orders['revenue'], 95)]['visitorId']\n",
    "abnormalUsers = (\n",
    "    pd.concat([usersWithManyOrders, usersWithExpensiveOrders], axis=0)\n",
    "    .drop_duplicates()\n",
    "    .sort_values()\n",
    ")\n",
    "print(abnormalUsers.shape[0]) "
   ]
  },
  {
   "cell_type": "markdown",
   "metadata": {},
   "source": [
    "Проверим статистическую значимость различий в среднем количестве заказов между группами по «очищенным» данным. Сформулируем гипотезы. Нулевая гипотеза: различий в среднем количестве заказов между группами нет. Альтернативная гипотеза: различия в среднем количестве заказов между группами есть."
   ]
  },
  {
   "cell_type": "code",
   "execution_count": 38,
   "metadata": {},
   "outputs": [
    {
     "name": "stdout",
     "output_type": "stream",
     "text": [
      "p-value: 0.013\n",
      "Относительный выигрыш группы В: 0.173\n"
     ]
    }
   ],
   "source": [
    "sampleAFiltered = pd.concat(\n",
    "    [\n",
    "        ordersByUsersA[\n",
    "            np.logical_not(ordersByUsersA['userId'].isin(abnormalUsers))\n",
    "        ]['orders'],\n",
    "        pd.Series(\n",
    "            0,\n",
    "            index=np.arange(\n",
    "                data['visitorsPerDateA'].sum() - len(ordersByUsersA['orders'])\n",
    "            ),\n",
    "            name='orders',\n",
    "        ),\n",
    "    ],\n",
    "    axis=0,\n",
    ")\n",
    "\n",
    "sampleBFiltered = pd.concat(\n",
    "    [\n",
    "        ordersByUsersB[\n",
    "            np.logical_not(ordersByUsersB['userId'].isin(abnormalUsers))\n",
    "        ]['orders'],\n",
    "        pd.Series(\n",
    "            0,\n",
    "            index=np.arange(\n",
    "                data['visitorsPerDateB'].sum() - len(ordersByUsersB['orders'])\n",
    "            ),\n",
    "            name='orders',\n",
    "        ),\n",
    "    ],\n",
    "    axis=0,\n",
    ")\n",
    "print('p-value:', '{0:.3f}'.format(stats.mannwhitneyu(sampleAFiltered, sampleBFiltered)[1]))\n",
    "\n",
    "print('Относительный выигрыш группы В:','{0:.3f}'.format(sampleBFiltered.mean()/sampleAFiltered.mean()-1))"
   ]
  },
  {
   "cell_type": "markdown",
   "metadata": {},
   "source": [
    "P-value меньше 0.05. Значит, нулевая гипотеза о том, что различий в среднем количестве заказов между группами нет, отвергается. При этом относительный выигрыш группы B равен 17.3%."
   ]
  },
  {
   "cell_type": "markdown",
   "metadata": {},
   "source": [
    "Теперь проверим статистическую значимость различий в среднем чеке заказов между группами по «очищенным» данным. Нулевая гипотеза: различий в среднем чеке между группами нет. Альтернативная гипотеза: различия в среднем чеке между группами есть."
   ]
  },
  {
   "cell_type": "code",
   "execution_count": 39,
   "metadata": {},
   "outputs": [
    {
     "name": "stdout",
     "output_type": "stream",
     "text": [
      "p-value: 0.738\n",
      "Отношение средний чек группы B / средний чек группы A: -0.020\n"
     ]
    }
   ],
   "source": [
    "print('p-value:',\n",
    "    '{0:.3f}'.format(\n",
    "        stats.mannwhitneyu(\n",
    "            orders[\n",
    "                np.logical_and(\n",
    "                    orders['group'] == 'A',\n",
    "                    np.logical_not(orders['visitorId'].isin(abnormalUsers)),\n",
    "                )\n",
    "            ]['revenue'],\n",
    "            orders[\n",
    "                np.logical_and(\n",
    "                    orders['group'] == 'B',\n",
    "                    np.logical_not(orders['visitorId'].isin(abnormalUsers)),\n",
    "                )\n",
    "            ]['revenue'],\n",
    "        )[1]\n",
    "    )\n",
    ")\n",
    "\n",
    "print('Отношение средний чек группы B / средний чек группы A:',\n",
    "    \"{0:.3f}\".format(\n",
    "        orders[\n",
    "            np.logical_and(\n",
    "                orders['group'] == 'B',\n",
    "                np.logical_not(orders['visitorId'].isin(abnormalUsers)),\n",
    "            )\n",
    "        ]['revenue'].mean()\n",
    "        / orders[\n",
    "            np.logical_and(\n",
    "                orders['group'] == 'A',\n",
    "                np.logical_not(orders['visitorId'].isin(abnormalUsers)),\n",
    "            )\n",
    "        ]['revenue'].mean()\n",
    "        - 1\n",
    "    )\n",
    ")"
   ]
  },
  {
   "cell_type": "markdown",
   "metadata": {},
   "source": [
    "P-value = 0.738, больше 0.05. Значит, причин отвергать нулевую гипотезу и считать, что в среднем чеке между группами есть различия, нет. "
   ]
  },
  {
   "cell_type": "markdown",
   "metadata": {},
   "source": [
    "**ВЫВОД:**\n",
    "\n",
    "Примем решение по результатам теста и объясним его. Нам удалось увидеть: \n",
    "\n",
    "- Cтатистически значимое различие в среднем количестве заказов между группами А и В и по «сырым», и по «очищенным данным»   \n",
    "- Нет статистически значимого различия в среднем среднем чеке заказов между группами А и В и по «сырым», и по «очищенным данным»\n",
    "- График относительного изменения кумулятивного среднего количества заказов группы B к группе A говорит том, что в группе B ситуация значительно лучше, чем в группе А\n",
    "- График относительного изменения кумулятивного среднего чека группы B к группе A показывает нам то, что присутствуют выбросы и аномалии\n",
    "- При этом, следует отметить, что есть пользователи, которые попали в обе группы. Их доля < 5%, что так же может повлиять на результат теста \n",
    "\n",
    "**Остановить тест, зафиксировать победу группы В.**"
   ]
  }
 ],
 "metadata": {
  "ExecuteTimeLog": [
   {
    "duration": 341,
    "start_time": "2022-11-17T20:06:44.965Z"
   },
   {
    "duration": 68,
    "start_time": "2022-11-17T20:07:21.598Z"
   },
   {
    "duration": 12,
    "start_time": "2022-11-17T20:08:16.477Z"
   },
   {
    "duration": 10,
    "start_time": "2022-11-17T20:08:42.447Z"
   },
   {
    "duration": 12,
    "start_time": "2022-11-17T20:10:15.547Z"
   },
   {
    "duration": 2,
    "start_time": "2022-11-17T20:13:54.026Z"
   },
   {
    "duration": 29,
    "start_time": "2022-11-17T20:13:54.928Z"
   },
   {
    "duration": 11,
    "start_time": "2022-11-17T20:13:55.477Z"
   },
   {
    "duration": 12,
    "start_time": "2022-11-17T20:13:56.526Z"
   },
   {
    "duration": 72,
    "start_time": "2022-11-17T20:19:18.878Z"
   },
   {
    "duration": 45,
    "start_time": "2022-11-17T20:19:31.547Z"
   },
   {
    "duration": 493,
    "start_time": "2022-11-17T20:19:54.295Z"
   },
   {
    "duration": 377,
    "start_time": "2022-11-17T20:20:03.949Z"
   },
   {
    "duration": 789,
    "start_time": "2022-11-17T20:20:10.078Z"
   },
   {
    "duration": 771,
    "start_time": "2022-11-17T20:20:16.673Z"
   },
   {
    "duration": 377,
    "start_time": "2022-11-17T20:26:35.350Z"
   },
   {
    "duration": 363,
    "start_time": "2022-11-17T20:27:05.618Z"
   },
   {
    "duration": 371,
    "start_time": "2022-11-17T20:27:26.164Z"
   },
   {
    "duration": 385,
    "start_time": "2022-11-17T20:29:44.420Z"
   },
   {
    "duration": 376,
    "start_time": "2022-11-17T20:29:55.085Z"
   },
   {
    "duration": 775,
    "start_time": "2022-11-17T20:32:43.990Z"
   },
   {
    "duration": 353,
    "start_time": "2022-11-17T20:32:54.772Z"
   },
   {
    "duration": 297,
    "start_time": "2022-11-17T20:33:58.539Z"
   },
   {
    "duration": 44,
    "start_time": "2022-11-17T20:34:20.781Z"
   },
   {
    "duration": 306,
    "start_time": "2022-11-17T20:34:29.112Z"
   },
   {
    "duration": 407,
    "start_time": "2022-11-17T20:34:38.580Z"
   },
   {
    "duration": 3,
    "start_time": "2022-11-17T20:34:38.989Z"
   },
   {
    "duration": 35,
    "start_time": "2022-11-17T20:34:38.994Z"
   },
   {
    "duration": 11,
    "start_time": "2022-11-17T20:34:39.030Z"
   },
   {
    "duration": 11,
    "start_time": "2022-11-17T20:34:39.043Z"
   },
   {
    "duration": 36,
    "start_time": "2022-11-17T20:34:39.055Z"
   },
   {
    "duration": 316,
    "start_time": "2022-11-17T20:34:39.093Z"
   },
   {
    "duration": 454,
    "start_time": "2022-11-17T20:39:01.102Z"
   },
   {
    "duration": 4,
    "start_time": "2022-11-17T20:39:01.557Z"
   },
   {
    "duration": 54,
    "start_time": "2022-11-17T20:39:01.562Z"
   },
   {
    "duration": 14,
    "start_time": "2022-11-17T20:39:01.618Z"
   },
   {
    "duration": 19,
    "start_time": "2022-11-17T20:39:01.635Z"
   },
   {
    "duration": 69,
    "start_time": "2022-11-17T20:39:01.656Z"
   },
   {
    "duration": 348,
    "start_time": "2022-11-17T20:39:01.727Z"
   },
   {
    "duration": 696,
    "start_time": "2022-11-17T20:41:03.308Z"
   },
   {
    "duration": 371,
    "start_time": "2022-11-17T20:41:38.534Z"
   },
   {
    "duration": 3,
    "start_time": "2022-11-17T20:41:38.906Z"
   },
   {
    "duration": 37,
    "start_time": "2022-11-17T20:41:38.910Z"
   },
   {
    "duration": 11,
    "start_time": "2022-11-17T20:41:38.949Z"
   },
   {
    "duration": 21,
    "start_time": "2022-11-17T20:41:38.961Z"
   },
   {
    "duration": 42,
    "start_time": "2022-11-17T20:41:38.983Z"
   },
   {
    "duration": 327,
    "start_time": "2022-11-17T20:41:39.027Z"
   },
   {
    "duration": 74,
    "start_time": "2022-11-18T08:38:01.156Z"
   },
   {
    "duration": 413,
    "start_time": "2022-11-18T08:38:11.230Z"
   },
   {
    "duration": 3,
    "start_time": "2022-11-18T08:38:11.645Z"
   },
   {
    "duration": 89,
    "start_time": "2022-11-18T08:38:11.650Z"
   },
   {
    "duration": 12,
    "start_time": "2022-11-18T08:38:11.741Z"
   },
   {
    "duration": 12,
    "start_time": "2022-11-18T08:38:11.755Z"
   },
   {
    "duration": 119,
    "start_time": "2022-11-18T08:38:11.768Z"
   },
   {
    "duration": 14,
    "start_time": "2022-11-18T08:38:11.889Z"
   },
   {
    "duration": 560,
    "start_time": "2022-11-18T08:38:11.904Z"
   },
   {
    "duration": 66,
    "start_time": "2022-11-18T08:38:21.491Z"
   },
   {
    "duration": 1735,
    "start_time": "2022-11-18T08:39:08.472Z"
   },
   {
    "duration": 1645,
    "start_time": "2022-11-18T08:39:25.493Z"
   },
   {
    "duration": 361,
    "start_time": "2022-11-18T08:39:40.470Z"
   },
   {
    "duration": 3,
    "start_time": "2022-11-18T08:39:40.833Z"
   },
   {
    "duration": 37,
    "start_time": "2022-11-18T08:39:40.838Z"
   },
   {
    "duration": 15,
    "start_time": "2022-11-18T08:39:40.878Z"
   },
   {
    "duration": 15,
    "start_time": "2022-11-18T08:39:40.895Z"
   },
   {
    "duration": 50,
    "start_time": "2022-11-18T08:39:40.912Z"
   },
   {
    "duration": 23,
    "start_time": "2022-11-18T08:39:40.964Z"
   },
   {
    "duration": 320,
    "start_time": "2022-11-18T08:39:40.989Z"
   },
   {
    "duration": 1664,
    "start_time": "2022-11-18T08:39:41.310Z"
   },
   {
    "duration": 1726,
    "start_time": "2022-11-18T08:50:05.225Z"
   },
   {
    "duration": 1564,
    "start_time": "2022-11-18T08:51:07.888Z"
   },
   {
    "duration": 389,
    "start_time": "2022-11-18T08:51:17.100Z"
   },
   {
    "duration": 55,
    "start_time": "2022-11-18T08:52:18.433Z"
   },
   {
    "duration": 329,
    "start_time": "2022-11-18T08:52:23.129Z"
   },
   {
    "duration": 687,
    "start_time": "2022-11-18T08:52:33.316Z"
   },
   {
    "duration": 625,
    "start_time": "2022-11-18T08:53:58.907Z"
   },
   {
    "duration": 608,
    "start_time": "2022-11-18T08:54:30.955Z"
   },
   {
    "duration": 704,
    "start_time": "2022-11-18T09:03:32.416Z"
   },
   {
    "duration": 624,
    "start_time": "2022-11-18T09:09:15.496Z"
   },
   {
    "duration": 802,
    "start_time": "2022-11-18T09:09:34.371Z"
   },
   {
    "duration": 74,
    "start_time": "2022-11-18T09:10:06.516Z"
   },
   {
    "duration": 330,
    "start_time": "2022-11-18T09:10:19.063Z"
   },
   {
    "duration": 2567,
    "start_time": "2022-11-18T09:12:35.465Z"
   },
   {
    "duration": 2688,
    "start_time": "2022-11-18T09:14:28.378Z"
   },
   {
    "duration": 2602,
    "start_time": "2022-11-18T09:15:12.564Z"
   },
   {
    "duration": 404,
    "start_time": "2022-11-18T09:15:28.284Z"
   },
   {
    "duration": 3,
    "start_time": "2022-11-18T09:15:28.690Z"
   },
   {
    "duration": 39,
    "start_time": "2022-11-18T09:15:28.695Z"
   },
   {
    "duration": 12,
    "start_time": "2022-11-18T09:15:28.736Z"
   },
   {
    "duration": 12,
    "start_time": "2022-11-18T09:15:28.750Z"
   },
   {
    "duration": 49,
    "start_time": "2022-11-18T09:15:28.763Z"
   },
   {
    "duration": 2601,
    "start_time": "2022-11-18T09:15:28.813Z"
   },
   {
    "duration": 2711,
    "start_time": "2022-11-18T09:16:34.807Z"
   },
   {
    "duration": 700,
    "start_time": "2022-11-18T09:18:00.990Z"
   },
   {
    "duration": 602,
    "start_time": "2022-11-18T09:18:11.322Z"
   },
   {
    "duration": 2448,
    "start_time": "2022-11-18T09:18:26.752Z"
   },
   {
    "duration": 1577,
    "start_time": "2022-11-18T09:21:53.751Z"
   },
   {
    "duration": 2554,
    "start_time": "2022-11-18T09:22:14.167Z"
   },
   {
    "duration": 2743,
    "start_time": "2022-11-18T09:24:34.434Z"
   },
   {
    "duration": 7,
    "start_time": "2022-11-18T09:26:51.918Z"
   },
   {
    "duration": 160,
    "start_time": "2022-11-18T09:31:08.013Z"
   },
   {
    "duration": 12,
    "start_time": "2022-11-18T09:37:42.641Z"
   },
   {
    "duration": 1185,
    "start_time": "2022-11-18T09:41:16.220Z"
   },
   {
    "duration": 387,
    "start_time": "2022-11-18T09:41:47.915Z"
   },
   {
    "duration": 3,
    "start_time": "2022-11-18T09:41:48.303Z"
   },
   {
    "duration": 40,
    "start_time": "2022-11-18T09:41:48.307Z"
   },
   {
    "duration": 13,
    "start_time": "2022-11-18T09:41:48.349Z"
   },
   {
    "duration": 13,
    "start_time": "2022-11-18T09:41:48.363Z"
   },
   {
    "duration": 47,
    "start_time": "2022-11-18T09:41:48.377Z"
   },
   {
    "duration": 2708,
    "start_time": "2022-11-18T09:41:48.425Z"
   },
   {
    "duration": 5,
    "start_time": "2022-11-18T09:41:51.135Z"
   },
   {
    "duration": 157,
    "start_time": "2022-11-18T09:41:51.141Z"
   },
   {
    "duration": 12,
    "start_time": "2022-11-18T09:41:51.301Z"
   },
   {
    "duration": 1495,
    "start_time": "2022-11-18T09:41:51.315Z"
   },
   {
    "duration": 0,
    "start_time": "2022-11-18T09:41:52.812Z"
   },
   {
    "duration": 1188,
    "start_time": "2022-11-18T09:42:50.562Z"
   },
   {
    "duration": 3707,
    "start_time": "2022-11-18T09:45:38.073Z"
   },
   {
    "duration": 336,
    "start_time": "2022-11-18T09:45:54.166Z"
   },
   {
    "duration": 2,
    "start_time": "2022-11-18T09:45:54.505Z"
   },
   {
    "duration": 41,
    "start_time": "2022-11-18T09:45:54.509Z"
   },
   {
    "duration": 12,
    "start_time": "2022-11-18T09:45:54.552Z"
   },
   {
    "duration": 11,
    "start_time": "2022-11-18T09:45:54.566Z"
   },
   {
    "duration": 52,
    "start_time": "2022-11-18T09:45:54.579Z"
   },
   {
    "duration": 4278,
    "start_time": "2022-11-18T09:45:54.633Z"
   },
   {
    "duration": 0,
    "start_time": "2022-11-18T09:45:58.913Z"
   },
   {
    "duration": 0,
    "start_time": "2022-11-18T09:45:58.914Z"
   },
   {
    "duration": 0,
    "start_time": "2022-11-18T09:45:58.915Z"
   },
   {
    "duration": 0,
    "start_time": "2022-11-18T09:45:58.917Z"
   },
   {
    "duration": 0,
    "start_time": "2022-11-18T09:45:58.918Z"
   },
   {
    "duration": 2625,
    "start_time": "2022-11-18T09:47:03.986Z"
   },
   {
    "duration": 5,
    "start_time": "2022-11-18T09:47:10.530Z"
   },
   {
    "duration": 152,
    "start_time": "2022-11-18T09:47:11.845Z"
   },
   {
    "duration": 11,
    "start_time": "2022-11-18T09:47:13.017Z"
   },
   {
    "duration": 1143,
    "start_time": "2022-11-18T09:47:19.035Z"
   },
   {
    "duration": 30,
    "start_time": "2022-11-18T09:47:56.977Z"
   },
   {
    "duration": 29,
    "start_time": "2022-11-18T09:57:46.961Z"
   },
   {
    "duration": 79,
    "start_time": "2022-11-18T09:58:48.933Z"
   },
   {
    "duration": 28,
    "start_time": "2022-11-18T09:59:31.973Z"
   },
   {
    "duration": 63,
    "start_time": "2022-11-18T10:02:15.975Z"
   },
   {
    "duration": 31,
    "start_time": "2022-11-18T10:02:22.068Z"
   },
   {
    "duration": 28,
    "start_time": "2022-11-18T10:02:32.346Z"
   },
   {
    "duration": 403,
    "start_time": "2022-11-18T10:02:43.000Z"
   },
   {
    "duration": 3,
    "start_time": "2022-11-18T10:02:43.405Z"
   },
   {
    "duration": 37,
    "start_time": "2022-11-18T10:02:43.412Z"
   },
   {
    "duration": 13,
    "start_time": "2022-11-18T10:02:43.450Z"
   },
   {
    "duration": 11,
    "start_time": "2022-11-18T10:02:43.465Z"
   },
   {
    "duration": 61,
    "start_time": "2022-11-18T10:02:43.478Z"
   },
   {
    "duration": 20,
    "start_time": "2022-11-18T10:02:43.540Z"
   },
   {
    "duration": 5,
    "start_time": "2022-11-18T10:02:43.562Z"
   },
   {
    "duration": 161,
    "start_time": "2022-11-18T10:02:43.569Z"
   },
   {
    "duration": 11,
    "start_time": "2022-11-18T10:02:43.732Z"
   },
   {
    "duration": 75,
    "start_time": "2022-11-18T10:02:43.744Z"
   },
   {
    "duration": 109,
    "start_time": "2022-11-18T10:03:34.024Z"
   },
   {
    "duration": 9,
    "start_time": "2022-11-18T10:03:42.399Z"
   },
   {
    "duration": 25,
    "start_time": "2022-11-18T10:04:07.833Z"
   },
   {
    "duration": 344,
    "start_time": "2022-11-18T10:04:14.866Z"
   },
   {
    "duration": 3,
    "start_time": "2022-11-18T10:04:15.212Z"
   },
   {
    "duration": 38,
    "start_time": "2022-11-18T10:04:15.216Z"
   },
   {
    "duration": 13,
    "start_time": "2022-11-18T10:04:15.256Z"
   },
   {
    "duration": 11,
    "start_time": "2022-11-18T10:04:15.270Z"
   },
   {
    "duration": 45,
    "start_time": "2022-11-18T10:04:15.283Z"
   },
   {
    "duration": 19,
    "start_time": "2022-11-18T10:04:15.330Z"
   },
   {
    "duration": 88,
    "start_time": "2022-11-18T10:04:15.351Z"
   },
   {
    "duration": 262,
    "start_time": "2022-11-18T10:05:26.345Z"
   },
   {
    "duration": 263,
    "start_time": "2022-11-18T10:05:38.008Z"
   },
   {
    "duration": 11,
    "start_time": "2022-11-18T10:05:55.683Z"
   },
   {
    "duration": 11,
    "start_time": "2022-11-18T10:06:04.230Z"
   },
   {
    "duration": 6,
    "start_time": "2022-11-18T10:06:46.051Z"
   },
   {
    "duration": 6,
    "start_time": "2022-11-18T10:06:53.696Z"
   },
   {
    "duration": 10,
    "start_time": "2022-11-18T10:07:01.801Z"
   },
   {
    "duration": 11,
    "start_time": "2022-11-18T10:07:03.059Z"
   },
   {
    "duration": 283,
    "start_time": "2022-11-18T10:07:23.720Z"
   },
   {
    "duration": 6,
    "start_time": "2022-11-18T10:08:25.647Z"
   },
   {
    "duration": 7,
    "start_time": "2022-11-18T10:09:10.104Z"
   },
   {
    "duration": 14,
    "start_time": "2022-11-18T10:09:15.404Z"
   },
   {
    "duration": 7,
    "start_time": "2022-11-18T10:10:09.772Z"
   },
   {
    "duration": 15,
    "start_time": "2022-11-18T10:10:14.000Z"
   },
   {
    "duration": 255,
    "start_time": "2022-11-18T10:11:39.395Z"
   },
   {
    "duration": 14,
    "start_time": "2022-11-18T10:11:47.416Z"
   },
   {
    "duration": 259,
    "start_time": "2022-11-18T10:12:05.523Z"
   },
   {
    "duration": 252,
    "start_time": "2022-11-18T10:12:08.447Z"
   },
   {
    "duration": 12,
    "start_time": "2022-11-18T10:12:08.985Z"
   },
   {
    "duration": 261,
    "start_time": "2022-11-18T10:12:17.452Z"
   },
   {
    "duration": 6,
    "start_time": "2022-11-18T10:12:21.579Z"
   },
   {
    "duration": 250,
    "start_time": "2022-11-18T10:12:30.577Z"
   },
   {
    "duration": 7,
    "start_time": "2022-11-18T10:12:38.821Z"
   },
   {
    "duration": 257,
    "start_time": "2022-11-18T10:14:18.702Z"
   },
   {
    "duration": 247,
    "start_time": "2022-11-18T10:14:28.040Z"
   },
   {
    "duration": 6,
    "start_time": "2022-11-18T10:14:31.140Z"
   },
   {
    "duration": 266,
    "start_time": "2022-11-18T10:14:49.815Z"
   },
   {
    "duration": 263,
    "start_time": "2022-11-18T10:14:50.488Z"
   },
   {
    "duration": 15,
    "start_time": "2022-11-18T10:14:52.855Z"
   },
   {
    "duration": 253,
    "start_time": "2022-11-18T10:15:07.157Z"
   },
   {
    "duration": 12,
    "start_time": "2022-11-18T10:15:08.409Z"
   },
   {
    "duration": 253,
    "start_time": "2022-11-18T10:15:16.100Z"
   },
   {
    "duration": 258,
    "start_time": "2022-11-18T10:16:02.576Z"
   },
   {
    "duration": 7,
    "start_time": "2022-11-18T10:16:03.087Z"
   },
   {
    "duration": 158,
    "start_time": "2022-11-18T10:27:32.828Z"
   },
   {
    "duration": 153,
    "start_time": "2022-11-18T10:31:34.176Z"
   },
   {
    "duration": 154,
    "start_time": "2022-11-18T10:31:43.603Z"
   },
   {
    "duration": 157,
    "start_time": "2022-11-18T10:31:59.440Z"
   },
   {
    "duration": 161,
    "start_time": "2022-11-18T10:32:20.777Z"
   },
   {
    "duration": 160,
    "start_time": "2022-11-18T10:33:18.186Z"
   },
   {
    "duration": 155,
    "start_time": "2022-11-18T10:33:20.018Z"
   },
   {
    "duration": 178,
    "start_time": "2022-11-18T10:33:40.615Z"
   },
   {
    "duration": 155,
    "start_time": "2022-11-18T10:33:41.522Z"
   },
   {
    "duration": 164,
    "start_time": "2022-11-18T10:34:31.496Z"
   },
   {
    "duration": 153,
    "start_time": "2022-11-18T10:36:29.675Z"
   },
   {
    "duration": 165,
    "start_time": "2022-11-18T10:36:30.820Z"
   },
   {
    "duration": 177,
    "start_time": "2022-11-18T10:39:19.089Z"
   },
   {
    "duration": 183,
    "start_time": "2022-11-18T10:39:30.879Z"
   },
   {
    "duration": 164,
    "start_time": "2022-11-18T10:39:39.744Z"
   },
   {
    "duration": 177,
    "start_time": "2022-11-18T10:39:44.847Z"
   },
   {
    "duration": 171,
    "start_time": "2022-11-18T10:39:53.117Z"
   },
   {
    "duration": 240,
    "start_time": "2022-11-18T10:41:01.834Z"
   },
   {
    "duration": 197,
    "start_time": "2022-11-18T10:41:17.067Z"
   },
   {
    "duration": 161,
    "start_time": "2022-11-18T10:41:38.388Z"
   },
   {
    "duration": 176,
    "start_time": "2022-11-18T10:41:47.752Z"
   },
   {
    "duration": 172,
    "start_time": "2022-11-18T10:43:36.590Z"
   },
   {
    "duration": 162,
    "start_time": "2022-11-18T10:45:56.181Z"
   },
   {
    "duration": 163,
    "start_time": "2022-11-18T10:46:36.499Z"
   },
   {
    "duration": 163,
    "start_time": "2022-11-18T10:46:43.614Z"
   },
   {
    "duration": 13,
    "start_time": "2022-11-18T11:20:41.585Z"
   },
   {
    "duration": 10,
    "start_time": "2022-11-18T11:20:47.565Z"
   },
   {
    "duration": 256,
    "start_time": "2022-11-18T11:21:09.256Z"
   },
   {
    "duration": 93,
    "start_time": "2022-11-18T11:21:54.429Z"
   },
   {
    "duration": 257,
    "start_time": "2022-11-18T11:22:00.789Z"
   },
   {
    "duration": 264,
    "start_time": "2022-11-18T11:22:16.784Z"
   },
   {
    "duration": 260,
    "start_time": "2022-11-18T11:22:23.219Z"
   },
   {
    "duration": 329,
    "start_time": "2022-11-18T11:22:39.358Z"
   },
   {
    "duration": 270,
    "start_time": "2022-11-18T11:24:06.848Z"
   },
   {
    "duration": 259,
    "start_time": "2022-11-18T11:24:43.590Z"
   },
   {
    "duration": 258,
    "start_time": "2022-11-18T11:29:18.185Z"
   },
   {
    "duration": 43,
    "start_time": "2022-11-18T11:29:52.977Z"
   },
   {
    "duration": 256,
    "start_time": "2022-11-18T11:29:53.373Z"
   },
   {
    "duration": 262,
    "start_time": "2022-11-18T11:29:54.110Z"
   },
   {
    "duration": 53,
    "start_time": "2022-11-18T11:30:28.712Z"
   },
   {
    "duration": 22,
    "start_time": "2022-11-18T11:30:29.612Z"
   },
   {
    "duration": 255,
    "start_time": "2022-11-18T11:30:31.170Z"
   },
   {
    "duration": 253,
    "start_time": "2022-11-18T11:30:40.919Z"
   },
   {
    "duration": 399,
    "start_time": "2022-11-18T11:30:52.015Z"
   },
   {
    "duration": 3,
    "start_time": "2022-11-18T11:30:52.415Z"
   },
   {
    "duration": 41,
    "start_time": "2022-11-18T11:30:52.420Z"
   },
   {
    "duration": 13,
    "start_time": "2022-11-18T11:30:52.463Z"
   },
   {
    "duration": 11,
    "start_time": "2022-11-18T11:30:52.478Z"
   },
   {
    "duration": 94,
    "start_time": "2022-11-18T11:30:52.491Z"
   },
   {
    "duration": 0,
    "start_time": "2022-11-18T11:30:52.587Z"
   },
   {
    "duration": 0,
    "start_time": "2022-11-18T11:30:52.588Z"
   },
   {
    "duration": 0,
    "start_time": "2022-11-18T11:30:52.589Z"
   },
   {
    "duration": 56,
    "start_time": "2022-11-18T11:31:16.844Z"
   },
   {
    "duration": 33,
    "start_time": "2022-11-18T11:31:18.406Z"
   },
   {
    "duration": 260,
    "start_time": "2022-11-18T11:31:21.972Z"
   },
   {
    "duration": 254,
    "start_time": "2022-11-18T11:31:23.981Z"
   },
   {
    "duration": 57,
    "start_time": "2022-11-18T11:32:01.720Z"
   },
   {
    "duration": 34,
    "start_time": "2022-11-18T11:32:03.345Z"
   },
   {
    "duration": 259,
    "start_time": "2022-11-18T11:32:05.369Z"
   },
   {
    "duration": 36,
    "start_time": "2022-11-18T11:32:35.420Z"
   },
   {
    "duration": 289,
    "start_time": "2022-11-18T11:32:36.380Z"
   },
   {
    "duration": 388,
    "start_time": "2022-11-18T11:32:43.308Z"
   },
   {
    "duration": 3,
    "start_time": "2022-11-18T11:32:43.698Z"
   },
   {
    "duration": 46,
    "start_time": "2022-11-18T11:32:43.702Z"
   },
   {
    "duration": 13,
    "start_time": "2022-11-18T11:32:43.750Z"
   },
   {
    "duration": 10,
    "start_time": "2022-11-18T11:32:43.765Z"
   },
   {
    "duration": 45,
    "start_time": "2022-11-18T11:32:43.777Z"
   },
   {
    "duration": 20,
    "start_time": "2022-11-18T11:32:43.824Z"
   },
   {
    "duration": 260,
    "start_time": "2022-11-18T11:32:43.846Z"
   },
   {
    "duration": 266,
    "start_time": "2022-11-18T11:33:41.246Z"
   },
   {
    "duration": 317,
    "start_time": "2022-11-18T11:36:59.114Z"
   },
   {
    "duration": 286,
    "start_time": "2022-11-18T11:37:38.876Z"
   },
   {
    "duration": 254,
    "start_time": "2022-11-18T11:39:17.026Z"
   },
   {
    "duration": 256,
    "start_time": "2022-11-18T11:39:54.325Z"
   },
   {
    "duration": 426,
    "start_time": "2022-11-18T11:41:44.592Z"
   },
   {
    "duration": 3,
    "start_time": "2022-11-18T11:41:45.020Z"
   },
   {
    "duration": 44,
    "start_time": "2022-11-18T11:41:45.024Z"
   },
   {
    "duration": 12,
    "start_time": "2022-11-18T11:41:45.070Z"
   },
   {
    "duration": 12,
    "start_time": "2022-11-18T11:41:45.083Z"
   },
   {
    "duration": 45,
    "start_time": "2022-11-18T11:41:45.096Z"
   },
   {
    "duration": 21,
    "start_time": "2022-11-18T11:41:45.143Z"
   },
   {
    "duration": 279,
    "start_time": "2022-11-18T11:41:45.166Z"
   },
   {
    "duration": 270,
    "start_time": "2022-11-18T11:41:45.447Z"
   },
   {
    "duration": 54,
    "start_time": "2022-11-18T11:42:11.269Z"
   },
   {
    "duration": 54,
    "start_time": "2022-11-18T11:42:14.218Z"
   },
   {
    "duration": 54,
    "start_time": "2022-11-18T11:42:17.128Z"
   },
   {
    "duration": 32,
    "start_time": "2022-11-18T11:42:18.920Z"
   },
   {
    "duration": 309,
    "start_time": "2022-11-18T11:42:19.980Z"
   },
   {
    "duration": 297,
    "start_time": "2022-11-18T11:42:20.739Z"
   },
   {
    "duration": 57,
    "start_time": "2022-11-18T11:42:46.645Z"
   },
   {
    "duration": 36,
    "start_time": "2022-11-18T11:42:54.625Z"
   },
   {
    "duration": 417,
    "start_time": "2022-11-18T11:43:18.895Z"
   },
   {
    "duration": 3,
    "start_time": "2022-11-18T11:43:19.313Z"
   },
   {
    "duration": 48,
    "start_time": "2022-11-18T11:43:19.318Z"
   },
   {
    "duration": 12,
    "start_time": "2022-11-18T11:43:19.369Z"
   },
   {
    "duration": 11,
    "start_time": "2022-11-18T11:43:19.383Z"
   },
   {
    "duration": 44,
    "start_time": "2022-11-18T11:43:19.396Z"
   },
   {
    "duration": 20,
    "start_time": "2022-11-18T11:43:19.442Z"
   },
   {
    "duration": 306,
    "start_time": "2022-11-18T11:47:44.561Z"
   },
   {
    "duration": 277,
    "start_time": "2022-11-18T11:47:55.982Z"
   },
   {
    "duration": 262,
    "start_time": "2022-11-18T11:48:10.471Z"
   },
   {
    "duration": 346,
    "start_time": "2022-11-18T11:48:56.939Z"
   },
   {
    "duration": 3,
    "start_time": "2022-11-18T11:48:57.287Z"
   },
   {
    "duration": 40,
    "start_time": "2022-11-18T11:48:57.291Z"
   },
   {
    "duration": 13,
    "start_time": "2022-11-18T11:48:57.333Z"
   },
   {
    "duration": 13,
    "start_time": "2022-11-18T11:48:57.347Z"
   },
   {
    "duration": 45,
    "start_time": "2022-11-18T11:48:57.362Z"
   },
   {
    "duration": 20,
    "start_time": "2022-11-18T11:48:57.409Z"
   },
   {
    "duration": 258,
    "start_time": "2022-11-18T11:48:57.430Z"
   },
   {
    "duration": 374,
    "start_time": "2022-11-18T11:51:18.577Z"
   },
   {
    "duration": 3,
    "start_time": "2022-11-18T11:51:18.953Z"
   },
   {
    "duration": 44,
    "start_time": "2022-11-18T11:51:18.957Z"
   },
   {
    "duration": 13,
    "start_time": "2022-11-18T11:51:19.002Z"
   },
   {
    "duration": 11,
    "start_time": "2022-11-18T11:51:19.017Z"
   },
   {
    "duration": 45,
    "start_time": "2022-11-18T11:51:19.030Z"
   },
   {
    "duration": 64,
    "start_time": "2022-11-18T11:51:19.077Z"
   },
   {
    "duration": 280,
    "start_time": "2022-11-18T11:51:19.143Z"
   },
   {
    "duration": 393,
    "start_time": "2022-11-18T11:52:02.406Z"
   },
   {
    "duration": 3,
    "start_time": "2022-11-18T11:52:02.801Z"
   },
   {
    "duration": 59,
    "start_time": "2022-11-18T11:52:02.805Z"
   },
   {
    "duration": 15,
    "start_time": "2022-11-18T11:52:02.866Z"
   },
   {
    "duration": 31,
    "start_time": "2022-11-18T11:52:02.883Z"
   },
   {
    "duration": 64,
    "start_time": "2022-11-18T11:52:02.916Z"
   },
   {
    "duration": 19,
    "start_time": "2022-11-18T11:52:02.982Z"
   },
   {
    "duration": 267,
    "start_time": "2022-11-18T11:52:03.003Z"
   },
   {
    "duration": 257,
    "start_time": "2022-11-18T11:52:58.573Z"
   },
   {
    "duration": 267,
    "start_time": "2022-11-18T11:53:08.061Z"
   },
   {
    "duration": 771,
    "start_time": "2022-11-18T11:56:38.394Z"
   },
   {
    "duration": 5,
    "start_time": "2022-11-18T11:56:39.167Z"
   },
   {
    "duration": 43,
    "start_time": "2022-11-18T11:56:39.173Z"
   },
   {
    "duration": 17,
    "start_time": "2022-11-18T11:56:39.218Z"
   },
   {
    "duration": 11,
    "start_time": "2022-11-18T11:56:39.237Z"
   },
   {
    "duration": 54,
    "start_time": "2022-11-18T11:56:39.250Z"
   },
   {
    "duration": 23,
    "start_time": "2022-11-18T11:56:39.306Z"
   },
   {
    "duration": 293,
    "start_time": "2022-11-18T11:56:39.331Z"
   },
   {
    "duration": 228,
    "start_time": "2022-11-18T11:56:53.616Z"
   },
   {
    "duration": 204,
    "start_time": "2022-11-18T12:00:52.987Z"
   },
   {
    "duration": 161,
    "start_time": "2022-11-18T12:00:57.184Z"
   },
   {
    "duration": 98,
    "start_time": "2022-11-18T12:01:00.933Z"
   },
   {
    "duration": 215,
    "start_time": "2022-11-18T12:01:06.062Z"
   },
   {
    "duration": 179,
    "start_time": "2022-11-18T12:02:10.902Z"
   },
   {
    "duration": 159,
    "start_time": "2022-11-18T12:02:19.665Z"
   },
   {
    "duration": 289,
    "start_time": "2022-11-18T12:02:30.870Z"
   },
   {
    "duration": 147,
    "start_time": "2022-11-18T12:03:03.451Z"
   },
   {
    "duration": 168,
    "start_time": "2022-11-18T12:03:14.454Z"
   },
   {
    "duration": 565,
    "start_time": "2022-11-18T15:17:22.764Z"
   },
   {
    "duration": 2,
    "start_time": "2022-11-18T15:17:23.331Z"
   },
   {
    "duration": 40,
    "start_time": "2022-11-18T15:17:23.334Z"
   },
   {
    "duration": 14,
    "start_time": "2022-11-18T15:17:23.376Z"
   },
   {
    "duration": 11,
    "start_time": "2022-11-18T15:17:23.392Z"
   },
   {
    "duration": 46,
    "start_time": "2022-11-18T15:17:23.404Z"
   },
   {
    "duration": 20,
    "start_time": "2022-11-18T15:17:23.451Z"
   },
   {
    "duration": 261,
    "start_time": "2022-11-18T15:17:23.473Z"
   },
   {
    "duration": 225,
    "start_time": "2022-11-18T15:17:23.735Z"
   },
   {
    "duration": 147,
    "start_time": "2022-11-18T15:19:07.032Z"
   },
   {
    "duration": 178,
    "start_time": "2022-11-18T15:19:19.405Z"
   },
   {
    "duration": 184,
    "start_time": "2022-11-18T15:19:25.535Z"
   },
   {
    "duration": 175,
    "start_time": "2022-11-18T15:22:13.259Z"
   },
   {
    "duration": 208,
    "start_time": "2022-11-18T15:22:21.709Z"
   },
   {
    "duration": 177,
    "start_time": "2022-11-18T15:22:31.610Z"
   },
   {
    "duration": 161,
    "start_time": "2022-11-18T15:22:39.981Z"
   },
   {
    "duration": 155,
    "start_time": "2022-11-18T15:23:06.175Z"
   },
   {
    "duration": 158,
    "start_time": "2022-11-18T15:23:23.900Z"
   },
   {
    "duration": 246,
    "start_time": "2022-11-18T15:24:33.875Z"
   },
   {
    "duration": 247,
    "start_time": "2022-11-18T15:24:39.133Z"
   },
   {
    "duration": 231,
    "start_time": "2022-11-18T15:24:51.351Z"
   },
   {
    "duration": 235,
    "start_time": "2022-11-18T15:34:07.319Z"
   },
   {
    "duration": 181,
    "start_time": "2022-11-18T15:35:38.831Z"
   },
   {
    "duration": 162,
    "start_time": "2022-11-18T15:35:48.336Z"
   },
   {
    "duration": 244,
    "start_time": "2022-11-18T15:54:05.293Z"
   },
   {
    "duration": 174,
    "start_time": "2022-11-18T15:54:23.367Z"
   },
   {
    "duration": 209,
    "start_time": "2022-11-18T15:54:40.094Z"
   },
   {
    "duration": 182,
    "start_time": "2022-11-18T15:54:49.127Z"
   },
   {
    "duration": 165,
    "start_time": "2022-11-18T15:54:55.589Z"
   },
   {
    "duration": 188,
    "start_time": "2022-11-18T15:55:10.845Z"
   },
   {
    "duration": 297,
    "start_time": "2022-11-18T15:55:53.607Z"
   },
   {
    "duration": 303,
    "start_time": "2022-11-18T15:56:17.590Z"
   },
   {
    "duration": 429,
    "start_time": "2022-11-18T15:56:30.192Z"
   },
   {
    "duration": 309,
    "start_time": "2022-11-18T15:56:38.886Z"
   },
   {
    "duration": 11,
    "start_time": "2022-11-18T16:05:27.330Z"
   },
   {
    "duration": 12,
    "start_time": "2022-11-18T16:05:40.964Z"
   },
   {
    "duration": 11,
    "start_time": "2022-11-18T16:05:51.223Z"
   },
   {
    "duration": 6,
    "start_time": "2022-11-18T16:06:23.129Z"
   },
   {
    "duration": 12,
    "start_time": "2022-11-18T16:06:30.897Z"
   },
   {
    "duration": 6,
    "start_time": "2022-11-18T16:07:05.931Z"
   },
   {
    "duration": 99,
    "start_time": "2022-11-18T16:07:27.591Z"
   },
   {
    "duration": 68,
    "start_time": "2022-11-18T16:07:32.609Z"
   },
   {
    "duration": 73,
    "start_time": "2022-11-18T16:07:39.105Z"
   },
   {
    "duration": 106,
    "start_time": "2022-11-18T16:07:45.208Z"
   },
   {
    "duration": 11,
    "start_time": "2022-11-18T16:08:23.915Z"
   },
   {
    "duration": 1907,
    "start_time": "2022-11-18T16:08:24.587Z"
   },
   {
    "duration": 100,
    "start_time": "2022-11-18T16:08:38.158Z"
   },
   {
    "duration": 112,
    "start_time": "2022-11-18T16:08:52.210Z"
   },
   {
    "duration": 99,
    "start_time": "2022-11-18T16:09:04.719Z"
   },
   {
    "duration": 111,
    "start_time": "2022-11-18T16:09:15.356Z"
   },
   {
    "duration": 107,
    "start_time": "2022-11-18T16:09:18.165Z"
   },
   {
    "duration": 97,
    "start_time": "2022-11-18T16:10:13.257Z"
   },
   {
    "duration": 114,
    "start_time": "2022-11-18T16:10:51.373Z"
   },
   {
    "duration": 1123,
    "start_time": "2022-11-18T16:12:07.006Z"
   },
   {
    "duration": 5,
    "start_time": "2022-11-18T16:12:25.113Z"
   },
   {
    "duration": 1071,
    "start_time": "2022-11-18T16:13:13.191Z"
   },
   {
    "duration": 1169,
    "start_time": "2022-11-18T16:13:21.571Z"
   },
   {
    "duration": 5,
    "start_time": "2022-11-18T16:13:45.604Z"
   },
   {
    "duration": 1026,
    "start_time": "2022-11-18T16:15:58.097Z"
   },
   {
    "duration": 3,
    "start_time": "2022-11-18T16:15:59.125Z"
   },
   {
    "duration": 84,
    "start_time": "2022-11-18T16:15:59.129Z"
   },
   {
    "duration": 12,
    "start_time": "2022-11-18T16:15:59.216Z"
   },
   {
    "duration": 11,
    "start_time": "2022-11-18T16:15:59.230Z"
   },
   {
    "duration": 43,
    "start_time": "2022-11-18T16:15:59.243Z"
   },
   {
    "duration": 20,
    "start_time": "2022-11-18T16:15:59.288Z"
   },
   {
    "duration": 264,
    "start_time": "2022-11-18T16:15:59.310Z"
   },
   {
    "duration": 248,
    "start_time": "2022-11-18T16:15:59.576Z"
   },
   {
    "duration": 176,
    "start_time": "2022-11-18T16:15:59.826Z"
   },
   {
    "duration": 281,
    "start_time": "2022-11-18T16:16:00.004Z"
   },
   {
    "duration": 231,
    "start_time": "2022-11-18T16:16:00.287Z"
   },
   {
    "duration": 302,
    "start_time": "2022-11-18T16:16:00.520Z"
   },
   {
    "duration": 126,
    "start_time": "2022-11-18T16:16:00.824Z"
   },
   {
    "duration": 5,
    "start_time": "2022-11-18T16:16:00.952Z"
   },
   {
    "duration": 138,
    "start_time": "2022-11-18T16:19:28.911Z"
   },
   {
    "duration": 5,
    "start_time": "2022-11-18T16:19:46.742Z"
   },
   {
    "duration": 137,
    "start_time": "2022-11-18T16:20:42.427Z"
   },
   {
    "duration": 5,
    "start_time": "2022-11-18T16:21:14.656Z"
   },
   {
    "duration": 122,
    "start_time": "2022-11-18T16:21:43.671Z"
   },
   {
    "duration": 195,
    "start_time": "2022-11-18T16:21:48.713Z"
   },
   {
    "duration": 133,
    "start_time": "2022-11-18T16:22:10.390Z"
   },
   {
    "duration": 112,
    "start_time": "2022-11-18T16:22:21.757Z"
   },
   {
    "duration": 104,
    "start_time": "2022-11-18T16:23:59.176Z"
   },
   {
    "duration": 5,
    "start_time": "2022-11-18T16:24:05.070Z"
   },
   {
    "duration": 4,
    "start_time": "2022-11-18T16:24:09.730Z"
   },
   {
    "duration": 140,
    "start_time": "2022-11-18T16:24:10.168Z"
   },
   {
    "duration": 960,
    "start_time": "2022-11-18T16:24:16.477Z"
   },
   {
    "duration": 3,
    "start_time": "2022-11-18T16:24:17.438Z"
   },
   {
    "duration": 96,
    "start_time": "2022-11-18T16:24:17.443Z"
   },
   {
    "duration": 12,
    "start_time": "2022-11-18T16:24:17.541Z"
   },
   {
    "duration": 12,
    "start_time": "2022-11-18T16:24:17.555Z"
   },
   {
    "duration": 45,
    "start_time": "2022-11-18T16:24:17.569Z"
   },
   {
    "duration": 19,
    "start_time": "2022-11-18T16:24:17.616Z"
   },
   {
    "duration": 260,
    "start_time": "2022-11-18T16:24:17.637Z"
   },
   {
    "duration": 247,
    "start_time": "2022-11-18T16:24:17.898Z"
   },
   {
    "duration": 163,
    "start_time": "2022-11-18T16:24:18.146Z"
   },
   {
    "duration": 272,
    "start_time": "2022-11-18T16:24:18.312Z"
   },
   {
    "duration": 194,
    "start_time": "2022-11-18T16:24:18.585Z"
   },
   {
    "duration": 316,
    "start_time": "2022-11-18T16:24:18.781Z"
   },
   {
    "duration": 119,
    "start_time": "2022-11-18T16:24:19.101Z"
   },
   {
    "duration": 4,
    "start_time": "2022-11-18T16:24:19.222Z"
   },
   {
    "duration": 120,
    "start_time": "2022-11-18T16:24:19.227Z"
   },
   {
    "duration": 5,
    "start_time": "2022-11-18T16:24:19.348Z"
   },
   {
    "duration": 229,
    "start_time": "2022-11-18T16:27:50.617Z"
   },
   {
    "duration": 216,
    "start_time": "2022-11-18T16:27:59.821Z"
   },
   {
    "duration": 37,
    "start_time": "2022-11-18T16:29:00.072Z"
   },
   {
    "duration": 54,
    "start_time": "2022-11-18T16:29:18.539Z"
   },
   {
    "duration": 167,
    "start_time": "2022-11-18T16:31:52.578Z"
   },
   {
    "duration": 91,
    "start_time": "2022-11-18T16:32:43.207Z"
   },
   {
    "duration": 13,
    "start_time": "2022-11-18T16:33:08.148Z"
   },
   {
    "duration": 939,
    "start_time": "2022-11-18T16:33:15.668Z"
   },
   {
    "duration": 3,
    "start_time": "2022-11-18T16:33:16.610Z"
   },
   {
    "duration": 70,
    "start_time": "2022-11-18T16:33:16.626Z"
   },
   {
    "duration": 12,
    "start_time": "2022-11-18T16:33:16.698Z"
   },
   {
    "duration": 12,
    "start_time": "2022-11-18T16:33:16.711Z"
   },
   {
    "duration": 45,
    "start_time": "2022-11-18T16:33:16.725Z"
   },
   {
    "duration": 20,
    "start_time": "2022-11-18T16:33:16.771Z"
   },
   {
    "duration": 288,
    "start_time": "2022-11-18T16:33:16.792Z"
   },
   {
    "duration": 251,
    "start_time": "2022-11-18T16:33:17.081Z"
   },
   {
    "duration": 169,
    "start_time": "2022-11-18T16:33:17.334Z"
   },
   {
    "duration": 284,
    "start_time": "2022-11-18T16:33:17.505Z"
   },
   {
    "duration": 191,
    "start_time": "2022-11-18T16:33:17.790Z"
   },
   {
    "duration": 326,
    "start_time": "2022-11-18T16:33:17.983Z"
   },
   {
    "duration": 120,
    "start_time": "2022-11-18T16:33:18.310Z"
   },
   {
    "duration": 5,
    "start_time": "2022-11-18T16:33:18.432Z"
   },
   {
    "duration": 132,
    "start_time": "2022-11-18T16:33:18.439Z"
   },
   {
    "duration": 4,
    "start_time": "2022-11-18T16:33:18.573Z"
   },
   {
    "duration": 199,
    "start_time": "2022-11-18T16:33:18.579Z"
   },
   {
    "duration": 0,
    "start_time": "2022-11-18T16:33:18.780Z"
   },
   {
    "duration": 0,
    "start_time": "2022-11-18T16:33:18.781Z"
   },
   {
    "duration": 472,
    "start_time": "2022-11-18T16:34:16.613Z"
   },
   {
    "duration": 192,
    "start_time": "2022-11-18T16:34:51.027Z"
   },
   {
    "duration": 212,
    "start_time": "2022-11-18T16:34:58.355Z"
   },
   {
    "duration": 16,
    "start_time": "2022-11-18T16:36:32.907Z"
   },
   {
    "duration": 13,
    "start_time": "2022-11-18T16:37:23.249Z"
   },
   {
    "duration": 1001,
    "start_time": "2022-11-18T16:37:44.316Z"
   },
   {
    "duration": 3,
    "start_time": "2022-11-18T16:37:45.319Z"
   },
   {
    "duration": 68,
    "start_time": "2022-11-18T16:37:45.323Z"
   },
   {
    "duration": 23,
    "start_time": "2022-11-18T16:37:45.394Z"
   },
   {
    "duration": 12,
    "start_time": "2022-11-18T16:37:45.419Z"
   },
   {
    "duration": 50,
    "start_time": "2022-11-18T16:37:45.433Z"
   },
   {
    "duration": 21,
    "start_time": "2022-11-18T16:37:45.485Z"
   },
   {
    "duration": 263,
    "start_time": "2022-11-18T16:37:45.508Z"
   },
   {
    "duration": 240,
    "start_time": "2022-11-18T16:37:45.773Z"
   },
   {
    "duration": 175,
    "start_time": "2022-11-18T16:37:46.015Z"
   },
   {
    "duration": 300,
    "start_time": "2022-11-18T16:37:46.191Z"
   },
   {
    "duration": 193,
    "start_time": "2022-11-18T16:37:46.493Z"
   },
   {
    "duration": 315,
    "start_time": "2022-11-18T16:37:46.687Z"
   },
   {
    "duration": 121,
    "start_time": "2022-11-18T16:37:47.003Z"
   },
   {
    "duration": 5,
    "start_time": "2022-11-18T16:37:47.125Z"
   },
   {
    "duration": 128,
    "start_time": "2022-11-18T16:37:47.131Z"
   },
   {
    "duration": 5,
    "start_time": "2022-11-18T16:37:47.260Z"
   },
   {
    "duration": 222,
    "start_time": "2022-11-18T16:37:47.266Z"
   },
   {
    "duration": 96,
    "start_time": "2022-11-18T16:37:47.490Z"
   },
   {
    "duration": 0,
    "start_time": "2022-11-18T16:37:47.587Z"
   },
   {
    "duration": 13,
    "start_time": "2022-11-18T16:40:13.477Z"
   },
   {
    "duration": 18,
    "start_time": "2022-11-18T16:41:05.456Z"
   },
   {
    "duration": 85,
    "start_time": "2022-11-18T16:41:39.247Z"
   },
   {
    "duration": 1012,
    "start_time": "2022-11-18T16:41:53.000Z"
   },
   {
    "duration": 3,
    "start_time": "2022-11-18T16:41:54.014Z"
   },
   {
    "duration": 68,
    "start_time": "2022-11-18T16:41:54.018Z"
   },
   {
    "duration": 12,
    "start_time": "2022-11-18T16:41:54.087Z"
   },
   {
    "duration": 20,
    "start_time": "2022-11-18T16:41:54.101Z"
   },
   {
    "duration": 46,
    "start_time": "2022-11-18T16:41:54.122Z"
   },
   {
    "duration": 20,
    "start_time": "2022-11-18T16:41:54.169Z"
   },
   {
    "duration": 261,
    "start_time": "2022-11-18T16:41:54.190Z"
   },
   {
    "duration": 270,
    "start_time": "2022-11-18T16:41:54.452Z"
   },
   {
    "duration": 160,
    "start_time": "2022-11-18T16:41:54.724Z"
   },
   {
    "duration": 304,
    "start_time": "2022-11-18T16:41:54.886Z"
   },
   {
    "duration": 189,
    "start_time": "2022-11-18T16:41:55.192Z"
   },
   {
    "duration": 322,
    "start_time": "2022-11-18T16:41:55.383Z"
   },
   {
    "duration": 120,
    "start_time": "2022-11-18T16:41:55.707Z"
   },
   {
    "duration": 5,
    "start_time": "2022-11-18T16:41:55.828Z"
   },
   {
    "duration": 131,
    "start_time": "2022-11-18T16:41:55.835Z"
   },
   {
    "duration": 5,
    "start_time": "2022-11-18T16:41:55.967Z"
   },
   {
    "duration": 455,
    "start_time": "2022-11-18T16:42:41.667Z"
   },
   {
    "duration": 196,
    "start_time": "2022-11-18T16:43:45.153Z"
   },
   {
    "duration": 197,
    "start_time": "2022-11-18T16:43:53.570Z"
   },
   {
    "duration": 163,
    "start_time": "2022-11-18T16:44:26.737Z"
   },
   {
    "duration": 93,
    "start_time": "2022-11-18T16:46:08.476Z"
   },
   {
    "duration": 79,
    "start_time": "2022-11-18T16:48:33.044Z"
   },
   {
    "duration": 1023,
    "start_time": "2022-11-18T16:48:42.794Z"
   },
   {
    "duration": 3,
    "start_time": "2022-11-18T16:48:43.818Z"
   },
   {
    "duration": 66,
    "start_time": "2022-11-18T16:48:43.822Z"
   },
   {
    "duration": 11,
    "start_time": "2022-11-18T16:48:43.890Z"
   },
   {
    "duration": 19,
    "start_time": "2022-11-18T16:48:43.903Z"
   },
   {
    "duration": 46,
    "start_time": "2022-11-18T16:48:43.923Z"
   },
   {
    "duration": 21,
    "start_time": "2022-11-18T16:48:43.971Z"
   },
   {
    "duration": 261,
    "start_time": "2022-11-18T16:48:43.993Z"
   },
   {
    "duration": 259,
    "start_time": "2022-11-18T16:48:44.255Z"
   },
   {
    "duration": 185,
    "start_time": "2022-11-18T16:48:44.516Z"
   },
   {
    "duration": 283,
    "start_time": "2022-11-18T16:48:44.702Z"
   },
   {
    "duration": 189,
    "start_time": "2022-11-18T16:48:44.987Z"
   },
   {
    "duration": 313,
    "start_time": "2022-11-18T16:48:45.177Z"
   },
   {
    "duration": 111,
    "start_time": "2022-11-18T16:48:45.492Z"
   },
   {
    "duration": 9,
    "start_time": "2022-11-18T16:48:45.604Z"
   },
   {
    "duration": 129,
    "start_time": "2022-11-18T16:48:45.614Z"
   },
   {
    "duration": 5,
    "start_time": "2022-11-18T16:48:45.744Z"
   },
   {
    "duration": 185,
    "start_time": "2022-11-18T16:48:45.750Z"
   },
   {
    "duration": 0,
    "start_time": "2022-11-18T16:48:45.936Z"
   },
   {
    "duration": 99,
    "start_time": "2022-11-18T16:49:05.606Z"
   },
   {
    "duration": 211,
    "start_time": "2022-11-18T16:50:29.698Z"
   },
   {
    "duration": 288,
    "start_time": "2022-11-18T16:51:14.805Z"
   },
   {
    "duration": 269,
    "start_time": "2022-11-18T16:51:34.887Z"
   },
   {
    "duration": 9,
    "start_time": "2022-11-18T16:52:39.816Z"
   },
   {
    "duration": 6,
    "start_time": "2022-11-18T16:53:42.626Z"
   },
   {
    "duration": 988,
    "start_time": "2022-11-18T16:53:54.129Z"
   },
   {
    "duration": 3,
    "start_time": "2022-11-18T16:53:55.119Z"
   },
   {
    "duration": 71,
    "start_time": "2022-11-18T16:53:55.123Z"
   },
   {
    "duration": 19,
    "start_time": "2022-11-18T16:53:55.196Z"
   },
   {
    "duration": 12,
    "start_time": "2022-11-18T16:53:55.216Z"
   },
   {
    "duration": 44,
    "start_time": "2022-11-18T16:53:55.230Z"
   },
   {
    "duration": 21,
    "start_time": "2022-11-18T16:53:55.276Z"
   },
   {
    "duration": 287,
    "start_time": "2022-11-18T16:53:55.299Z"
   },
   {
    "duration": 240,
    "start_time": "2022-11-18T16:53:55.587Z"
   },
   {
    "duration": 169,
    "start_time": "2022-11-18T16:53:55.830Z"
   },
   {
    "duration": 284,
    "start_time": "2022-11-18T16:53:56.001Z"
   },
   {
    "duration": 185,
    "start_time": "2022-11-18T16:53:56.286Z"
   },
   {
    "duration": 287,
    "start_time": "2022-11-18T16:53:56.473Z"
   },
   {
    "duration": 118,
    "start_time": "2022-11-18T16:53:56.762Z"
   },
   {
    "duration": 5,
    "start_time": "2022-11-18T16:53:56.882Z"
   },
   {
    "duration": 151,
    "start_time": "2022-11-18T16:53:56.888Z"
   },
   {
    "duration": 4,
    "start_time": "2022-11-18T16:53:57.041Z"
   },
   {
    "duration": 237,
    "start_time": "2022-11-18T16:53:57.046Z"
   },
   {
    "duration": 254,
    "start_time": "2022-11-18T16:53:57.285Z"
   },
   {
    "duration": 10,
    "start_time": "2022-11-18T16:53:57.540Z"
   },
   {
    "duration": 9,
    "start_time": "2022-11-18T16:53:57.551Z"
   },
   {
    "duration": 1205,
    "start_time": "2022-11-18T16:55:54.583Z"
   },
   {
    "duration": 1264,
    "start_time": "2022-11-18T16:56:15.679Z"
   },
   {
    "duration": 993,
    "start_time": "2022-11-18T16:56:31.038Z"
   },
   {
    "duration": 3,
    "start_time": "2022-11-18T16:56:32.033Z"
   },
   {
    "duration": 92,
    "start_time": "2022-11-18T16:56:32.037Z"
   },
   {
    "duration": 11,
    "start_time": "2022-11-18T16:56:32.131Z"
   },
   {
    "duration": 12,
    "start_time": "2022-11-18T16:56:32.144Z"
   },
   {
    "duration": 48,
    "start_time": "2022-11-18T16:56:32.157Z"
   },
   {
    "duration": 22,
    "start_time": "2022-11-18T16:56:32.206Z"
   },
   {
    "duration": 265,
    "start_time": "2022-11-18T16:56:32.230Z"
   },
   {
    "duration": 251,
    "start_time": "2022-11-18T16:56:32.496Z"
   },
   {
    "duration": 172,
    "start_time": "2022-11-18T16:56:32.749Z"
   },
   {
    "duration": 273,
    "start_time": "2022-11-18T16:56:32.922Z"
   },
   {
    "duration": 195,
    "start_time": "2022-11-18T16:56:33.196Z"
   },
   {
    "duration": 311,
    "start_time": "2022-11-18T16:56:33.392Z"
   },
   {
    "duration": 122,
    "start_time": "2022-11-18T16:56:33.705Z"
   },
   {
    "duration": 5,
    "start_time": "2022-11-18T16:56:33.829Z"
   },
   {
    "duration": 142,
    "start_time": "2022-11-18T16:56:33.835Z"
   },
   {
    "duration": 5,
    "start_time": "2022-11-18T16:56:33.978Z"
   },
   {
    "duration": 232,
    "start_time": "2022-11-18T16:56:33.984Z"
   },
   {
    "duration": 302,
    "start_time": "2022-11-18T16:56:34.217Z"
   },
   {
    "duration": 9,
    "start_time": "2022-11-18T16:56:34.520Z"
   },
   {
    "duration": 8,
    "start_time": "2022-11-18T16:56:34.531Z"
   },
   {
    "duration": 1276,
    "start_time": "2022-11-18T16:56:34.540Z"
   },
   {
    "duration": 1124,
    "start_time": "2022-11-18T16:57:48.213Z"
   },
   {
    "duration": 1039,
    "start_time": "2022-11-18T16:58:05.887Z"
   },
   {
    "duration": 9,
    "start_time": "2022-11-18T16:58:06.932Z"
   },
   {
    "duration": 81,
    "start_time": "2022-11-18T16:58:06.943Z"
   },
   {
    "duration": 17,
    "start_time": "2022-11-18T16:58:07.026Z"
   },
   {
    "duration": 12,
    "start_time": "2022-11-18T16:58:07.045Z"
   },
   {
    "duration": 47,
    "start_time": "2022-11-18T16:58:07.058Z"
   },
   {
    "duration": 20,
    "start_time": "2022-11-18T16:58:07.107Z"
   },
   {
    "duration": 281,
    "start_time": "2022-11-18T16:58:07.128Z"
   },
   {
    "duration": 255,
    "start_time": "2022-11-18T16:58:07.412Z"
   },
   {
    "duration": 171,
    "start_time": "2022-11-18T16:58:07.669Z"
   },
   {
    "duration": 254,
    "start_time": "2022-11-18T16:58:07.841Z"
   },
   {
    "duration": 200,
    "start_time": "2022-11-18T16:58:08.097Z"
   },
   {
    "duration": 307,
    "start_time": "2022-11-18T16:58:08.299Z"
   },
   {
    "duration": 124,
    "start_time": "2022-11-18T16:58:08.613Z"
   },
   {
    "duration": 6,
    "start_time": "2022-11-18T16:58:08.738Z"
   },
   {
    "duration": 134,
    "start_time": "2022-11-18T16:58:08.745Z"
   },
   {
    "duration": 5,
    "start_time": "2022-11-18T16:58:08.881Z"
   },
   {
    "duration": 230,
    "start_time": "2022-11-18T16:58:08.887Z"
   },
   {
    "duration": 256,
    "start_time": "2022-11-18T16:58:09.119Z"
   },
   {
    "duration": 9,
    "start_time": "2022-11-18T16:58:09.377Z"
   },
   {
    "duration": 25,
    "start_time": "2022-11-18T16:58:09.388Z"
   },
   {
    "duration": 1144,
    "start_time": "2022-11-18T16:58:23.213Z"
   },
   {
    "duration": 1101,
    "start_time": "2022-11-18T16:59:07.075Z"
   },
   {
    "duration": 7,
    "start_time": "2022-11-18T17:00:27.007Z"
   },
   {
    "duration": 8,
    "start_time": "2022-11-18T17:01:02.720Z"
   },
   {
    "duration": 4,
    "start_time": "2022-11-18T17:01:24.249Z"
   },
   {
    "duration": 6,
    "start_time": "2022-11-18T17:01:31.509Z"
   },
   {
    "duration": 1122,
    "start_time": "2022-11-18T17:01:50.641Z"
   },
   {
    "duration": 1160,
    "start_time": "2022-11-18T17:02:06.479Z"
   },
   {
    "duration": 5,
    "start_time": "2022-11-18T17:03:37.618Z"
   },
   {
    "duration": 8,
    "start_time": "2022-11-18T17:03:47.547Z"
   },
   {
    "duration": 9,
    "start_time": "2022-11-18T17:03:59.605Z"
   },
   {
    "duration": 9,
    "start_time": "2022-11-18T17:04:36.020Z"
   },
   {
    "duration": 11,
    "start_time": "2022-11-18T17:05:13.080Z"
   },
   {
    "duration": 70,
    "start_time": "2022-11-18T17:05:47.144Z"
   },
   {
    "duration": 83,
    "start_time": "2022-11-18T17:05:55.894Z"
   },
   {
    "duration": 78,
    "start_time": "2022-11-18T17:05:59.752Z"
   },
   {
    "duration": 70,
    "start_time": "2022-11-18T17:06:04.589Z"
   },
   {
    "duration": 8,
    "start_time": "2022-11-18T17:06:17.042Z"
   },
   {
    "duration": 8,
    "start_time": "2022-11-18T17:06:24.226Z"
   },
   {
    "duration": 11,
    "start_time": "2022-11-18T17:06:32.036Z"
   },
   {
    "duration": 8,
    "start_time": "2022-11-18T17:07:11.302Z"
   },
   {
    "duration": 28,
    "start_time": "2022-11-18T17:07:35.810Z"
   },
   {
    "duration": 23,
    "start_time": "2022-11-18T17:08:02.193Z"
   },
   {
    "duration": 22,
    "start_time": "2022-11-18T17:08:50.471Z"
   },
   {
    "duration": 1123,
    "start_time": "2022-11-18T17:09:05.800Z"
   },
   {
    "duration": 13,
    "start_time": "2022-11-18T17:09:31.793Z"
   },
   {
    "duration": 1059,
    "start_time": "2022-11-18T17:09:43.925Z"
   },
   {
    "duration": 3,
    "start_time": "2022-11-18T17:09:44.986Z"
   },
   {
    "duration": 90,
    "start_time": "2022-11-18T17:09:44.990Z"
   },
   {
    "duration": 13,
    "start_time": "2022-11-18T17:09:45.082Z"
   },
   {
    "duration": 24,
    "start_time": "2022-11-18T17:09:45.096Z"
   },
   {
    "duration": 63,
    "start_time": "2022-11-18T17:09:45.121Z"
   },
   {
    "duration": 20,
    "start_time": "2022-11-18T17:09:45.185Z"
   },
   {
    "duration": 267,
    "start_time": "2022-11-18T17:09:45.206Z"
   },
   {
    "duration": 269,
    "start_time": "2022-11-18T17:09:45.474Z"
   },
   {
    "duration": 171,
    "start_time": "2022-11-18T17:09:45.745Z"
   },
   {
    "duration": 281,
    "start_time": "2022-11-18T17:09:45.918Z"
   },
   {
    "duration": 193,
    "start_time": "2022-11-18T17:09:46.200Z"
   },
   {
    "duration": 306,
    "start_time": "2022-11-18T17:09:46.394Z"
   },
   {
    "duration": 119,
    "start_time": "2022-11-18T17:09:46.702Z"
   },
   {
    "duration": 5,
    "start_time": "2022-11-18T17:09:46.823Z"
   },
   {
    "duration": 139,
    "start_time": "2022-11-18T17:09:46.829Z"
   },
   {
    "duration": 5,
    "start_time": "2022-11-18T17:09:46.970Z"
   },
   {
    "duration": 217,
    "start_time": "2022-11-18T17:09:46.977Z"
   },
   {
    "duration": 271,
    "start_time": "2022-11-18T17:09:47.196Z"
   },
   {
    "duration": 9,
    "start_time": "2022-11-18T17:09:47.469Z"
   },
   {
    "duration": 11,
    "start_time": "2022-11-18T17:09:47.479Z"
   },
   {
    "duration": 22,
    "start_time": "2022-11-18T17:09:47.491Z"
   },
   {
    "duration": 31,
    "start_time": "2022-11-18T17:09:47.515Z"
   },
   {
    "duration": 21,
    "start_time": "2022-11-18T17:09:47.548Z"
   },
   {
    "duration": 41,
    "start_time": "2022-11-18T17:09:47.570Z"
   },
   {
    "duration": 13,
    "start_time": "2022-11-18T17:09:47.612Z"
   },
   {
    "duration": 1193,
    "start_time": "2022-11-21T14:31:38.386Z"
   },
   {
    "duration": 4,
    "start_time": "2022-11-21T14:31:39.581Z"
   },
   {
    "duration": 97,
    "start_time": "2022-11-21T14:31:39.586Z"
   },
   {
    "duration": 13,
    "start_time": "2022-11-21T14:31:39.685Z"
   },
   {
    "duration": 12,
    "start_time": "2022-11-21T14:31:39.700Z"
   },
   {
    "duration": 142,
    "start_time": "2022-11-21T14:31:39.713Z"
   },
   {
    "duration": 60,
    "start_time": "2022-11-21T14:31:39.857Z"
   },
   {
    "duration": 284,
    "start_time": "2022-11-21T14:31:39.919Z"
   },
   {
    "duration": 272,
    "start_time": "2022-11-21T14:31:40.205Z"
   },
   {
    "duration": 187,
    "start_time": "2022-11-21T14:31:40.479Z"
   },
   {
    "duration": 347,
    "start_time": "2022-11-21T14:31:40.668Z"
   },
   {
    "duration": 197,
    "start_time": "2022-11-21T14:31:41.016Z"
   },
   {
    "duration": 303,
    "start_time": "2022-11-21T14:31:41.214Z"
   },
   {
    "duration": 133,
    "start_time": "2022-11-21T14:31:41.520Z"
   },
   {
    "duration": 5,
    "start_time": "2022-11-21T14:31:41.655Z"
   },
   {
    "duration": 139,
    "start_time": "2022-11-21T14:31:41.661Z"
   },
   {
    "duration": 4,
    "start_time": "2022-11-21T14:31:41.802Z"
   },
   {
    "duration": 238,
    "start_time": "2022-11-21T14:31:41.808Z"
   },
   {
    "duration": 283,
    "start_time": "2022-11-21T14:31:42.048Z"
   },
   {
    "duration": 9,
    "start_time": "2022-11-21T14:31:42.333Z"
   },
   {
    "duration": 8,
    "start_time": "2022-11-21T14:31:42.343Z"
   },
   {
    "duration": 14,
    "start_time": "2022-11-21T14:31:42.352Z"
   },
   {
    "duration": 17,
    "start_time": "2022-11-21T14:31:42.368Z"
   },
   {
    "duration": 7,
    "start_time": "2022-11-21T14:31:42.396Z"
   },
   {
    "duration": 25,
    "start_time": "2022-11-21T14:31:42.404Z"
   },
   {
    "duration": 13,
    "start_time": "2022-11-21T14:31:42.430Z"
   },
   {
    "duration": 71,
    "start_time": "2022-11-21T14:34:52.854Z"
   },
   {
    "duration": 17,
    "start_time": "2022-11-21T14:35:07.421Z"
   },
   {
    "duration": 98,
    "start_time": "2022-11-21T14:35:22.000Z"
   },
   {
    "duration": 9,
    "start_time": "2022-11-21T14:35:26.287Z"
   },
   {
    "duration": 12,
    "start_time": "2022-11-21T14:35:30.901Z"
   },
   {
    "duration": 12,
    "start_time": "2022-11-21T14:35:35.955Z"
   },
   {
    "duration": 12,
    "start_time": "2022-11-21T14:35:52.147Z"
   },
   {
    "duration": 6,
    "start_time": "2022-11-21T14:36:12.405Z"
   },
   {
    "duration": 7,
    "start_time": "2022-11-21T14:36:23.504Z"
   },
   {
    "duration": 7,
    "start_time": "2022-11-21T14:36:50.661Z"
   },
   {
    "duration": 3,
    "start_time": "2022-11-21T14:37:08.681Z"
   },
   {
    "duration": 992,
    "start_time": "2022-11-21T14:37:38.845Z"
   },
   {
    "duration": 3,
    "start_time": "2022-11-21T14:37:39.838Z"
   },
   {
    "duration": 99,
    "start_time": "2022-11-21T14:37:39.843Z"
   },
   {
    "duration": 15,
    "start_time": "2022-11-21T14:37:39.945Z"
   },
   {
    "duration": 13,
    "start_time": "2022-11-21T14:37:39.961Z"
   },
   {
    "duration": 47,
    "start_time": "2022-11-21T14:37:39.975Z"
   },
   {
    "duration": 11,
    "start_time": "2022-11-21T14:37:40.024Z"
   },
   {
    "duration": 11,
    "start_time": "2022-11-21T14:37:40.037Z"
   },
   {
    "duration": 9,
    "start_time": "2022-11-21T14:37:40.050Z"
   },
   {
    "duration": 7,
    "start_time": "2022-11-21T14:37:40.063Z"
   },
   {
    "duration": 38,
    "start_time": "2022-11-21T14:37:40.072Z"
   },
   {
    "duration": 297,
    "start_time": "2022-11-21T14:37:40.111Z"
   },
   {
    "duration": 270,
    "start_time": "2022-11-21T14:37:40.410Z"
   },
   {
    "duration": 179,
    "start_time": "2022-11-21T14:37:40.682Z"
   },
   {
    "duration": 318,
    "start_time": "2022-11-21T14:37:40.863Z"
   },
   {
    "duration": 203,
    "start_time": "2022-11-21T14:37:41.182Z"
   },
   {
    "duration": 335,
    "start_time": "2022-11-21T14:37:41.387Z"
   },
   {
    "duration": 127,
    "start_time": "2022-11-21T14:37:41.723Z"
   },
   {
    "duration": 5,
    "start_time": "2022-11-21T14:37:41.852Z"
   },
   {
    "duration": 141,
    "start_time": "2022-11-21T14:37:41.859Z"
   },
   {
    "duration": 6,
    "start_time": "2022-11-21T14:37:42.002Z"
   },
   {
    "duration": 240,
    "start_time": "2022-11-21T14:37:42.010Z"
   },
   {
    "duration": 291,
    "start_time": "2022-11-21T14:37:42.252Z"
   },
   {
    "duration": 10,
    "start_time": "2022-11-21T14:37:42.545Z"
   },
   {
    "duration": 7,
    "start_time": "2022-11-21T14:37:42.557Z"
   },
   {
    "duration": 31,
    "start_time": "2022-11-21T14:37:42.566Z"
   },
   {
    "duration": 10,
    "start_time": "2022-11-21T14:37:42.599Z"
   },
   {
    "duration": 10,
    "start_time": "2022-11-21T14:37:42.612Z"
   },
   {
    "duration": 27,
    "start_time": "2022-11-21T14:37:42.624Z"
   },
   {
    "duration": 47,
    "start_time": "2022-11-21T14:37:42.653Z"
   },
   {
    "duration": 50,
    "start_time": "2022-11-21T14:38:45.794Z"
   },
   {
    "duration": 6,
    "start_time": "2022-11-21T14:39:02.618Z"
   },
   {
    "duration": 1017,
    "start_time": "2022-11-21T14:40:11.022Z"
   },
   {
    "duration": 3,
    "start_time": "2022-11-21T14:40:12.041Z"
   },
   {
    "duration": 117,
    "start_time": "2022-11-21T14:40:12.045Z"
   },
   {
    "duration": 14,
    "start_time": "2022-11-21T14:40:12.164Z"
   },
   {
    "duration": 33,
    "start_time": "2022-11-21T14:40:12.179Z"
   },
   {
    "duration": 59,
    "start_time": "2022-11-21T14:40:12.213Z"
   },
   {
    "duration": 11,
    "start_time": "2022-11-21T14:40:12.273Z"
   },
   {
    "duration": 39,
    "start_time": "2022-11-21T14:40:12.285Z"
   },
   {
    "duration": 37,
    "start_time": "2022-11-21T14:40:12.326Z"
   },
   {
    "duration": 6,
    "start_time": "2022-11-21T14:40:12.365Z"
   },
   {
    "duration": 51,
    "start_time": "2022-11-21T14:40:12.373Z"
   },
   {
    "duration": 12,
    "start_time": "2022-11-21T14:40:12.426Z"
   },
   {
    "duration": 16,
    "start_time": "2022-11-21T14:40:12.439Z"
   },
   {
    "duration": 15,
    "start_time": "2022-11-21T14:40:12.456Z"
   },
   {
    "duration": 6,
    "start_time": "2022-11-21T14:40:12.473Z"
   },
   {
    "duration": 49,
    "start_time": "2022-11-21T14:40:12.480Z"
   },
   {
    "duration": 0,
    "start_time": "2022-11-21T14:40:12.531Z"
   },
   {
    "duration": 0,
    "start_time": "2022-11-21T14:40:12.532Z"
   },
   {
    "duration": 0,
    "start_time": "2022-11-21T14:40:12.533Z"
   },
   {
    "duration": 0,
    "start_time": "2022-11-21T14:40:12.534Z"
   },
   {
    "duration": 0,
    "start_time": "2022-11-21T14:40:12.535Z"
   },
   {
    "duration": 0,
    "start_time": "2022-11-21T14:40:12.536Z"
   },
   {
    "duration": 0,
    "start_time": "2022-11-21T14:40:12.537Z"
   },
   {
    "duration": 0,
    "start_time": "2022-11-21T14:40:12.538Z"
   },
   {
    "duration": 0,
    "start_time": "2022-11-21T14:40:12.539Z"
   },
   {
    "duration": 0,
    "start_time": "2022-11-21T14:40:12.540Z"
   },
   {
    "duration": 0,
    "start_time": "2022-11-21T14:40:12.541Z"
   },
   {
    "duration": 0,
    "start_time": "2022-11-21T14:40:12.542Z"
   },
   {
    "duration": 0,
    "start_time": "2022-11-21T14:40:12.543Z"
   },
   {
    "duration": 0,
    "start_time": "2022-11-21T14:40:12.544Z"
   },
   {
    "duration": 0,
    "start_time": "2022-11-21T14:40:12.545Z"
   },
   {
    "duration": 0,
    "start_time": "2022-11-21T14:40:12.546Z"
   },
   {
    "duration": 0,
    "start_time": "2022-11-21T14:40:12.547Z"
   },
   {
    "duration": 1,
    "start_time": "2022-11-21T14:40:12.547Z"
   },
   {
    "duration": 0,
    "start_time": "2022-11-21T14:40:12.548Z"
   },
   {
    "duration": 1100,
    "start_time": "2022-11-21T14:40:55.461Z"
   },
   {
    "duration": 3,
    "start_time": "2022-11-21T14:40:56.563Z"
   },
   {
    "duration": 72,
    "start_time": "2022-11-21T14:40:56.567Z"
   },
   {
    "duration": 13,
    "start_time": "2022-11-21T14:40:56.641Z"
   },
   {
    "duration": 11,
    "start_time": "2022-11-21T14:40:56.655Z"
   },
   {
    "duration": 54,
    "start_time": "2022-11-21T14:40:56.668Z"
   },
   {
    "duration": 11,
    "start_time": "2022-11-21T14:40:56.723Z"
   },
   {
    "duration": 7,
    "start_time": "2022-11-21T14:40:56.736Z"
   },
   {
    "duration": 12,
    "start_time": "2022-11-21T14:40:56.745Z"
   },
   {
    "duration": 5,
    "start_time": "2022-11-21T14:40:56.760Z"
   },
   {
    "duration": 25,
    "start_time": "2022-11-21T14:40:56.767Z"
   },
   {
    "duration": 9,
    "start_time": "2022-11-21T14:40:56.794Z"
   },
   {
    "duration": 9,
    "start_time": "2022-11-21T14:40:56.805Z"
   },
   {
    "duration": 7,
    "start_time": "2022-11-21T14:40:56.816Z"
   },
   {
    "duration": 7,
    "start_time": "2022-11-21T14:40:56.824Z"
   },
   {
    "duration": 294,
    "start_time": "2022-11-21T14:40:56.832Z"
   },
   {
    "duration": 288,
    "start_time": "2022-11-21T14:40:57.128Z"
   },
   {
    "duration": 183,
    "start_time": "2022-11-21T14:40:57.417Z"
   },
   {
    "duration": 279,
    "start_time": "2022-11-21T14:40:57.602Z"
   },
   {
    "duration": 209,
    "start_time": "2022-11-21T14:40:57.883Z"
   },
   {
    "duration": 335,
    "start_time": "2022-11-21T14:40:58.097Z"
   },
   {
    "duration": 134,
    "start_time": "2022-11-21T14:40:58.434Z"
   },
   {
    "duration": 5,
    "start_time": "2022-11-21T14:40:58.569Z"
   },
   {
    "duration": 161,
    "start_time": "2022-11-21T14:40:58.576Z"
   },
   {
    "duration": 6,
    "start_time": "2022-11-21T14:40:58.738Z"
   },
   {
    "duration": 239,
    "start_time": "2022-11-21T14:40:58.746Z"
   },
   {
    "duration": 287,
    "start_time": "2022-11-21T14:40:58.987Z"
   },
   {
    "duration": 9,
    "start_time": "2022-11-21T14:40:59.277Z"
   },
   {
    "duration": 7,
    "start_time": "2022-11-21T14:40:59.297Z"
   },
   {
    "duration": 28,
    "start_time": "2022-11-21T14:40:59.305Z"
   },
   {
    "duration": 44,
    "start_time": "2022-11-21T14:40:59.334Z"
   },
   {
    "duration": 33,
    "start_time": "2022-11-21T14:40:59.380Z"
   },
   {
    "duration": 40,
    "start_time": "2022-11-21T14:40:59.415Z"
   },
   {
    "duration": 21,
    "start_time": "2022-11-21T14:40:59.457Z"
   },
   {
    "duration": 235,
    "start_time": "2022-11-21T14:46:26.099Z"
   },
   {
    "duration": 256,
    "start_time": "2022-11-21T14:47:23.189Z"
   },
   {
    "duration": 309,
    "start_time": "2022-11-21T14:48:50.767Z"
   },
   {
    "duration": 305,
    "start_time": "2022-11-21T14:52:40.293Z"
   },
   {
    "duration": 300,
    "start_time": "2022-11-21T14:52:48.463Z"
   },
   {
    "duration": 154,
    "start_time": "2022-11-21T14:54:17.379Z"
   },
   {
    "duration": 187,
    "start_time": "2022-11-21T14:54:59.356Z"
   },
   {
    "duration": 1160,
    "start_time": "2022-11-21T14:55:30.058Z"
   },
   {
    "duration": 3,
    "start_time": "2022-11-21T14:55:31.220Z"
   },
   {
    "duration": 117,
    "start_time": "2022-11-21T14:55:31.225Z"
   },
   {
    "duration": 15,
    "start_time": "2022-11-21T14:55:31.344Z"
   },
   {
    "duration": 12,
    "start_time": "2022-11-21T14:55:31.361Z"
   },
   {
    "duration": 60,
    "start_time": "2022-11-21T14:55:31.375Z"
   },
   {
    "duration": 10,
    "start_time": "2022-11-21T14:55:31.437Z"
   },
   {
    "duration": 9,
    "start_time": "2022-11-21T14:55:31.449Z"
   },
   {
    "duration": 7,
    "start_time": "2022-11-21T14:55:31.460Z"
   },
   {
    "duration": 9,
    "start_time": "2022-11-21T14:55:31.470Z"
   },
   {
    "duration": 25,
    "start_time": "2022-11-21T14:55:31.481Z"
   },
   {
    "duration": 10,
    "start_time": "2022-11-21T14:55:31.508Z"
   },
   {
    "duration": 17,
    "start_time": "2022-11-21T14:55:31.520Z"
   },
   {
    "duration": 9,
    "start_time": "2022-11-21T14:55:31.539Z"
   },
   {
    "duration": 11,
    "start_time": "2022-11-21T14:55:31.555Z"
   },
   {
    "duration": 343,
    "start_time": "2022-11-21T14:55:31.568Z"
   },
   {
    "duration": 311,
    "start_time": "2022-11-21T14:55:31.913Z"
   },
   {
    "duration": 222,
    "start_time": "2022-11-21T14:55:32.225Z"
   },
   {
    "duration": 379,
    "start_time": "2022-11-21T14:55:32.448Z"
   },
   {
    "duration": 249,
    "start_time": "2022-11-21T14:55:32.829Z"
   },
   {
    "duration": 349,
    "start_time": "2022-11-21T14:55:33.081Z"
   },
   {
    "duration": 159,
    "start_time": "2022-11-21T14:55:33.432Z"
   },
   {
    "duration": 7,
    "start_time": "2022-11-21T14:55:33.593Z"
   },
   {
    "duration": 178,
    "start_time": "2022-11-21T14:55:33.602Z"
   },
   {
    "duration": 17,
    "start_time": "2022-11-21T14:55:33.783Z"
   },
   {
    "duration": 266,
    "start_time": "2022-11-21T14:55:33.802Z"
   },
   {
    "duration": 312,
    "start_time": "2022-11-21T14:55:34.070Z"
   },
   {
    "duration": 18,
    "start_time": "2022-11-21T14:55:34.385Z"
   },
   {
    "duration": 11,
    "start_time": "2022-11-21T14:55:34.405Z"
   },
   {
    "duration": 27,
    "start_time": "2022-11-21T14:55:34.418Z"
   },
   {
    "duration": 27,
    "start_time": "2022-11-21T14:55:34.447Z"
   },
   {
    "duration": 23,
    "start_time": "2022-11-21T14:55:34.477Z"
   },
   {
    "duration": 46,
    "start_time": "2022-11-21T14:55:34.503Z"
   },
   {
    "duration": 19,
    "start_time": "2022-11-21T14:55:34.551Z"
   },
   {
    "duration": 1192,
    "start_time": "2022-11-21T14:56:09.369Z"
   },
   {
    "duration": 3,
    "start_time": "2022-11-21T14:56:10.563Z"
   },
   {
    "duration": 126,
    "start_time": "2022-11-21T14:56:10.568Z"
   },
   {
    "duration": 15,
    "start_time": "2022-11-21T14:56:10.695Z"
   },
   {
    "duration": 44,
    "start_time": "2022-11-21T14:56:10.711Z"
   },
   {
    "duration": 79,
    "start_time": "2022-11-21T14:56:10.757Z"
   },
   {
    "duration": 11,
    "start_time": "2022-11-21T14:56:10.838Z"
   },
   {
    "duration": 76,
    "start_time": "2022-11-21T14:56:10.851Z"
   },
   {
    "duration": 51,
    "start_time": "2022-11-21T14:56:10.929Z"
   },
   {
    "duration": 34,
    "start_time": "2022-11-21T14:56:10.983Z"
   },
   {
    "duration": 53,
    "start_time": "2022-11-21T14:56:11.019Z"
   },
   {
    "duration": 42,
    "start_time": "2022-11-21T14:56:11.074Z"
   },
   {
    "duration": 15,
    "start_time": "2022-11-21T14:56:11.118Z"
   },
   {
    "duration": 31,
    "start_time": "2022-11-21T14:56:11.135Z"
   },
   {
    "duration": 15,
    "start_time": "2022-11-21T14:56:11.168Z"
   },
   {
    "duration": 332,
    "start_time": "2022-11-21T14:56:11.184Z"
   },
   {
    "duration": 335,
    "start_time": "2022-11-21T14:56:11.518Z"
   },
   {
    "duration": 225,
    "start_time": "2022-11-21T14:56:11.854Z"
   },
   {
    "duration": 345,
    "start_time": "2022-11-21T14:56:12.081Z"
   },
   {
    "duration": 234,
    "start_time": "2022-11-21T14:56:12.427Z"
   },
   {
    "duration": 367,
    "start_time": "2022-11-21T14:56:12.662Z"
   },
   {
    "duration": 150,
    "start_time": "2022-11-21T14:56:13.031Z"
   },
   {
    "duration": 5,
    "start_time": "2022-11-21T14:56:13.182Z"
   },
   {
    "duration": 177,
    "start_time": "2022-11-21T14:56:13.189Z"
   },
   {
    "duration": 5,
    "start_time": "2022-11-21T14:56:13.368Z"
   },
   {
    "duration": 251,
    "start_time": "2022-11-21T14:56:13.374Z"
   },
   {
    "duration": 320,
    "start_time": "2022-11-21T14:56:13.626Z"
   },
   {
    "duration": 10,
    "start_time": "2022-11-21T14:56:13.951Z"
   },
   {
    "duration": 18,
    "start_time": "2022-11-21T14:56:13.963Z"
   },
   {
    "duration": 19,
    "start_time": "2022-11-21T14:56:13.983Z"
   },
   {
    "duration": 15,
    "start_time": "2022-11-21T14:56:14.003Z"
   },
   {
    "duration": 11,
    "start_time": "2022-11-21T14:56:14.020Z"
   },
   {
    "duration": 29,
    "start_time": "2022-11-21T14:56:14.033Z"
   },
   {
    "duration": 44,
    "start_time": "2022-11-21T14:56:14.064Z"
   },
   {
    "duration": 1059,
    "start_time": "2022-11-21T15:02:14.154Z"
   },
   {
    "duration": 4,
    "start_time": "2022-11-21T15:02:15.215Z"
   },
   {
    "duration": 97,
    "start_time": "2022-11-21T15:02:15.220Z"
   },
   {
    "duration": 14,
    "start_time": "2022-11-21T15:02:15.319Z"
   },
   {
    "duration": 12,
    "start_time": "2022-11-21T15:02:15.334Z"
   },
   {
    "duration": 47,
    "start_time": "2022-11-21T15:02:15.347Z"
   },
   {
    "duration": 12,
    "start_time": "2022-11-21T15:02:15.395Z"
   },
   {
    "duration": 10,
    "start_time": "2022-11-21T15:02:15.408Z"
   },
   {
    "duration": 9,
    "start_time": "2022-11-21T15:02:15.420Z"
   },
   {
    "duration": 5,
    "start_time": "2022-11-21T15:02:15.431Z"
   },
   {
    "duration": 34,
    "start_time": "2022-11-21T15:02:15.438Z"
   },
   {
    "duration": 10,
    "start_time": "2022-11-21T15:02:15.474Z"
   },
   {
    "duration": 14,
    "start_time": "2022-11-21T15:02:15.486Z"
   },
   {
    "duration": 7,
    "start_time": "2022-11-21T15:02:15.502Z"
   },
   {
    "duration": 4,
    "start_time": "2022-11-21T15:02:15.511Z"
   },
   {
    "duration": 294,
    "start_time": "2022-11-21T15:02:15.516Z"
   },
   {
    "duration": 334,
    "start_time": "2022-11-21T15:02:15.812Z"
   },
   {
    "duration": 242,
    "start_time": "2022-11-21T15:02:16.149Z"
   },
   {
    "duration": 308,
    "start_time": "2022-11-21T15:02:16.396Z"
   },
   {
    "duration": 225,
    "start_time": "2022-11-21T15:02:16.706Z"
   },
   {
    "duration": 274,
    "start_time": "2022-11-21T15:02:16.932Z"
   },
   {
    "duration": 147,
    "start_time": "2022-11-21T15:02:17.208Z"
   },
   {
    "duration": 5,
    "start_time": "2022-11-21T15:02:17.358Z"
   },
   {
    "duration": 156,
    "start_time": "2022-11-21T15:02:17.365Z"
   },
   {
    "duration": 5,
    "start_time": "2022-11-21T15:02:17.523Z"
   },
   {
    "duration": 241,
    "start_time": "2022-11-21T15:02:17.530Z"
   },
   {
    "duration": 305,
    "start_time": "2022-11-21T15:02:17.773Z"
   },
   {
    "duration": 16,
    "start_time": "2022-11-21T15:02:18.081Z"
   },
   {
    "duration": 6,
    "start_time": "2022-11-21T15:02:18.099Z"
   },
   {
    "duration": 13,
    "start_time": "2022-11-21T15:02:18.107Z"
   },
   {
    "duration": 20,
    "start_time": "2022-11-21T15:02:18.121Z"
   },
   {
    "duration": 10,
    "start_time": "2022-11-21T15:02:18.143Z"
   },
   {
    "duration": 42,
    "start_time": "2022-11-21T15:02:18.155Z"
   },
   {
    "duration": 15,
    "start_time": "2022-11-21T15:02:18.199Z"
   },
   {
    "duration": 2438,
    "start_time": "2022-11-21T15:08:38.819Z"
   },
   {
    "duration": 964,
    "start_time": "2022-11-21T15:08:47.252Z"
   },
   {
    "duration": 2201,
    "start_time": "2022-11-21T15:08:48.218Z"
   },
   {
    "duration": 4,
    "start_time": "2022-11-21T15:08:50.421Z"
   },
   {
    "duration": 102,
    "start_time": "2022-11-21T15:08:50.427Z"
   },
   {
    "duration": 14,
    "start_time": "2022-11-21T15:08:50.530Z"
   },
   {
    "duration": 12,
    "start_time": "2022-11-21T15:08:50.546Z"
   },
   {
    "duration": 49,
    "start_time": "2022-11-21T15:08:50.559Z"
   },
   {
    "duration": 10,
    "start_time": "2022-11-21T15:08:50.610Z"
   },
   {
    "duration": 10,
    "start_time": "2022-11-21T15:08:50.621Z"
   },
   {
    "duration": 6,
    "start_time": "2022-11-21T15:08:50.633Z"
   },
   {
    "duration": 4,
    "start_time": "2022-11-21T15:08:50.641Z"
   },
   {
    "duration": 24,
    "start_time": "2022-11-21T15:08:50.646Z"
   },
   {
    "duration": 10,
    "start_time": "2022-11-21T15:08:50.671Z"
   },
   {
    "duration": 16,
    "start_time": "2022-11-21T15:08:50.683Z"
   },
   {
    "duration": 6,
    "start_time": "2022-11-21T15:08:50.701Z"
   },
   {
    "duration": 7,
    "start_time": "2022-11-21T15:08:50.708Z"
   },
   {
    "duration": 296,
    "start_time": "2022-11-21T15:08:50.717Z"
   },
   {
    "duration": 275,
    "start_time": "2022-11-21T15:08:51.014Z"
   },
   {
    "duration": 200,
    "start_time": "2022-11-21T15:08:51.290Z"
   },
   {
    "duration": 349,
    "start_time": "2022-11-21T15:08:51.492Z"
   },
   {
    "duration": 227,
    "start_time": "2022-11-21T15:08:51.843Z"
   },
   {
    "duration": 330,
    "start_time": "2022-11-21T15:08:52.072Z"
   },
   {
    "duration": 148,
    "start_time": "2022-11-21T15:08:52.403Z"
   },
   {
    "duration": 6,
    "start_time": "2022-11-21T15:08:52.553Z"
   },
   {
    "duration": 157,
    "start_time": "2022-11-21T15:08:52.560Z"
   },
   {
    "duration": 4,
    "start_time": "2022-11-21T15:08:52.719Z"
   },
   {
    "duration": 243,
    "start_time": "2022-11-21T15:08:52.725Z"
   },
   {
    "duration": 288,
    "start_time": "2022-11-21T15:08:52.970Z"
   },
   {
    "duration": 10,
    "start_time": "2022-11-21T15:08:53.259Z"
   },
   {
    "duration": 25,
    "start_time": "2022-11-21T15:08:53.271Z"
   },
   {
    "duration": 9,
    "start_time": "2022-11-21T15:08:53.298Z"
   },
   {
    "duration": 15,
    "start_time": "2022-11-21T15:08:53.309Z"
   },
   {
    "duration": 10,
    "start_time": "2022-11-21T15:08:53.326Z"
   },
   {
    "duration": 37,
    "start_time": "2022-11-21T15:08:53.337Z"
   },
   {
    "duration": 29,
    "start_time": "2022-11-21T15:08:53.376Z"
   },
   {
    "duration": 50,
    "start_time": "2022-11-23T16:39:55.193Z"
   },
   {
    "duration": 1366,
    "start_time": "2022-11-23T16:40:06.658Z"
   },
   {
    "duration": 3,
    "start_time": "2022-11-23T16:40:08.026Z"
   },
   {
    "duration": 141,
    "start_time": "2022-11-23T16:40:08.050Z"
   },
   {
    "duration": 15,
    "start_time": "2022-11-23T16:40:08.193Z"
   },
   {
    "duration": 16,
    "start_time": "2022-11-23T16:40:08.210Z"
   },
   {
    "duration": 87,
    "start_time": "2022-11-23T16:40:08.227Z"
   },
   {
    "duration": 11,
    "start_time": "2022-11-23T16:40:08.316Z"
   },
   {
    "duration": 12,
    "start_time": "2022-11-23T16:40:08.329Z"
   },
   {
    "duration": 6,
    "start_time": "2022-11-23T16:40:08.343Z"
   },
   {
    "duration": 6,
    "start_time": "2022-11-23T16:40:08.350Z"
   },
   {
    "duration": 82,
    "start_time": "2022-11-23T16:40:08.357Z"
   },
   {
    "duration": 11,
    "start_time": "2022-11-23T16:40:08.440Z"
   },
   {
    "duration": 18,
    "start_time": "2022-11-23T16:40:08.453Z"
   },
   {
    "duration": 6,
    "start_time": "2022-11-23T16:40:08.473Z"
   },
   {
    "duration": 22,
    "start_time": "2022-11-23T16:40:08.481Z"
   },
   {
    "duration": 297,
    "start_time": "2022-11-23T16:40:08.505Z"
   },
   {
    "duration": 292,
    "start_time": "2022-11-23T16:40:08.804Z"
   },
   {
    "duration": 219,
    "start_time": "2022-11-23T16:40:09.097Z"
   },
   {
    "duration": 426,
    "start_time": "2022-11-23T16:40:09.318Z"
   },
   {
    "duration": 257,
    "start_time": "2022-11-23T16:40:09.746Z"
   },
   {
    "duration": 319,
    "start_time": "2022-11-23T16:40:10.006Z"
   },
   {
    "duration": 155,
    "start_time": "2022-11-23T16:40:10.327Z"
   },
   {
    "duration": 5,
    "start_time": "2022-11-23T16:40:10.484Z"
   },
   {
    "duration": 166,
    "start_time": "2022-11-23T16:40:10.490Z"
   },
   {
    "duration": 6,
    "start_time": "2022-11-23T16:40:10.659Z"
   },
   {
    "duration": 240,
    "start_time": "2022-11-23T16:40:10.667Z"
   },
   {
    "duration": 278,
    "start_time": "2022-11-23T16:40:10.908Z"
   },
   {
    "duration": 10,
    "start_time": "2022-11-23T16:40:11.188Z"
   },
   {
    "duration": 7,
    "start_time": "2022-11-23T16:40:11.200Z"
   },
   {
    "duration": 26,
    "start_time": "2022-11-23T16:40:11.208Z"
   },
   {
    "duration": 17,
    "start_time": "2022-11-23T16:40:11.235Z"
   },
   {
    "duration": 17,
    "start_time": "2022-11-23T16:40:11.253Z"
   },
   {
    "duration": 29,
    "start_time": "2022-11-23T16:40:11.272Z"
   },
   {
    "duration": 15,
    "start_time": "2022-11-23T16:40:11.304Z"
   },
   {
    "duration": 80,
    "start_time": "2022-11-23T16:47:02.300Z"
   },
   {
    "duration": 306,
    "start_time": "2022-11-23T16:47:27.611Z"
   },
   {
    "duration": 433,
    "start_time": "2022-11-23T16:47:55.854Z"
   },
   {
    "duration": 1125,
    "start_time": "2022-11-23T16:48:01.734Z"
   },
   {
    "duration": 3,
    "start_time": "2022-11-23T16:48:02.861Z"
   },
   {
    "duration": 70,
    "start_time": "2022-11-23T16:48:02.866Z"
   },
   {
    "duration": 23,
    "start_time": "2022-11-23T16:48:02.938Z"
   },
   {
    "duration": 13,
    "start_time": "2022-11-23T16:48:02.963Z"
   },
   {
    "duration": 46,
    "start_time": "2022-11-23T16:48:02.977Z"
   },
   {
    "duration": 11,
    "start_time": "2022-11-23T16:48:03.025Z"
   },
   {
    "duration": 10,
    "start_time": "2022-11-23T16:48:03.038Z"
   },
   {
    "duration": 8,
    "start_time": "2022-11-23T16:48:03.050Z"
   },
   {
    "duration": 6,
    "start_time": "2022-11-23T16:48:03.061Z"
   },
   {
    "duration": 24,
    "start_time": "2022-11-23T16:48:03.069Z"
   },
   {
    "duration": 10,
    "start_time": "2022-11-23T16:48:03.095Z"
   },
   {
    "duration": 9,
    "start_time": "2022-11-23T16:48:03.107Z"
   },
   {
    "duration": 14,
    "start_time": "2022-11-23T16:48:03.118Z"
   },
   {
    "duration": 13,
    "start_time": "2022-11-23T16:48:03.134Z"
   },
   {
    "duration": 282,
    "start_time": "2022-11-23T16:48:03.150Z"
   },
   {
    "duration": 287,
    "start_time": "2022-11-23T16:48:03.434Z"
   },
   {
    "duration": 209,
    "start_time": "2022-11-23T16:48:03.722Z"
   },
   {
    "duration": 377,
    "start_time": "2022-11-23T16:48:03.932Z"
   },
   {
    "duration": 231,
    "start_time": "2022-11-23T16:48:04.311Z"
   },
   {
    "duration": 407,
    "start_time": "2022-11-23T16:48:04.544Z"
   },
   {
    "duration": 155,
    "start_time": "2022-11-23T16:48:04.953Z"
   },
   {
    "duration": 6,
    "start_time": "2022-11-23T16:48:05.109Z"
   },
   {
    "duration": 165,
    "start_time": "2022-11-23T16:48:05.117Z"
   },
   {
    "duration": 4,
    "start_time": "2022-11-23T16:48:05.284Z"
   },
   {
    "duration": 226,
    "start_time": "2022-11-23T16:48:05.290Z"
   },
   {
    "duration": 271,
    "start_time": "2022-11-23T16:48:05.517Z"
   },
   {
    "duration": 8,
    "start_time": "2022-11-23T16:48:05.791Z"
   },
   {
    "duration": 8,
    "start_time": "2022-11-23T16:48:05.801Z"
   },
   {
    "duration": 17,
    "start_time": "2022-11-23T16:48:05.811Z"
   },
   {
    "duration": 27,
    "start_time": "2022-11-23T16:48:05.829Z"
   },
   {
    "duration": 23,
    "start_time": "2022-11-23T16:48:05.858Z"
   },
   {
    "duration": 44,
    "start_time": "2022-11-23T16:48:05.882Z"
   },
   {
    "duration": 17,
    "start_time": "2022-11-23T16:48:05.927Z"
   },
   {
    "duration": 307,
    "start_time": "2022-11-23T16:52:57.478Z"
   },
   {
    "duration": 368,
    "start_time": "2022-11-23T16:53:14.233Z"
   },
   {
    "duration": 139,
    "start_time": "2022-11-23T16:57:32.331Z"
   },
   {
    "duration": 148,
    "start_time": "2022-11-23T17:04:29.980Z"
   },
   {
    "duration": 176,
    "start_time": "2022-11-23T17:04:55.945Z"
   },
   {
    "duration": 1106,
    "start_time": "2022-11-23T17:05:46.569Z"
   },
   {
    "duration": 3,
    "start_time": "2022-11-23T17:05:47.677Z"
   },
   {
    "duration": 91,
    "start_time": "2022-11-23T17:05:47.682Z"
   },
   {
    "duration": 15,
    "start_time": "2022-11-23T17:05:47.775Z"
   },
   {
    "duration": 12,
    "start_time": "2022-11-23T17:05:47.792Z"
   },
   {
    "duration": 46,
    "start_time": "2022-11-23T17:05:47.806Z"
   },
   {
    "duration": 11,
    "start_time": "2022-11-23T17:05:47.853Z"
   },
   {
    "duration": 8,
    "start_time": "2022-11-23T17:05:47.866Z"
   },
   {
    "duration": 11,
    "start_time": "2022-11-23T17:05:47.876Z"
   },
   {
    "duration": 6,
    "start_time": "2022-11-23T17:05:47.889Z"
   },
   {
    "duration": 26,
    "start_time": "2022-11-23T17:05:47.896Z"
   },
   {
    "duration": 11,
    "start_time": "2022-11-23T17:05:47.924Z"
   },
   {
    "duration": 7,
    "start_time": "2022-11-23T17:05:47.950Z"
   },
   {
    "duration": 9,
    "start_time": "2022-11-23T17:05:47.959Z"
   },
   {
    "duration": 8,
    "start_time": "2022-11-23T17:05:47.969Z"
   },
   {
    "duration": 306,
    "start_time": "2022-11-23T17:05:47.979Z"
   },
   {
    "duration": 296,
    "start_time": "2022-11-23T17:05:48.287Z"
   },
   {
    "duration": 209,
    "start_time": "2022-11-23T17:05:48.585Z"
   },
   {
    "duration": 286,
    "start_time": "2022-11-23T17:05:48.796Z"
   },
   {
    "duration": 274,
    "start_time": "2022-11-23T17:05:49.084Z"
   },
   {
    "duration": 344,
    "start_time": "2022-11-23T17:05:49.359Z"
   },
   {
    "duration": 208,
    "start_time": "2022-11-23T17:05:49.704Z"
   },
   {
    "duration": 5,
    "start_time": "2022-11-23T17:05:49.914Z"
   },
   {
    "duration": 162,
    "start_time": "2022-11-23T17:05:49.921Z"
   },
   {
    "duration": 5,
    "start_time": "2022-11-23T17:05:50.084Z"
   },
   {
    "duration": 68,
    "start_time": "2022-11-23T17:05:50.091Z"
   },
   {
    "duration": 0,
    "start_time": "2022-11-23T17:05:50.161Z"
   },
   {
    "duration": 0,
    "start_time": "2022-11-23T17:05:50.163Z"
   },
   {
    "duration": 0,
    "start_time": "2022-11-23T17:05:50.164Z"
   },
   {
    "duration": 0,
    "start_time": "2022-11-23T17:05:50.165Z"
   },
   {
    "duration": 0,
    "start_time": "2022-11-23T17:05:50.167Z"
   },
   {
    "duration": 0,
    "start_time": "2022-11-23T17:05:50.168Z"
   },
   {
    "duration": 0,
    "start_time": "2022-11-23T17:05:50.169Z"
   },
   {
    "duration": 0,
    "start_time": "2022-11-23T17:05:50.171Z"
   },
   {
    "duration": 0,
    "start_time": "2022-11-23T17:05:50.172Z"
   },
   {
    "duration": 1040,
    "start_time": "2022-11-23T17:23:02.192Z"
   },
   {
    "duration": 3,
    "start_time": "2022-11-23T17:23:03.234Z"
   },
   {
    "duration": 101,
    "start_time": "2022-11-23T17:23:03.239Z"
   },
   {
    "duration": 15,
    "start_time": "2022-11-23T17:23:03.341Z"
   },
   {
    "duration": 14,
    "start_time": "2022-11-23T17:23:03.359Z"
   },
   {
    "duration": 48,
    "start_time": "2022-11-23T17:23:03.375Z"
   },
   {
    "duration": 13,
    "start_time": "2022-11-23T17:23:03.425Z"
   },
   {
    "duration": 12,
    "start_time": "2022-11-23T17:23:03.440Z"
   },
   {
    "duration": 13,
    "start_time": "2022-11-23T17:23:03.455Z"
   },
   {
    "duration": 8,
    "start_time": "2022-11-23T17:23:03.470Z"
   },
   {
    "duration": 25,
    "start_time": "2022-11-23T17:23:03.479Z"
   },
   {
    "duration": 12,
    "start_time": "2022-11-23T17:23:03.506Z"
   },
   {
    "duration": 8,
    "start_time": "2022-11-23T17:23:03.520Z"
   },
   {
    "duration": 20,
    "start_time": "2022-11-23T17:23:03.532Z"
   },
   {
    "duration": 5,
    "start_time": "2022-11-23T17:23:03.555Z"
   },
   {
    "duration": 336,
    "start_time": "2022-11-23T17:23:03.562Z"
   },
   {
    "duration": 326,
    "start_time": "2022-11-23T17:23:03.900Z"
   },
   {
    "duration": 218,
    "start_time": "2022-11-23T17:23:04.227Z"
   },
   {
    "duration": 331,
    "start_time": "2022-11-23T17:23:04.447Z"
   },
   {
    "duration": 234,
    "start_time": "2022-11-23T17:23:04.779Z"
   },
   {
    "duration": 349,
    "start_time": "2022-11-23T17:23:05.015Z"
   },
   {
    "duration": 153,
    "start_time": "2022-11-23T17:23:05.367Z"
   },
   {
    "duration": 5,
    "start_time": "2022-11-23T17:23:05.522Z"
   },
   {
    "duration": 164,
    "start_time": "2022-11-23T17:23:05.529Z"
   },
   {
    "duration": 6,
    "start_time": "2022-11-23T17:23:05.695Z"
   },
   {
    "duration": 242,
    "start_time": "2022-11-23T17:23:05.703Z"
   },
   {
    "duration": 283,
    "start_time": "2022-11-23T17:23:05.951Z"
   },
   {
    "duration": 17,
    "start_time": "2022-11-23T17:23:06.236Z"
   },
   {
    "duration": 9,
    "start_time": "2022-11-23T17:23:06.255Z"
   },
   {
    "duration": 9,
    "start_time": "2022-11-23T17:23:06.266Z"
   },
   {
    "duration": 12,
    "start_time": "2022-11-23T17:23:06.277Z"
   },
   {
    "duration": 9,
    "start_time": "2022-11-23T17:23:06.291Z"
   },
   {
    "duration": 61,
    "start_time": "2022-11-23T17:23:06.303Z"
   },
   {
    "duration": 14,
    "start_time": "2022-11-23T17:23:06.365Z"
   },
   {
    "duration": 1034,
    "start_time": "2022-11-23T17:31:12.993Z"
   },
   {
    "duration": 4,
    "start_time": "2022-11-23T17:31:14.029Z"
   },
   {
    "duration": 99,
    "start_time": "2022-11-23T17:31:14.035Z"
   },
   {
    "duration": 14,
    "start_time": "2022-11-23T17:31:14.135Z"
   },
   {
    "duration": 14,
    "start_time": "2022-11-23T17:31:14.151Z"
   },
   {
    "duration": 43,
    "start_time": "2022-11-23T17:31:14.166Z"
   },
   {
    "duration": 11,
    "start_time": "2022-11-23T17:31:14.211Z"
   },
   {
    "duration": 8,
    "start_time": "2022-11-23T17:31:14.224Z"
   },
   {
    "duration": 7,
    "start_time": "2022-11-23T17:31:14.234Z"
   },
   {
    "duration": 9,
    "start_time": "2022-11-23T17:31:14.242Z"
   },
   {
    "duration": 21,
    "start_time": "2022-11-23T17:31:14.253Z"
   },
   {
    "duration": 11,
    "start_time": "2022-11-23T17:31:14.276Z"
   },
   {
    "duration": 10,
    "start_time": "2022-11-23T17:31:14.288Z"
   },
   {
    "duration": 12,
    "start_time": "2022-11-23T17:31:14.300Z"
   },
   {
    "duration": 6,
    "start_time": "2022-11-23T17:31:14.313Z"
   },
   {
    "duration": 293,
    "start_time": "2022-11-23T17:31:14.321Z"
   },
   {
    "duration": 302,
    "start_time": "2022-11-23T17:31:14.616Z"
   },
   {
    "duration": 211,
    "start_time": "2022-11-23T17:31:14.920Z"
   },
   {
    "duration": 331,
    "start_time": "2022-11-23T17:31:15.132Z"
   },
   {
    "duration": 231,
    "start_time": "2022-11-23T17:31:15.465Z"
   },
   {
    "duration": 307,
    "start_time": "2022-11-23T17:31:15.697Z"
   },
   {
    "duration": 161,
    "start_time": "2022-11-23T17:31:16.006Z"
   },
   {
    "duration": 7,
    "start_time": "2022-11-23T17:31:16.168Z"
   },
   {
    "duration": 174,
    "start_time": "2022-11-23T17:31:16.177Z"
   },
   {
    "duration": 5,
    "start_time": "2022-11-23T17:31:16.353Z"
   },
   {
    "duration": 244,
    "start_time": "2022-11-23T17:31:16.360Z"
   },
   {
    "duration": 312,
    "start_time": "2022-11-23T17:31:16.605Z"
   },
   {
    "duration": 9,
    "start_time": "2022-11-23T17:31:16.919Z"
   },
   {
    "duration": 11,
    "start_time": "2022-11-23T17:31:16.929Z"
   },
   {
    "duration": 10,
    "start_time": "2022-11-23T17:31:16.951Z"
   },
   {
    "duration": 13,
    "start_time": "2022-11-23T17:31:16.963Z"
   },
   {
    "duration": 9,
    "start_time": "2022-11-23T17:31:16.979Z"
   },
   {
    "duration": 30,
    "start_time": "2022-11-23T17:31:17.524Z"
   },
   {
    "duration": 15,
    "start_time": "2022-11-23T17:31:17.556Z"
   },
   {
    "duration": 1136,
    "start_time": "2022-11-23T18:21:40.821Z"
   },
   {
    "duration": 3,
    "start_time": "2022-11-23T18:21:41.959Z"
   },
   {
    "duration": 96,
    "start_time": "2022-11-23T18:21:41.964Z"
   },
   {
    "duration": 15,
    "start_time": "2022-11-23T18:21:42.062Z"
   },
   {
    "duration": 13,
    "start_time": "2022-11-23T18:21:42.079Z"
   },
   {
    "duration": 49,
    "start_time": "2022-11-23T18:21:42.095Z"
   },
   {
    "duration": 12,
    "start_time": "2022-11-23T18:21:42.146Z"
   },
   {
    "duration": 14,
    "start_time": "2022-11-23T18:21:42.160Z"
   },
   {
    "duration": 9,
    "start_time": "2022-11-23T18:21:42.176Z"
   },
   {
    "duration": 35,
    "start_time": "2022-11-23T18:21:42.187Z"
   },
   {
    "duration": 24,
    "start_time": "2022-11-23T18:21:42.225Z"
   },
   {
    "duration": 12,
    "start_time": "2022-11-23T18:21:42.251Z"
   },
   {
    "duration": 8,
    "start_time": "2022-11-23T18:21:42.265Z"
   },
   {
    "duration": 7,
    "start_time": "2022-11-23T18:21:42.276Z"
   },
   {
    "duration": 6,
    "start_time": "2022-11-23T18:21:42.286Z"
   },
   {
    "duration": 362,
    "start_time": "2022-11-23T18:21:42.294Z"
   },
   {
    "duration": 334,
    "start_time": "2022-11-23T18:21:42.658Z"
   },
   {
    "duration": 239,
    "start_time": "2022-11-23T18:21:42.994Z"
   },
   {
    "duration": 331,
    "start_time": "2022-11-23T18:21:43.235Z"
   },
   {
    "duration": 229,
    "start_time": "2022-11-23T18:21:43.567Z"
   },
   {
    "duration": 313,
    "start_time": "2022-11-23T18:21:43.798Z"
   },
   {
    "duration": 161,
    "start_time": "2022-11-23T18:21:44.114Z"
   },
   {
    "duration": 5,
    "start_time": "2022-11-23T18:21:44.277Z"
   },
   {
    "duration": 171,
    "start_time": "2022-11-23T18:21:44.284Z"
   },
   {
    "duration": 6,
    "start_time": "2022-11-23T18:21:44.457Z"
   },
   {
    "duration": 240,
    "start_time": "2022-11-23T18:21:44.464Z"
   },
   {
    "duration": 327,
    "start_time": "2022-11-23T18:21:44.705Z"
   },
   {
    "duration": 17,
    "start_time": "2022-11-23T18:21:45.034Z"
   },
   {
    "duration": 7,
    "start_time": "2022-11-23T18:21:45.053Z"
   },
   {
    "duration": 11,
    "start_time": "2022-11-23T18:21:45.062Z"
   },
   {
    "duration": 19,
    "start_time": "2022-11-23T18:21:45.074Z"
   },
   {
    "duration": 10,
    "start_time": "2022-11-23T18:21:45.095Z"
   },
   {
    "duration": 56,
    "start_time": "2022-11-23T18:21:45.106Z"
   },
   {
    "duration": 17,
    "start_time": "2022-11-23T18:21:45.164Z"
   },
   {
    "duration": 1017,
    "start_time": "2022-11-23T19:03:46.182Z"
   },
   {
    "duration": 3,
    "start_time": "2022-11-23T19:03:47.201Z"
   },
   {
    "duration": 105,
    "start_time": "2022-11-23T19:03:47.206Z"
   },
   {
    "duration": 14,
    "start_time": "2022-11-23T19:03:47.312Z"
   },
   {
    "duration": 14,
    "start_time": "2022-11-23T19:03:47.328Z"
   },
   {
    "duration": 48,
    "start_time": "2022-11-23T19:03:47.344Z"
   },
   {
    "duration": 12,
    "start_time": "2022-11-23T19:03:47.394Z"
   },
   {
    "duration": 13,
    "start_time": "2022-11-23T19:03:47.408Z"
   },
   {
    "duration": 10,
    "start_time": "2022-11-23T19:03:47.423Z"
   },
   {
    "duration": 9,
    "start_time": "2022-11-23T19:03:47.435Z"
   },
   {
    "duration": 22,
    "start_time": "2022-11-23T19:03:47.446Z"
   },
   {
    "duration": 11,
    "start_time": "2022-11-23T19:03:47.470Z"
   },
   {
    "duration": 8,
    "start_time": "2022-11-23T19:03:47.483Z"
   },
   {
    "duration": 7,
    "start_time": "2022-11-23T19:03:47.494Z"
   },
   {
    "duration": 3,
    "start_time": "2022-11-23T19:03:47.503Z"
   },
   {
    "duration": 330,
    "start_time": "2022-11-23T19:03:47.508Z"
   },
   {
    "duration": 310,
    "start_time": "2022-11-23T19:03:47.840Z"
   },
   {
    "duration": 238,
    "start_time": "2022-11-23T19:03:48.153Z"
   },
   {
    "duration": 296,
    "start_time": "2022-11-23T19:03:48.393Z"
   },
   {
    "duration": 244,
    "start_time": "2022-11-23T19:03:48.692Z"
   },
   {
    "duration": 370,
    "start_time": "2022-11-23T19:03:48.938Z"
   },
   {
    "duration": 158,
    "start_time": "2022-11-23T19:03:49.310Z"
   },
   {
    "duration": 6,
    "start_time": "2022-11-23T19:03:49.470Z"
   },
   {
    "duration": 194,
    "start_time": "2022-11-23T19:03:49.477Z"
   },
   {
    "duration": 7,
    "start_time": "2022-11-23T19:03:49.674Z"
   },
   {
    "duration": 298,
    "start_time": "2022-11-23T19:03:49.683Z"
   },
   {
    "duration": 320,
    "start_time": "2022-11-23T19:03:49.983Z"
   },
   {
    "duration": 9,
    "start_time": "2022-11-23T19:03:50.305Z"
   },
   {
    "duration": 9,
    "start_time": "2022-11-23T19:03:50.316Z"
   },
   {
    "duration": 26,
    "start_time": "2022-11-23T19:03:50.327Z"
   },
   {
    "duration": 12,
    "start_time": "2022-11-23T19:03:50.355Z"
   },
   {
    "duration": 9,
    "start_time": "2022-11-23T19:03:50.369Z"
   },
   {
    "duration": 30,
    "start_time": "2022-11-23T19:03:50.380Z"
   },
   {
    "duration": 42,
    "start_time": "2022-11-23T19:03:50.412Z"
   },
   {
    "duration": 88,
    "start_time": "2022-11-23T19:26:27.493Z"
   },
   {
    "duration": 1046,
    "start_time": "2022-11-23T20:21:46.269Z"
   },
   {
    "duration": 4,
    "start_time": "2022-11-23T20:21:47.318Z"
   },
   {
    "duration": 93,
    "start_time": "2022-11-23T20:21:47.323Z"
   },
   {
    "duration": 14,
    "start_time": "2022-11-23T20:21:47.418Z"
   },
   {
    "duration": 20,
    "start_time": "2022-11-23T20:21:47.434Z"
   },
   {
    "duration": 44,
    "start_time": "2022-11-23T20:21:47.456Z"
   },
   {
    "duration": 11,
    "start_time": "2022-11-23T20:21:47.502Z"
   },
   {
    "duration": 10,
    "start_time": "2022-11-23T20:21:47.515Z"
   },
   {
    "duration": 8,
    "start_time": "2022-11-23T20:21:47.527Z"
   },
   {
    "duration": 6,
    "start_time": "2022-11-23T20:21:47.550Z"
   },
   {
    "duration": 27,
    "start_time": "2022-11-23T20:21:47.557Z"
   },
   {
    "duration": 11,
    "start_time": "2022-11-23T20:21:47.585Z"
   },
   {
    "duration": 11,
    "start_time": "2022-11-23T20:21:47.597Z"
   },
   {
    "duration": 7,
    "start_time": "2022-11-23T20:21:47.610Z"
   },
   {
    "duration": 5,
    "start_time": "2022-11-23T20:21:47.619Z"
   },
   {
    "duration": 318,
    "start_time": "2022-11-23T20:21:47.626Z"
   },
   {
    "duration": 297,
    "start_time": "2022-11-23T20:21:47.950Z"
   },
   {
    "duration": 215,
    "start_time": "2022-11-23T20:21:48.250Z"
   },
   {
    "duration": 303,
    "start_time": "2022-11-23T20:21:48.466Z"
   },
   {
    "duration": 311,
    "start_time": "2022-11-23T20:21:48.770Z"
   },
   {
    "duration": 677,
    "start_time": "2022-11-23T20:21:49.084Z"
   },
   {
    "duration": 400,
    "start_time": "2022-11-23T20:21:49.764Z"
   },
   {
    "duration": 6,
    "start_time": "2022-11-23T20:21:50.167Z"
   },
   {
    "duration": 377,
    "start_time": "2022-11-23T20:21:50.176Z"
   },
   {
    "duration": 5,
    "start_time": "2022-11-23T20:21:50.555Z"
   },
   {
    "duration": 437,
    "start_time": "2022-11-23T20:21:50.561Z"
   },
   {
    "duration": 332,
    "start_time": "2022-11-23T20:21:51.000Z"
   },
   {
    "duration": 22,
    "start_time": "2022-11-23T20:21:51.335Z"
   },
   {
    "duration": 9,
    "start_time": "2022-11-23T20:21:51.358Z"
   },
   {
    "duration": 15,
    "start_time": "2022-11-23T20:21:51.369Z"
   },
   {
    "duration": 13,
    "start_time": "2022-11-23T20:21:51.386Z"
   },
   {
    "duration": 12,
    "start_time": "2022-11-23T20:21:51.400Z"
   },
   {
    "duration": 44,
    "start_time": "2022-11-23T20:21:51.413Z"
   },
   {
    "duration": 15,
    "start_time": "2022-11-23T20:21:51.459Z"
   },
   {
    "duration": 1113,
    "start_time": "2022-11-23T20:23:37.233Z"
   },
   {
    "duration": 3,
    "start_time": "2022-11-23T20:23:38.348Z"
   },
   {
    "duration": 82,
    "start_time": "2022-11-23T20:23:38.352Z"
   },
   {
    "duration": 19,
    "start_time": "2022-11-23T20:23:38.436Z"
   },
   {
    "duration": 15,
    "start_time": "2022-11-23T20:23:38.456Z"
   },
   {
    "duration": 45,
    "start_time": "2022-11-23T20:23:38.472Z"
   },
   {
    "duration": 11,
    "start_time": "2022-11-23T20:23:38.519Z"
   },
   {
    "duration": 11,
    "start_time": "2022-11-23T20:23:38.532Z"
   },
   {
    "duration": 10,
    "start_time": "2022-11-23T20:23:38.545Z"
   },
   {
    "duration": 6,
    "start_time": "2022-11-23T20:23:38.557Z"
   },
   {
    "duration": 26,
    "start_time": "2022-11-23T20:23:38.565Z"
   },
   {
    "duration": 13,
    "start_time": "2022-11-23T20:23:38.592Z"
   },
   {
    "duration": 10,
    "start_time": "2022-11-23T20:23:38.607Z"
   },
   {
    "duration": 10,
    "start_time": "2022-11-23T20:23:38.619Z"
   },
   {
    "duration": 21,
    "start_time": "2022-11-23T20:23:38.630Z"
   },
   {
    "duration": 315,
    "start_time": "2022-11-23T20:23:38.653Z"
   },
   {
    "duration": 324,
    "start_time": "2022-11-23T20:23:38.970Z"
   },
   {
    "duration": 221,
    "start_time": "2022-11-23T20:23:39.296Z"
   },
   {
    "duration": 394,
    "start_time": "2022-11-23T20:23:39.519Z"
   },
   {
    "duration": 274,
    "start_time": "2022-11-23T20:23:39.915Z"
   },
   {
    "duration": 311,
    "start_time": "2022-11-23T20:23:40.190Z"
   },
   {
    "duration": 175,
    "start_time": "2022-11-23T20:23:40.502Z"
   },
   {
    "duration": 9,
    "start_time": "2022-11-23T20:23:40.679Z"
   },
   {
    "duration": 173,
    "start_time": "2022-11-23T20:23:40.690Z"
   },
   {
    "duration": 6,
    "start_time": "2022-11-23T20:23:40.866Z"
   },
   {
    "duration": 268,
    "start_time": "2022-11-23T20:23:40.874Z"
   },
   {
    "duration": 328,
    "start_time": "2022-11-23T20:23:41.144Z"
   },
   {
    "duration": 11,
    "start_time": "2022-11-23T20:23:41.476Z"
   },
   {
    "duration": 9,
    "start_time": "2022-11-23T20:23:41.488Z"
   },
   {
    "duration": 9,
    "start_time": "2022-11-23T20:23:41.499Z"
   },
   {
    "duration": 42,
    "start_time": "2022-11-23T20:23:41.510Z"
   },
   {
    "duration": 11,
    "start_time": "2022-11-23T20:23:41.554Z"
   },
   {
    "duration": 32,
    "start_time": "2022-11-23T20:23:41.567Z"
   },
   {
    "duration": 17,
    "start_time": "2022-11-23T20:23:41.601Z"
   },
   {
    "duration": 1109,
    "start_time": "2022-11-23T20:44:53.758Z"
   },
   {
    "duration": 3,
    "start_time": "2022-11-23T20:44:54.869Z"
   },
   {
    "duration": 100,
    "start_time": "2022-11-23T20:44:54.874Z"
   },
   {
    "duration": 15,
    "start_time": "2022-11-23T20:44:54.976Z"
   },
   {
    "duration": 13,
    "start_time": "2022-11-23T20:44:54.993Z"
   },
   {
    "duration": 48,
    "start_time": "2022-11-23T20:44:55.008Z"
   },
   {
    "duration": 12,
    "start_time": "2022-11-23T20:44:55.058Z"
   },
   {
    "duration": 14,
    "start_time": "2022-11-23T20:44:55.072Z"
   },
   {
    "duration": 13,
    "start_time": "2022-11-23T20:44:55.088Z"
   },
   {
    "duration": 7,
    "start_time": "2022-11-23T20:44:55.105Z"
   },
   {
    "duration": 50,
    "start_time": "2022-11-23T20:44:55.115Z"
   },
   {
    "duration": 11,
    "start_time": "2022-11-23T20:44:55.167Z"
   },
   {
    "duration": 32,
    "start_time": "2022-11-23T20:44:55.180Z"
   },
   {
    "duration": 22,
    "start_time": "2022-11-23T20:44:55.214Z"
   },
   {
    "duration": 10,
    "start_time": "2022-11-23T20:44:55.238Z"
   },
   {
    "duration": 326,
    "start_time": "2022-11-23T20:44:55.250Z"
   },
   {
    "duration": 346,
    "start_time": "2022-11-23T20:44:55.578Z"
   },
   {
    "duration": 258,
    "start_time": "2022-11-23T20:44:55.925Z"
   },
   {
    "duration": 302,
    "start_time": "2022-11-23T20:44:56.186Z"
   },
   {
    "duration": 240,
    "start_time": "2022-11-23T20:44:56.490Z"
   },
   {
    "duration": 351,
    "start_time": "2022-11-23T20:44:56.732Z"
   },
   {
    "duration": 166,
    "start_time": "2022-11-23T20:44:57.085Z"
   },
   {
    "duration": 6,
    "start_time": "2022-11-23T20:44:57.253Z"
   },
   {
    "duration": 177,
    "start_time": "2022-11-23T20:44:57.261Z"
   },
   {
    "duration": 13,
    "start_time": "2022-11-23T20:44:57.440Z"
   },
   {
    "duration": 252,
    "start_time": "2022-11-23T20:44:57.454Z"
   },
   {
    "duration": 299,
    "start_time": "2022-11-23T20:44:57.709Z"
   },
   {
    "duration": 12,
    "start_time": "2022-11-23T20:44:58.013Z"
   },
   {
    "duration": 26,
    "start_time": "2022-11-23T20:44:58.027Z"
   },
   {
    "duration": 10,
    "start_time": "2022-11-23T20:44:58.054Z"
   },
   {
    "duration": 13,
    "start_time": "2022-11-23T20:44:58.066Z"
   },
   {
    "duration": 9,
    "start_time": "2022-11-23T20:44:58.081Z"
   },
   {
    "duration": 65,
    "start_time": "2022-11-23T20:44:58.093Z"
   },
   {
    "duration": 16,
    "start_time": "2022-11-23T20:44:58.160Z"
   },
   {
    "duration": 77,
    "start_time": "2022-11-24T06:54:42.832Z"
   },
   {
    "duration": 44,
    "start_time": "2022-11-24T06:59:13.562Z"
   },
   {
    "duration": 1225,
    "start_time": "2022-11-24T06:59:29.332Z"
   },
   {
    "duration": 4,
    "start_time": "2022-11-24T06:59:30.559Z"
   },
   {
    "duration": 172,
    "start_time": "2022-11-24T06:59:30.564Z"
   },
   {
    "duration": 13,
    "start_time": "2022-11-24T06:59:30.738Z"
   },
   {
    "duration": 73,
    "start_time": "2022-11-24T06:59:30.752Z"
   },
   {
    "duration": 118,
    "start_time": "2022-11-24T06:59:30.826Z"
   },
   {
    "duration": 11,
    "start_time": "2022-11-24T06:59:30.946Z"
   },
   {
    "duration": 35,
    "start_time": "2022-11-24T06:59:30.959Z"
   },
   {
    "duration": 52,
    "start_time": "2022-11-24T06:59:30.996Z"
   },
   {
    "duration": 26,
    "start_time": "2022-11-24T06:59:31.051Z"
   },
   {
    "duration": 74,
    "start_time": "2022-11-24T06:59:31.079Z"
   },
   {
    "duration": 12,
    "start_time": "2022-11-24T06:59:31.155Z"
   },
   {
    "duration": 36,
    "start_time": "2022-11-24T06:59:31.168Z"
   },
   {
    "duration": 40,
    "start_time": "2022-11-24T06:59:31.205Z"
   },
   {
    "duration": 47,
    "start_time": "2022-11-24T06:59:31.247Z"
   },
   {
    "duration": 304,
    "start_time": "2022-11-24T06:59:31.296Z"
   },
   {
    "duration": 284,
    "start_time": "2022-11-24T06:59:31.604Z"
   },
   {
    "duration": 191,
    "start_time": "2022-11-24T06:59:31.889Z"
   },
   {
    "duration": 370,
    "start_time": "2022-11-24T06:59:32.082Z"
   },
   {
    "duration": 225,
    "start_time": "2022-11-24T06:59:32.453Z"
   },
   {
    "duration": 343,
    "start_time": "2022-11-24T06:59:32.680Z"
   },
   {
    "duration": 164,
    "start_time": "2022-11-24T06:59:33.024Z"
   },
   {
    "duration": 5,
    "start_time": "2022-11-24T06:59:33.190Z"
   },
   {
    "duration": 146,
    "start_time": "2022-11-24T06:59:33.204Z"
   },
   {
    "duration": 4,
    "start_time": "2022-11-24T06:59:33.352Z"
   },
   {
    "duration": 235,
    "start_time": "2022-11-24T06:59:33.358Z"
   },
   {
    "duration": 320,
    "start_time": "2022-11-24T06:59:33.594Z"
   },
   {
    "duration": 9,
    "start_time": "2022-11-24T06:59:33.918Z"
   },
   {
    "duration": 10,
    "start_time": "2022-11-24T06:59:33.929Z"
   },
   {
    "duration": 12,
    "start_time": "2022-11-24T06:59:33.941Z"
   },
   {
    "duration": 16,
    "start_time": "2022-11-24T06:59:33.956Z"
   },
   {
    "duration": 1297,
    "start_time": "2022-11-24T06:59:33.974Z"
   },
   {
    "duration": 0,
    "start_time": "2022-11-24T06:59:35.273Z"
   },
   {
    "duration": 0,
    "start_time": "2022-11-24T06:59:35.274Z"
   },
   {
    "duration": 1189,
    "start_time": "2022-11-24T07:00:06.023Z"
   },
   {
    "duration": 12,
    "start_time": "2022-11-24T07:00:12.812Z"
   },
   {
    "duration": 1142,
    "start_time": "2022-11-24T07:00:46.286Z"
   },
   {
    "duration": 3,
    "start_time": "2022-11-24T07:00:47.431Z"
   },
   {
    "duration": 91,
    "start_time": "2022-11-24T07:00:47.436Z"
   },
   {
    "duration": 17,
    "start_time": "2022-11-24T07:00:47.531Z"
   },
   {
    "duration": 45,
    "start_time": "2022-11-24T07:00:47.550Z"
   },
   {
    "duration": 51,
    "start_time": "2022-11-24T07:00:47.597Z"
   },
   {
    "duration": 12,
    "start_time": "2022-11-24T07:00:47.649Z"
   },
   {
    "duration": 13,
    "start_time": "2022-11-24T07:00:47.663Z"
   },
   {
    "duration": 17,
    "start_time": "2022-11-24T07:00:47.678Z"
   },
   {
    "duration": 6,
    "start_time": "2022-11-24T07:00:47.697Z"
   },
   {
    "duration": 22,
    "start_time": "2022-11-24T07:00:47.705Z"
   },
   {
    "duration": 11,
    "start_time": "2022-11-24T07:00:47.729Z"
   },
   {
    "duration": 9,
    "start_time": "2022-11-24T07:00:47.742Z"
   },
   {
    "duration": 28,
    "start_time": "2022-11-24T07:00:47.754Z"
   },
   {
    "duration": 5,
    "start_time": "2022-11-24T07:00:47.783Z"
   },
   {
    "duration": 270,
    "start_time": "2022-11-24T07:00:47.789Z"
   },
   {
    "duration": 301,
    "start_time": "2022-11-24T07:00:48.060Z"
   },
   {
    "duration": 223,
    "start_time": "2022-11-24T07:00:48.363Z"
   },
   {
    "duration": 322,
    "start_time": "2022-11-24T07:00:48.587Z"
   },
   {
    "duration": 232,
    "start_time": "2022-11-24T07:00:48.910Z"
   },
   {
    "duration": 285,
    "start_time": "2022-11-24T07:00:49.144Z"
   },
   {
    "duration": 133,
    "start_time": "2022-11-24T07:00:49.430Z"
   },
   {
    "duration": 5,
    "start_time": "2022-11-24T07:00:49.565Z"
   },
   {
    "duration": 150,
    "start_time": "2022-11-24T07:00:49.571Z"
   },
   {
    "duration": 5,
    "start_time": "2022-11-24T07:00:49.723Z"
   },
   {
    "duration": 235,
    "start_time": "2022-11-24T07:00:49.729Z"
   },
   {
    "duration": 297,
    "start_time": "2022-11-24T07:00:49.966Z"
   },
   {
    "duration": 9,
    "start_time": "2022-11-24T07:00:50.266Z"
   },
   {
    "duration": 16,
    "start_time": "2022-11-24T07:00:50.276Z"
   },
   {
    "duration": 26,
    "start_time": "2022-11-24T07:00:50.294Z"
   },
   {
    "duration": 48,
    "start_time": "2022-11-24T07:00:50.321Z"
   },
   {
    "duration": 30,
    "start_time": "2022-11-24T07:00:50.371Z"
   },
   {
    "duration": 55,
    "start_time": "2022-11-24T07:00:50.403Z"
   },
   {
    "duration": 21,
    "start_time": "2022-11-24T07:00:50.459Z"
   },
   {
    "duration": 334,
    "start_time": "2022-11-24T07:02:13.483Z"
   },
   {
    "duration": 272,
    "start_time": "2022-11-24T07:02:35.865Z"
   },
   {
    "duration": 66,
    "start_time": "2022-11-24T17:53:15.286Z"
   },
   {
    "duration": 1308,
    "start_time": "2022-11-24T17:53:21.420Z"
   },
   {
    "duration": 3,
    "start_time": "2022-11-24T17:53:22.731Z"
   },
   {
    "duration": 115,
    "start_time": "2022-11-24T17:53:22.735Z"
   },
   {
    "duration": 14,
    "start_time": "2022-11-24T17:53:22.852Z"
   },
   {
    "duration": 13,
    "start_time": "2022-11-24T17:53:22.868Z"
   },
   {
    "duration": 86,
    "start_time": "2022-11-24T17:53:22.883Z"
   },
   {
    "duration": 12,
    "start_time": "2022-11-24T17:53:22.971Z"
   },
   {
    "duration": 12,
    "start_time": "2022-11-24T17:53:22.984Z"
   },
   {
    "duration": 19,
    "start_time": "2022-11-24T17:53:22.999Z"
   },
   {
    "duration": 8,
    "start_time": "2022-11-24T17:53:23.019Z"
   },
   {
    "duration": 59,
    "start_time": "2022-11-24T17:53:23.029Z"
   },
   {
    "duration": 16,
    "start_time": "2022-11-24T17:53:23.090Z"
   },
   {
    "duration": 20,
    "start_time": "2022-11-24T17:53:23.109Z"
   },
   {
    "duration": 11,
    "start_time": "2022-11-24T17:53:23.131Z"
   },
   {
    "duration": 4,
    "start_time": "2022-11-24T17:53:23.144Z"
   },
   {
    "duration": 337,
    "start_time": "2022-11-24T17:53:23.150Z"
   },
   {
    "duration": 350,
    "start_time": "2022-11-24T17:53:23.489Z"
   },
   {
    "duration": 230,
    "start_time": "2022-11-24T17:53:23.841Z"
   },
   {
    "duration": 382,
    "start_time": "2022-11-24T17:53:24.073Z"
   },
   {
    "duration": 249,
    "start_time": "2022-11-24T17:53:24.457Z"
   },
   {
    "duration": 346,
    "start_time": "2022-11-24T17:53:24.709Z"
   },
   {
    "duration": 184,
    "start_time": "2022-11-24T17:53:25.058Z"
   },
   {
    "duration": 6,
    "start_time": "2022-11-24T17:53:25.244Z"
   },
   {
    "duration": 174,
    "start_time": "2022-11-24T17:53:25.251Z"
   },
   {
    "duration": 6,
    "start_time": "2022-11-24T17:53:25.427Z"
   },
   {
    "duration": 604,
    "start_time": "2022-11-24T17:53:25.434Z"
   },
   {
    "duration": 1194,
    "start_time": "2022-11-24T17:53:26.045Z"
   },
   {
    "duration": 69,
    "start_time": "2022-11-24T17:53:27.241Z"
   },
   {
    "duration": 19,
    "start_time": "2022-11-24T17:53:27.313Z"
   },
   {
    "duration": 14,
    "start_time": "2022-11-24T17:53:27.334Z"
   },
   {
    "duration": 59,
    "start_time": "2022-11-24T17:53:27.350Z"
   },
   {
    "duration": 26,
    "start_time": "2022-11-24T17:53:27.411Z"
   },
   {
    "duration": 75,
    "start_time": "2022-11-24T17:53:27.439Z"
   },
   {
    "duration": 18,
    "start_time": "2022-11-24T17:53:27.516Z"
   },
   {
    "duration": 305,
    "start_time": "2022-11-24T17:55:48.914Z"
   },
   {
    "duration": 6,
    "start_time": "2022-11-24T17:58:14.066Z"
   },
   {
    "duration": 7,
    "start_time": "2022-11-24T17:58:29.514Z"
   },
   {
    "duration": 46,
    "start_time": "2022-11-24T17:59:04.806Z"
   },
   {
    "duration": 9,
    "start_time": "2022-11-24T17:59:13.137Z"
   },
   {
    "duration": 26,
    "start_time": "2022-11-24T18:00:02.198Z"
   },
   {
    "duration": 13,
    "start_time": "2022-11-24T18:00:14.163Z"
   },
   {
    "duration": 40,
    "start_time": "2022-11-24T18:00:39.090Z"
   },
   {
    "duration": 48,
    "start_time": "2022-11-24T18:01:00.836Z"
   },
   {
    "duration": 14,
    "start_time": "2022-11-24T18:01:13.409Z"
   },
   {
    "duration": 1069,
    "start_time": "2022-11-24T18:01:18.877Z"
   },
   {
    "duration": 3,
    "start_time": "2022-11-24T18:01:19.948Z"
   },
   {
    "duration": 96,
    "start_time": "2022-11-24T18:01:19.952Z"
   },
   {
    "duration": 13,
    "start_time": "2022-11-24T18:01:20.051Z"
   },
   {
    "duration": 12,
    "start_time": "2022-11-24T18:01:20.066Z"
   },
   {
    "duration": 63,
    "start_time": "2022-11-24T18:01:20.080Z"
   },
   {
    "duration": 12,
    "start_time": "2022-11-24T18:01:20.144Z"
   },
   {
    "duration": 9,
    "start_time": "2022-11-24T18:01:20.157Z"
   },
   {
    "duration": 7,
    "start_time": "2022-11-24T18:01:20.168Z"
   },
   {
    "duration": 5,
    "start_time": "2022-11-24T18:01:20.178Z"
   },
   {
    "duration": 28,
    "start_time": "2022-11-24T18:01:20.185Z"
   },
   {
    "duration": 10,
    "start_time": "2022-11-24T18:01:20.215Z"
   },
   {
    "duration": 9,
    "start_time": "2022-11-24T18:01:20.227Z"
   },
   {
    "duration": 8,
    "start_time": "2022-11-24T18:01:20.237Z"
   },
   {
    "duration": 4,
    "start_time": "2022-11-24T18:01:20.247Z"
   },
   {
    "duration": 332,
    "start_time": "2022-11-24T18:01:20.252Z"
   },
   {
    "duration": 284,
    "start_time": "2022-11-24T18:01:20.586Z"
   },
   {
    "duration": 211,
    "start_time": "2022-11-24T18:01:20.872Z"
   },
   {
    "duration": 313,
    "start_time": "2022-11-24T18:01:21.085Z"
   },
   {
    "duration": 228,
    "start_time": "2022-11-24T18:01:21.400Z"
   },
   {
    "duration": 316,
    "start_time": "2022-11-24T18:01:21.629Z"
   },
   {
    "duration": 174,
    "start_time": "2022-11-24T18:01:21.947Z"
   },
   {
    "duration": 5,
    "start_time": "2022-11-24T18:01:22.122Z"
   },
   {
    "duration": 169,
    "start_time": "2022-11-24T18:01:22.129Z"
   },
   {
    "duration": 6,
    "start_time": "2022-11-24T18:01:22.299Z"
   },
   {
    "duration": 237,
    "start_time": "2022-11-24T18:01:22.306Z"
   },
   {
    "duration": 292,
    "start_time": "2022-11-24T18:01:22.544Z"
   },
   {
    "duration": 8,
    "start_time": "2022-11-24T18:01:22.839Z"
   },
   {
    "duration": 16,
    "start_time": "2022-11-24T18:01:22.849Z"
   },
   {
    "duration": 19,
    "start_time": "2022-11-24T18:01:22.866Z"
   },
   {
    "duration": 17,
    "start_time": "2022-11-24T18:01:22.886Z"
   },
   {
    "duration": 17,
    "start_time": "2022-11-24T18:01:22.905Z"
   },
   {
    "duration": 37,
    "start_time": "2022-11-24T18:01:22.924Z"
   },
   {
    "duration": 38,
    "start_time": "2022-11-24T18:01:22.963Z"
   },
   {
    "duration": 100,
    "start_time": "2022-11-24T18:08:47.986Z"
   },
   {
    "duration": 14,
    "start_time": "2022-11-24T18:09:14.482Z"
   },
   {
    "duration": 4,
    "start_time": "2022-11-24T18:10:43.986Z"
   },
   {
    "duration": 48,
    "start_time": "2022-11-24T18:11:24.978Z"
   },
   {
    "duration": 12,
    "start_time": "2022-11-24T18:11:35.558Z"
   },
   {
    "duration": 10,
    "start_time": "2022-11-24T18:11:46.415Z"
   },
   {
    "duration": 1002,
    "start_time": "2022-11-24T18:11:53.599Z"
   },
   {
    "duration": 3,
    "start_time": "2022-11-24T18:11:54.603Z"
   },
   {
    "duration": 73,
    "start_time": "2022-11-24T18:11:54.607Z"
   },
   {
    "duration": 21,
    "start_time": "2022-11-24T18:11:54.682Z"
   },
   {
    "duration": 12,
    "start_time": "2022-11-24T18:11:54.704Z"
   },
   {
    "duration": 45,
    "start_time": "2022-11-24T18:11:54.718Z"
   },
   {
    "duration": 11,
    "start_time": "2022-11-24T18:11:54.765Z"
   },
   {
    "duration": 8,
    "start_time": "2022-11-24T18:11:54.777Z"
   },
   {
    "duration": 7,
    "start_time": "2022-11-24T18:11:54.786Z"
   },
   {
    "duration": 5,
    "start_time": "2022-11-24T18:11:54.797Z"
   },
   {
    "duration": 23,
    "start_time": "2022-11-24T18:11:54.803Z"
   },
   {
    "duration": 9,
    "start_time": "2022-11-24T18:11:54.828Z"
   },
   {
    "duration": 11,
    "start_time": "2022-11-24T18:11:54.839Z"
   },
   {
    "duration": 9,
    "start_time": "2022-11-24T18:11:54.851Z"
   },
   {
    "duration": 4,
    "start_time": "2022-11-24T18:11:54.861Z"
   },
   {
    "duration": 304,
    "start_time": "2022-11-24T18:11:54.866Z"
   },
   {
    "duration": 285,
    "start_time": "2022-11-24T18:11:55.173Z"
   },
   {
    "duration": 194,
    "start_time": "2022-11-24T18:11:55.460Z"
   },
   {
    "duration": 312,
    "start_time": "2022-11-24T18:11:55.656Z"
   },
   {
    "duration": 283,
    "start_time": "2022-11-24T18:11:55.972Z"
   },
   {
    "duration": 351,
    "start_time": "2022-11-24T18:11:56.257Z"
   },
   {
    "duration": 141,
    "start_time": "2022-11-24T18:11:56.610Z"
   },
   {
    "duration": 4,
    "start_time": "2022-11-24T18:11:56.753Z"
   },
   {
    "duration": 9,
    "start_time": "2022-11-24T18:11:56.759Z"
   },
   {
    "duration": 153,
    "start_time": "2022-11-24T18:11:56.769Z"
   },
   {
    "duration": 5,
    "start_time": "2022-11-24T18:11:56.924Z"
   },
   {
    "duration": 7,
    "start_time": "2022-11-24T18:11:56.931Z"
   },
   {
    "duration": 231,
    "start_time": "2022-11-24T18:11:56.940Z"
   },
   {
    "duration": 285,
    "start_time": "2022-11-24T18:11:57.173Z"
   },
   {
    "duration": 8,
    "start_time": "2022-11-24T18:11:57.459Z"
   },
   {
    "duration": 6,
    "start_time": "2022-11-24T18:11:57.469Z"
   },
   {
    "duration": 30,
    "start_time": "2022-11-24T18:11:57.476Z"
   },
   {
    "duration": 12,
    "start_time": "2022-11-24T18:11:57.507Z"
   },
   {
    "duration": 101,
    "start_time": "2022-11-24T18:11:57.520Z"
   },
   {
    "duration": 0,
    "start_time": "2022-11-24T18:11:57.623Z"
   },
   {
    "duration": 0,
    "start_time": "2022-11-24T18:11:57.625Z"
   },
   {
    "duration": 14,
    "start_time": "2022-11-24T18:12:25.262Z"
   },
   {
    "duration": 12,
    "start_time": "2022-11-24T18:12:57.046Z"
   },
   {
    "duration": 989,
    "start_time": "2022-11-24T18:13:13.529Z"
   },
   {
    "duration": 3,
    "start_time": "2022-11-24T18:13:14.520Z"
   },
   {
    "duration": 79,
    "start_time": "2022-11-24T18:13:14.524Z"
   },
   {
    "duration": 17,
    "start_time": "2022-11-24T18:13:14.606Z"
   },
   {
    "duration": 13,
    "start_time": "2022-11-24T18:13:14.625Z"
   },
   {
    "duration": 41,
    "start_time": "2022-11-24T18:13:14.639Z"
   },
   {
    "duration": 12,
    "start_time": "2022-11-24T18:13:14.682Z"
   },
   {
    "duration": 11,
    "start_time": "2022-11-24T18:13:14.695Z"
   },
   {
    "duration": 10,
    "start_time": "2022-11-24T18:13:14.707Z"
   },
   {
    "duration": 5,
    "start_time": "2022-11-24T18:13:14.719Z"
   },
   {
    "duration": 22,
    "start_time": "2022-11-24T18:13:14.726Z"
   },
   {
    "duration": 11,
    "start_time": "2022-11-24T18:13:14.749Z"
   },
   {
    "duration": 7,
    "start_time": "2022-11-24T18:13:14.762Z"
   },
   {
    "duration": 29,
    "start_time": "2022-11-24T18:13:14.770Z"
   },
   {
    "duration": 4,
    "start_time": "2022-11-24T18:13:14.801Z"
   },
   {
    "duration": 315,
    "start_time": "2022-11-24T18:13:14.806Z"
   },
   {
    "duration": 309,
    "start_time": "2022-11-24T18:13:15.124Z"
   },
   {
    "duration": 227,
    "start_time": "2022-11-24T18:13:15.435Z"
   },
   {
    "duration": 398,
    "start_time": "2022-11-24T18:13:15.664Z"
   },
   {
    "duration": 301,
    "start_time": "2022-11-24T18:13:16.064Z"
   },
   {
    "duration": 352,
    "start_time": "2022-11-24T18:13:16.366Z"
   },
   {
    "duration": 150,
    "start_time": "2022-11-24T18:13:16.719Z"
   },
   {
    "duration": 5,
    "start_time": "2022-11-24T18:13:16.871Z"
   },
   {
    "duration": 171,
    "start_time": "2022-11-24T18:13:16.878Z"
   },
   {
    "duration": 5,
    "start_time": "2022-11-24T18:13:17.051Z"
   },
   {
    "duration": 254,
    "start_time": "2022-11-24T18:13:17.057Z"
   },
   {
    "duration": 313,
    "start_time": "2022-11-24T18:13:17.313Z"
   },
   {
    "duration": 9,
    "start_time": "2022-11-24T18:13:17.629Z"
   },
   {
    "duration": 11,
    "start_time": "2022-11-24T18:13:17.639Z"
   },
   {
    "duration": 18,
    "start_time": "2022-11-24T18:13:17.651Z"
   },
   {
    "duration": 27,
    "start_time": "2022-11-24T18:13:17.670Z"
   },
   {
    "duration": 14,
    "start_time": "2022-11-24T18:13:17.701Z"
   },
   {
    "duration": 26,
    "start_time": "2022-11-24T18:13:17.717Z"
   },
   {
    "duration": 19,
    "start_time": "2022-11-24T18:13:17.745Z"
   },
   {
    "duration": 101,
    "start_time": "2022-11-24T18:14:01.267Z"
   },
   {
    "duration": 12,
    "start_time": "2022-11-24T18:14:14.674Z"
   },
   {
    "duration": 16,
    "start_time": "2022-11-24T18:14:25.922Z"
   },
   {
    "duration": 11,
    "start_time": "2022-11-24T18:15:05.438Z"
   },
   {
    "duration": 163,
    "start_time": "2022-11-24T18:15:37.499Z"
   },
   {
    "duration": 14,
    "start_time": "2022-11-24T18:15:50.109Z"
   },
   {
    "duration": 12,
    "start_time": "2022-11-24T18:16:03.725Z"
   },
   {
    "duration": 9,
    "start_time": "2022-11-24T18:16:23.154Z"
   },
   {
    "duration": 1075,
    "start_time": "2022-11-24T18:16:31.583Z"
   },
   {
    "duration": 4,
    "start_time": "2022-11-24T18:16:32.660Z"
   },
   {
    "duration": 94,
    "start_time": "2022-11-24T18:16:32.665Z"
   },
   {
    "duration": 14,
    "start_time": "2022-11-24T18:16:32.761Z"
   },
   {
    "duration": 25,
    "start_time": "2022-11-24T18:16:32.777Z"
   },
   {
    "duration": 45,
    "start_time": "2022-11-24T18:16:32.804Z"
   },
   {
    "duration": 11,
    "start_time": "2022-11-24T18:16:32.850Z"
   },
   {
    "duration": 8,
    "start_time": "2022-11-24T18:16:32.863Z"
   },
   {
    "duration": 8,
    "start_time": "2022-11-24T18:16:32.872Z"
   },
   {
    "duration": 14,
    "start_time": "2022-11-24T18:16:32.883Z"
   },
   {
    "duration": 23,
    "start_time": "2022-11-24T18:16:32.899Z"
   },
   {
    "duration": 11,
    "start_time": "2022-11-24T18:16:32.924Z"
   },
   {
    "duration": 13,
    "start_time": "2022-11-24T18:16:32.936Z"
   },
   {
    "duration": 11,
    "start_time": "2022-11-24T18:16:32.951Z"
   },
   {
    "duration": 9,
    "start_time": "2022-11-24T18:16:32.965Z"
   },
   {
    "duration": 295,
    "start_time": "2022-11-24T18:16:32.976Z"
   },
   {
    "duration": 308,
    "start_time": "2022-11-24T18:16:33.273Z"
   },
   {
    "duration": 208,
    "start_time": "2022-11-24T18:16:33.583Z"
   },
   {
    "duration": 334,
    "start_time": "2022-11-24T18:16:33.797Z"
   },
   {
    "duration": 225,
    "start_time": "2022-11-24T18:16:34.134Z"
   },
   {
    "duration": 365,
    "start_time": "2022-11-24T18:16:34.361Z"
   },
   {
    "duration": 182,
    "start_time": "2022-11-24T18:16:34.728Z"
   },
   {
    "duration": 10,
    "start_time": "2022-11-24T18:16:34.913Z"
   },
   {
    "duration": 253,
    "start_time": "2022-11-24T18:16:34.925Z"
   },
   {
    "duration": 17,
    "start_time": "2022-11-24T18:16:35.180Z"
   },
   {
    "duration": 264,
    "start_time": "2022-11-24T18:16:35.200Z"
   },
   {
    "duration": 365,
    "start_time": "2022-11-24T18:16:35.466Z"
   },
   {
    "duration": 12,
    "start_time": "2022-11-24T18:16:35.834Z"
   },
   {
    "duration": 21,
    "start_time": "2022-11-24T18:16:35.849Z"
   },
   {
    "duration": 26,
    "start_time": "2022-11-24T18:16:35.872Z"
   },
   {
    "duration": 27,
    "start_time": "2022-11-24T18:16:35.901Z"
   },
   {
    "duration": 30,
    "start_time": "2022-11-24T18:16:35.933Z"
   },
   {
    "duration": 59,
    "start_time": "2022-11-24T18:16:35.965Z"
   },
   {
    "duration": 22,
    "start_time": "2022-11-24T18:16:36.026Z"
   },
   {
    "duration": 8,
    "start_time": "2022-11-24T18:17:56.371Z"
   },
   {
    "duration": 1127,
    "start_time": "2022-11-24T18:20:07.578Z"
   },
   {
    "duration": 4,
    "start_time": "2022-11-24T18:20:08.707Z"
   },
   {
    "duration": 116,
    "start_time": "2022-11-24T18:20:08.712Z"
   },
   {
    "duration": 15,
    "start_time": "2022-11-24T18:20:08.830Z"
   },
   {
    "duration": 17,
    "start_time": "2022-11-24T18:20:08.847Z"
   },
   {
    "duration": 57,
    "start_time": "2022-11-24T18:20:08.866Z"
   },
   {
    "duration": 12,
    "start_time": "2022-11-24T18:20:08.925Z"
   },
   {
    "duration": 13,
    "start_time": "2022-11-24T18:20:08.939Z"
   },
   {
    "duration": 10,
    "start_time": "2022-11-24T18:20:08.954Z"
   },
   {
    "duration": 14,
    "start_time": "2022-11-24T18:20:08.968Z"
   },
   {
    "duration": 39,
    "start_time": "2022-11-24T18:20:08.984Z"
   },
   {
    "duration": 14,
    "start_time": "2022-11-24T18:20:09.027Z"
   },
   {
    "duration": 19,
    "start_time": "2022-11-24T18:20:09.043Z"
   },
   {
    "duration": 11,
    "start_time": "2022-11-24T18:20:09.065Z"
   },
   {
    "duration": 11,
    "start_time": "2022-11-24T18:20:09.078Z"
   },
   {
    "duration": 325,
    "start_time": "2022-11-24T18:20:09.091Z"
   },
   {
    "duration": 287,
    "start_time": "2022-11-24T18:20:09.418Z"
   },
   {
    "duration": 214,
    "start_time": "2022-11-24T18:20:09.707Z"
   },
   {
    "duration": 334,
    "start_time": "2022-11-24T18:20:09.924Z"
   },
   {
    "duration": 272,
    "start_time": "2022-11-24T18:20:10.260Z"
   },
   {
    "duration": 318,
    "start_time": "2022-11-24T18:20:10.534Z"
   },
   {
    "duration": 164,
    "start_time": "2022-11-24T18:20:10.854Z"
   },
   {
    "duration": 6,
    "start_time": "2022-11-24T18:20:11.020Z"
   },
   {
    "duration": 167,
    "start_time": "2022-11-24T18:20:11.028Z"
   },
   {
    "duration": 6,
    "start_time": "2022-11-24T18:20:11.198Z"
   },
   {
    "duration": 242,
    "start_time": "2022-11-24T18:20:11.207Z"
   },
   {
    "duration": 299,
    "start_time": "2022-11-24T18:20:11.451Z"
   },
   {
    "duration": 9,
    "start_time": "2022-11-24T18:20:11.752Z"
   },
   {
    "duration": 9,
    "start_time": "2022-11-24T18:20:11.763Z"
   },
   {
    "duration": 27,
    "start_time": "2022-11-24T18:20:11.773Z"
   },
   {
    "duration": 15,
    "start_time": "2022-11-24T18:20:11.802Z"
   },
   {
    "duration": 14,
    "start_time": "2022-11-24T18:20:11.818Z"
   },
   {
    "duration": 36,
    "start_time": "2022-11-24T18:20:11.834Z"
   },
   {
    "duration": 33,
    "start_time": "2022-11-24T18:20:11.872Z"
   },
   {
    "duration": 83,
    "start_time": "2022-11-24T18:40:37.330Z"
   },
   {
    "duration": 69,
    "start_time": "2022-11-24T18:41:00.865Z"
   },
   {
    "duration": 67,
    "start_time": "2022-11-24T18:41:08.292Z"
   },
   {
    "duration": 114,
    "start_time": "2022-11-24T18:41:26.815Z"
   },
   {
    "duration": 68,
    "start_time": "2022-11-24T18:41:32.761Z"
   },
   {
    "duration": 69,
    "start_time": "2022-11-24T18:41:37.146Z"
   },
   {
    "duration": 7,
    "start_time": "2022-11-24T18:41:49.751Z"
   },
   {
    "duration": 887,
    "start_time": "2022-11-24T18:42:10.694Z"
   },
   {
    "duration": 3,
    "start_time": "2022-11-24T18:42:18.260Z"
   },
   {
    "duration": 1098,
    "start_time": "2022-11-24T18:42:31.417Z"
   },
   {
    "duration": 3,
    "start_time": "2022-11-24T18:42:32.517Z"
   },
   {
    "duration": 95,
    "start_time": "2022-11-24T18:42:32.522Z"
   },
   {
    "duration": 16,
    "start_time": "2022-11-24T18:42:32.618Z"
   },
   {
    "duration": 17,
    "start_time": "2022-11-24T18:42:32.637Z"
   },
   {
    "duration": 53,
    "start_time": "2022-11-24T18:42:32.655Z"
   },
   {
    "duration": 13,
    "start_time": "2022-11-24T18:42:32.711Z"
   },
   {
    "duration": 20,
    "start_time": "2022-11-24T18:42:32.726Z"
   },
   {
    "duration": 9,
    "start_time": "2022-11-24T18:42:32.749Z"
   },
   {
    "duration": 13,
    "start_time": "2022-11-24T18:42:32.759Z"
   },
   {
    "duration": 28,
    "start_time": "2022-11-24T18:42:32.775Z"
   },
   {
    "duration": 16,
    "start_time": "2022-11-24T18:42:32.805Z"
   },
   {
    "duration": 16,
    "start_time": "2022-11-24T18:42:32.823Z"
   },
   {
    "duration": 13,
    "start_time": "2022-11-24T18:42:32.844Z"
   },
   {
    "duration": 10,
    "start_time": "2022-11-24T18:42:32.860Z"
   },
   {
    "duration": 89,
    "start_time": "2022-11-24T18:42:32.873Z"
   },
   {
    "duration": 4,
    "start_time": "2022-11-24T18:42:32.964Z"
   },
   {
    "duration": 322,
    "start_time": "2022-11-24T18:42:32.969Z"
   },
   {
    "duration": 308,
    "start_time": "2022-11-24T18:42:33.296Z"
   },
   {
    "duration": 491,
    "start_time": "2022-11-24T18:42:33.606Z"
   },
   {
    "duration": 532,
    "start_time": "2022-11-24T18:42:34.099Z"
   },
   {
    "duration": 568,
    "start_time": "2022-11-24T18:42:34.634Z"
   },
   {
    "duration": 523,
    "start_time": "2022-11-24T18:42:35.204Z"
   },
   {
    "duration": 383,
    "start_time": "2022-11-24T18:42:35.730Z"
   },
   {
    "duration": 7,
    "start_time": "2022-11-24T18:42:36.115Z"
   },
   {
    "duration": 389,
    "start_time": "2022-11-24T18:42:36.125Z"
   },
   {
    "duration": 5,
    "start_time": "2022-11-24T18:42:36.516Z"
   },
   {
    "duration": 503,
    "start_time": "2022-11-24T18:42:36.523Z"
   },
   {
    "duration": 615,
    "start_time": "2022-11-24T18:42:37.028Z"
   },
   {
    "duration": 56,
    "start_time": "2022-11-24T18:42:37.645Z"
   },
   {
    "duration": 8,
    "start_time": "2022-11-24T18:42:37.703Z"
   },
   {
    "duration": 13,
    "start_time": "2022-11-24T18:42:37.713Z"
   },
   {
    "duration": 12,
    "start_time": "2022-11-24T18:42:37.728Z"
   },
   {
    "duration": 13,
    "start_time": "2022-11-24T18:42:37.797Z"
   },
   {
    "duration": 93,
    "start_time": "2022-11-24T18:42:37.812Z"
   },
   {
    "duration": 19,
    "start_time": "2022-11-24T18:42:37.907Z"
   },
   {
    "duration": 3,
    "start_time": "2022-11-24T18:59:56.227Z"
   },
   {
    "duration": 3,
    "start_time": "2022-11-24T18:59:57.346Z"
   },
   {
    "duration": 4,
    "start_time": "2022-11-24T19:00:00.177Z"
   },
   {
    "duration": 4,
    "start_time": "2022-11-24T19:00:13.840Z"
   },
   {
    "duration": 927,
    "start_time": "2022-11-24T21:21:12.186Z"
   },
   {
    "duration": 818,
    "start_time": "2022-11-24T21:21:33.117Z"
   },
   {
    "duration": 3,
    "start_time": "2022-11-24T21:21:42.286Z"
   },
   {
    "duration": 5,
    "start_time": "2022-11-24T21:21:50.676Z"
   },
   {
    "duration": 3,
    "start_time": "2022-11-24T21:21:57.378Z"
   },
   {
    "duration": 4,
    "start_time": "2022-11-24T21:21:59.349Z"
   },
   {
    "duration": 4,
    "start_time": "2022-11-24T21:22:55.792Z"
   },
   {
    "duration": 4,
    "start_time": "2022-11-24T21:23:38.887Z"
   },
   {
    "duration": 4,
    "start_time": "2022-11-24T21:23:45.170Z"
   },
   {
    "duration": 7,
    "start_time": "2022-11-24T21:23:49.302Z"
   },
   {
    "duration": 4,
    "start_time": "2022-11-24T21:24:00.146Z"
   },
   {
    "duration": 4,
    "start_time": "2022-11-24T21:24:32.812Z"
   },
   {
    "duration": 4,
    "start_time": "2022-11-24T21:25:29.434Z"
   },
   {
    "duration": 3,
    "start_time": "2022-11-24T21:25:34.443Z"
   },
   {
    "duration": 3,
    "start_time": "2022-11-24T21:26:12.114Z"
   },
   {
    "duration": 4,
    "start_time": "2022-11-24T21:26:35.983Z"
   },
   {
    "duration": 4,
    "start_time": "2022-11-24T21:26:38.420Z"
   },
   {
    "duration": 3,
    "start_time": "2022-11-24T21:26:39.536Z"
   },
   {
    "duration": 1040,
    "start_time": "2022-11-24T21:33:39.505Z"
   },
   {
    "duration": 2,
    "start_time": "2022-11-24T21:33:40.547Z"
   },
   {
    "duration": 75,
    "start_time": "2022-11-24T21:33:40.551Z"
   },
   {
    "duration": 12,
    "start_time": "2022-11-24T21:33:40.628Z"
   },
   {
    "duration": 11,
    "start_time": "2022-11-24T21:33:40.641Z"
   },
   {
    "duration": 57,
    "start_time": "2022-11-24T21:33:40.654Z"
   },
   {
    "duration": 12,
    "start_time": "2022-11-24T21:33:40.713Z"
   },
   {
    "duration": 9,
    "start_time": "2022-11-24T21:33:40.727Z"
   },
   {
    "duration": 9,
    "start_time": "2022-11-24T21:33:40.737Z"
   },
   {
    "duration": 7,
    "start_time": "2022-11-24T21:33:40.799Z"
   },
   {
    "duration": 28,
    "start_time": "2022-11-24T21:33:40.807Z"
   },
   {
    "duration": 10,
    "start_time": "2022-11-24T21:33:40.836Z"
   },
   {
    "duration": 58,
    "start_time": "2022-11-24T21:33:40.847Z"
   },
   {
    "duration": 6,
    "start_time": "2022-11-24T21:33:40.912Z"
   },
   {
    "duration": 5,
    "start_time": "2022-11-24T21:33:40.919Z"
   },
   {
    "duration": 199,
    "start_time": "2022-11-24T21:33:40.925Z"
   },
   {
    "duration": 4,
    "start_time": "2022-11-24T21:33:41.126Z"
   },
   {
    "duration": 6,
    "start_time": "2022-11-24T21:33:41.131Z"
   },
   {
    "duration": 9,
    "start_time": "2022-11-24T21:33:41.139Z"
   },
   {
    "duration": 7,
    "start_time": "2022-11-24T21:33:41.199Z"
   },
   {
    "duration": 596,
    "start_time": "2022-11-24T21:33:41.209Z"
   },
   {
    "duration": 605,
    "start_time": "2022-11-24T21:33:41.807Z"
   },
   {
    "duration": 305,
    "start_time": "2022-11-24T21:33:42.418Z"
   },
   {
    "duration": 291,
    "start_time": "2022-11-24T21:33:42.725Z"
   },
   {
    "duration": 211,
    "start_time": "2022-11-24T21:33:43.017Z"
   },
   {
    "duration": 292,
    "start_time": "2022-11-24T21:33:43.229Z"
   },
   {
    "duration": 133,
    "start_time": "2022-11-24T21:33:43.523Z"
   },
   {
    "duration": 4,
    "start_time": "2022-11-24T21:33:43.659Z"
   },
   {
    "duration": 166,
    "start_time": "2022-11-24T21:33:43.665Z"
   },
   {
    "duration": 5,
    "start_time": "2022-11-24T21:33:43.832Z"
   },
   {
    "duration": 234,
    "start_time": "2022-11-24T21:33:43.839Z"
   },
   {
    "duration": 288,
    "start_time": "2022-11-24T21:33:44.075Z"
   },
   {
    "duration": 7,
    "start_time": "2022-11-24T21:33:44.364Z"
   },
   {
    "duration": 5,
    "start_time": "2022-11-24T21:33:44.373Z"
   },
   {
    "duration": 29,
    "start_time": "2022-11-24T21:33:44.380Z"
   },
   {
    "duration": 10,
    "start_time": "2022-11-24T21:33:44.411Z"
   },
   {
    "duration": 9,
    "start_time": "2022-11-24T21:33:44.422Z"
   },
   {
    "duration": 25,
    "start_time": "2022-11-24T21:33:44.433Z"
   },
   {
    "duration": 48,
    "start_time": "2022-11-24T21:33:44.459Z"
   },
   {
    "duration": 1396,
    "start_time": "2022-11-25T06:20:02.110Z"
   },
   {
    "duration": 4,
    "start_time": "2022-11-25T06:20:03.508Z"
   },
   {
    "duration": 164,
    "start_time": "2022-11-25T06:20:03.514Z"
   },
   {
    "duration": 14,
    "start_time": "2022-11-25T06:20:03.681Z"
   },
   {
    "duration": 13,
    "start_time": "2022-11-25T06:20:03.697Z"
   },
   {
    "duration": 85,
    "start_time": "2022-11-25T06:20:03.711Z"
   },
   {
    "duration": 13,
    "start_time": "2022-11-25T06:20:03.798Z"
   },
   {
    "duration": 15,
    "start_time": "2022-11-25T06:20:03.812Z"
   },
   {
    "duration": 7,
    "start_time": "2022-11-25T06:20:03.829Z"
   },
   {
    "duration": 12,
    "start_time": "2022-11-25T06:20:03.849Z"
   },
   {
    "duration": 65,
    "start_time": "2022-11-25T06:20:03.864Z"
   },
   {
    "duration": 15,
    "start_time": "2022-11-25T06:20:03.931Z"
   },
   {
    "duration": 12,
    "start_time": "2022-11-25T06:20:03.950Z"
   },
   {
    "duration": 7,
    "start_time": "2022-11-25T06:20:03.963Z"
   },
   {
    "duration": 5,
    "start_time": "2022-11-25T06:20:03.971Z"
   },
   {
    "duration": 79,
    "start_time": "2022-11-25T06:20:03.977Z"
   },
   {
    "duration": 3,
    "start_time": "2022-11-25T06:20:04.060Z"
   },
   {
    "duration": 8,
    "start_time": "2022-11-25T06:20:04.064Z"
   },
   {
    "duration": 5,
    "start_time": "2022-11-25T06:20:04.074Z"
   },
   {
    "duration": 5,
    "start_time": "2022-11-25T06:20:04.081Z"
   },
   {
    "duration": 343,
    "start_time": "2022-11-25T06:20:04.087Z"
   },
   {
    "duration": 294,
    "start_time": "2022-11-25T06:20:04.431Z"
   },
   {
    "duration": 200,
    "start_time": "2022-11-25T06:20:04.727Z"
   },
   {
    "duration": 363,
    "start_time": "2022-11-25T06:20:04.929Z"
   },
   {
    "duration": 225,
    "start_time": "2022-11-25T06:20:05.293Z"
   },
   {
    "duration": 376,
    "start_time": "2022-11-25T06:20:05.519Z"
   },
   {
    "duration": 159,
    "start_time": "2022-11-25T06:20:05.897Z"
   },
   {
    "duration": 5,
    "start_time": "2022-11-25T06:20:06.059Z"
   },
   {
    "duration": 169,
    "start_time": "2022-11-25T06:20:06.065Z"
   },
   {
    "duration": 11,
    "start_time": "2022-11-25T06:20:06.244Z"
   },
   {
    "duration": 237,
    "start_time": "2022-11-25T06:20:06.257Z"
   },
   {
    "duration": 280,
    "start_time": "2022-11-25T06:20:06.496Z"
   },
   {
    "duration": 7,
    "start_time": "2022-11-25T06:20:06.778Z"
   },
   {
    "duration": 6,
    "start_time": "2022-11-25T06:20:06.786Z"
   },
   {
    "duration": 9,
    "start_time": "2022-11-25T06:20:06.794Z"
   },
   {
    "duration": 39,
    "start_time": "2022-11-25T06:20:06.805Z"
   },
   {
    "duration": 18,
    "start_time": "2022-11-25T06:20:06.846Z"
   },
   {
    "duration": 27,
    "start_time": "2022-11-25T06:20:06.866Z"
   },
   {
    "duration": 13,
    "start_time": "2022-11-25T06:20:06.894Z"
   },
   {
    "duration": 1023,
    "start_time": "2023-03-20T20:21:52.539Z"
   },
   {
    "duration": 2,
    "start_time": "2023-03-20T20:21:53.564Z"
   },
   {
    "duration": 121,
    "start_time": "2023-03-20T20:21:53.568Z"
   },
   {
    "duration": 15,
    "start_time": "2023-03-20T20:21:53.690Z"
   },
   {
    "duration": 13,
    "start_time": "2023-03-20T20:21:53.707Z"
   },
   {
    "duration": 101,
    "start_time": "2023-03-20T20:21:53.721Z"
   },
   {
    "duration": 12,
    "start_time": "2023-03-20T20:21:53.827Z"
   },
   {
    "duration": 6,
    "start_time": "2023-03-20T20:21:53.841Z"
   },
   {
    "duration": 6,
    "start_time": "2023-03-20T20:21:53.848Z"
   },
   {
    "duration": 5,
    "start_time": "2023-03-20T20:21:53.855Z"
   },
   {
    "duration": 82,
    "start_time": "2023-03-20T20:21:53.861Z"
   },
   {
    "duration": 10,
    "start_time": "2023-03-20T20:21:53.945Z"
   },
   {
    "duration": 6,
    "start_time": "2023-03-20T20:21:53.956Z"
   },
   {
    "duration": 5,
    "start_time": "2023-03-20T20:21:53.965Z"
   },
   {
    "duration": 4,
    "start_time": "2023-03-20T20:21:53.971Z"
   },
   {
    "duration": 81,
    "start_time": "2023-03-20T20:21:53.977Z"
   },
   {
    "duration": 2,
    "start_time": "2023-03-20T20:21:54.060Z"
   },
   {
    "duration": 5,
    "start_time": "2023-03-20T20:21:54.064Z"
   },
   {
    "duration": 4,
    "start_time": "2023-03-20T20:21:54.071Z"
   },
   {
    "duration": 3,
    "start_time": "2023-03-20T20:21:54.077Z"
   },
   {
    "duration": 346,
    "start_time": "2023-03-20T20:21:54.082Z"
   },
   {
    "duration": 338,
    "start_time": "2023-03-20T20:21:54.434Z"
   },
   {
    "duration": 270,
    "start_time": "2023-03-20T20:21:54.774Z"
   },
   {
    "duration": 312,
    "start_time": "2023-03-20T20:21:55.047Z"
   },
   {
    "duration": 229,
    "start_time": "2023-03-20T20:21:55.361Z"
   },
   {
    "duration": 366,
    "start_time": "2023-03-20T20:21:55.592Z"
   },
   {
    "duration": 151,
    "start_time": "2023-03-20T20:21:55.960Z"
   },
   {
    "duration": 11,
    "start_time": "2023-03-20T20:21:56.113Z"
   },
   {
    "duration": 171,
    "start_time": "2023-03-20T20:21:56.131Z"
   },
   {
    "duration": 6,
    "start_time": "2023-03-20T20:21:56.304Z"
   },
   {
    "duration": 246,
    "start_time": "2023-03-20T20:21:56.324Z"
   },
   {
    "duration": 375,
    "start_time": "2023-03-20T20:21:56.572Z"
   },
   {
    "duration": 8,
    "start_time": "2023-03-20T20:21:56.949Z"
   },
   {
    "duration": 11,
    "start_time": "2023-03-20T20:21:56.958Z"
   },
   {
    "duration": 10,
    "start_time": "2023-03-20T20:21:56.971Z"
   },
   {
    "duration": 8,
    "start_time": "2023-03-20T20:21:56.983Z"
   },
   {
    "duration": 48,
    "start_time": "2023-03-20T20:21:56.992Z"
   },
   {
    "duration": 28,
    "start_time": "2023-03-20T20:21:57.042Z"
   },
   {
    "duration": 21,
    "start_time": "2023-03-20T20:21:57.072Z"
   }
  ],
  "kernelspec": {
   "display_name": "Python 3 (ipykernel)",
   "language": "python",
   "name": "python3"
  },
  "language_info": {
   "codemirror_mode": {
    "name": "ipython",
    "version": 3
   },
   "file_extension": ".py",
   "mimetype": "text/x-python",
   "name": "python",
   "nbconvert_exporter": "python",
   "pygments_lexer": "ipython3",
   "version": "3.9.5"
  },
  "toc": {
   "base_numbering": 1,
   "nav_menu": {},
   "number_sections": true,
   "sideBar": true,
   "skip_h1_title": true,
   "title_cell": "Table of Contents",
   "title_sidebar": "Contents",
   "toc_cell": false,
   "toc_position": {
    "height": "calc(100% - 180px)",
    "left": "10px",
    "top": "150px",
    "width": "165px"
   },
   "toc_section_display": true,
   "toc_window_display": false
  }
 },
 "nbformat": 4,
 "nbformat_minor": 2
}
