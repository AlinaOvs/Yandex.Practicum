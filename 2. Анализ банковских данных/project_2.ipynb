{
 "cells": [
  {
   "cell_type": "markdown",
   "id": "c81daeeb",
   "metadata": {
    "deletable": false,
    "id": "c81daeeb"
   },
   "source": [
    "# Исследование надежности заемщиков\n"
   ]
  },
  {
   "cell_type": "markdown",
   "id": "827c20bf",
   "metadata": {
    "id": "827c20bf"
   },
   "source": [
    "Во второй части проекта вы выполните шаги 3 и 4. Их вручную проверит ревьюер.\n",
    "Чтобы вам не пришлось писать код заново для шагов 1 и 2, мы добавили авторские решения в ячейки с кодом. \n",
    "\n"
   ]
  },
  {
   "cell_type": "markdown",
   "id": "744d7639",
   "metadata": {
    "deletable": false,
    "id": "744d7639"
   },
   "source": [
    "## Откройте таблицу и изучите общую информацию о данных"
   ]
  },
  {
   "cell_type": "markdown",
   "id": "e7a14c31",
   "metadata": {
    "deletable": false,
    "id": "e7a14c31"
   },
   "source": [
    "**Задание 1. Импортируйте библиотеку pandas. Считайте данные из csv-файла в датафрейм и сохраните в переменную `data`. Путь к файлу:**\n",
    "\n",
    "`/datasets/data.csv`"
   ]
  },
  {
   "cell_type": "code",
   "execution_count": 1,
   "id": "7bcf75c9",
   "metadata": {
    "deletable": false,
    "id": "7bcf75c9"
   },
   "outputs": [],
   "source": [
    "import pandas as pd\n",
    "\n",
    "try:\n",
    "    data = pd.read_csv('/datasets/data.csv')\n",
    "except:\n",
    "    data = pd.read_csv('https://code.s3.yandex.net/datasets/data.csv')"
   ]
  },
  {
   "cell_type": "markdown",
   "id": "b8038fe3",
   "metadata": {
    "deletable": false,
    "id": "b8038fe3"
   },
   "source": [
    "**Задание 2. Выведите первые 20 строчек датафрейма `data` на экран.**"
   ]
  },
  {
   "cell_type": "code",
   "execution_count": 2,
   "id": "2a7cab99",
   "metadata": {
    "deletable": false,
    "id": "2a7cab99",
    "outputId": "1a8f3ef2-d323-4ec2-ddf7-89670b5944c4"
   },
   "outputs": [
    {
     "data": {
      "text/html": [
       "<div>\n",
       "<style scoped>\n",
       "    .dataframe tbody tr th:only-of-type {\n",
       "        vertical-align: middle;\n",
       "    }\n",
       "\n",
       "    .dataframe tbody tr th {\n",
       "        vertical-align: top;\n",
       "    }\n",
       "\n",
       "    .dataframe thead th {\n",
       "        text-align: right;\n",
       "    }\n",
       "</style>\n",
       "<table border=\"1\" class=\"dataframe\">\n",
       "  <thead>\n",
       "    <tr style=\"text-align: right;\">\n",
       "      <th></th>\n",
       "      <th>children</th>\n",
       "      <th>days_employed</th>\n",
       "      <th>dob_years</th>\n",
       "      <th>education</th>\n",
       "      <th>education_id</th>\n",
       "      <th>family_status</th>\n",
       "      <th>family_status_id</th>\n",
       "      <th>gender</th>\n",
       "      <th>income_type</th>\n",
       "      <th>debt</th>\n",
       "      <th>total_income</th>\n",
       "      <th>purpose</th>\n",
       "    </tr>\n",
       "  </thead>\n",
       "  <tbody>\n",
       "    <tr>\n",
       "      <th>0</th>\n",
       "      <td>1</td>\n",
       "      <td>-8437.673028</td>\n",
       "      <td>42</td>\n",
       "      <td>высшее</td>\n",
       "      <td>0</td>\n",
       "      <td>женат / замужем</td>\n",
       "      <td>0</td>\n",
       "      <td>F</td>\n",
       "      <td>сотрудник</td>\n",
       "      <td>0</td>\n",
       "      <td>253875.639453</td>\n",
       "      <td>покупка жилья</td>\n",
       "    </tr>\n",
       "    <tr>\n",
       "      <th>1</th>\n",
       "      <td>1</td>\n",
       "      <td>-4024.803754</td>\n",
       "      <td>36</td>\n",
       "      <td>среднее</td>\n",
       "      <td>1</td>\n",
       "      <td>женат / замужем</td>\n",
       "      <td>0</td>\n",
       "      <td>F</td>\n",
       "      <td>сотрудник</td>\n",
       "      <td>0</td>\n",
       "      <td>112080.014102</td>\n",
       "      <td>приобретение автомобиля</td>\n",
       "    </tr>\n",
       "    <tr>\n",
       "      <th>2</th>\n",
       "      <td>0</td>\n",
       "      <td>-5623.422610</td>\n",
       "      <td>33</td>\n",
       "      <td>Среднее</td>\n",
       "      <td>1</td>\n",
       "      <td>женат / замужем</td>\n",
       "      <td>0</td>\n",
       "      <td>M</td>\n",
       "      <td>сотрудник</td>\n",
       "      <td>0</td>\n",
       "      <td>145885.952297</td>\n",
       "      <td>покупка жилья</td>\n",
       "    </tr>\n",
       "    <tr>\n",
       "      <th>3</th>\n",
       "      <td>3</td>\n",
       "      <td>-4124.747207</td>\n",
       "      <td>32</td>\n",
       "      <td>среднее</td>\n",
       "      <td>1</td>\n",
       "      <td>женат / замужем</td>\n",
       "      <td>0</td>\n",
       "      <td>M</td>\n",
       "      <td>сотрудник</td>\n",
       "      <td>0</td>\n",
       "      <td>267628.550329</td>\n",
       "      <td>дополнительное образование</td>\n",
       "    </tr>\n",
       "    <tr>\n",
       "      <th>4</th>\n",
       "      <td>0</td>\n",
       "      <td>340266.072047</td>\n",
       "      <td>53</td>\n",
       "      <td>среднее</td>\n",
       "      <td>1</td>\n",
       "      <td>гражданский брак</td>\n",
       "      <td>1</td>\n",
       "      <td>F</td>\n",
       "      <td>пенсионер</td>\n",
       "      <td>0</td>\n",
       "      <td>158616.077870</td>\n",
       "      <td>сыграть свадьбу</td>\n",
       "    </tr>\n",
       "    <tr>\n",
       "      <th>5</th>\n",
       "      <td>0</td>\n",
       "      <td>-926.185831</td>\n",
       "      <td>27</td>\n",
       "      <td>высшее</td>\n",
       "      <td>0</td>\n",
       "      <td>гражданский брак</td>\n",
       "      <td>1</td>\n",
       "      <td>M</td>\n",
       "      <td>компаньон</td>\n",
       "      <td>0</td>\n",
       "      <td>255763.565419</td>\n",
       "      <td>покупка жилья</td>\n",
       "    </tr>\n",
       "    <tr>\n",
       "      <th>6</th>\n",
       "      <td>0</td>\n",
       "      <td>-2879.202052</td>\n",
       "      <td>43</td>\n",
       "      <td>высшее</td>\n",
       "      <td>0</td>\n",
       "      <td>женат / замужем</td>\n",
       "      <td>0</td>\n",
       "      <td>F</td>\n",
       "      <td>компаньон</td>\n",
       "      <td>0</td>\n",
       "      <td>240525.971920</td>\n",
       "      <td>операции с жильем</td>\n",
       "    </tr>\n",
       "    <tr>\n",
       "      <th>7</th>\n",
       "      <td>0</td>\n",
       "      <td>-152.779569</td>\n",
       "      <td>50</td>\n",
       "      <td>СРЕДНЕЕ</td>\n",
       "      <td>1</td>\n",
       "      <td>женат / замужем</td>\n",
       "      <td>0</td>\n",
       "      <td>M</td>\n",
       "      <td>сотрудник</td>\n",
       "      <td>0</td>\n",
       "      <td>135823.934197</td>\n",
       "      <td>образование</td>\n",
       "    </tr>\n",
       "    <tr>\n",
       "      <th>8</th>\n",
       "      <td>2</td>\n",
       "      <td>-6929.865299</td>\n",
       "      <td>35</td>\n",
       "      <td>ВЫСШЕЕ</td>\n",
       "      <td>0</td>\n",
       "      <td>гражданский брак</td>\n",
       "      <td>1</td>\n",
       "      <td>F</td>\n",
       "      <td>сотрудник</td>\n",
       "      <td>0</td>\n",
       "      <td>95856.832424</td>\n",
       "      <td>на проведение свадьбы</td>\n",
       "    </tr>\n",
       "    <tr>\n",
       "      <th>9</th>\n",
       "      <td>0</td>\n",
       "      <td>-2188.756445</td>\n",
       "      <td>41</td>\n",
       "      <td>среднее</td>\n",
       "      <td>1</td>\n",
       "      <td>женат / замужем</td>\n",
       "      <td>0</td>\n",
       "      <td>M</td>\n",
       "      <td>сотрудник</td>\n",
       "      <td>0</td>\n",
       "      <td>144425.938277</td>\n",
       "      <td>покупка жилья для семьи</td>\n",
       "    </tr>\n",
       "    <tr>\n",
       "      <th>10</th>\n",
       "      <td>2</td>\n",
       "      <td>-4171.483647</td>\n",
       "      <td>36</td>\n",
       "      <td>высшее</td>\n",
       "      <td>0</td>\n",
       "      <td>женат / замужем</td>\n",
       "      <td>0</td>\n",
       "      <td>M</td>\n",
       "      <td>компаньон</td>\n",
       "      <td>0</td>\n",
       "      <td>113943.491460</td>\n",
       "      <td>покупка недвижимости</td>\n",
       "    </tr>\n",
       "    <tr>\n",
       "      <th>11</th>\n",
       "      <td>0</td>\n",
       "      <td>-792.701887</td>\n",
       "      <td>40</td>\n",
       "      <td>среднее</td>\n",
       "      <td>1</td>\n",
       "      <td>женат / замужем</td>\n",
       "      <td>0</td>\n",
       "      <td>F</td>\n",
       "      <td>сотрудник</td>\n",
       "      <td>0</td>\n",
       "      <td>77069.234271</td>\n",
       "      <td>покупка коммерческой недвижимости</td>\n",
       "    </tr>\n",
       "    <tr>\n",
       "      <th>12</th>\n",
       "      <td>0</td>\n",
       "      <td>NaN</td>\n",
       "      <td>65</td>\n",
       "      <td>среднее</td>\n",
       "      <td>1</td>\n",
       "      <td>гражданский брак</td>\n",
       "      <td>1</td>\n",
       "      <td>M</td>\n",
       "      <td>пенсионер</td>\n",
       "      <td>0</td>\n",
       "      <td>NaN</td>\n",
       "      <td>сыграть свадьбу</td>\n",
       "    </tr>\n",
       "    <tr>\n",
       "      <th>13</th>\n",
       "      <td>0</td>\n",
       "      <td>-1846.641941</td>\n",
       "      <td>54</td>\n",
       "      <td>неоконченное высшее</td>\n",
       "      <td>2</td>\n",
       "      <td>женат / замужем</td>\n",
       "      <td>0</td>\n",
       "      <td>F</td>\n",
       "      <td>сотрудник</td>\n",
       "      <td>0</td>\n",
       "      <td>130458.228857</td>\n",
       "      <td>приобретение автомобиля</td>\n",
       "    </tr>\n",
       "    <tr>\n",
       "      <th>14</th>\n",
       "      <td>0</td>\n",
       "      <td>-1844.956182</td>\n",
       "      <td>56</td>\n",
       "      <td>высшее</td>\n",
       "      <td>0</td>\n",
       "      <td>гражданский брак</td>\n",
       "      <td>1</td>\n",
       "      <td>F</td>\n",
       "      <td>компаньон</td>\n",
       "      <td>1</td>\n",
       "      <td>165127.911772</td>\n",
       "      <td>покупка жилой недвижимости</td>\n",
       "    </tr>\n",
       "    <tr>\n",
       "      <th>15</th>\n",
       "      <td>1</td>\n",
       "      <td>-972.364419</td>\n",
       "      <td>26</td>\n",
       "      <td>среднее</td>\n",
       "      <td>1</td>\n",
       "      <td>женат / замужем</td>\n",
       "      <td>0</td>\n",
       "      <td>F</td>\n",
       "      <td>сотрудник</td>\n",
       "      <td>0</td>\n",
       "      <td>116820.904450</td>\n",
       "      <td>строительство собственной недвижимости</td>\n",
       "    </tr>\n",
       "    <tr>\n",
       "      <th>16</th>\n",
       "      <td>0</td>\n",
       "      <td>-1719.934226</td>\n",
       "      <td>35</td>\n",
       "      <td>среднее</td>\n",
       "      <td>1</td>\n",
       "      <td>женат / замужем</td>\n",
       "      <td>0</td>\n",
       "      <td>F</td>\n",
       "      <td>сотрудник</td>\n",
       "      <td>0</td>\n",
       "      <td>289202.704229</td>\n",
       "      <td>недвижимость</td>\n",
       "    </tr>\n",
       "    <tr>\n",
       "      <th>17</th>\n",
       "      <td>0</td>\n",
       "      <td>-2369.999720</td>\n",
       "      <td>33</td>\n",
       "      <td>высшее</td>\n",
       "      <td>0</td>\n",
       "      <td>гражданский брак</td>\n",
       "      <td>1</td>\n",
       "      <td>M</td>\n",
       "      <td>сотрудник</td>\n",
       "      <td>0</td>\n",
       "      <td>90410.586745</td>\n",
       "      <td>строительство недвижимости</td>\n",
       "    </tr>\n",
       "    <tr>\n",
       "      <th>18</th>\n",
       "      <td>0</td>\n",
       "      <td>400281.136913</td>\n",
       "      <td>53</td>\n",
       "      <td>среднее</td>\n",
       "      <td>1</td>\n",
       "      <td>вдовец / вдова</td>\n",
       "      <td>2</td>\n",
       "      <td>F</td>\n",
       "      <td>пенсионер</td>\n",
       "      <td>0</td>\n",
       "      <td>56823.777243</td>\n",
       "      <td>на покупку подержанного автомобиля</td>\n",
       "    </tr>\n",
       "    <tr>\n",
       "      <th>19</th>\n",
       "      <td>0</td>\n",
       "      <td>-10038.818549</td>\n",
       "      <td>48</td>\n",
       "      <td>СРЕДНЕЕ</td>\n",
       "      <td>1</td>\n",
       "      <td>в разводе</td>\n",
       "      <td>3</td>\n",
       "      <td>F</td>\n",
       "      <td>сотрудник</td>\n",
       "      <td>0</td>\n",
       "      <td>242831.107982</td>\n",
       "      <td>на покупку своего автомобиля</td>\n",
       "    </tr>\n",
       "  </tbody>\n",
       "</table>\n",
       "</div>"
      ],
      "text/plain": [
       "    children  days_employed  dob_years            education  education_id  \\\n",
       "0          1   -8437.673028         42               высшее             0   \n",
       "1          1   -4024.803754         36              среднее             1   \n",
       "2          0   -5623.422610         33              Среднее             1   \n",
       "3          3   -4124.747207         32              среднее             1   \n",
       "4          0  340266.072047         53              среднее             1   \n",
       "5          0    -926.185831         27               высшее             0   \n",
       "6          0   -2879.202052         43               высшее             0   \n",
       "7          0    -152.779569         50              СРЕДНЕЕ             1   \n",
       "8          2   -6929.865299         35               ВЫСШЕЕ             0   \n",
       "9          0   -2188.756445         41              среднее             1   \n",
       "10         2   -4171.483647         36               высшее             0   \n",
       "11         0    -792.701887         40              среднее             1   \n",
       "12         0            NaN         65              среднее             1   \n",
       "13         0   -1846.641941         54  неоконченное высшее             2   \n",
       "14         0   -1844.956182         56               высшее             0   \n",
       "15         1    -972.364419         26              среднее             1   \n",
       "16         0   -1719.934226         35              среднее             1   \n",
       "17         0   -2369.999720         33               высшее             0   \n",
       "18         0  400281.136913         53              среднее             1   \n",
       "19         0  -10038.818549         48              СРЕДНЕЕ             1   \n",
       "\n",
       "       family_status  family_status_id gender income_type  debt  \\\n",
       "0    женат / замужем                 0      F   сотрудник     0   \n",
       "1    женат / замужем                 0      F   сотрудник     0   \n",
       "2    женат / замужем                 0      M   сотрудник     0   \n",
       "3    женат / замужем                 0      M   сотрудник     0   \n",
       "4   гражданский брак                 1      F   пенсионер     0   \n",
       "5   гражданский брак                 1      M   компаньон     0   \n",
       "6    женат / замужем                 0      F   компаньон     0   \n",
       "7    женат / замужем                 0      M   сотрудник     0   \n",
       "8   гражданский брак                 1      F   сотрудник     0   \n",
       "9    женат / замужем                 0      M   сотрудник     0   \n",
       "10   женат / замужем                 0      M   компаньон     0   \n",
       "11   женат / замужем                 0      F   сотрудник     0   \n",
       "12  гражданский брак                 1      M   пенсионер     0   \n",
       "13   женат / замужем                 0      F   сотрудник     0   \n",
       "14  гражданский брак                 1      F   компаньон     1   \n",
       "15   женат / замужем                 0      F   сотрудник     0   \n",
       "16   женат / замужем                 0      F   сотрудник     0   \n",
       "17  гражданский брак                 1      M   сотрудник     0   \n",
       "18    вдовец / вдова                 2      F   пенсионер     0   \n",
       "19         в разводе                 3      F   сотрудник     0   \n",
       "\n",
       "     total_income                                 purpose  \n",
       "0   253875.639453                           покупка жилья  \n",
       "1   112080.014102                 приобретение автомобиля  \n",
       "2   145885.952297                           покупка жилья  \n",
       "3   267628.550329              дополнительное образование  \n",
       "4   158616.077870                         сыграть свадьбу  \n",
       "5   255763.565419                           покупка жилья  \n",
       "6   240525.971920                       операции с жильем  \n",
       "7   135823.934197                             образование  \n",
       "8    95856.832424                   на проведение свадьбы  \n",
       "9   144425.938277                 покупка жилья для семьи  \n",
       "10  113943.491460                    покупка недвижимости  \n",
       "11   77069.234271       покупка коммерческой недвижимости  \n",
       "12            NaN                         сыграть свадьбу  \n",
       "13  130458.228857                 приобретение автомобиля  \n",
       "14  165127.911772              покупка жилой недвижимости  \n",
       "15  116820.904450  строительство собственной недвижимости  \n",
       "16  289202.704229                            недвижимость  \n",
       "17   90410.586745              строительство недвижимости  \n",
       "18   56823.777243      на покупку подержанного автомобиля  \n",
       "19  242831.107982            на покупку своего автомобиля  "
      ]
     },
     "execution_count": 2,
     "metadata": {},
     "output_type": "execute_result"
    }
   ],
   "source": [
    "data.head(20)"
   ]
  },
  {
   "cell_type": "markdown",
   "id": "1c12e233",
   "metadata": {
    "deletable": false,
    "id": "1c12e233"
   },
   "source": [
    "**Задание 3. Выведите основную информацию о датафрейме с помощью метода `info()`.**"
   ]
  },
  {
   "cell_type": "code",
   "execution_count": 3,
   "id": "2b757bca",
   "metadata": {
    "deletable": false,
    "id": "2b757bca",
    "outputId": "15376089-8dad-46c9-b520-c05248d43158"
   },
   "outputs": [
    {
     "name": "stdout",
     "output_type": "stream",
     "text": [
      "<class 'pandas.core.frame.DataFrame'>\n",
      "RangeIndex: 21525 entries, 0 to 21524\n",
      "Data columns (total 12 columns):\n",
      " #   Column            Non-Null Count  Dtype  \n",
      "---  ------            --------------  -----  \n",
      " 0   children          21525 non-null  int64  \n",
      " 1   days_employed     19351 non-null  float64\n",
      " 2   dob_years         21525 non-null  int64  \n",
      " 3   education         21525 non-null  object \n",
      " 4   education_id      21525 non-null  int64  \n",
      " 5   family_status     21525 non-null  object \n",
      " 6   family_status_id  21525 non-null  int64  \n",
      " 7   gender            21525 non-null  object \n",
      " 8   income_type       21525 non-null  object \n",
      " 9   debt              21525 non-null  int64  \n",
      " 10  total_income      19351 non-null  float64\n",
      " 11  purpose           21525 non-null  object \n",
      "dtypes: float64(2), int64(5), object(5)\n",
      "memory usage: 2.0+ MB\n"
     ]
    }
   ],
   "source": [
    "data.info()"
   ]
  },
  {
   "cell_type": "markdown",
   "id": "333ec665",
   "metadata": {
    "deletable": false,
    "id": "333ec665"
   },
   "source": [
    "## Предобработка данных"
   ]
  },
  {
   "cell_type": "markdown",
   "id": "02d92d53",
   "metadata": {
    "deletable": false,
    "id": "02d92d53"
   },
   "source": [
    "### Удаление пропусков"
   ]
  },
  {
   "cell_type": "markdown",
   "id": "cd84967c",
   "metadata": {
    "deletable": false,
    "id": "cd84967c"
   },
   "source": [
    "**Задание 4. Выведите количество пропущенных значений для каждого столбца. Используйте комбинацию двух методов.**"
   ]
  },
  {
   "cell_type": "code",
   "execution_count": 4,
   "id": "7f9b2309",
   "metadata": {
    "deletable": false,
    "id": "7f9b2309",
    "outputId": "81f4d817-781c-465c-ed15-91ce4446810d"
   },
   "outputs": [
    {
     "data": {
      "text/plain": [
       "children               0\n",
       "days_employed       2174\n",
       "dob_years              0\n",
       "education              0\n",
       "education_id           0\n",
       "family_status          0\n",
       "family_status_id       0\n",
       "gender                 0\n",
       "income_type            0\n",
       "debt                   0\n",
       "total_income        2174\n",
       "purpose                0\n",
       "dtype: int64"
      ]
     },
     "execution_count": 4,
     "metadata": {},
     "output_type": "execute_result"
    }
   ],
   "source": [
    "data.isna().sum()"
   ]
  },
  {
   "cell_type": "markdown",
   "id": "db86e27b",
   "metadata": {
    "deletable": false,
    "id": "db86e27b"
   },
   "source": [
    "**Задание 5. В двух столбцах есть пропущенные значения. Один из них — `days_employed`. Пропуски в этом столбце вы обработаете на следующем этапе. Другой столбец с пропущенными значениями — `total_income` — хранит данные о доходах. На сумму дохода сильнее всего влияет тип занятости, поэтому заполнить пропуски в этом столбце нужно медианным значением по каждому типу из столбца `income_type`. Например, у человека с типом занятости `сотрудник` пропуск в столбце `total_income` должен быть заполнен медианным доходом среди всех записей с тем же типом.**"
   ]
  },
  {
   "cell_type": "code",
   "execution_count": 5,
   "id": "42006a93",
   "metadata": {
    "deletable": false,
    "id": "42006a93"
   },
   "outputs": [],
   "source": [
    "for t in data['income_type'].unique():\n",
    "    data.loc[(data['income_type'] == t) & (data['total_income'].isna()), 'total_income'] = \\\n",
    "    data.loc[(data['income_type'] == t), 'total_income'].median()"
   ]
  },
  {
   "cell_type": "markdown",
   "id": "89da5ece",
   "metadata": {
    "deletable": false,
    "id": "89da5ece"
   },
   "source": [
    "### Обработка аномальных значений"
   ]
  },
  {
   "cell_type": "markdown",
   "id": "57964554",
   "metadata": {
    "deletable": false,
    "id": "57964554"
   },
   "source": [
    "**Задание 6. В данных могут встречаться артефакты (аномалии) — значения, которые не отражают действительность и появились по какой-то ошибке. таким артефактом будет отрицательное количество дней трудового стажа в столбце `days_employed`. Для реальных данных это нормально. Обработайте значения в этом столбце: замените все отрицательные значения положительными с помощью метода `abs()`.**"
   ]
  },
  {
   "cell_type": "code",
   "execution_count": 6,
   "id": "f6f055bf",
   "metadata": {
    "deletable": false,
    "id": "f6f055bf"
   },
   "outputs": [],
   "source": [
    "data['days_employed'] = data['days_employed'].abs()"
   ]
  },
  {
   "cell_type": "markdown",
   "id": "6107dd2f",
   "metadata": {
    "deletable": false,
    "id": "6107dd2f"
   },
   "source": [
    "**Задание 7. Для каждого типа занятости выведите медианное значение трудового стажа `days_employed` в днях.**"
   ]
  },
  {
   "cell_type": "code",
   "execution_count": 7,
   "id": "85a5faf6",
   "metadata": {
    "deletable": false,
    "id": "85a5faf6",
    "outputId": "801ef80e-522b-4668-f34e-565af7432bcf"
   },
   "outputs": [
    {
     "data": {
      "text/plain": [
       "income_type\n",
       "безработный        366413.652744\n",
       "в декрете            3296.759962\n",
       "госслужащий          2689.368353\n",
       "компаньон            1547.382223\n",
       "пенсионер          365213.306266\n",
       "предприниматель       520.848083\n",
       "сотрудник            1574.202821\n",
       "студент               578.751554\n",
       "Name: days_employed, dtype: float64"
      ]
     },
     "execution_count": 7,
     "metadata": {},
     "output_type": "execute_result"
    }
   ],
   "source": [
    "data.groupby('income_type')['days_employed'].agg('median')"
   ]
  },
  {
   "cell_type": "markdown",
   "id": "38d1a030",
   "metadata": {
    "deletable": false,
    "id": "38d1a030"
   },
   "source": [
    "У двух типов (безработные и пенсионеры) получатся аномально большие значения. Исправить такие значения сложно, поэтому оставьте их как есть. Тем более этот столбец не понадобится вам для исследования."
   ]
  },
  {
   "cell_type": "markdown",
   "id": "d8a9f147",
   "metadata": {
    "deletable": false,
    "id": "d8a9f147"
   },
   "source": [
    "**Задание 8. Выведите перечень уникальных значений столбца `children`.**"
   ]
  },
  {
   "cell_type": "code",
   "execution_count": 8,
   "id": "ef5056eb",
   "metadata": {
    "deletable": false,
    "id": "ef5056eb",
    "outputId": "6975b15c-7f95-4697-d16d-a0c79b657b03"
   },
   "outputs": [
    {
     "data": {
      "text/plain": [
       "array([ 1,  0,  3,  2, -1,  4, 20,  5])"
      ]
     },
     "execution_count": 8,
     "metadata": {},
     "output_type": "execute_result"
    }
   ],
   "source": [
    "data['children'].unique()"
   ]
  },
  {
   "cell_type": "markdown",
   "id": "40b9ebf2",
   "metadata": {
    "deletable": false,
    "id": "40b9ebf2"
   },
   "source": [
    "**Задание 9. В столбце `children` есть два аномальных значения. Удалите строки, в которых встречаются такие аномальные значения из датафрейма `data`.**"
   ]
  },
  {
   "cell_type": "code",
   "execution_count": 9,
   "id": "3ff9801d",
   "metadata": {
    "deletable": false,
    "id": "3ff9801d"
   },
   "outputs": [],
   "source": [
    "data = data[(data['children'] != -1) & (data['children'] != 20)]"
   ]
  },
  {
   "cell_type": "markdown",
   "id": "bbc4d0ce",
   "metadata": {
    "deletable": false,
    "id": "bbc4d0ce"
   },
   "source": [
    "**Задание 10. Ещё раз выведите перечень уникальных значений столбца `children`, чтобы убедиться, что артефакты удалены.**"
   ]
  },
  {
   "cell_type": "code",
   "execution_count": 10,
   "id": "ad4fa8b7",
   "metadata": {
    "deletable": false,
    "id": "ad4fa8b7",
    "outputId": "b2097101-d49d-44d9-901b-32a65c9463d1"
   },
   "outputs": [
    {
     "data": {
      "text/plain": [
       "array([1, 0, 3, 2, 4, 5])"
      ]
     },
     "execution_count": 10,
     "metadata": {},
     "output_type": "execute_result"
    }
   ],
   "source": [
    "data['children'].unique()"
   ]
  },
  {
   "cell_type": "markdown",
   "id": "75440b63",
   "metadata": {
    "deletable": false,
    "id": "75440b63"
   },
   "source": [
    "### Удаление пропусков (продолжение)"
   ]
  },
  {
   "cell_type": "markdown",
   "id": "f4ea573f",
   "metadata": {
    "deletable": false,
    "id": "f4ea573f"
   },
   "source": [
    "**Задание 11. Заполните пропуски в столбце `days_employed` медианными значениями по каждого типа занятости `income_type`.**"
   ]
  },
  {
   "cell_type": "code",
   "execution_count": 11,
   "id": "af6b1a7e",
   "metadata": {
    "deletable": false,
    "id": "af6b1a7e"
   },
   "outputs": [],
   "source": [
    "for t in data['income_type'].unique():\n",
    "    data.loc[(data['income_type'] == t) & (data['days_employed'].isna()), 'days_employed'] = \\\n",
    "    data.loc[(data['income_type'] == t), 'days_employed'].median()"
   ]
  },
  {
   "cell_type": "markdown",
   "id": "2753f40d",
   "metadata": {
    "deletable": false,
    "id": "2753f40d"
   },
   "source": [
    "**Задание 12. Убедитесь, что все пропуски заполнены. Проверьте себя и ещё раз выведите количество пропущенных значений для каждого столбца с помощью двух методов.**"
   ]
  },
  {
   "cell_type": "code",
   "execution_count": 12,
   "id": "55f78bc2",
   "metadata": {
    "deletable": false,
    "id": "55f78bc2",
    "outputId": "8da1e4e1-358e-4e87-98c9-f261bce0a7b2"
   },
   "outputs": [
    {
     "data": {
      "text/plain": [
       "children            0\n",
       "days_employed       0\n",
       "dob_years           0\n",
       "education           0\n",
       "education_id        0\n",
       "family_status       0\n",
       "family_status_id    0\n",
       "gender              0\n",
       "income_type         0\n",
       "debt                0\n",
       "total_income        0\n",
       "purpose             0\n",
       "dtype: int64"
      ]
     },
     "execution_count": 12,
     "metadata": {},
     "output_type": "execute_result"
    }
   ],
   "source": [
    "data.isna().sum()"
   ]
  },
  {
   "cell_type": "markdown",
   "id": "ddc81e43",
   "metadata": {
    "deletable": false,
    "id": "ddc81e43"
   },
   "source": [
    "### Изменение типов данных"
   ]
  },
  {
   "cell_type": "markdown",
   "id": "42d19d24",
   "metadata": {
    "deletable": false,
    "id": "42d19d24"
   },
   "source": [
    "**Задание 13. Замените вещественный тип данных в столбце `total_income` на целочисленный с помощью метода `astype()`.**"
   ]
  },
  {
   "cell_type": "code",
   "execution_count": 13,
   "id": "920b65ad",
   "metadata": {
    "deletable": false,
    "id": "920b65ad"
   },
   "outputs": [],
   "source": [
    "data['total_income'] = data['total_income'].astype(int)"
   ]
  },
  {
   "cell_type": "markdown",
   "id": "80c420ba",
   "metadata": {
    "deletable": false,
    "id": "80c420ba"
   },
   "source": [
    "### Обработка дубликатов"
   ]
  },
  {
   "cell_type": "markdown",
   "id": "dc587695",
   "metadata": {
    "deletable": false,
    "id": "dc587695"
   },
   "source": [
    "**Задание 14. Выведите на экран количество строк-дубликатов в данных. Если такие строки присутствуют, удалите их.**"
   ]
  },
  {
   "cell_type": "code",
   "execution_count": 14,
   "id": "3ee445e4",
   "metadata": {
    "deletable": false,
    "id": "3ee445e4",
    "outputId": "9684deba-1934-42d1-99e1-cda61740f822"
   },
   "outputs": [
    {
     "data": {
      "text/plain": [
       "54"
      ]
     },
     "execution_count": 14,
     "metadata": {},
     "output_type": "execute_result"
    }
   ],
   "source": [
    "data.duplicated().sum()"
   ]
  },
  {
   "cell_type": "code",
   "execution_count": 15,
   "id": "8575fe05",
   "metadata": {
    "deletable": false,
    "id": "8575fe05"
   },
   "outputs": [],
   "source": [
    "data = data.drop_duplicates()"
   ]
  },
  {
   "cell_type": "markdown",
   "id": "9771a76c",
   "metadata": {
    "deletable": false,
    "id": "9771a76c"
   },
   "source": [
    "**Задание 15. Обработайте неявные дубликаты в столбце `education`. В этом столбце есть одни и те же значения, но записанные по-разному: с использованием заглавных и строчных букв. Приведите их к нижнему регистру. Проверьте остальные столбцы.**"
   ]
  },
  {
   "cell_type": "code",
   "execution_count": 16,
   "id": "a9f8e2bf",
   "metadata": {
    "deletable": false,
    "id": "a9f8e2bf"
   },
   "outputs": [],
   "source": [
    "data['education'] = data['education'].str.lower()"
   ]
  },
  {
   "cell_type": "markdown",
   "id": "9904cf55",
   "metadata": {
    "deletable": false,
    "id": "9904cf55"
   },
   "source": [
    "### Категоризация данных"
   ]
  },
  {
   "cell_type": "markdown",
   "id": "72fcc8a2",
   "metadata": {
    "deletable": false,
    "id": "72fcc8a2"
   },
   "source": [
    "**Задание 16. На основании диапазонов, указанных ниже, создайте в датафрейме `data` столбец `total_income_category` с категориями:**\n",
    "\n",
    "- 0–30000 — `'E'`;\n",
    "- 30001–50000 — `'D'`;\n",
    "- 50001–200000 — `'C'`;\n",
    "- 200001–1000000 — `'B'`;\n",
    "- 1000001 и выше — `'A'`.\n",
    "\n",
    "\n",
    "**Например, кредитополучателю с доходом 25000 нужно назначить категорию `'E'`, а клиенту, получающему 235000, — `'B'`. Используйте собственную функцию с именем `categorize_income()` и метод `apply()`.**"
   ]
  },
  {
   "cell_type": "code",
   "execution_count": 17,
   "id": "e1771346",
   "metadata": {
    "deletable": false,
    "id": "e1771346"
   },
   "outputs": [],
   "source": [
    "def categorize_income(income):\n",
    "    try:\n",
    "        if 0 <= income <= 30000:\n",
    "            return 'E'\n",
    "        elif 30001 <= income <= 50000:\n",
    "            return 'D'\n",
    "        elif 50001 <= income <= 200000:\n",
    "            return 'C'\n",
    "        elif 200001 <= income <= 1000000:\n",
    "            return 'B'\n",
    "        elif income >= 1000001:\n",
    "            return 'A'\n",
    "    except:\n",
    "        pass"
   ]
  },
  {
   "cell_type": "code",
   "execution_count": 18,
   "id": "d5f3586d",
   "metadata": {
    "deletable": false,
    "id": "d5f3586d"
   },
   "outputs": [],
   "source": [
    "data['total_income_category'] = data['total_income'].apply(categorize_income)"
   ]
  },
  {
   "cell_type": "markdown",
   "id": "dde49b5c",
   "metadata": {
    "deletable": false,
    "id": "dde49b5c"
   },
   "source": [
    "**Задание 17. Выведите на экран перечень уникальных целей взятия кредита из столбца `purpose`.**"
   ]
  },
  {
   "cell_type": "code",
   "execution_count": 19,
   "id": "f67ce9b3",
   "metadata": {
    "deletable": false,
    "id": "f67ce9b3",
    "outputId": "673c12d9-7d7e-4ae0-9812-c622c89dd244"
   },
   "outputs": [
    {
     "data": {
      "text/plain": [
       "array(['покупка жилья', 'приобретение автомобиля',\n",
       "       'дополнительное образование', 'сыграть свадьбу',\n",
       "       'операции с жильем', 'образование', 'на проведение свадьбы',\n",
       "       'покупка жилья для семьи', 'покупка недвижимости',\n",
       "       'покупка коммерческой недвижимости', 'покупка жилой недвижимости',\n",
       "       'строительство собственной недвижимости', 'недвижимость',\n",
       "       'строительство недвижимости', 'на покупку подержанного автомобиля',\n",
       "       'на покупку своего автомобиля',\n",
       "       'операции с коммерческой недвижимостью',\n",
       "       'строительство жилой недвижимости', 'жилье',\n",
       "       'операции со своей недвижимостью', 'автомобили',\n",
       "       'заняться образованием', 'сделка с подержанным автомобилем',\n",
       "       'получение образования', 'автомобиль', 'свадьба',\n",
       "       'получение дополнительного образования', 'покупка своего жилья',\n",
       "       'операции с недвижимостью', 'получение высшего образования',\n",
       "       'свой автомобиль', 'сделка с автомобилем',\n",
       "       'профильное образование', 'высшее образование',\n",
       "       'покупка жилья для сдачи', 'на покупку автомобиля', 'ремонт жилью',\n",
       "       'заняться высшим образованием'], dtype=object)"
      ]
     },
     "execution_count": 19,
     "metadata": {},
     "output_type": "execute_result"
    }
   ],
   "source": [
    "data['purpose'].unique()"
   ]
  },
  {
   "cell_type": "markdown",
   "id": "85d0aef0",
   "metadata": {
    "deletable": false,
    "id": "85d0aef0"
   },
   "source": [
    "**Задание 18. Создайте функцию, которая на основании данных из столбца `purpose` сформирует новый столбец `purpose_category`, в который войдут следующие категории:**\n",
    "\n",
    "- `'операции с автомобилем'`,\n",
    "- `'операции с недвижимостью'`,\n",
    "- `'проведение свадьбы'`,\n",
    "- `'получение образования'`.\n",
    "\n",
    "**Например, если в столбце `purpose` находится подстрока `'на покупку автомобиля'`, то в столбце `purpose_category` должна появиться строка `'операции с автомобилем'`.**\n",
    "\n",
    "**Используйте собственную функцию с именем `categorize_purpose()` и метод `apply()`. Изучите данные в столбце `purpose` и определите, какие подстроки помогут вам правильно определить категорию.**"
   ]
  },
  {
   "cell_type": "code",
   "execution_count": 20,
   "id": "e149fab4",
   "metadata": {
    "deletable": false,
    "id": "e149fab4"
   },
   "outputs": [],
   "source": [
    "def categorize_purpose(row):\n",
    "    try:\n",
    "        if 'автом' in row:\n",
    "            return 'операции с автомобилем'\n",
    "        elif 'жил' in row or 'недвиж' in row:\n",
    "            return 'операции с недвижимостью'\n",
    "        elif 'свад' in row:\n",
    "            return 'проведение свадьбы'\n",
    "        elif 'образов' in row:\n",
    "            return 'получение образования'\n",
    "    except:\n",
    "        return 'нет категории'"
   ]
  },
  {
   "cell_type": "code",
   "execution_count": 21,
   "id": "bf36e69b",
   "metadata": {
    "deletable": false,
    "id": "bf36e69b"
   },
   "outputs": [],
   "source": [
    "data['purpose_category'] = data['purpose'].apply(categorize_purpose)"
   ]
  },
  {
   "cell_type": "markdown",
   "id": "09b242bf",
   "metadata": {
    "deletable": false,
    "editable": false,
    "id": "09b242bf"
   },
   "source": [
    "## Исследуйте данные и ответьте на вопросы"
   ]
  },
  {
   "cell_type": "markdown",
   "id": "c5d66278",
   "metadata": {
    "deletable": false,
    "editable": false,
    "id": "c5d66278"
   },
   "source": [
    "**Задание 19. Есть ли зависимость между количеством детей и возвратом кредита в срок?**"
   ]
  },
  {
   "cell_type": "code",
   "execution_count": 22,
   "id": "2cacfc4a",
   "metadata": {
    "id": "2cacfc4a",
    "scrolled": true
   },
   "outputs": [
    {
     "data": {
      "image/png": "[encoded data removed]",
      "text/plain": [
       "<Figure size 432x288 with 1 Axes>"
      ]
     },
     "metadata": {
      "needs_background": "light"
     },
     "output_type": "display_data"
    }
   ],
   "source": [
    "import seaborn as sns\n",
    "data_final_first = data.pivot_table(index='children', values = 'debt', aggfunc=['count','sum','mean'])# создаем сводную таблицу\n",
    "data_final_first['share_deft'] = data_final_first['sum']/data_final_first['count']*100# посчитаем доли должников по доходу\n",
    "data_final_first['share_deft_total'] = data_final_first['count']/data_final_first['count'].sum()*100# посчитаем доли заемщиков по каждой категории \n",
    "data_final_first.columns =  data_final_first.columns.droplevel(1)\n",
    "data_final_first = data_final_first.reset_index()\n",
    "sns.barplot(x='children', y='share_deft', data=data_final_first);# построим столбчатую диаграмму"
   ]
  },
  {
   "cell_type": "markdown",
   "id": "3a6b99ec",
   "metadata": {
    "deletable": false,
    "id": "3a6b99ec"
   },
   "source": [
    "**Вывод:** Заемщики, не имеющие детей, имеют наименьшее количество просрочек по оплатам. Вывод по данной категории заемщиков репрезентативен. Однако я бы предложила разделить всех заемщиков на несколько категорий: нет детей, 1-2 ребенка, многодетные семьи, т.к. прослеживается тенденция: чем больше детей, тем меньше данных."
   ]
  },
  {
   "cell_type": "markdown",
   "id": "97be82ca",
   "metadata": {
    "deletable": false,
    "editable": false,
    "id": "97be82ca"
   },
   "source": [
    "**Задание 20. Есть ли зависимость между семейным положением и возвратом кредита в срок?**"
   ]
  },
  {
   "cell_type": "code",
   "execution_count": 23,
   "id": "dc3f7ee8",
   "metadata": {
    "id": "dc3f7ee8"
   },
   "outputs": [
    {
     "data": {
      "image/png": "[encoded data removed]",
      "text/plain": [
       "<Figure size 432x288 with 1 Axes>"
      ]
     },
     "metadata": {
      "needs_background": "light"
     },
     "output_type": "display_data"
    }
   ],
   "source": [
    "import seaborn as sns\n",
    "import matplotlib.pyplot as plt\n",
    "data_final_second = data.pivot_table(index='family_status',values = 'debt', aggfunc=['count', 'sum', 'mean'])\n",
    "data_final_second['share_deft'] = data_final_second['sum']/data_final_second['count']*100\n",
    "data_final_second['share_deft_total'] = data_final_second['count']/data_final_second['count'].sum()*100\n",
    "data_final_second.columns =  data_final_second.columns.droplevel(1)\n",
    "data_final_second = data_final_second.reset_index()\n",
    "data_final_second = data_final_second.sort_values(by='mean', ascending = False)\n",
    "plt.xticks(rotation = 90)# повернем названия столбцов диаграммы по оси х, чтобы сделать их читаемыми\n",
    "sns.barplot(x='family_status', y='share_deft', data=data_final_second);"
   ]
  },
  {
   "cell_type": "markdown",
   "id": "1cef7837",
   "metadata": {
    "deletable": false,
    "id": "1cef7837"
   },
   "source": [
    "**Вывод:** Заемщики, никогда в браке не состоявшие, чаще остальных являются должниками. Здесь такое же предложение, как и выше, разделить заемщиков на три категории: состоящие  в браке, не состоящие в браке, ранее состоявшие в браке. Это поможет нам приблизить друг к другу доли заемщиков по каждой категории и повысить репрезентативность данных."
   ]
  },
  {
   "cell_type": "markdown",
   "id": "1e8b2fca",
   "metadata": {
    "deletable": false,
    "editable": false,
    "id": "1e8b2fca"
   },
   "source": [
    "**Задание 21. Есть ли зависимость между уровнем дохода и возвратом кредита в срок?**"
   ]
  },
  {
   "cell_type": "code",
   "execution_count": 24,
   "id": "cd7e3720",
   "metadata": {
    "id": "cd7e3720"
   },
   "outputs": [
    {
     "data": {
      "image/png": "[encoded data removed]",
      "text/plain": [
       "<Figure size 432x288 with 1 Axes>"
      ]
     },
     "metadata": {
      "needs_background": "light"
     },
     "output_type": "display_data"
    }
   ],
   "source": [
    "import seaborn as sns\n",
    "data_final_third = data.pivot_table(index='total_income_category',values = 'debt', aggfunc=['count', 'sum', 'mean'])# Ваш код будет здесь. Вы можете создавать новые ячейки.# Ваш код будет здесь. Вы можете создавать новые ячейки.\n",
    "data_final_third['share_deft'] = data_final_third['sum']/data_final_third['count']*100\n",
    "data_final_third['share_deft_total'] = data_final_third['count']/data_final_third['count'].sum()*100\n",
    "data_final_third.columns =  data_final_third.columns.droplevel(1)\n",
    "data_final_third = data_final_third.reset_index()\n",
    "sns.barplot(x='total_income_category', y='share_deft', data=data_final_third);"
   ]
  },
  {
   "cell_type": "markdown",
   "id": "e8593def",
   "metadata": {
    "deletable": false,
    "id": "e8593def"
   },
   "source": [
    "**Вывод:** Исходя из данных столбца share_deft_total можно сделать вывод, что данные по категориям A, D, E нерепрезентативны, отличие долей друг от друга достигает 74%. Посмею предположить, исходя из данных столбца share_deft, что зависимости между уровнем дохода и возвратом кредита в срок нет."
   ]
  },
  {
   "cell_type": "markdown",
   "id": "99ecbd1f",
   "metadata": {
    "deletable": false,
    "editable": false,
    "id": "99ecbd1f"
   },
   "source": [
    "**Задание 22. Как разные цели кредита влияют на его возврат в срок?**"
   ]
  },
  {
   "cell_type": "code",
   "execution_count": 25,
   "id": "2b687290",
   "metadata": {
    "id": "2b687290"
   },
   "outputs": [
    {
     "data": {
      "image/png": "[encoded data removed]",
      "text/plain": [
       "<Figure size 432x288 with 1 Axes>"
      ]
     },
     "metadata": {
      "needs_background": "light"
     },
     "output_type": "display_data"
    }
   ],
   "source": [
    "import seaborn as sns\n",
    "import matplotlib.pyplot as plt\n",
    "data_final_fourth = data.pivot_table(index='purpose_category',values = 'debt', aggfunc=['count', 'sum', 'mean'])# Ваш код будет здесь. Вы можете создавать новые ячейки.\n",
    "data_final_fourth['share_deft'] = data_final_fourth['sum']/data_final_fourth['count']*100\n",
    "data_final_fourth['share_deft_total'] = data_final_fourth['count']/data_final_fourth['count'].sum()*100\n",
    "data_final_fourth.columns =  data_final_fourth.columns.droplevel(1)\n",
    "data_final_fourth = data_final_fourth.reset_index()\n",
    "plt.xticks(rotation = 90)\n",
    "sns.barplot(x='purpose_category', y='share_deft', data=data_final_fourth);\n"
   ]
  },
  {
   "cell_type": "markdown",
   "id": "b4bb2ce6",
   "metadata": {
    "deletable": false,
    "id": "b4bb2ce6"
   },
   "source": [
    "**Вывод:** Население, кредитующееся для нужд связанных с автомобилями и с образованием чаще остальных являются должниками. "
   ]
  },
  {
   "cell_type": "markdown",
   "id": "09c3ac4c",
   "metadata": {
    "deletable": false,
    "editable": false,
    "id": "09c3ac4c"
   },
   "source": [
    "**Задание 23. Приведите возможные причины появления пропусков в исходных данных.**"
   ]
  },
  {
   "cell_type": "markdown",
   "id": "9da2ceda",
   "metadata": {
    "deletable": false,
    "id": "9da2ceda"
   },
   "source": [
    "*Ответ:* В работе мы встретились с пропусками в столбцах days_employed и total_income. Эти пропуски могли появиться по причине того, что заемщики работают неофициально или по совместительству с основной работой по акту выполненных работ или по договору ГПХ."
   ]
  },
  {
   "cell_type": "markdown",
   "id": "7b0487d6",
   "metadata": {
    "deletable": false,
    "editable": false,
    "id": "7b0487d6"
   },
   "source": [
    "**Задание 24. Объясните, почему заполнить пропуски медианным значением — лучшее решение для количественных переменных.**"
   ]
  },
  {
   "cell_type": "markdown",
   "id": "7ecf2b8e",
   "metadata": {
    "deletable": false,
    "id": "7ecf2b8e"
   },
   "source": [
    "*Ответ:* Заполнять пропуски в нашем случае лучше медианным значением. Это будет правильнее, потому что мы имеем большой объем данных и сильно отличающиеся друга от друга цифры по долям заемщиков из каждой категории (например, в задаче 21 от 0,1 до 74%). Среднее значение исказило бы все данные, тк мы не обладаем равным числом людей в каждой группе заемщиков."
   ]
  },
  {
   "cell_type": "markdown",
   "id": "6db5255a",
   "metadata": {
    "deletable": false,
    "editable": false,
    "id": "6db5255a"
   },
   "source": [
    "## Общий вывод."
   ]
  },
  {
   "cell_type": "markdown",
   "id": "bad65432",
   "metadata": {
    "id": "bad65432"
   },
   "source": [
    "В ходе проделанной работы удалось выявить ряд закономерностей по категориям заемщиков, например:\n",
    "1) Заемщики, не имеющие детей, имеют наименьшее количество просрочек по оплатам (это может быть связяно с тем, что заемщики с детьми имеют больше непредвиденных расходов);  \n",
    "2) Заемщики, никогда в браке не состоявшие, чаще остальных являются должниками (это может быть связано с тем, что они не имеют совместного бюджета с кем-то, в случае непредвиденной ситуации им не к кому обратиться за материальной помощью);  \n",
    "3) Зависимости между уровнем дохода и возвратом кредита в срок выявить не удалось;  \n",
    "4) Население, кредитующееся для нужд связанных с автомобилями и с образованием чаще остальных являются должниками.\n"
   ]
  }
 ],
 "metadata": {
  "ExecuteTimeLog": [
   {
    "duration": 464,
    "start_time": "2022-07-26T09:27:04.286Z"
   },
   {
    "duration": 29,
    "start_time": "2022-07-26T09:27:04.751Z"
   },
   {
    "duration": 15,
    "start_time": "2022-07-26T09:27:04.782Z"
   },
   {
    "duration": 9,
    "start_time": "2022-07-26T09:27:04.799Z"
   },
   {
    "duration": 37,
    "start_time": "2022-07-26T09:27:04.809Z"
   },
   {
    "duration": 15,
    "start_time": "2022-07-26T09:27:04.847Z"
   },
   {
    "duration": 27,
    "start_time": "2022-07-26T09:27:04.865Z"
   },
   {
    "duration": 4,
    "start_time": "2022-07-26T09:27:04.894Z"
   },
   {
    "duration": 15,
    "start_time": "2022-07-26T09:27:04.899Z"
   },
   {
    "duration": 4,
    "start_time": "2022-07-26T09:27:04.918Z"
   },
   {
    "duration": 39,
    "start_time": "2022-07-26T09:27:04.923Z"
   },
   {
    "duration": 15,
    "start_time": "2022-07-26T09:27:04.964Z"
   },
   {
    "duration": 10,
    "start_time": "2022-07-26T09:27:04.981Z"
   },
   {
    "duration": 20,
    "start_time": "2022-07-26T09:27:04.992Z"
   },
   {
    "duration": 16,
    "start_time": "2022-07-26T09:27:05.013Z"
   },
   {
    "duration": 11,
    "start_time": "2022-07-26T09:27:05.030Z"
   },
   {
    "duration": 25,
    "start_time": "2022-07-26T09:27:05.042Z"
   },
   {
    "duration": 17,
    "start_time": "2022-07-26T09:27:05.069Z"
   },
   {
    "duration": 12,
    "start_time": "2022-07-26T09:27:05.087Z"
   },
   {
    "duration": 4,
    "start_time": "2022-07-26T09:27:05.100Z"
   },
   {
    "duration": 15,
    "start_time": "2022-07-26T09:27:05.105Z"
   },
   {
    "duration": 2,
    "start_time": "2022-07-26T09:27:05.122Z"
   },
   {
    "duration": 5,
    "start_time": "2022-07-26T09:27:05.126Z"
   },
   {
    "duration": 6,
    "start_time": "2022-07-26T09:27:05.133Z"
   },
   {
    "duration": 13,
    "start_time": "2022-07-26T09:27:05.140Z"
   },
   {
    "duration": 12,
    "start_time": "2022-07-26T10:07:23.130Z"
   },
   {
    "duration": 25,
    "start_time": "2022-07-26T10:08:09.474Z"
   },
   {
    "duration": 34,
    "start_time": "2022-07-26T10:08:50.401Z"
   },
   {
    "duration": 28,
    "start_time": "2022-07-26T10:12:14.514Z"
   },
   {
    "duration": 41,
    "start_time": "2022-07-26T10:14:02.419Z"
   },
   {
    "duration": 26,
    "start_time": "2022-07-26T10:14:52.716Z"
   },
   {
    "duration": 26,
    "start_time": "2022-07-26T10:15:43.913Z"
   },
   {
    "duration": 1025,
    "start_time": "2022-07-26T10:27:45.381Z"
   },
   {
    "duration": 34,
    "start_time": "2022-07-26T10:28:12.170Z"
   },
   {
    "duration": 27,
    "start_time": "2022-07-26T10:28:18.172Z"
   },
   {
    "duration": 29,
    "start_time": "2022-07-26T10:31:58.317Z"
   },
   {
    "duration": 26,
    "start_time": "2022-07-26T10:32:25.827Z"
   },
   {
    "duration": 24,
    "start_time": "2022-07-26T10:32:50.150Z"
   },
   {
    "duration": 19,
    "start_time": "2022-07-26T10:47:12.124Z"
   },
   {
    "duration": 24,
    "start_time": "2022-07-26T10:47:15.467Z"
   },
   {
    "duration": 13,
    "start_time": "2022-07-26T10:47:43.719Z"
   },
   {
    "duration": 25,
    "start_time": "2022-07-26T10:48:15.000Z"
   },
   {
    "duration": 42,
    "start_time": "2022-07-26T13:26:24.812Z"
   },
   {
    "duration": 527,
    "start_time": "2022-07-26T13:26:44.579Z"
   },
   {
    "duration": 26,
    "start_time": "2022-07-26T13:26:45.108Z"
   },
   {
    "duration": 17,
    "start_time": "2022-07-26T13:26:45.136Z"
   },
   {
    "duration": 9,
    "start_time": "2022-07-26T13:26:45.155Z"
   },
   {
    "duration": 47,
    "start_time": "2022-07-26T13:26:45.166Z"
   },
   {
    "duration": 4,
    "start_time": "2022-07-26T13:26:45.215Z"
   },
   {
    "duration": 26,
    "start_time": "2022-07-26T13:26:45.220Z"
   },
   {
    "duration": 8,
    "start_time": "2022-07-26T13:26:45.248Z"
   },
   {
    "duration": 27,
    "start_time": "2022-07-26T13:26:45.258Z"
   },
   {
    "duration": 7,
    "start_time": "2022-07-26T13:26:45.287Z"
   },
   {
    "duration": 41,
    "start_time": "2022-07-26T13:26:45.295Z"
   },
   {
    "duration": 12,
    "start_time": "2022-07-26T13:26:45.338Z"
   },
   {
    "duration": 11,
    "start_time": "2022-07-26T13:26:45.351Z"
   },
   {
    "duration": 36,
    "start_time": "2022-07-26T13:26:45.364Z"
   },
   {
    "duration": 15,
    "start_time": "2022-07-26T13:26:45.402Z"
   },
   {
    "duration": 23,
    "start_time": "2022-07-26T13:26:45.418Z"
   },
   {
    "duration": 4,
    "start_time": "2022-07-26T13:26:45.443Z"
   },
   {
    "duration": 29,
    "start_time": "2022-07-26T13:26:45.448Z"
   },
   {
    "duration": 21,
    "start_time": "2022-07-26T13:26:45.479Z"
   },
   {
    "duration": 7,
    "start_time": "2022-07-26T13:26:45.501Z"
   },
   {
    "duration": 27,
    "start_time": "2022-07-26T13:26:45.509Z"
   },
   {
    "duration": 30,
    "start_time": "2022-07-26T13:26:45.537Z"
   },
   {
    "duration": 25,
    "start_time": "2022-07-26T13:26:45.568Z"
   },
   {
    "duration": 23,
    "start_time": "2022-07-26T13:26:45.594Z"
   },
   {
    "duration": 25,
    "start_time": "2022-07-26T13:26:45.619Z"
   },
   {
    "duration": 26,
    "start_time": "2022-07-26T13:27:26.410Z"
   },
   {
    "duration": 38,
    "start_time": "2022-07-26T13:27:32.467Z"
   },
   {
    "duration": 73,
    "start_time": "2022-07-26T13:27:57.082Z"
   },
   {
    "duration": 26,
    "start_time": "2022-07-26T13:28:28.089Z"
   },
   {
    "duration": 30,
    "start_time": "2022-07-26T13:29:48.139Z"
   },
   {
    "duration": 20,
    "start_time": "2022-07-26T13:30:35.373Z"
   },
   {
    "duration": 24,
    "start_time": "2022-07-26T13:30:55.063Z"
   },
   {
    "duration": 36,
    "start_time": "2022-07-26T13:31:41.982Z"
   },
   {
    "duration": 36,
    "start_time": "2022-07-26T13:32:10.998Z"
   },
   {
    "duration": 983,
    "start_time": "2022-07-26T13:40:35.278Z"
   },
   {
    "duration": 28,
    "start_time": "2022-07-26T13:41:46.902Z"
   },
   {
    "duration": 20,
    "start_time": "2022-07-26T13:42:22.354Z"
   },
   {
    "duration": 134,
    "start_time": "2022-07-26T13:42:27.629Z"
   },
   {
    "duration": 129,
    "start_time": "2022-07-26T13:44:14.898Z"
   },
   {
    "duration": 4,
    "start_time": "2022-07-26T13:45:50.390Z"
   },
   {
    "duration": 13,
    "start_time": "2022-07-26T13:46:23.604Z"
   },
   {
    "duration": 15,
    "start_time": "2022-07-26T13:46:46.965Z"
   },
   {
    "duration": 127,
    "start_time": "2022-07-26T13:48:00.278Z"
   },
   {
    "duration": 46,
    "start_time": "2022-07-26T13:48:37.622Z"
   },
   {
    "duration": 36,
    "start_time": "2022-07-26T13:49:01.436Z"
   },
   {
    "duration": 131,
    "start_time": "2022-07-26T13:49:31.221Z"
   },
   {
    "duration": 44,
    "start_time": "2022-07-26T13:50:37.401Z"
   },
   {
    "duration": 29,
    "start_time": "2022-07-26T13:50:57.847Z"
   },
   {
    "duration": 116,
    "start_time": "2022-07-26T13:51:13.188Z"
   },
   {
    "duration": 128,
    "start_time": "2022-07-26T13:52:10.089Z"
   },
   {
    "duration": 174,
    "start_time": "2022-07-26T13:57:55.167Z"
   },
   {
    "duration": 194,
    "start_time": "2022-07-26T13:58:14.144Z"
   },
   {
    "duration": 129,
    "start_time": "2022-07-26T14:00:02.551Z"
   },
   {
    "duration": 125,
    "start_time": "2022-07-26T14:01:32.129Z"
   },
   {
    "duration": 122,
    "start_time": "2022-07-26T14:02:08.556Z"
   },
   {
    "duration": 135,
    "start_time": "2022-07-26T14:02:18.132Z"
   },
   {
    "duration": 33,
    "start_time": "2022-07-26T14:02:27.653Z"
   },
   {
    "duration": 125,
    "start_time": "2022-07-26T14:02:40.638Z"
   },
   {
    "duration": 132,
    "start_time": "2022-07-26T14:02:51.705Z"
   },
   {
    "duration": 130,
    "start_time": "2022-07-26T14:04:05.470Z"
   },
   {
    "duration": 129,
    "start_time": "2022-07-26T14:04:31.853Z"
   },
   {
    "duration": 164,
    "start_time": "2022-07-26T14:07:37.393Z"
   },
   {
    "duration": 125,
    "start_time": "2022-07-26T14:11:42.803Z"
   },
   {
    "duration": 133,
    "start_time": "2022-07-26T14:12:21.513Z"
   },
   {
    "duration": 201,
    "start_time": "2022-07-26T14:13:11.069Z"
   },
   {
    "duration": 74,
    "start_time": "2022-07-26T14:14:06.811Z"
   },
   {
    "duration": 137,
    "start_time": "2022-07-26T14:14:30.577Z"
   },
   {
    "duration": 133,
    "start_time": "2022-07-26T14:14:54.034Z"
   },
   {
    "duration": 128,
    "start_time": "2022-07-26T14:16:58.974Z"
   },
   {
    "duration": 135,
    "start_time": "2022-07-26T14:18:56.530Z"
   },
   {
    "duration": 137,
    "start_time": "2022-07-26T14:19:34.560Z"
   },
   {
    "duration": 135,
    "start_time": "2022-07-26T14:19:44.068Z"
   },
   {
    "duration": 136,
    "start_time": "2022-07-26T14:19:56.245Z"
   },
   {
    "duration": 139,
    "start_time": "2022-07-26T14:20:02.383Z"
   },
   {
    "duration": 144,
    "start_time": "2022-07-26T14:20:08.096Z"
   },
   {
    "duration": 131,
    "start_time": "2022-07-26T14:20:40.201Z"
   },
   {
    "duration": 428,
    "start_time": "2022-07-26T14:21:04.951Z"
   },
   {
    "duration": 21,
    "start_time": "2022-07-26T14:21:05.381Z"
   },
   {
    "duration": 13,
    "start_time": "2022-07-26T14:21:05.404Z"
   },
   {
    "duration": 9,
    "start_time": "2022-07-26T14:21:05.419Z"
   },
   {
    "duration": 36,
    "start_time": "2022-07-26T14:21:05.429Z"
   },
   {
    "duration": 4,
    "start_time": "2022-07-26T14:21:05.466Z"
   },
   {
    "duration": 32,
    "start_time": "2022-07-26T14:21:05.471Z"
   },
   {
    "duration": 5,
    "start_time": "2022-07-26T14:21:05.504Z"
   },
   {
    "duration": 9,
    "start_time": "2022-07-26T14:21:05.510Z"
   },
   {
    "duration": 4,
    "start_time": "2022-07-26T14:21:05.522Z"
   },
   {
    "duration": 31,
    "start_time": "2022-07-26T14:21:05.528Z"
   },
   {
    "duration": 9,
    "start_time": "2022-07-26T14:21:05.560Z"
   },
   {
    "duration": 4,
    "start_time": "2022-07-26T14:21:05.570Z"
   },
   {
    "duration": 17,
    "start_time": "2022-07-26T14:21:05.603Z"
   },
   {
    "duration": 18,
    "start_time": "2022-07-26T14:21:05.621Z"
   },
   {
    "duration": 10,
    "start_time": "2022-07-26T14:21:05.640Z"
   },
   {
    "duration": 6,
    "start_time": "2022-07-26T14:21:05.652Z"
   },
   {
    "duration": 13,
    "start_time": "2022-07-26T14:21:05.660Z"
   },
   {
    "duration": 6,
    "start_time": "2022-07-26T14:21:05.674Z"
   },
   {
    "duration": 3,
    "start_time": "2022-07-26T14:21:05.703Z"
   },
   {
    "duration": 11,
    "start_time": "2022-07-26T14:21:05.708Z"
   },
   {
    "duration": 817,
    "start_time": "2022-07-26T14:21:05.721Z"
   },
   {
    "duration": 144,
    "start_time": "2022-07-26T14:21:06.540Z"
   },
   {
    "duration": 132,
    "start_time": "2022-07-26T14:21:06.685Z"
   },
   {
    "duration": 153,
    "start_time": "2022-07-26T14:21:06.818Z"
   },
   {
    "duration": 142,
    "start_time": "2022-07-26T14:21:51.559Z"
   },
   {
    "duration": 168,
    "start_time": "2022-07-26T14:22:25.232Z"
   },
   {
    "duration": 133,
    "start_time": "2022-07-26T14:22:32.017Z"
   },
   {
    "duration": 158,
    "start_time": "2022-07-26T14:22:36.994Z"
   },
   {
    "duration": 134,
    "start_time": "2022-07-26T14:25:37.074Z"
   },
   {
    "duration": 225,
    "start_time": "2022-07-26T14:25:55.045Z"
   },
   {
    "duration": 144,
    "start_time": "2022-07-26T14:30:56.952Z"
   },
   {
    "duration": 1380,
    "start_time": "2022-07-28T09:21:41.043Z"
   },
   {
    "duration": 9,
    "start_time": "2022-07-28T09:21:57.315Z"
   },
   {
    "duration": 513,
    "start_time": "2022-07-28T09:22:06.976Z"
   },
   {
    "duration": 23,
    "start_time": "2022-07-28T09:22:07.491Z"
   },
   {
    "duration": 26,
    "start_time": "2022-07-28T09:22:07.516Z"
   },
   {
    "duration": 10,
    "start_time": "2022-07-28T09:22:07.546Z"
   },
   {
    "duration": 41,
    "start_time": "2022-07-28T09:22:07.558Z"
   },
   {
    "duration": 5,
    "start_time": "2022-07-28T09:22:07.600Z"
   },
   {
    "duration": 11,
    "start_time": "2022-07-28T09:22:07.606Z"
   },
   {
    "duration": 6,
    "start_time": "2022-07-28T09:22:07.619Z"
   },
   {
    "duration": 16,
    "start_time": "2022-07-28T09:22:07.630Z"
   },
   {
    "duration": 18,
    "start_time": "2022-07-28T09:22:07.649Z"
   },
   {
    "duration": 41,
    "start_time": "2022-07-28T09:22:07.670Z"
   },
   {
    "duration": 29,
    "start_time": "2022-07-28T09:22:07.713Z"
   },
   {
    "duration": 17,
    "start_time": "2022-07-28T09:22:07.744Z"
   },
   {
    "duration": 33,
    "start_time": "2022-07-28T09:22:07.763Z"
   },
   {
    "duration": 20,
    "start_time": "2022-07-28T09:22:07.798Z"
   },
   {
    "duration": 19,
    "start_time": "2022-07-28T09:22:07.820Z"
   },
   {
    "duration": 12,
    "start_time": "2022-07-28T09:22:07.841Z"
   },
   {
    "duration": 14,
    "start_time": "2022-07-28T09:22:07.855Z"
   },
   {
    "duration": 9,
    "start_time": "2022-07-28T09:22:07.871Z"
   },
   {
    "duration": 5,
    "start_time": "2022-07-28T09:22:07.882Z"
   },
   {
    "duration": 11,
    "start_time": "2022-07-28T09:22:07.889Z"
   },
   {
    "duration": 38,
    "start_time": "2022-07-28T09:22:07.902Z"
   },
   {
    "duration": 852,
    "start_time": "2022-07-28T09:22:07.949Z"
   },
   {
    "duration": 148,
    "start_time": "2022-07-28T09:22:08.802Z"
   },
   {
    "duration": 155,
    "start_time": "2022-07-28T09:22:08.952Z"
   },
   {
    "duration": 79,
    "start_time": "2022-07-28T09:26:03.612Z"
   },
   {
    "duration": 119,
    "start_time": "2022-07-28T09:26:19.850Z"
   },
   {
    "duration": 29,
    "start_time": "2022-07-28T09:27:05.268Z"
   },
   {
    "duration": 27,
    "start_time": "2022-07-28T09:27:48.383Z"
   },
   {
    "duration": 44,
    "start_time": "2022-07-28T09:28:40.984Z"
   },
   {
    "duration": 155,
    "start_time": "2022-07-28T09:30:45.228Z"
   },
   {
    "duration": 33,
    "start_time": "2022-07-28T09:30:57.527Z"
   },
   {
    "duration": 26,
    "start_time": "2022-07-28T09:31:04.184Z"
   },
   {
    "duration": 142,
    "start_time": "2022-07-28T09:31:19.684Z"
   },
   {
    "duration": 157,
    "start_time": "2022-07-28T09:34:18.765Z"
   },
   {
    "duration": 168,
    "start_time": "2022-07-28T09:34:35.343Z"
   },
   {
    "duration": 152,
    "start_time": "2022-07-28T09:35:09.716Z"
   },
   {
    "duration": 151,
    "start_time": "2022-07-28T09:38:11.801Z"
   },
   {
    "duration": 192,
    "start_time": "2022-07-28T09:38:27.438Z"
   },
   {
    "duration": 154,
    "start_time": "2022-07-28T09:38:53.039Z"
   },
   {
    "duration": 159,
    "start_time": "2022-07-28T09:40:03.118Z"
   },
   {
    "duration": 142,
    "start_time": "2022-07-28T09:40:12.860Z"
   },
   {
    "duration": 147,
    "start_time": "2022-07-28T09:40:23.945Z"
   },
   {
    "duration": 149,
    "start_time": "2022-07-28T09:42:15.168Z"
   },
   {
    "duration": 159,
    "start_time": "2022-07-28T09:42:42.314Z"
   },
   {
    "duration": 180,
    "start_time": "2022-07-28T09:43:08.844Z"
   },
   {
    "duration": 165,
    "start_time": "2022-07-28T09:54:16.117Z"
   },
   {
    "duration": 159,
    "start_time": "2022-07-28T09:55:41.650Z"
   },
   {
    "duration": 144,
    "start_time": "2022-07-28T09:56:07.849Z"
   },
   {
    "duration": 142,
    "start_time": "2022-07-28T09:56:28.274Z"
   },
   {
    "duration": 275,
    "start_time": "2022-07-28T09:57:21.415Z"
   },
   {
    "duration": 144,
    "start_time": "2022-07-28T09:57:38.309Z"
   },
   {
    "duration": 189,
    "start_time": "2022-07-28T10:14:31.604Z"
   },
   {
    "duration": 160,
    "start_time": "2022-07-28T10:15:16.455Z"
   },
   {
    "duration": 177,
    "start_time": "2022-07-28T10:17:28.013Z"
   },
   {
    "duration": 169,
    "start_time": "2022-07-28T10:17:38.657Z"
   },
   {
    "duration": 143,
    "start_time": "2022-07-28T10:21:35.063Z"
   },
   {
    "duration": 210,
    "start_time": "2022-07-28T10:21:57.605Z"
   },
   {
    "duration": 156,
    "start_time": "2022-07-28T10:22:11.726Z"
   },
   {
    "duration": 130,
    "start_time": "2022-07-28T10:22:29.446Z"
   },
   {
    "duration": 153,
    "start_time": "2022-07-28T10:41:05.101Z"
   },
   {
    "duration": 160,
    "start_time": "2022-07-28T10:41:22.889Z"
   }
  ],
  "colab": {
   "name": "dpp_template_part2.ipynb",
   "provenance": []
  },
  "kernelspec": {
   "display_name": "Python 3 (ipykernel)",
   "language": "python",
   "name": "python3"
  },
  "language_info": {
   "codemirror_mode": {
    "name": "ipython",
    "version": 3
   },
   "file_extension": ".py",
   "mimetype": "text/x-python",
   "name": "python",
   "nbconvert_exporter": "python",
   "pygments_lexer": "ipython3",
   "version": "3.9.12"
  },
  "toc": {
   "base_numbering": 1,
   "nav_menu": {},
   "number_sections": true,
   "sideBar": true,
   "skip_h1_title": true,
   "title_cell": "Table of Contents",
   "title_sidebar": "Contents",
   "toc_cell": false,
   "toc_position": {},
   "toc_section_display": true,
   "toc_window_display": false
  }
 },
 "nbformat": 4,
 "nbformat_minor": 5
}
